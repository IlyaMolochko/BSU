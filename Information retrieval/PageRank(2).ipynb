{
  "nbformat": 4,
  "nbformat_minor": 5,
  "metadata": {
    "kernelspec": {
      "display_name": "Python 3",
      "language": "python",
      "name": "python3"
    },
    "language_info": {
      "codemirror_mode": {
        "name": "ipython",
        "version": 3
      },
      "file_extension": ".py",
      "mimetype": "text/x-python",
      "name": "python",
      "nbconvert_exporter": "python",
      "pygments_lexer": "ipython3",
      "version": "3.8.8"
    },
    "colab": {
      "name": "PageRank.ipynb",
      "provenance": []
    }
  },
  "cells": [
    {
      "cell_type": "code",
      "metadata": {
        "id": "3d10a31d"
      },
      "source": [
        "import gzip\n",
        "import os\n",
        "import pickle\n",
        "import queue\n",
        "import requests\n",
        "import time\n",
        "\n",
        "from bs4 import BeautifulSoup as bs\n",
        "from hashlib import md5\n",
        "from tqdm import tqdm"
      ],
      "id": "3d10a31d",
      "execution_count": null,
      "outputs": []
    },
    {
      "cell_type": "code",
      "metadata": {
        "colab": {
          "base_uri": "https://localhost:8080/"
        },
        "id": "rhJQ1gus9CuP",
        "outputId": "566a096c-ab93-4a7e-a3ac-d4f73db30f6a"
      },
      "source": [
        "from google.colab import drive\n",
        "drive.mount('/content/drive')"
      ],
      "id": "rhJQ1gus9CuP",
      "execution_count": null,
      "outputs": [
        {
          "output_type": "stream",
          "name": "stdout",
          "text": [
            "Mounted at /content/drive\n"
          ]
        }
      ]
    },
    {
      "cell_type": "code",
      "metadata": {
        "id": "58108a20"
      },
      "source": [
        "pref = \"https://simple.wikipedia.org/\"\n",
        "special_names = {\"File\", \"Talk\", \"Category\", \"Template\", \"Wikipedia\", \"User\", \"User_talk\", \"Wikipedia_talk\",\n",
        "                 \"MediaWiki\", \"MediaWiki_talk\" \"File_talk\", \"Template\", \"template_talk\", \"Help\", \"Help_talk\", \n",
        "                 \"Category\", \"Category_talk\", \"Portal\", \"Portal_talk\", \"Draft\", \"Draft_talk\", \"Media\"\n",
        "                 \"TimedText\", \"TimedText_talk\", \"Module\", \"Module_talk\", \"Special\"}"
      ],
      "id": "58108a20",
      "execution_count": null,
      "outputs": []
    },
    {
      "cell_type": "code",
      "metadata": {
        "id": "e0dceaaf"
      },
      "source": [
        "def is_special_name(article):\n",
        "    parts = article.split(\":\", 1)\n",
        "    return parts[0] in special_names and len(parts) > 0"
      ],
      "id": "e0dceaaf",
      "execution_count": null,
      "outputs": []
    },
    {
      "cell_type": "code",
      "metadata": {
        "id": "c288cf37"
      },
      "source": [
        "def make_dirs(path):\n",
        "    os.makedirs(os.path.dirname(path), exist_ok=True)"
      ],
      "id": "c288cf37",
      "execution_count": null,
      "outputs": []
    },
    {
      "cell_type": "code",
      "metadata": {
        "id": "e6e5f365"
      },
      "source": [
        "redirects = dict()\n",
        "redirects1 = dict()\n",
        "redirects2 = dict()\n",
        "directory = \"/content/drive/MyDrive/wiki_\"\n",
        "if os.path.exists(directory + \"/redirects\"):\n",
        "    with open(directory + \"/redirects\", \"rb\") as f:\n",
        "        redirects = pickle.load(f)\n",
        "if os.path.exists(directory + \"/redirects1\"):\n",
        "    with open(directory + \"/redirects1\", \"rb\") as f:\n",
        "        redirects = pickle.load(f)\n",
        "if os.path.exists(directory + \"/redirects2\"):\n",
        "    with open(directory + \"/redirects2\", \"rb\") as f:\n",
        "        redirects = pickle.load(f)"
      ],
      "id": "e6e5f365",
      "execution_count": null,
      "outputs": []
    },
    {
      "cell_type": "code",
      "metadata": {
        "id": "iL-2eg2y9yMs"
      },
      "source": [
        "redirects.update(redirects1)\n",
        "redirects.update(redirects2)"
      ],
      "id": "iL-2eg2y9yMs",
      "execution_count": null,
      "outputs": []
    },
    {
      "cell_type": "code",
      "metadata": {
        "colab": {
          "base_uri": "https://localhost:8080/"
        },
        "id": "LXYRyTgb-PaN",
        "outputId": "32b85372-7df7-4e2d-e746-be30790670cd"
      },
      "source": [
        "len(redirects)"
      ],
      "id": "LXYRyTgb-PaN",
      "execution_count": null,
      "outputs": [
        {
          "output_type": "execute_result",
          "data": {
            "text/plain": [
              "5002"
            ]
          },
          "metadata": {},
          "execution_count": 8
        }
      ]
    },
    {
      "cell_type": "code",
      "metadata": {
        "id": "ab7168b7"
      },
      "source": [
        "gin = dict()\n",
        "gout = dict()\n",
        "graph = dict()"
      ],
      "id": "ab7168b7",
      "execution_count": null,
      "outputs": []
    },
    {
      "cell_type": "code",
      "metadata": {
        "colab": {
          "base_uri": "https://localhost:8080/"
        },
        "id": "6835a4b7",
        "outputId": "50a1126c-0d30-487d-8b0e-3b43f61642a0"
      },
      "source": [
        "articles = set()\n",
        "counter = 0\n",
        "dt = False\n",
        "for i in tqdm(range(64, 128)):\n",
        "    subdir = directory + f\"/{i:02x}\"\n",
        "    if os.path.exists(directory + f\"/{i:02x}\"):\n",
        "        for j in range(256):\n",
        "            subsubdir = subdir + f\"/{j:02x}\"\n",
        "            if os.path.exists(subsubdir):\n",
        "                for filename in os.listdir(subsubdir):\n",
        "                    file = os.path.join(subsubdir, filename)\n",
        "                    if os.path.isfile(file):\n",
        "                        with gzip.open(file, \"rb\") as f:\n",
        "                            parsed = bs(f.read().decode(\"utf-8\"), \"html.parser\")\n",
        "                            canonical = parsed.find(\"link\", {\"rel\": \"canonical\", \"href\": True}).get(\"href\")\n",
        "                            article = canonical.split(\"/wiki/\", 1)[1].split(\"#\", 1)[0]\n",
        "                        if is_special_name(article):\n",
        "                            os.remove(file)\n",
        "                            continue\n",
        "                        gout[article] = set()\n",
        "                        gin[article] = set()\n",
        "                        graph[article] = set()\n",
        "                        for link in parsed(\"a\"):\n",
        "                            if \"href\" not in link.attrs:\n",
        "                                continue\n",
        "                            href = link.attrs[\"href\"]\n",
        "                            if not href.startswith(\"/wiki/\"):\n",
        "                                continue\n",
        "                            href = href[6:].split(\"#\", 1)[0]\n",
        "                            if href.startswith(\":\"):\n",
        "                                href = href[1:]\n",
        "                            if not is_special_name(href):\n",
        "                                while href in redirects:\n",
        "                                    href = redirects[href]\n",
        "                            if not is_special_name(href):\n",
        "                                gout[article].add(href)\n",
        "                        articles.add(article)"
      ],
      "id": "6835a4b7",
      "execution_count": null,
      "outputs": [
        {
          "output_type": "stream",
          "name": "stderr",
          "text": [
            "100%|██████████| 64/64 [3:09:24<00:00, 177.57s/it]\n"
          ]
        }
      ]
    },
    {
      "cell_type": "code",
      "metadata": {
        "colab": {
          "base_uri": "https://localhost:8080/"
        },
        "id": "JBaWMysYrXw-",
        "outputId": "77da30b5-2048-47cb-9ce2-2033bbda3aec"
      },
      "source": [
        "1 + 1"
      ],
      "id": "JBaWMysYrXw-",
      "execution_count": null,
      "outputs": [
        {
          "output_type": "execute_result",
          "data": {
            "text/plain": [
              "2"
            ]
          },
          "metadata": {},
          "execution_count": 12
        }
      ]
    },
    {
      "cell_type": "code",
      "metadata": {
        "id": "UvzCCkQ0iJFV"
      },
      "source": [
        "articles2 = set()\n",
        "articles3 = set()\n",
        "articles4 = set()\n",
        "gout2 = dict()\n",
        "gin2 = dict()\n",
        "graph2 = dict()\n",
        "gout3 = dict()\n",
        "gin3 = dict()\n",
        "graph3 = dict()\n",
        "gout4 = dict()\n",
        "gin4 = dict()\n",
        "graph4 = dict()\n",
        "directory = \"/content/drive/MyDrive/wiki_\"\n",
        "if os.path.exists(directory + \"/articles2\"):\n",
        "    with open(directory + \"/articles2\", \"rb\") as f:\n",
        "        articles2 = pickle.load(f)\n",
        "if os.path.exists(directory + \"/articles3\"):\n",
        "    with open(directory + \"/articles3\", \"rb\") as f:\n",
        "        articles3 = pickle.load(f)\n",
        "if os.path.exists(directory + \"/articles4\"):\n",
        "    with open(directory + \"/articles4\", \"rb\") as f:\n",
        "        articles4 = pickle.load(f)\n",
        "if os.path.exists(directory + \"/graph2\"):\n",
        "    with open(directory + \"/graph2\", \"rb\") as f:\n",
        "        graph2 = pickle.load(f)\n",
        "if os.path.exists(directory + \"/gin2\"):\n",
        "    with open(directory + \"/gin2\", \"rb\") as f:\n",
        "        gin2 = pickle.load(f)\n",
        "if os.path.exists(directory + \"/gout2\"):\n",
        "    with open(directory + \"/gout2\", \"rb\") as f:\n",
        "        gout2 = pickle.load(f)\n",
        "if os.path.exists(directory + \"/graph3\"):\n",
        "    with open(directory + \"/graph3\", \"rb\") as f:\n",
        "        graph3 = pickle.load(f)\n",
        "if os.path.exists(directory + \"/gin3\"):\n",
        "    with open(directory + \"/gin3\", \"rb\") as f:\n",
        "        gin3 = pickle.load(f)\n",
        "if os.path.exists(directory + \"/gout3\"):\n",
        "    with open(directory + \"/gout3\", \"rb\") as f:\n",
        "        gout3 = pickle.load(f)\n",
        "if os.path.exists(directory + \"/graph4\"):\n",
        "    with open(directory + \"/graph4\", \"rb\") as f:\n",
        "        graph4 = pickle.load(f)\n",
        "if os.path.exists(directory + \"/gin4\"):\n",
        "    with open(directory + \"/gin4\", \"rb\") as f:\n",
        "        gin4 = pickle.load(f)\n",
        "if os.path.exists(directory + \"/gout4\"):\n",
        "    with open(directory + \"/gout4\", \"rb\") as f:\n",
        "        gout4 = pickle.load(f)"
      ],
      "id": "UvzCCkQ0iJFV",
      "execution_count": null,
      "outputs": []
    },
    {
      "cell_type": "code",
      "metadata": {
        "id": "yeY4kBpw215W"
      },
      "source": [
        "with open(\"/content/drive/MyDrive/wiki_/articles\", \"wb\") as f:\n",
        "    pickle.dump(articles, f)\n",
        "\n",
        "with open(\"/content/drive/MyDrive/wiki_/gout\", \"wb\") as f:\n",
        "    pickle.dump(gout, f)\n",
        "\n",
        "with open(\"/content/drive/MyDrive/wiki_/gin\", \"wb\") as f:\n",
        "    pickle.dump(gin, f)\n",
        "\n",
        "with open(\"/content/drive/MyDrive/wiki_/graph\", \"wb\") as f:\n",
        "    pickle.dump(graph, f)"
      ],
      "id": "yeY4kBpw215W",
      "execution_count": null,
      "outputs": []
    },
    {
      "cell_type": "code",
      "metadata": {
        "colab": {
          "base_uri": "https://localhost:8080/"
        },
        "id": "chrMSiM1jl7G",
        "outputId": "7a2e7949-8edb-4382-e878-bea1b244b47d"
      },
      "source": [
        "len(articles)"
      ],
      "id": "chrMSiM1jl7G",
      "execution_count": null,
      "outputs": [
        {
          "output_type": "execute_result",
          "data": {
            "text/plain": [
              "49501"
            ]
          },
          "metadata": {},
          "execution_count": 14
        }
      ]
    },
    {
      "cell_type": "code",
      "metadata": {
        "id": "lSvTfRqmjuTV"
      },
      "source": [
        "articles.update(articles2)\n",
        "articles.update(articles3)\n",
        "articles.update(articles4)"
      ],
      "id": "lSvTfRqmjuTV",
      "execution_count": null,
      "outputs": []
    },
    {
      "cell_type": "code",
      "metadata": {
        "colab": {
          "base_uri": "https://localhost:8080/"
        },
        "id": "Wi6oqyxmjzW8",
        "outputId": "5558c28b-07c3-4bf1-e1e3-1194a0954327"
      },
      "source": [
        "len(articles)"
      ],
      "id": "Wi6oqyxmjzW8",
      "execution_count": null,
      "outputs": [
        {
          "output_type": "execute_result",
          "data": {
            "text/plain": [
              "190078"
            ]
          },
          "metadata": {},
          "execution_count": 16
        }
      ]
    },
    {
      "cell_type": "code",
      "metadata": {
        "id": "gc-oN7Dvj0zt"
      },
      "source": [
        "for key, values in graph2.items():\n",
        "    if key not in graph:\n",
        "        graph[key] = values\n",
        "    else:\n",
        "        graph[key].update(values)\n",
        "for key, values in graph3.items():\n",
        "    if key not in graph:\n",
        "        graph[key] = values\n",
        "    else:\n",
        "        graph[key].update(values)\n",
        "for key, values in graph4.items():\n",
        "    if key not in graph:\n",
        "        graph[key] = values\n",
        "    else:\n",
        "        graph[key].update(values)"
      ],
      "id": "gc-oN7Dvj0zt",
      "execution_count": null,
      "outputs": []
    },
    {
      "cell_type": "code",
      "metadata": {
        "id": "4_l-hytAkpSB"
      },
      "source": [
        "for key, values in gin2.items():\n",
        "    if key not in gin:\n",
        "        gin[key] = values\n",
        "    else:\n",
        "        gin[key].update(values)\n",
        "for key, values in gin3.items():\n",
        "    if key not in gin:\n",
        "        gin[key] = values\n",
        "    else:\n",
        "        gin[key].update(values)\n",
        "for key, values in gin4.items():\n",
        "    if key not in gin:\n",
        "        gin[key] = values\n",
        "    else:\n",
        "        gin[key].update(values)"
      ],
      "id": "4_l-hytAkpSB",
      "execution_count": null,
      "outputs": []
    },
    {
      "cell_type": "code",
      "metadata": {
        "id": "KZfvz5i9k1S-"
      },
      "source": [
        "for key, values in gout2.items():\n",
        "    if key not in gout:\n",
        "        gout[key] = values\n",
        "    else:\n",
        "        gout[key].update(values)\n",
        "for key, values in gout3.items():\n",
        "    if key not in gout:\n",
        "        gout[key] = values\n",
        "    else:\n",
        "        gout[key].update(values)\n",
        "for key, values in gout4.items():\n",
        "    if key not in gout:\n",
        "        gout[key] = values\n",
        "    else:\n",
        "        gout[key].update(values)"
      ],
      "id": "KZfvz5i9k1S-",
      "execution_count": null,
      "outputs": []
    },
    {
      "cell_type": "code",
      "metadata": {
        "id": "4s4hq_3MkKAj"
      },
      "source": [
        ""
      ],
      "id": "4s4hq_3MkKAj",
      "execution_count": null,
      "outputs": []
    },
    {
      "cell_type": "code",
      "metadata": {
        "id": "0147c362"
      },
      "source": [
        "for article in articles:\n",
        "    for out in gout[article]:\n",
        "        if out in articles:\n",
        "            graph[article].add(out)\n",
        "            gin[out].add(article)\n",
        "\n",
        "gout = graph"
      ],
      "id": "0147c362",
      "execution_count": null,
      "outputs": []
    },
    {
      "cell_type": "code",
      "metadata": {
        "id": "33b0eaa4"
      },
      "source": [
        "artcles = gin.keys()\n",
        "n = len(articles)"
      ],
      "id": "33b0eaa4",
      "execution_count": null,
      "outputs": []
    },
    {
      "cell_type": "code",
      "metadata": {
        "id": "a8879a39",
        "colab": {
          "base_uri": "https://localhost:8080/"
        },
        "outputId": "212817fd-58a2-460c-adb6-67fc72d05c7f"
      },
      "source": [
        "n"
      ],
      "id": "a8879a39",
      "execution_count": null,
      "outputs": [
        {
          "output_type": "execute_result",
          "data": {
            "text/plain": [
              "190078"
            ]
          },
          "metadata": {},
          "execution_count": 22
        }
      ]
    },
    {
      "cell_type": "code",
      "metadata": {
        "id": "b64ff15a"
      },
      "source": [
        "delta = 0.85"
      ],
      "id": "b64ff15a",
      "execution_count": null,
      "outputs": []
    },
    {
      "cell_type": "code",
      "metadata": {
        "id": "072f947f",
        "colab": {
          "base_uri": "https://localhost:8080/",
          "height": 1000
        },
        "outputId": "469f0f26-6b29-4c24-fff0-27bdc421e6d3"
      },
      "source": [
        "delta = 0.85\n",
        "r = dict()\n",
        "for article in artcles:\n",
        "    r[article] = 1 / n\n",
        "dif = 1\n",
        "while dif > 1e-6:\n",
        "    pr = dict()\n",
        "    s = 0\n",
        "    for article in artcles:\n",
        "        sm = 0\n",
        "        for inp in gin[article]:\n",
        "            sm += r[inp] / len(gout[inp])\n",
        "        sm = sm * delta + (1 - delta) / n\n",
        "        pr[article] = sm\n",
        "        s += sm\n",
        "        dif = max(dif, abs(r[article] - pr[article]))\n",
        "    r = pr\n",
        "    top = sorted((-rank, art) for (art, rank) in r.items())\n",
        "    for rank, art in top[:10]:\n",
        "        print(art, str(-1 * rank))\n",
        "    print(s)\n",
        "    print(\"-\"*20)"
      ],
      "id": "072f947f",
      "execution_count": null,
      "outputs": [
        {
          "output_type": "stream",
          "name": "stdout",
          "text": [
            "Main_Page 0.08741051330017259\n",
            "United_States 0.00728412129387262\n",
            "Wayback_Machine 0.0058677142330122245\n",
            "France 0.004661120607337737\n",
            "Geographic_coordinate_system 0.00433926508263623\n",
            "Americans 0.003436431829719445\n",
            "Departments_of_France 0.0029173734646451436\n",
            "Time_zone 0.002753268122431835\n",
            "Association_football 0.0026779428870552678\n",
            "Communes_of_France 0.002547918522229968\n",
            "1.0000000000001015\n",
            "--------------------\n",
            "Main_Page 0.05600199186323156\n",
            "Wayback_Machine 0.006152966756820297\n",
            "United_States 0.005194132792246724\n",
            "France 0.002879329312014953\n",
            "Geographic_coordinate_system 0.002455492185695749\n",
            "Germany 0.002013493597167233\n",
            "Time_zone 0.0018545673763775859\n",
            "Movie 0.0017156637027652207\n",
            "Internet_Archive 0.0017132876866677994\n",
            "United_Kingdom 0.0016863099097110695\n",
            "1.0000000000001636\n",
            "--------------------\n",
            "Main_Page 0.051131284138189875\n",
            "Wayback_Machine 0.005937821013235765\n",
            "United_States 0.004696346062831913\n",
            "France 0.002486633877734795\n",
            "Geographic_coordinate_system 0.0020386999855337663\n",
            "Internet_Archive 0.0018399012132350038\n",
            "Germany 0.001820971201445373\n",
            "United_Kingdom 0.001769860040942645\n",
            "Time_zone 0.0015805486227473873\n",
            "City 0.0015557897877032881\n",
            "1.0000000000001354\n",
            "--------------------\n",
            "Main_Page 0.0502670622683161\n",
            "Wayback_Machine 0.005844014788767846\n",
            "United_States 0.0044651032909469555\n",
            "France 0.0023369078283266903\n",
            "Geographic_coordinate_system 0.0019284470461016475\n",
            "Germany 0.0018261928660976352\n",
            "Internet_Archive 0.00178572747602447\n",
            "United_Kingdom 0.001760925545012848\n",
            "Definition 0.0015959086026879632\n",
            "Time_zone 0.001475394039678186\n",
            "0.9999999999998741\n",
            "--------------------\n",
            "Main_Page 0.049946670028713065\n",
            "Wayback_Machine 0.005792544910173418\n",
            "United_States 0.004342287360444256\n",
            "France 0.00227858493663559\n",
            "Geographic_coordinate_system 0.001886652963895073\n",
            "Germany 0.0018219048188282119\n",
            "Internet_Archive 0.0017570958827072894\n",
            "United_Kingdom 0.0017364637037953032\n",
            "Definition 0.0017017266198095084\n",
            "English_language 0.0014867060438857513\n",
            "0.9999999999999651\n",
            "--------------------\n",
            "Main_Page 0.049827607887574545\n",
            "Wayback_Machine 0.005764654101618425\n",
            "United_States 0.004269723940195817\n",
            "France 0.0022489852160335316\n",
            "Geographic_coordinate_system 0.0018625987742017685\n",
            "Germany 0.0018149034644472785\n",
            "Definition 0.0017490726828023845\n",
            "Internet_Archive 0.0017409497953311747\n",
            "United_Kingdom 0.0017209208951820428\n",
            "English_language 0.0015037319019967378\n",
            "1.000000000000051\n",
            "--------------------\n",
            "Main_Page 0.049784557720024075\n",
            "Wayback_Machine 0.005750311337721944\n",
            "United_States 0.004225618922375417\n",
            "France 0.0022314619461254776\n",
            "Geographic_coordinate_system 0.0018480192277790515\n",
            "Germany 0.0018100720838409158\n",
            "Definition 0.001772194952458159\n",
            "Internet_Archive 0.0017321324185042245\n",
            "United_Kingdom 0.001710756684258496\n",
            "English_language 0.0015135937953486731\n",
            "1.0000000000000742\n",
            "--------------------\n",
            "Main_Page 0.049768831178061794\n",
            "Wayback_Machine 0.0057426239246455135\n",
            "United_States 0.00419786582647979\n",
            "France 0.0022198767712212175\n",
            "Geographic_coordinate_system 0.0018383901574343304\n",
            "Germany 0.0018065991362903543\n",
            "Definition 0.0017850116571934628\n",
            "Internet_Archive 0.00172753731977188\n",
            "United_Kingdom 0.001703626156237876\n",
            "English_language 0.0015194487490267727\n",
            "1.0000000000001048\n",
            "--------------------\n",
            "Main_Page 0.04976422076214296\n",
            "Wayback_Machine 0.005738302619830765\n",
            "United_States 0.004179927798936773\n",
            "France 0.0022118279011688444\n",
            "Geographic_coordinate_system 0.0018317461326664217\n",
            "Germany 0.0018041195705269786\n",
            "Definition 0.0017927840142395457\n",
            "Internet_Archive 0.0017250653492230986\n",
            "United_Kingdom 0.001698549093181793\n",
            "English_language 0.0015229582490792373\n",
            "1.0000000000000158\n",
            "--------------------\n",
            "Main_Page 0.04976412909402372\n",
            "Wayback_Machine 0.005735763833161792\n",
            "United_States 0.00416805155022224\n",
            "France 0.002206114221174445\n",
            "Geographic_coordinate_system 0.0018270248872983166\n",
            "Germany 0.001802351850392694\n",
            "Definition 0.0017977606742154983\n",
            "Internet_Archive 0.0017236749452709482\n",
            "United_Kingdom 0.0016948913388909392\n",
            "English_language 0.0015250977776208145\n",
            "1.0000000000001041\n",
            "--------------------\n",
            "Main_Page 0.04976578312305216\n",
            "Wayback_Machine 0.005734219746701689\n",
            "United_States 0.004160024019903065\n",
            "France 0.0022020215174122365\n",
            "Geographic_coordinate_system 0.0018236192769766194\n",
            "Germany 0.0018010861550168892\n",
            "Definition 0.001801063156820156\n",
            "Internet_Archive 0.0017228586649651598\n",
            "United_Kingdom 0.001692240193666283\n",
            "English_language 0.001526423310486412\n",
            "0.9999999999999402\n",
            "--------------------\n",
            "Main_Page 0.049767960432763644\n",
            "Wayback_Machine 0.005733251503795134\n",
            "United_States 0.004154500316759896\n",
            "France 0.0021990773286824443\n",
            "Geographic_coordinate_system 0.0018211399571227691\n",
            "Definition 0.0018033097221646192\n",
            "Germany 0.0018001765232144743\n",
            "Internet_Archive 0.0017223622571791975\n",
            "United_Kingdom 0.0016903112527001506\n",
            "English_language 0.0015272562685932699\n",
            "1.000000000000154\n",
            "--------------------\n",
            "Main_Page 0.04977012657336732\n",
            "Wayback_Machine 0.0057326293941848605\n",
            "United_States 0.004150641811819887\n",
            "France 0.002196952995064658\n",
            "Geographic_coordinate_system 0.0018193250576372566\n",
            "Definition 0.0018048655834863932\n",
            "Germany 0.0017995211711455902\n",
            "Internet_Archive 0.0017220509028894385\n",
            "United_Kingdom 0.001688904400456313\n",
            "English_language 0.0015277858507821652\n",
            "1.0000000000003\n",
            "--------------------\n",
            "Main_Page 0.0497720652877276\n",
            "Wayback_Machine 0.005732221536357321\n",
            "United_States 0.004147912328449356\n",
            "France 0.0021954157371798953\n",
            "Geographic_coordinate_system 0.0018179916032939473\n",
            "Definition 0.0018059575297774307\n",
            "Germany 0.0017990483447243002\n",
            "Internet_Archive 0.0017218506780660627\n",
            "United_Kingdom 0.0016878764834708814\n",
            "English_language 0.0015281259293542444\n",
            "0.9999999999999679\n",
            "--------------------\n",
            "Main_Page 0.04977371058460804\n",
            "Wayback_Machine 0.0057319498733516775\n",
            "United_States 0.004145961244915542\n",
            "France 0.002194299764005653\n",
            "Geographic_coordinate_system 0.0018170092716867658\n",
            "Definition 0.0018067317798521054\n",
            "Germany 0.001798706983958757\n",
            "Internet_Archive 0.0017217192373817167\n",
            "United_Kingdom 0.0016871243953193243\n",
            "English_language 0.0015283462704222632\n",
            "1.0000000000000113\n",
            "--------------------\n",
            "Main_Page 0.04977506531951088\n",
            "Wayback_Machine 0.005731766766618428\n",
            "United_States 0.0041445545362297\n",
            "France 0.0021934867937155734\n",
            "Geographic_coordinate_system 0.0018162840371916508\n",
            "Definition 0.0018072853035964388\n",
            "Germany 0.0017984605168278162\n",
            "Internet_Archive 0.00172163153535066\n",
            "United_Kingdom 0.001686573494991489\n",
            "English_language 0.001528490237365131\n",
            "0.9999999999999516\n",
            "--------------------\n",
            "Main_Page 0.04977616084718377\n",
            "Wayback_Machine 0.005731642403750629\n",
            "United_States 0.004143533137719861\n",
            "France 0.002192892340148576\n",
            "Geographic_coordinate_system 0.0018157475809929956\n",
            "Definition 0.0018076837819893745\n",
            "Germany 0.0017982826293707795\n",
            "Internet_Archive 0.001721572294306\n",
            "United_Kingdom 0.0016861695787186862\n",
            "English_language 0.0015285850988269113\n",
            "1.0000000000000626\n",
            "--------------------\n",
            "Main_Page 0.04977703726321331\n",
            "Wayback_Machine 0.00573155767341754\n",
            "United_States 0.004142787211418997\n",
            "France 0.0021924559634076465\n",
            "Geographic_coordinate_system 0.0018153500335393122\n",
            "Definition 0.001807972408525687\n",
            "Germany 0.0017981543341453214\n",
            "Internet_Archive 0.0017215319507074402\n",
            "United_Kingdom 0.001685873189318785\n",
            "English_language 0.0015286481678106639\n",
            "0.9999999999998691\n",
            "--------------------\n",
            "Main_Page 0.04977773413819703\n",
            "Wayback_Machine 0.005731500053137935\n",
            "United_States 0.004142239875686396\n",
            "France 0.0021921343338244343\n",
            "Geographic_coordinate_system 0.001815054887184809\n",
            "Definition 0.0018081826510619654\n",
            "Germany 0.0017980619061889222\n",
            "Internet_Archive 0.001721504370593316\n",
            "United_Kingdom 0.0016856555519892294\n",
            "English_language 0.0015286905226103908\n",
            "0.9999999999999216\n",
            "--------------------\n",
            "Main_Page 0.04977828665051924\n",
            "Wayback_Machine 0.005731461169130564\n",
            "United_States 0.0041418366946187985\n",
            "France 0.002191896306038989\n",
            "Geographic_coordinate_system 0.001814835358971895\n",
            "Definition 0.001808336622229512\n",
            "Germany 0.0017979954143610992\n",
            "Internet_Archive 0.0017214855318308361\n",
            "United_Kingdom 0.0016854956503794824\n",
            "English_language 0.0015287192975576751\n",
            "0.9999999999999009\n",
            "--------------------\n",
            "Main_Page 0.04977872440859349\n",
            "Wayback_Machine 0.005731435319937257\n",
            "United_States 0.004141538750716048\n",
            "France 0.00219171942422459\n",
            "Geographic_coordinate_system 0.0018146717665703683\n",
            "Definition 0.0018084499751983116\n",
            "Germany 0.0017979476688478318\n",
            "Internet_Archive 0.0017214727429038707\n",
            "United_Kingdom 0.0016853781147633908\n",
            "English_language 0.0015287391116498381\n",
            "0.9999999999998779\n",
            "--------------------\n",
            "Main_Page 0.04977907154731902\n",
            "Wayback_Machine 0.005731418563418219\n",
            "United_States 0.004141317995308134\n",
            "France 0.002191587442923671\n",
            "Geographic_coordinate_system 0.0018145496229509746\n",
            "Definition 0.001808533858747225\n",
            "Germany 0.0017979134634137789\n",
            "Internet_Archive 0.001721464170045526\n",
            "United_Kingdom 0.0016852916918672024\n",
            "English_language 0.00152875296928464\n",
            "0.9999999999999278\n",
            "--------------------\n",
            "Main_Page 0.04977934735597867\n",
            "Wayback_Machine 0.005731408140236005\n",
            "United_States 0.00414115407656518\n",
            "France 0.00219148856685754\n",
            "Geographic_coordinate_system 0.001814458248472994\n",
            "Definition 0.0018085962560981626\n",
            "Germany 0.0017978890283051553\n",
            "Internet_Archive 0.0017214585446184167\n",
            "United_Kingdom 0.0016852281336722102\n",
            "English_language 0.0015287628331350004\n",
            "0.9999999999998846\n",
            "--------------------\n",
            "Main_Page 0.0497795670648997\n",
            "Wayback_Machine 0.005731402101672658\n",
            "United_States 0.004141032144375622\n",
            "France 0.00219141419923952\n",
            "Geographic_coordinate_system 0.001814389757619252\n",
            "Definition 0.0018086429116970378\n",
            "Germany 0.001797871634532423\n",
            "Internet_Archive 0.0017214549781433886\n",
            "United_Kingdom 0.0016851813889730736\n",
            "English_language 0.0015287699910321638\n",
            "0.9999999999999563\n",
            "--------------------\n"
          ]
        },
        {
          "output_type": "error",
          "ename": "KeyboardInterrupt",
          "evalue": "ignored",
          "traceback": [
            "\u001b[0;31m---------------------------------------------------------------------------\u001b[0m",
            "\u001b[0;31mKeyboardInterrupt\u001b[0m                         Traceback (most recent call last)",
            "\u001b[0;32m<ipython-input-24-c0ab670f04f4>\u001b[0m in \u001b[0;36m<module>\u001b[0;34m()\u001b[0m\n\u001b[1;32m     16\u001b[0m         \u001b[0mdif\u001b[0m \u001b[0;34m=\u001b[0m \u001b[0mmax\u001b[0m\u001b[0;34m(\u001b[0m\u001b[0mdif\u001b[0m\u001b[0;34m,\u001b[0m \u001b[0mabs\u001b[0m\u001b[0;34m(\u001b[0m\u001b[0mr\u001b[0m\u001b[0;34m[\u001b[0m\u001b[0marticle\u001b[0m\u001b[0;34m]\u001b[0m \u001b[0;34m-\u001b[0m \u001b[0mpr\u001b[0m\u001b[0;34m[\u001b[0m\u001b[0marticle\u001b[0m\u001b[0;34m]\u001b[0m\u001b[0;34m)\u001b[0m\u001b[0;34m)\u001b[0m\u001b[0;34m\u001b[0m\u001b[0;34m\u001b[0m\u001b[0m\n\u001b[1;32m     17\u001b[0m     \u001b[0mr\u001b[0m \u001b[0;34m=\u001b[0m \u001b[0mpr\u001b[0m\u001b[0;34m\u001b[0m\u001b[0;34m\u001b[0m\u001b[0m\n\u001b[0;32m---> 18\u001b[0;31m     \u001b[0mtop\u001b[0m \u001b[0;34m=\u001b[0m \u001b[0msorted\u001b[0m\u001b[0;34m(\u001b[0m\u001b[0;34m(\u001b[0m\u001b[0;34m-\u001b[0m\u001b[0mrank\u001b[0m\u001b[0;34m,\u001b[0m \u001b[0mart\u001b[0m\u001b[0;34m)\u001b[0m \u001b[0;32mfor\u001b[0m \u001b[0;34m(\u001b[0m\u001b[0mart\u001b[0m\u001b[0;34m,\u001b[0m \u001b[0mrank\u001b[0m\u001b[0;34m)\u001b[0m \u001b[0;32min\u001b[0m \u001b[0mr\u001b[0m\u001b[0;34m.\u001b[0m\u001b[0mitems\u001b[0m\u001b[0;34m(\u001b[0m\u001b[0;34m)\u001b[0m\u001b[0;34m)\u001b[0m\u001b[0;34m\u001b[0m\u001b[0;34m\u001b[0m\u001b[0m\n\u001b[0m\u001b[1;32m     19\u001b[0m     \u001b[0;32mfor\u001b[0m \u001b[0mrank\u001b[0m\u001b[0;34m,\u001b[0m \u001b[0mart\u001b[0m \u001b[0;32min\u001b[0m \u001b[0mtop\u001b[0m\u001b[0;34m[\u001b[0m\u001b[0;34m:\u001b[0m\u001b[0;36m10\u001b[0m\u001b[0;34m]\u001b[0m\u001b[0;34m:\u001b[0m\u001b[0;34m\u001b[0m\u001b[0;34m\u001b[0m\u001b[0m\n\u001b[1;32m     20\u001b[0m         \u001b[0mprint\u001b[0m\u001b[0;34m(\u001b[0m\u001b[0mart\u001b[0m\u001b[0;34m,\u001b[0m \u001b[0mstr\u001b[0m\u001b[0;34m(\u001b[0m\u001b[0;34m-\u001b[0m\u001b[0;36m1\u001b[0m \u001b[0;34m*\u001b[0m \u001b[0mrank\u001b[0m\u001b[0;34m)\u001b[0m\u001b[0;34m)\u001b[0m\u001b[0;34m\u001b[0m\u001b[0;34m\u001b[0m\u001b[0m\n",
            "\u001b[0;31mKeyboardInterrupt\u001b[0m: "
          ]
        }
      ]
    },
    {
      "cell_type": "code",
      "metadata": {
        "colab": {
          "base_uri": "https://localhost:8080/",
          "height": 1000
        },
        "id": "z0sf1N9YlJrs",
        "outputId": "a1624728-420c-4c52-ca86-2b1796a79528"
      },
      "source": [
        "delta = 0.95\n",
        "r = dict()\n",
        "for article in artcles:\n",
        "    r[article] = 1 / n\n",
        "dif = 1\n",
        "while dif > 1e-6:\n",
        "    pr = dict()\n",
        "    s = 0\n",
        "    for article in artcles:\n",
        "        sm = 0\n",
        "        for inp in gin[article]:\n",
        "            sm += r[inp] / len(gout[inp])\n",
        "        sm = sm * delta + (1 - delta) / n\n",
        "        pr[article] = sm\n",
        "        s += sm\n",
        "        dif = max(dif, abs(r[article] - pr[article]))\n",
        "    r = pr\n",
        "    top = sorted((-rank, art) for (art, rank) in r.items())\n",
        "    for rank, art in top[:10]:\n",
        "        print(art, str(-1 * rank))\n",
        "    print(s)\n",
        "    print(\"-\"*20)"
      ],
      "id": "z0sf1N9YlJrs",
      "execution_count": null,
      "outputs": [
        {
          "output_type": "stream",
          "name": "stdout",
          "text": [
            "Main_Page 0.097693484159238\n",
            "United_States 0.008140457799255684\n",
            "Wayback_Machine 0.006557414613588185\n",
            "France 0.005208868796657875\n",
            "Geographic_coordinate_system 0.004849147916109131\n",
            "Americans 0.0038400989863786074\n",
            "Departments_of_France 0.0032599749312955647\n",
            "Time_zone 0.003076563078233632\n",
            "Association_football 0.0029923760504598214\n",
            "Communes_of_France 0.002847054701537428\n",
            "1.0000000000000617\n",
            "--------------------\n",
            "Main_Page 0.058460002364314485\n",
            "Wayback_Machine 0.006913733510109589\n",
            "United_States 0.005529780120753981\n",
            "France 0.0029831710194553607\n",
            "Geographic_coordinate_system 0.002496061356263033\n",
            "Germany 0.002310447588306043\n",
            "Internet_Archive 0.0021336839084439576\n",
            "Movie 0.0019988344442843095\n",
            "Time_zone 0.0019539645684564853\n",
            "United_Kingdom 0.0019099947882452687\n",
            "1.0000000000000449\n",
            "--------------------\n",
            "Main_Page 0.051660046271062555\n",
            "Wayback_Machine 0.006613370258481924\n",
            "United_States 0.0048348240497066075\n",
            "France 0.002434932064900621\n",
            "Internet_Archive 0.002310448040079273\n",
            "Germany 0.0020416686116612767\n",
            "United_Kingdom 0.0020266384581246605\n",
            "Geographic_coordinate_system 0.0019141810996151875\n",
            "Definition 0.0016990056309798373\n",
            "Government 0.0016421336184920682\n",
            "1.0000000000000455\n",
            "--------------------\n",
            "Main_Page 0.05031156794462428\n",
            "Wayback_Machine 0.006467000830686702\n",
            "United_States 0.004474007138093633\n",
            "Internet_Archive 0.0022259186928849607\n",
            "France 0.0022013088026681307\n",
            "Germany 0.0020498161740603667\n",
            "United_Kingdom 0.0020126976235553015\n",
            "Definition 0.0019898355086714597\n",
            "Geographic_coordinate_system 0.00174214923553625\n",
            "English_language 0.0017104250414240374\n",
            "1.0000000000003235\n",
            "--------------------\n",
            "Main_Page 0.04975283357624733\n",
            "Wayback_Machine 0.006377242133213851\n",
            "United_States 0.004259827539231324\n",
            "Internet_Archive 0.002175987848031507\n",
            "Definition 0.002174372322151004\n",
            "France 0.0020995990855674773\n",
            "Germany 0.0020423382170861293\n",
            "United_Kingdom 0.0019700384398650297\n",
            "English_language 0.0017566388089246938\n",
            "Geographic_coordinate_system 0.0016692642301043782\n",
            "1.0000000000001645\n",
            "--------------------\n",
            "Main_Page 0.049520772786548706\n",
            "Wayback_Machine 0.006322880914804938\n",
            "United_States 0.004118396145126968\n",
            "Definition 0.0022666532492560316\n",
            "Internet_Archive 0.0021445179470936065\n",
            "France 0.002041907073042117\n",
            "Germany 0.002028692067175889\n",
            "United_Kingdom 0.0019397443731997042\n",
            "English_language 0.0017898234471379474\n",
            "Government 0.0016309890573773175\n",
            "1.0000000000000193\n",
            "--------------------\n",
            "Main_Page 0.049426993353447704\n",
            "Wayback_Machine 0.0062916369883855615\n",
            "United_States 0.004022318851974241\n",
            "Definition 0.0023170222365019744\n",
            "Internet_Archive 0.00212531038885863\n",
            "Germany 0.0020181675057135418\n",
            "France 0.0020037348100401505\n",
            "United_Kingdom 0.0019176029044774025\n",
            "English_language 0.0018113063546491772\n",
            "Government 0.001627660464982908\n",
            "1.0000000000000318\n",
            "--------------------\n",
            "Main_Page 0.04938870464873887\n",
            "Wayback_Machine 0.006272920789362142\n",
            "United_States 0.003954749637059253\n",
            "Definition 0.0023482264913361195\n",
            "Internet_Archive 0.002114122908551213\n",
            "Germany 0.0020097120764412937\n",
            "France 0.001975528905521102\n",
            "United_Kingdom 0.0019002425284640452\n",
            "English_language 0.001825561147155269\n",
            "Government 0.0016239264095383843\n",
            "1.000000000000016\n",
            "--------------------\n",
            "Main_Page 0.04937615931489622\n",
            "Wayback_Machine 0.006261162151436826\n",
            "United_States 0.0039059387384957466\n",
            "Definition 0.00236937573589304\n",
            "Internet_Archive 0.00210739646644835\n",
            "Germany 0.002002964967113564\n",
            "France 0.0019536272455568855\n",
            "United_Kingdom 0.0018864274080871515\n",
            "English_language 0.0018351107952790178\n",
            "Government 0.0016202177344602194\n",
            "1.0000000000000506\n",
            "--------------------\n",
            "Main_Page 0.04937588053262008\n",
            "Wayback_Machine 0.0062534411611710776\n",
            "United_States 0.0038698205400497627\n",
            "Definition 0.0023845108174270074\n",
            "Internet_Archive 0.002103167952287774\n",
            "Germany 0.001997588954187004\n",
            "France 0.0019362507293811714\n",
            "United_Kingdom 0.0018753033992759585\n",
            "English_language 0.0018416175566566253\n",
            "Government 0.0016167824352809215\n",
            "1.0000000000000677\n",
            "--------------------\n"
          ]
        },
        {
          "output_type": "error",
          "ename": "KeyboardInterrupt",
          "evalue": "ignored",
          "traceback": [
            "\u001b[0;31m---------------------------------------------------------------------------\u001b[0m",
            "\u001b[0;31mKeyboardInterrupt\u001b[0m                         Traceback (most recent call last)",
            "\u001b[0;32m<ipython-input-25-cbac70df2ad2>\u001b[0m in \u001b[0;36m<module>\u001b[0;34m()\u001b[0m\n\u001b[1;32m     10\u001b[0m         \u001b[0msm\u001b[0m \u001b[0;34m=\u001b[0m \u001b[0;36m0\u001b[0m\u001b[0;34m\u001b[0m\u001b[0;34m\u001b[0m\u001b[0m\n\u001b[1;32m     11\u001b[0m         \u001b[0;32mfor\u001b[0m \u001b[0minp\u001b[0m \u001b[0;32min\u001b[0m \u001b[0mgin\u001b[0m\u001b[0;34m[\u001b[0m\u001b[0marticle\u001b[0m\u001b[0;34m]\u001b[0m\u001b[0;34m:\u001b[0m\u001b[0;34m\u001b[0m\u001b[0;34m\u001b[0m\u001b[0m\n\u001b[0;32m---> 12\u001b[0;31m             \u001b[0msm\u001b[0m \u001b[0;34m+=\u001b[0m \u001b[0mr\u001b[0m\u001b[0;34m[\u001b[0m\u001b[0minp\u001b[0m\u001b[0;34m]\u001b[0m \u001b[0;34m/\u001b[0m \u001b[0mlen\u001b[0m\u001b[0;34m(\u001b[0m\u001b[0mgout\u001b[0m\u001b[0;34m[\u001b[0m\u001b[0minp\u001b[0m\u001b[0;34m]\u001b[0m\u001b[0;34m)\u001b[0m\u001b[0;34m\u001b[0m\u001b[0;34m\u001b[0m\u001b[0m\n\u001b[0m\u001b[1;32m     13\u001b[0m         \u001b[0msm\u001b[0m \u001b[0;34m=\u001b[0m \u001b[0msm\u001b[0m \u001b[0;34m*\u001b[0m \u001b[0mdelta\u001b[0m \u001b[0;34m+\u001b[0m \u001b[0;34m(\u001b[0m\u001b[0;36m1\u001b[0m \u001b[0;34m-\u001b[0m \u001b[0mdelta\u001b[0m\u001b[0;34m)\u001b[0m \u001b[0;34m/\u001b[0m \u001b[0mn\u001b[0m\u001b[0;34m\u001b[0m\u001b[0;34m\u001b[0m\u001b[0m\n\u001b[1;32m     14\u001b[0m         \u001b[0mpr\u001b[0m\u001b[0;34m[\u001b[0m\u001b[0marticle\u001b[0m\u001b[0;34m]\u001b[0m \u001b[0;34m=\u001b[0m \u001b[0msm\u001b[0m\u001b[0;34m\u001b[0m\u001b[0;34m\u001b[0m\u001b[0m\n",
            "\u001b[0;31mKeyboardInterrupt\u001b[0m: "
          ]
        }
      ]
    },
    {
      "cell_type": "code",
      "metadata": {
        "colab": {
          "base_uri": "https://localhost:8080/",
          "height": 1000
        },
        "id": "Ew7j_jePmH2U",
        "outputId": "8ae1cf07-40ee-437b-964d-29c020939427"
      },
      "source": [
        "delta = 0.5\n",
        "r = dict()\n",
        "for article in artcles:\n",
        "    r[article] = 1 / n\n",
        "dif = 1\n",
        "while dif > 1e-6:\n",
        "    pr = dict()\n",
        "    s = 0\n",
        "    for article in artcles:\n",
        "        sm = 0\n",
        "        for inp in gin[article]:\n",
        "            sm += r[inp] / len(gout[inp])\n",
        "        sm = sm * delta + (1 - delta) / n\n",
        "        pr[article] = sm\n",
        "        s += sm\n",
        "        dif = max(dif, abs(r[article] - pr[article]))\n",
        "    r = pr\n",
        "    top = sorted((-rank, art) for (art, rank) in r.items())\n",
        "    for rank, art in top[:10]:\n",
        "        print(art, str(-1 * rank))\n",
        "    print(s)\n",
        "    print(\"-\"*20)"
      ],
      "id": "Ew7j_jePmH2U",
      "execution_count": null,
      "outputs": [
        {
          "output_type": "stream",
          "name": "stdout",
          "text": [
            "Main_Page 0.05142011529344364\n",
            "United_States 0.004286943525031891\n",
            "Wayback_Machine 0.003453762900996364\n",
            "France 0.0027440019447172535\n",
            "Geographic_coordinate_system 0.0025546751654810726\n",
            "Americans 0.0020235967814123757\n",
            "Departments_of_France 0.001718268331368669\n",
            "Time_zone 0.0016217357771255464\n",
            "Association_football 0.0015774268151393304\n",
            "Communes_of_France 0.00150094189465386\n",
            "1.000000000000029\n",
            "--------------------\n",
            "Main_Page 0.04055211479622028\n",
            "United_States 0.0035637641127047566\n",
            "Wayback_Machine 0.003552466196431751\n",
            "France 0.0021274651643288347\n",
            "Geographic_coordinate_system 0.0019028506336678495\n",
            "Americans 0.0013790582657172102\n",
            "Time_zone 0.0013107666608438524\n",
            "Departments_of_France 0.0012326321476249457\n",
            "City 0.0011946402862014504\n",
            "Association_football 0.0011527351688918525\n",
            "1.0000000000000087\n",
            "--------------------\n",
            "Main_Page 0.03956072303455479\n",
            "Wayback_Machine 0.003508675082329522\n",
            "United_States 0.0034624437932635503\n",
            "France 0.002047535297795164\n",
            "Geographic_coordinate_system 0.0018180160722670554\n",
            "Americans 0.0012967721973315912\n",
            "Time_zone 0.0012549924386516475\n",
            "City 0.0011717038666849441\n",
            "Departments_of_France 0.0011471910479263722\n",
            "Association_football 0.0011050651725549821\n",
            "0.9999999999999081\n",
            "--------------------\n",
            "Main_Page 0.03945724943272263\n",
            "Wayback_Machine 0.0034974436286271332\n",
            "United_States 0.0034347570112703827\n",
            "France 0.002029608542918133\n",
            "Geographic_coordinate_system 0.001804815447342508\n",
            "Americans 0.0012840920633750876\n",
            "Time_zone 0.0012424022418066484\n",
            "City 0.001158271572522809\n",
            "Departments_of_France 0.001131259685031114\n",
            "Association_football 0.0010891111025204021\n",
            "1.0000000000000695\n",
            "--------------------\n",
            "Main_Page 0.03943468432654973\n",
            "Wayback_Machine 0.0034938186242361798\n",
            "United_States 0.003426107131000529\n",
            "France 0.0020255008833657243\n",
            "Geographic_coordinate_system 0.0018018719056895928\n",
            "Americans 0.0012804586780557864\n",
            "Time_zone 0.0012385152912619195\n",
            "City 0.0011544615849524355\n",
            "Departments_of_France 0.0011277907428606914\n",
            "Association_football 0.0010841232463027727\n",
            "0.99999999999988\n",
            "--------------------\n",
            "Main_Page 0.039429751678148585\n",
            "Wayback_Machine 0.0034926631305510045\n",
            "United_States 0.0034231008870723163\n",
            "France 0.002024274590833792\n",
            "Geographic_coordinate_system 0.0018008753600269965\n",
            "Americans 0.0012794316415756161\n",
            "Time_zone 0.0012371874709810066\n",
            "City 0.001153230335687912\n",
            "Departments_of_France 0.0011268253748326583\n",
            "Association_football 0.0010823319801005196\n",
            "1.0000000000001346\n",
            "--------------------\n"
          ]
        },
        {
          "output_type": "error",
          "ename": "KeyboardInterrupt",
          "evalue": "ignored",
          "traceback": [
            "\u001b[0;31m---------------------------------------------------------------------------\u001b[0m",
            "\u001b[0;31mKeyboardInterrupt\u001b[0m                         Traceback (most recent call last)",
            "\u001b[0;32m<ipython-input-26-5fcd94ec3f1e>\u001b[0m in \u001b[0;36m<module>\u001b[0;34m()\u001b[0m\n\u001b[1;32m     10\u001b[0m         \u001b[0msm\u001b[0m \u001b[0;34m=\u001b[0m \u001b[0;36m0\u001b[0m\u001b[0;34m\u001b[0m\u001b[0;34m\u001b[0m\u001b[0m\n\u001b[1;32m     11\u001b[0m         \u001b[0;32mfor\u001b[0m \u001b[0minp\u001b[0m \u001b[0;32min\u001b[0m \u001b[0mgin\u001b[0m\u001b[0;34m[\u001b[0m\u001b[0marticle\u001b[0m\u001b[0;34m]\u001b[0m\u001b[0;34m:\u001b[0m\u001b[0;34m\u001b[0m\u001b[0;34m\u001b[0m\u001b[0m\n\u001b[0;32m---> 12\u001b[0;31m             \u001b[0msm\u001b[0m \u001b[0;34m+=\u001b[0m \u001b[0mr\u001b[0m\u001b[0;34m[\u001b[0m\u001b[0minp\u001b[0m\u001b[0;34m]\u001b[0m \u001b[0;34m/\u001b[0m \u001b[0mlen\u001b[0m\u001b[0;34m(\u001b[0m\u001b[0mgout\u001b[0m\u001b[0;34m[\u001b[0m\u001b[0minp\u001b[0m\u001b[0;34m]\u001b[0m\u001b[0;34m)\u001b[0m\u001b[0;34m\u001b[0m\u001b[0;34m\u001b[0m\u001b[0m\n\u001b[0m\u001b[1;32m     13\u001b[0m         \u001b[0msm\u001b[0m \u001b[0;34m=\u001b[0m \u001b[0msm\u001b[0m \u001b[0;34m*\u001b[0m \u001b[0mdelta\u001b[0m \u001b[0;34m+\u001b[0m \u001b[0;34m(\u001b[0m\u001b[0;36m1\u001b[0m \u001b[0;34m-\u001b[0m \u001b[0mdelta\u001b[0m\u001b[0;34m)\u001b[0m \u001b[0;34m/\u001b[0m \u001b[0mn\u001b[0m\u001b[0;34m\u001b[0m\u001b[0;34m\u001b[0m\u001b[0m\n\u001b[1;32m     14\u001b[0m         \u001b[0mpr\u001b[0m\u001b[0;34m[\u001b[0m\u001b[0marticle\u001b[0m\u001b[0;34m]\u001b[0m \u001b[0;34m=\u001b[0m \u001b[0msm\u001b[0m\u001b[0;34m\u001b[0m\u001b[0;34m\u001b[0m\u001b[0m\n",
            "\u001b[0;31mKeyboardInterrupt\u001b[0m: "
          ]
        }
      ]
    },
    {
      "cell_type": "code",
      "metadata": {
        "colab": {
          "base_uri": "https://localhost:8080/",
          "height": 1000
        },
        "id": "tnIVjQ7-mYik",
        "outputId": "6addbb1b-85ae-450b-f37a-22c0145cf60c"
      },
      "source": [
        "delta = 0.3\n",
        "r = dict()\n",
        "for article in artcles:\n",
        "    r[article] = 1 / n\n",
        "dif = 1\n",
        "while dif > 1e-6:\n",
        "    pr = dict()\n",
        "    s = 0\n",
        "    for article in artcles:\n",
        "        sm = 0\n",
        "        for inp in gin[article]:\n",
        "            sm += r[inp] / len(gout[inp])\n",
        "        sm = sm * delta + (1 - delta) / n\n",
        "        pr[article] = sm\n",
        "        s += sm\n",
        "        dif = max(dif, abs(r[article] - pr[article]))\n",
        "    r = pr\n",
        "    top = sorted((-rank, art) for (art, rank) in r.items())\n",
        "    for rank, art in top[:10]:\n",
        "        print(art, str(-1 * rank))\n",
        "    print(s)\n",
        "    print(\"-\"*20)"
      ],
      "id": "tnIVjQ7-mYik",
      "execution_count": null,
      "outputs": [
        {
          "output_type": "stream",
          "name": "stdout",
          "text": [
            "Main_Page 0.030854173575312806\n",
            "United_States 0.0025742705142657593\n",
            "Wayback_Machine 0.0020743621398444435\n",
            "France 0.0016485055660769772\n",
            "Geographic_coordinate_system 0.0015349094985352685\n",
            "Americans 0.0012162624680940504\n",
            "Departments_of_France 0.0010330653980678264\n",
            "Time_zone 0.000975145865521953\n",
            "Association_football 0.0009485604883302234\n",
            "Communes_of_France 0.0009026695360389411\n",
            "1.0000000000000333\n",
            "--------------------\n",
            "Main_Page 0.026941693396306247\n",
            "United_States 0.0023139259258280567\n",
            "Wayback_Machine 0.0021098953262012553\n",
            "France 0.0014265523251372203\n",
            "Geographic_coordinate_system 0.00130025266708255\n",
            "Americans 0.0009842286024438224\n",
            "Time_zone 0.0008631969836605726\n",
            "Departments_of_France 0.0008582363719201357\n",
            "Association_football 0.0007956714956811464\n",
            "City 0.0007912373516880964\n",
            "0.9999999999998976\n",
            "--------------------\n",
            "Main_Page 0.026727552775788574\n",
            "United_States 0.0022920407368287737\n",
            "Wayback_Machine 0.002100436445555194\n",
            "France 0.0014092874739658945\n",
            "Geographic_coordinate_system 0.0012819284018199767\n",
            "Americans 0.0009664548116725309\n",
            "Time_zone 0.0008511497516670585\n",
            "Departments_of_France 0.0008397810943852127\n",
            "City 0.000786283085072539\n",
            "Association_football 0.0007853747764723833\n",
            "1.0000000000000315\n",
            "--------------------\n",
            "Main_Page 0.026714142596984177\n",
            "United_States 0.0022884525298824693\n",
            "Wayback_Machine 0.002098980849155341\n",
            "France 0.0014069641665338571\n",
            "Geographic_coordinate_system 0.0012802176008297618\n",
            "Americans 0.0009648114663117717\n",
            "Time_zone 0.0008495180621559402\n",
            "Departments_of_France 0.0008377163897539885\n",
            "City 0.0007845422597491277\n",
            "Association_football 0.0007833071289958966\n",
            "1.000000000000072\n",
            "--------------------\n",
            "Main_Page 0.02671238793433286\n",
            "United_States 0.0022877799151926857\n",
            "Wayback_Machine 0.0020986989688138702\n",
            "France 0.001406644754927079\n",
            "Geographic_coordinate_system 0.001279988711030848\n",
            "Americans 0.00096452893426934\n",
            "Time_zone 0.0008492158128815946\n",
            "Departments_of_France 0.0008374466448108342\n",
            "City 0.0007842459951156525\n",
            "Association_football 0.0007829192732964182\n",
            "0.9999999999999002\n",
            "--------------------\n",
            "Main_Page 0.02671215779668753\n",
            "United_States 0.0022876396558759587\n",
            "Wayback_Machine 0.0020986450581005215\n",
            "France 0.0014065875410226969\n",
            "Geographic_coordinate_system 0.0012799422161964011\n",
            "Americans 0.0009644810168553231\n",
            "Time_zone 0.0008491538620985575\n",
            "Departments_of_France 0.0008374016046001022\n",
            "City 0.0007841885499499635\n",
            "Association_football 0.0007828356999804953\n",
            "0.9999999999999429\n",
            "--------------------\n",
            "Main_Page 0.026712128427551073\n",
            "United_States 0.0022876095671149612\n",
            "Wayback_Machine 0.0020986352733636322\n",
            "France 0.0014065755865216771\n",
            "Geographic_coordinate_system 0.0012799322699247593\n",
            "Americans 0.0009644721627748886\n",
            "Time_zone 0.0008491406508153336\n",
            "Departments_of_France 0.0008373925834707797\n",
            "City 0.0007841763268549029\n",
            "Association_football 0.0007828178493829375\n",
            "1.000000000000048\n",
            "--------------------\n"
          ]
        },
        {
          "output_type": "error",
          "ename": "KeyboardInterrupt",
          "evalue": "ignored",
          "traceback": [
            "\u001b[0;31m---------------------------------------------------------------------------\u001b[0m",
            "\u001b[0;31mKeyboardInterrupt\u001b[0m                         Traceback (most recent call last)",
            "\u001b[0;32m<ipython-input-27-b19f7d73495f>\u001b[0m in \u001b[0;36m<module>\u001b[0;34m()\u001b[0m\n\u001b[1;32m     10\u001b[0m         \u001b[0msm\u001b[0m \u001b[0;34m=\u001b[0m \u001b[0;36m0\u001b[0m\u001b[0;34m\u001b[0m\u001b[0;34m\u001b[0m\u001b[0m\n\u001b[1;32m     11\u001b[0m         \u001b[0;32mfor\u001b[0m \u001b[0minp\u001b[0m \u001b[0;32min\u001b[0m \u001b[0mgin\u001b[0m\u001b[0;34m[\u001b[0m\u001b[0marticle\u001b[0m\u001b[0;34m]\u001b[0m\u001b[0;34m:\u001b[0m\u001b[0;34m\u001b[0m\u001b[0;34m\u001b[0m\u001b[0m\n\u001b[0;32m---> 12\u001b[0;31m             \u001b[0msm\u001b[0m \u001b[0;34m+=\u001b[0m \u001b[0mr\u001b[0m\u001b[0;34m[\u001b[0m\u001b[0minp\u001b[0m\u001b[0;34m]\u001b[0m \u001b[0;34m/\u001b[0m \u001b[0mlen\u001b[0m\u001b[0;34m(\u001b[0m\u001b[0mgout\u001b[0m\u001b[0;34m[\u001b[0m\u001b[0minp\u001b[0m\u001b[0;34m]\u001b[0m\u001b[0;34m)\u001b[0m\u001b[0;34m\u001b[0m\u001b[0;34m\u001b[0m\u001b[0m\n\u001b[0m\u001b[1;32m     13\u001b[0m         \u001b[0msm\u001b[0m \u001b[0;34m=\u001b[0m \u001b[0msm\u001b[0m \u001b[0;34m*\u001b[0m \u001b[0mdelta\u001b[0m \u001b[0;34m+\u001b[0m \u001b[0;34m(\u001b[0m\u001b[0;36m1\u001b[0m \u001b[0;34m-\u001b[0m \u001b[0mdelta\u001b[0m\u001b[0;34m)\u001b[0m \u001b[0;34m/\u001b[0m \u001b[0mn\u001b[0m\u001b[0;34m\u001b[0m\u001b[0;34m\u001b[0m\u001b[0m\n\u001b[1;32m     14\u001b[0m         \u001b[0mpr\u001b[0m\u001b[0;34m[\u001b[0m\u001b[0marticle\u001b[0m\u001b[0;34m]\u001b[0m \u001b[0;34m=\u001b[0m \u001b[0msm\u001b[0m\u001b[0;34m\u001b[0m\u001b[0;34m\u001b[0m\u001b[0m\n",
            "\u001b[0;31mKeyboardInterrupt\u001b[0m: "
          ]
        }
      ]
    }
  ]
}