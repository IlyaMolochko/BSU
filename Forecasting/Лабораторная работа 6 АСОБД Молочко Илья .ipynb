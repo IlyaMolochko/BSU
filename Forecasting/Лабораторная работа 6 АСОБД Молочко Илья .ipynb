{
 "cells": [
  {
   "cell_type": "code",
   "execution_count": 1,
   "id": "located-vector",
   "metadata": {},
   "outputs": [
    {
     "name": "stderr",
     "output_type": "stream",
     "text": [
      "Warning message:\n",
      "\"package 'ggplot2' was built under R version 3.6.3\""
     ]
    }
   ],
   "source": [
    "library(\"ggplot2\")"
   ]
  },
  {
   "cell_type": "markdown",
   "id": "mediterranean-windows",
   "metadata": {},
   "source": [
    "# 1. Распределение Пуассона"
   ]
  },
  {
   "cell_type": "markdown",
   "id": "stunning-microwave",
   "metadata": {},
   "source": [
    "$\n",
    "\\huge{a(x) = \\frac{1}{x!}, \\ C(\\theta) = e^{\\theta}, \\ \\mathbb{P}(\\xi = x) = \\frac{a(x)\\theta^x}{C(\\theta)} \\Rightarrow \\theta = \\lambda}\n",
    "$\n",
    "\n",
    "$\n",
    "\\huge{G(\\theta) = log(C(\\theta)), \\ \\mathbb{E}[X_t] = \\mu_x = \\frac{\\theta G'(\\theta)}{1 - \\alpha} = \\frac{\\theta}{1 - \\alpha}}\n",
    "$\n",
    "\n",
    "$\n",
    " \\huge{\\mathbb{D}[X_t] = \\mu_x + \\frac{\\theta^2 G''(\\theta)}{1 - \\alpha^2} = \\frac{\\theta}{1 - \\alpha}}\n",
    "$"
   ]
  },
  {
   "cell_type": "code",
   "execution_count": 2,
   "id": "attached-strand",
   "metadata": {},
   "outputs": [],
   "source": [
    "rho <- function(tms){\n",
    "    n <- length(tms)\n",
    "#     n <- 1000\n",
    "    rh <- rep(0, times=n)\n",
    "    p2 <- 0\n",
    "    mn <- mean(tms)\n",
    "    for (i in 1 : n){\n",
    "        p2 <- p2 + (tms[i] - mn)^2\n",
    "    }\n",
    "    for (k in 0 : n - 1){\n",
    "        l <- n - k\n",
    "        for (t in 1 : l){\n",
    "            rh[k + 1] = rh[k + 1] + (tms[t] - mn) * (tms[t + k] - mn) / p2\n",
    "        }\n",
    "    }\n",
    "    \n",
    "    return(rh)\n",
    "}"
   ]
  },
  {
   "cell_type": "code",
   "execution_count": 3,
   "id": "automotive-composite",
   "metadata": {},
   "outputs": [],
   "source": [
    "lse_alpha <- function(tms){\n",
    "    p1 <- 0\n",
    "    p2 <- 0\n",
    "    p3 <- 0\n",
    "    p4 <- 0\n",
    "    n <- length(tms)\n",
    "    for (t in 2 : n){\n",
    "        p1 <- p1 + tms[t] * tms[t - 1]\n",
    "        p2 <- p2 + tms[t]\n",
    "        p3 <- p3 + tms[t - 1]\n",
    "        p4 <- p4 + tms[t - 1] ^ tms[t - 1]\n",
    "    }\n",
    "    alpha <- (p1 - p2 * p3 / (n - 1)) / (p4 - p3 * p3 / (n - 1))\n",
    "    return(alpha)\n",
    "}"
   ]
  },
  {
   "cell_type": "code",
   "execution_count": 4,
   "id": "killing-undergraduate",
   "metadata": {},
   "outputs": [],
   "source": [
    "poinar <- function(n, alpha, lambda){\n",
    "    len <- n + 1\n",
    "    x <- rep(1, times = len)\n",
    "    x[1] <- ceiling(lambda / (1 - alpha))\n",
    "    xi <- rpois(len, lambda)\n",
    "    for (i in 2 : len){\n",
    "        x[i] <- sum(rbinom(n=x[i - 1], 1, prob=alpha)) + xi[i]\n",
    "#         x[i] <- rbinom(1, x[i - 1], alpha) + xi[i]\n",
    "    }\n",
    "    return(stats::ts(x[2:len]))\n",
    "}"
   ]
  },
  {
   "cell_type": "code",
   "execution_count": 20,
   "id": "lined-omega",
   "metadata": {},
   "outputs": [
    {
     "data": {
      "image/png": "[encoded data removed]",
      "text/plain": [
       "plot without title"
      ]
     },
     "metadata": {},
     "output_type": "display_data"
    }
   ],
   "source": [
    "alpha = 0.3\n",
    "lambda = 1\n",
    "ts1 <- poinar(n = 1000, alpha = alpha, lambda = lambda)\n",
    "plot(ts1)"
   ]
  },
  {
   "cell_type": "code",
   "execution_count": 21,
   "id": "packed-trance",
   "metadata": {},
   "outputs": [
    {
     "data": {
      "text/html": [
       "1.487"
      ],
      "text/latex": [
       "1.487"
      ],
      "text/markdown": [
       "1.487"
      ],
      "text/plain": [
       "[1] 1.487"
      ]
     },
     "metadata": {},
     "output_type": "display_data"
    }
   ],
   "source": [
    "mean(ts1)"
   ]
  },
  {
   "cell_type": "code",
   "execution_count": 22,
   "id": "distinguished-compiler",
   "metadata": {},
   "outputs": [
    {
     "data": {
      "text/html": [
       "1.4672982982983"
      ],
      "text/latex": [
       "1.4672982982983"
      ],
      "text/markdown": [
       "1.4672982982983"
      ],
      "text/plain": [
       "[1] 1.467298"
      ]
     },
     "metadata": {},
     "output_type": "display_data"
    }
   ],
   "source": [
    "var(ts1)"
   ]
  },
  {
   "cell_type": "markdown",
   "id": "animated-interface",
   "metadata": {},
   "source": [
    "$\\mathbb{E}[X_t] = \\mathbb{D}[X_t] = \\frac{\\theta}{1 - \\alpha} = \\frac{\\theta}{1 - \\alpha} = \\frac{1}{0.7} = 1.42857142857143\n",
    "$"
   ]
  },
  {
   "cell_type": "code",
   "execution_count": 23,
   "id": "bearing-times",
   "metadata": {},
   "outputs": [],
   "source": [
    "rho1 <- rho(ts1)"
   ]
  },
  {
   "cell_type": "code",
   "execution_count": 36,
   "id": "handy-murray",
   "metadata": {},
   "outputs": [
    {
     "data": {
      "image/png": "[encoded data removed]",
      "text/plain": [
       "plot without title"
      ]
     },
     "metadata": {},
     "output_type": "display_data"
    }
   ],
   "source": [
    "plot(rho1)"
   ]
  },
  {
   "cell_type": "markdown",
   "id": "interracial-reunion",
   "metadata": {},
   "source": [
    "$ \\hat{\\alpha} = \\hat{\\rho}(1):\n",
    "$"
   ]
  },
  {
   "cell_type": "code",
   "execution_count": 25,
   "id": "joined-stream",
   "metadata": {},
   "outputs": [
    {
     "data": {
      "text/html": [
       "0.284517677003693"
      ],
      "text/latex": [
       "0.284517677003693"
      ],
      "text/markdown": [
       "0.284517677003693"
      ],
      "text/plain": [
       "[1] 0.2845177"
      ]
     },
     "metadata": {},
     "output_type": "display_data"
    }
   ],
   "source": [
    "rho1[2]"
   ]
  },
  {
   "cell_type": "markdown",
   "id": "beneficial-cloud",
   "metadata": {},
   "source": [
    "$\n",
    "\\hat{\\lambda} = \\hat{\\theta} = (1 - \\hat{\\alpha}) \\overline{X}:\n",
    "$"
   ]
  },
  {
   "cell_type": "code",
   "execution_count": 26,
   "id": "swiss-greene",
   "metadata": {},
   "outputs": [
    {
     "data": {
      "text/html": [
       "1.06392221429551"
      ],
      "text/latex": [
       "1.06392221429551"
      ],
      "text/markdown": [
       "1.06392221429551"
      ],
      "text/plain": [
       "[1] 1.063922"
      ]
     },
     "metadata": {},
     "output_type": "display_data"
    }
   ],
   "source": [
    "(1 - rho1[2] )* mean(ts1)"
   ]
  },
  {
   "cell_type": "code",
   "execution_count": 27,
   "id": "authorized-vietnamese",
   "metadata": {},
   "outputs": [
    {
     "data": {
      "text/html": [
       "0.00589265359540279"
      ],
      "text/latex": [
       "0.00589265359540279"
      ],
      "text/markdown": [
       "0.00589265359540279"
      ],
      "text/plain": [
       "[1] 0.005892654"
      ]
     },
     "metadata": {},
     "output_type": "display_data"
    }
   ],
   "source": [
    "lse_alpha(ts1)"
   ]
  },
  {
   "cell_type": "markdown",
   "id": "hairy-bolivia",
   "metadata": {},
   "source": [
    "# 2. Геометрическое распределение\n",
    "\n",
    "$\n",
    "\\huge{a(x) = 1, \\ C(\\theta) = \\frac{1}{1 - \\theta}, \\ \\mathbb{P}(\\xi = x) = \\frac{a(x)\\theta^x}{C(\\theta)} \\Rightarrow \\theta = 1 - p}\n",
    "$\n",
    "\n",
    "$\n",
    "\\huge{G(\\theta) = log(C(\\theta)), \\ \\mathbb{E}[X_t] = \\mu_x = \\frac{\\theta G'(\\theta)}{1 - \\alpha} = \\frac{\\theta}{(1 - \\alpha)(1-\\theta)}}\n",
    "$\n",
    "\n",
    "$\n",
    " \\huge{\\mathbb{D}[X_t] = \\mu_x + \\frac{\\theta^2 G''(\\theta)}{1 - \\alpha^2} = \\frac{\\theta + \\alpha \\theta (1 - \\theta)}{(1 - \\alpha^2)(1-\\theta)^2}}\n",
    "$"
   ]
  },
  {
   "cell_type": "code",
   "execution_count": 28,
   "id": "indonesian-shield",
   "metadata": {},
   "outputs": [],
   "source": [
    "ginar <- function(n, alpha, p){\n",
    "    len <- n + 1\n",
    "    x <- rep(1, times = len)\n",
    "    xi <- rgeom(len, p)\n",
    "    for (i in 2 : len){\n",
    "        x[i] <- sum(rbinom(n=x[i - 1], 1, prob=alpha)) + xi[i]\n",
    "    }\n",
    "    return(stats::ts(x[2: len]))\n",
    "}"
   ]
  },
  {
   "cell_type": "code",
   "execution_count": 29,
   "id": "fresh-yeast",
   "metadata": {},
   "outputs": [
    {
     "data": {
      "image/png": "[encoded data removed]",
      "text/plain": [
       "plot without title"
      ]
     },
     "metadata": {},
     "output_type": "display_data"
    }
   ],
   "source": [
    "alpha <- 0.7\n",
    "p <- 0.7\n",
    "ts2 <- ginar(n = 1000, alpha = 0.7, p = 0.7)\n",
    "plot(ts2)"
   ]
  },
  {
   "cell_type": "code",
   "execution_count": 30,
   "id": "consistent-biotechnology",
   "metadata": {},
   "outputs": [
    {
     "data": {
      "text/html": [
       "1.316"
      ],
      "text/latex": [
       "1.316"
      ],
      "text/markdown": [
       "1.316"
      ],
      "text/plain": [
       "[1] 1.316"
      ]
     },
     "metadata": {},
     "output_type": "display_data"
    }
   ],
   "source": [
    "mean(ts2)"
   ]
  },
  {
   "cell_type": "markdown",
   "id": "antique-harbor",
   "metadata": {},
   "source": [
    "$\n",
    "\\mathbb{E}[X]:\n",
    "$"
   ]
  },
  {
   "cell_type": "code",
   "execution_count": 31,
   "id": "built-niger",
   "metadata": {},
   "outputs": [
    {
     "data": {
      "text/html": [
       "1.42857142857143"
      ],
      "text/latex": [
       "1.42857142857143"
      ],
      "text/markdown": [
       "1.42857142857143"
      ],
      "text/plain": [
       "[1] 1.428571"
      ]
     },
     "metadata": {},
     "output_type": "display_data"
    }
   ],
   "source": [
    "t <- 1 - p\n",
    "t / (1 - alpha) / (1 - t)"
   ]
  },
  {
   "cell_type": "code",
   "execution_count": 32,
   "id": "figured-warning",
   "metadata": {},
   "outputs": [
    {
     "data": {
      "text/html": [
       "1.6578018018018"
      ],
      "text/latex": [
       "1.6578018018018"
      ],
      "text/markdown": [
       "1.6578018018018"
      ],
      "text/plain": [
       "[1] 1.657802"
      ]
     },
     "metadata": {},
     "output_type": "display_data"
    }
   ],
   "source": [
    "var(ts2)"
   ]
  },
  {
   "cell_type": "markdown",
   "id": "right-receiver",
   "metadata": {},
   "source": [
    "$\n",
    "\\mathbb{D}[X]:\n",
    "$"
   ]
  },
  {
   "cell_type": "code",
   "execution_count": 33,
   "id": "cordless-worship",
   "metadata": {},
   "outputs": [
    {
     "data": {
      "text/html": [
       "1.78871548619448"
      ],
      "text/latex": [
       "1.78871548619448"
      ],
      "text/markdown": [
       "1.78871548619448"
      ],
      "text/plain": [
       "[1] 1.788715"
      ]
     },
     "metadata": {},
     "output_type": "display_data"
    }
   ],
   "source": [
    "(t + alpha * t * p) / (1 - alpha ^ 2) / p^2"
   ]
  },
  {
   "cell_type": "code",
   "execution_count": 35,
   "id": "natural-venue",
   "metadata": {},
   "outputs": [
    {
     "data": {
      "image/png": "[encoded data removed]",
      "text/plain": [
       "plot without title"
      ]
     },
     "metadata": {},
     "output_type": "display_data"
    }
   ],
   "source": [
    "rho2 <- rho(ts2)\n",
    "plot(rho2)"
   ]
  },
  {
   "cell_type": "markdown",
   "id": "ethical-rates",
   "metadata": {},
   "source": [
    "$ \\hat{\\alpha} = \\hat{\\rho}(1):\n",
    "$"
   ]
  },
  {
   "cell_type": "code",
   "execution_count": 37,
   "id": "serial-union",
   "metadata": {},
   "outputs": [
    {
     "data": {
      "text/html": [
       "0.699050411075362"
      ],
      "text/latex": [
       "0.699050411075362"
      ],
      "text/markdown": [
       "0.699050411075362"
      ],
      "text/plain": [
       "[1] 0.6990504"
      ]
     },
     "metadata": {},
     "output_type": "display_data"
    }
   ],
   "source": [
    "rho2[2]"
   ]
  },
  {
   "cell_type": "markdown",
   "id": "transparent-damage",
   "metadata": {},
   "source": [
    "$\n",
    "\\huge{\\hat{\\theta} = \\frac{\\overline{X} (1 - \\hat{\\alpha})}{1 + \\overline{X}(1 - \\hat{\\alpha})} = 1 - \\hat{p}}:\n",
    "$"
   ]
  },
  {
   "cell_type": "code",
   "execution_count": 38,
   "id": "western-ethnic",
   "metadata": {},
   "outputs": [
    {
     "data": {
      "text/html": [
       "0.283693102508599"
      ],
      "text/latex": [
       "0.283693102508599"
      ],
      "text/markdown": [
       "0.283693102508599"
      ],
      "text/plain": [
       "[1] 0.2836931"
      ]
     },
     "metadata": {},
     "output_type": "display_data"
    }
   ],
   "source": [
    "mean(ts2) * (1 - rho2[2]) / (1 + mean(ts2) * (1 - rho2[2]))"
   ]
  },
  {
   "cell_type": "code",
   "execution_count": 39,
   "id": "another-cincinnati",
   "metadata": {},
   "outputs": [
    {
     "name": "stderr",
     "output_type": "stream",
     "text": [
      "Warning message:\n",
      "\"package 'actuar' was built under R version 3.6.3\"\n",
      "Attaching package: 'actuar'\n",
      "\n",
      "The following object is masked from 'package:grDevices':\n",
      "\n",
      "    cm\n",
      "\n"
     ]
    }
   ],
   "source": [
    "library('actuar')"
   ]
  },
  {
   "cell_type": "markdown",
   "id": "victorian-toronto",
   "metadata": {},
   "source": [
    "# 3. Логарифмическое распределение\n",
    "\n",
    "$\n",
    "\\huge{a(x) = \\frac{1}{x}, \\ C(\\theta) = -log(1 - \\theta), \\\\ \\mathbb{P}(\\xi = x) = \\frac{a(x)\\theta^x}{C(\\theta)} \\Rightarrow \\theta = p}\n",
    "$\n",
    "\n",
    "$\n",
    "\\huge{G(\\theta) = log(C(\\theta)), \\\\\n",
    "\\mathbb{E}[X_t] = \\mu_x = \\frac{\\theta G'(\\theta)}{1 - \\alpha} = -\\frac{\\theta}{(1-\\alpha)(1-\\theta)log(1-\\theta)}}\n",
    "$\n",
    "\n",
    "$\n",
    " \\huge{\\mathbb{D}[X_t] = \\mu_x + \\frac{\\theta^2 G''(\\theta)}{1 - \\alpha^2} = \\mathbb{E}[X_t] + \\frac{\\theta^2}{1 - \\alpha^2} \\left(-\\frac{1+log(1-\\theta)}{(1 - \\theta)^2 log^2(\\frac{1}{1 - \\theta})}\\right)}\n",
    "$"
   ]
  },
  {
   "cell_type": "code",
   "execution_count": 41,
   "id": "organized-bobby",
   "metadata": {},
   "outputs": [],
   "source": [
    "loginar <- function(n, alpha, p){\n",
    "    len <- n + 1\n",
    "    x <- rep(1, times = len)\n",
    "    xi <- rlogarithmic(len, p)\n",
    "    for (i in 2 : len){\n",
    "        x[i] <- sum(rbinom(n=x[i - 1], 1, prob=alpha)) + xi[i]\n",
    "    }\n",
    "    return(stats::ts(x[2: len]))\n",
    "}"
   ]
  },
  {
   "cell_type": "code",
   "execution_count": 42,
   "id": "systematic-debut",
   "metadata": {},
   "outputs": [],
   "source": [
    "ts3 <- loginar(n = 1000, alpha = 0.7, p = 0.7)"
   ]
  },
  {
   "cell_type": "code",
   "execution_count": 43,
   "id": "related-shock",
   "metadata": {},
   "outputs": [
    {
     "data": {
      "image/png": "[encoded data removed]",
      "text/plain": [
       "plot without title"
      ]
     },
     "metadata": {},
     "output_type": "display_data"
    }
   ],
   "source": [
    "plot(ts3)"
   ]
  },
  {
   "cell_type": "code",
   "execution_count": 44,
   "id": "egyptian-italy",
   "metadata": {},
   "outputs": [
    {
     "data": {
      "text/html": [
       "6.502"
      ],
      "text/latex": [
       "6.502"
      ],
      "text/markdown": [
       "6.502"
      ],
      "text/plain": [
       "[1] 6.502"
      ]
     },
     "metadata": {},
     "output_type": "display_data"
    }
   ],
   "source": [
    "mean(ts3)"
   ]
  },
  {
   "cell_type": "code",
   "execution_count": 45,
   "id": "ordered-irrigation",
   "metadata": {},
   "outputs": [],
   "source": [
    "alpha = 0.7\n",
    "p = 0.7"
   ]
  },
  {
   "cell_type": "code",
   "execution_count": 46,
   "id": "threaded-judgment",
   "metadata": {},
   "outputs": [
    {
     "data": {
      "text/html": [
       "6.46009423953085"
      ],
      "text/latex": [
       "6.46009423953085"
      ],
      "text/markdown": [
       "6.46009423953085"
      ],
      "text/plain": [
       "[1] 6.460094"
      ]
     },
     "metadata": {},
     "output_type": "display_data"
    }
   ],
   "source": [
    "E <- -p / (1 - alpha) / log(1-p) / (1-p)\n",
    "E"
   ]
  },
  {
   "cell_type": "code",
   "execution_count": 47,
   "id": "smooth-louisiana",
   "metadata": {},
   "outputs": [
    {
     "data": {
      "text/html": [
       "8.47647247247247"
      ],
      "text/latex": [
       "8.47647247247247"
      ],
      "text/markdown": [
       "8.47647247247247"
      ],
      "text/plain": [
       "[1] 8.476472"
      ]
     },
     "metadata": {},
     "output_type": "display_data"
    }
   ],
   "source": [
    "var(ts3)"
   ]
  },
  {
   "cell_type": "code",
   "execution_count": 48,
   "id": "prescribed-money",
   "metadata": {},
   "outputs": [
    {
     "data": {
      "text/html": [
       "7.9622753868756"
      ],
      "text/latex": [
       "7.9622753868756"
      ],
      "text/markdown": [
       "7.9622753868756"
      ],
      "text/plain": [
       "[1] 7.962275"
      ]
     },
     "metadata": {},
     "output_type": "display_data"
    }
   ],
   "source": [
    "V <- E + p^2 / (1 - alpha^ 2)  * (- (1 + log(1 - p)) / ((1 - p) ^ 2 * (log(1 / (1 - p)))^2))\n",
    "V"
   ]
  },
  {
   "cell_type": "code",
   "execution_count": 49,
   "id": "killing-allen",
   "metadata": {},
   "outputs": [
    {
     "data": {
      "image/png": "[encoded data removed]",
      "text/plain": [
       "plot without title"
      ]
     },
     "metadata": {},
     "output_type": "display_data"
    }
   ],
   "source": [
    "rho3 <- rho(ts3)\n",
    "plot(rho3)"
   ]
  },
  {
   "cell_type": "code",
   "execution_count": 50,
   "id": "arranged-basement",
   "metadata": {},
   "outputs": [
    {
     "data": {
      "text/html": [
       "0.676042831857734"
      ],
      "text/latex": [
       "0.676042831857734"
      ],
      "text/markdown": [
       "0.676042831857734"
      ],
      "text/plain": [
       "[1] 0.6760428"
      ]
     },
     "metadata": {},
     "output_type": "display_data"
    }
   ],
   "source": [
    "rho3[2]"
   ]
  },
  {
   "cell_type": "markdown",
   "id": "expired-clone",
   "metadata": {},
   "source": [
    "$\n",
    "\\huge{\\overline{X} = -\\frac{\\hat{\\theta}}{(1-\\hat{\\alpha})(1-\\hat{\\theta})log(1-\\hat{\\theta})} \\Rightarrow \n",
    "-\\overline{X}(1-\\hat{\\alpha}) = \\frac{\\hat{\\theta}}{(1-\\hat{\\theta})log(1-\\hat{\\theta})}} \n",
    "$"
   ]
  },
  {
   "cell_type": "code",
   "execution_count": 51,
   "id": "rubber-antarctica",
   "metadata": {},
   "outputs": [
    {
     "data": {
      "text/html": [
       "-2.10636950726101"
      ],
      "text/latex": [
       "-2.10636950726101"
      ],
      "text/markdown": [
       "-2.10636950726101"
      ],
      "text/plain": [
       "[1] -2.10637"
      ]
     },
     "metadata": {},
     "output_type": "display_data"
    }
   ],
   "source": [
    "-mean(ts3) * (1 - rho3[2])"
   ]
  },
  {
   "cell_type": "markdown",
   "id": "regional-heather",
   "metadata": {},
   "source": [
    "$\n",
    "\\hat{\\theta} = 0.738686\n",
    "$"
   ]
  },
  {
   "cell_type": "markdown",
   "id": "further-drama",
   "metadata": {},
   "source": [
    "# 4. Распределение Бернулли\n",
    "\n",
    "$\n",
    "\\huge{a(x) = 1, \\ C(\\theta) = 1 + \\theta, \\\\ \\mathbb{P}(\\xi = x) = \\frac{a(x)\\theta^x}{C(\\theta)} \\Rightarrow \\theta = \\frac{p}{1 - p}}\n",
    "$\n",
    "\n",
    "$\n",
    "\\huge{G(\\theta) = log(C(\\theta)), \\\\\n",
    "\\mathbb{E}[X_t] = \\mu_x = \\frac{\\theta G'(\\theta)}{1 - \\alpha} = \\frac{\\theta}{(1-\\alpha)(1+\\theta)}}\n",
    "$\n",
    "\n",
    "$\n",
    " \\huge{\\mathbb{D}[X_t] = \\mu_x + \\frac{\\theta^2 G''(\\theta)}{1 - \\alpha^2} = \\mathbb{E}[X_t]  - \\frac{\\theta^2}{(1 - \\alpha^2)(1 - \\theta)^2}}\n",
    "$"
   ]
  },
  {
   "cell_type": "code",
   "execution_count": 49,
   "id": "ambient-convert",
   "metadata": {},
   "outputs": [
    {
     "name": "stdout",
     "output_type": "stream",
     "text": [
      "package 'Rlab' successfully unpacked and MD5 sums checked\n",
      "\n",
      "The downloaded binary packages are in\n",
      "\tC:\\Users\\Ilya\\AppData\\Local\\Temp\\RtmpENG9Vy\\downloaded_packages\n"
     ]
    }
   ],
   "source": [
    "install.packages('Rlab')"
   ]
  },
  {
   "cell_type": "code",
   "execution_count": 52,
   "id": "drawn-highland",
   "metadata": {},
   "outputs": [
    {
     "name": "stderr",
     "output_type": "stream",
     "text": [
      "Rlab 2.15.1 attached.\n",
      "\n",
      "\n",
      "Attaching package: 'Rlab'\n",
      "\n",
      "The following objects are masked from 'package:stats':\n",
      "\n",
      "    dexp, dgamma, dweibull, pexp, pgamma, pweibull, qexp, qgamma,\n",
      "    qweibull, rexp, rgamma, rweibull\n",
      "\n",
      "The following object is masked from 'package:datasets':\n",
      "\n",
      "    precip\n",
      "\n"
     ]
    }
   ],
   "source": [
    "library(\"Rlab\")"
   ]
  },
  {
   "cell_type": "code",
   "execution_count": 53,
   "id": "operating-employee",
   "metadata": {},
   "outputs": [],
   "source": [
    "berinar <- function(n, alpha, p){\n",
    "    len <- n + 1\n",
    "    x <- rep(1, times = len)\n",
    "    xi <- rbern(len, p)\n",
    "    for (i in 2 : len){\n",
    "        x[i] <- sum(rbinom(n=x[i - 1], 1, prob=alpha)) + xi[i]\n",
    "    }\n",
    "    return(stats::ts(x[2:len]))\n",
    "}"
   ]
  },
  {
   "cell_type": "code",
   "execution_count": 61,
   "id": "native-sharp",
   "metadata": {},
   "outputs": [
    {
     "data": {
      "image/png": "[encoded data removed]",
      "text/plain": [
       "plot without title"
      ]
     },
     "metadata": {},
     "output_type": "display_data"
    }
   ],
   "source": [
    "alpha = 0.3\n",
    "p = 0.7\n",
    "ts4 <- berinar(n = 1000, alpha = alpha, p = p)\n",
    "plot(ts4)"
   ]
  },
  {
   "cell_type": "code",
   "execution_count": 62,
   "id": "bibliographic-helping",
   "metadata": {},
   "outputs": [
    {
     "data": {
      "text/html": [
       "0.98"
      ],
      "text/latex": [
       "0.98"
      ],
      "text/markdown": [
       "0.98"
      ],
      "text/plain": [
       "[1] 0.98"
      ]
     },
     "metadata": {},
     "output_type": "display_data"
    }
   ],
   "source": [
    "mean(ts4)"
   ]
  },
  {
   "cell_type": "code",
   "execution_count": 63,
   "id": "fixed-fisher",
   "metadata": {},
   "outputs": [
    {
     "data": {
      "text/html": [
       "1"
      ],
      "text/latex": [
       "1"
      ],
      "text/markdown": [
       "1"
      ],
      "text/plain": [
       "[1] 1"
      ]
     },
     "metadata": {},
     "output_type": "display_data"
    }
   ],
   "source": [
    "t <- p / (1 - p)\n",
    "E <- t / (1 - alpha) / (1 + t)\n",
    "E"
   ]
  },
  {
   "cell_type": "code",
   "execution_count": 64,
   "id": "noticed-college",
   "metadata": {},
   "outputs": [
    {
     "data": {
      "text/html": [
       "0.47007007007007"
      ],
      "text/latex": [
       "0.47007007007007"
      ],
      "text/markdown": [
       "0.47007007007007"
      ],
      "text/plain": [
       "[1] 0.4700701"
      ]
     },
     "metadata": {},
     "output_type": "display_data"
    }
   ],
   "source": [
    "var(ts4)"
   ]
  },
  {
   "cell_type": "code",
   "execution_count": 65,
   "id": "reasonable-basic",
   "metadata": {},
   "outputs": [
    {
     "data": {
      "text/html": [
       "0.461538461538462"
      ],
      "text/latex": [
       "0.461538461538462"
      ],
      "text/markdown": [
       "0.461538461538462"
      ],
      "text/plain": [
       "[1] 0.4615385"
      ]
     },
     "metadata": {},
     "output_type": "display_data"
    }
   ],
   "source": [
    "V <- E - t^2 / (1 - alpha^2) / (1 + t)^2\n",
    "V"
   ]
  },
  {
   "cell_type": "code",
   "execution_count": 66,
   "id": "amended-making",
   "metadata": {},
   "outputs": [
    {
     "data": {
      "image/png": "[encoded data removed]",
      "text/plain": [
       "plot without title"
      ]
     },
     "metadata": {},
     "output_type": "display_data"
    }
   ],
   "source": [
    "rho4 <- rho(ts4)\n",
    "plot(rho4)"
   ]
  },
  {
   "cell_type": "markdown",
   "id": "centered-knife",
   "metadata": {},
   "source": [
    "$\\hat{\\alpha}:$"
   ]
  },
  {
   "cell_type": "code",
   "execution_count": 67,
   "id": "collected-ceiling",
   "metadata": {},
   "outputs": [
    {
     "data": {
      "text/html": [
       "0.307920783645654"
      ],
      "text/latex": [
       "0.307920783645654"
      ],
      "text/markdown": [
       "0.307920783645654"
      ],
      "text/plain": [
       "[1] 0.3079208"
      ]
     },
     "metadata": {},
     "output_type": "display_data"
    }
   ],
   "source": [
    "rho4[2]"
   ]
  },
  {
   "cell_type": "markdown",
   "id": "inclusive-constitution",
   "metadata": {},
   "source": [
    "$\\huge{\\hat{\\theta} = \\frac{\\overline{X} (1 - \\hat{\\alpha})}{1 - \\overline{X}(1 - \\hat{\\alpha})} = \\frac{\\hat{p}}{1 - \\hat{p}}}$:"
   ]
  },
  {
   "cell_type": "code",
   "execution_count": 70,
   "id": "crude-fountain",
   "metadata": {},
   "outputs": [
    {
     "data": {
      "text/html": [
       "2.10788364189537"
      ],
      "text/latex": [
       "2.10788364189537"
      ],
      "text/markdown": [
       "2.10788364189537"
      ],
      "text/plain": [
       "[1] 2.107884"
      ]
     },
     "metadata": {},
     "output_type": "display_data"
    }
   ],
   "source": [
    "t <- mean(ts4) * (1 - rho4[2]) / (1 - mean(ts4) * (1 - rho4[2]))\n",
    "t"
   ]
  },
  {
   "cell_type": "markdown",
   "id": "organic-yahoo",
   "metadata": {},
   "source": [
    "$\n",
    "\\huge{\\hat{p} = \\frac{\\hat{\\theta}}{1 + \\hat{\\theta}}}\n",
    "$"
   ]
  },
  {
   "cell_type": "code",
   "execution_count": 71,
   "id": "laden-transaction",
   "metadata": {},
   "outputs": [
    {
     "data": {
      "text/html": [
       "0.678237632027259"
      ],
      "text/latex": [
       "0.678237632027259"
      ],
      "text/markdown": [
       "0.678237632027259"
      ],
      "text/plain": [
       "[1] 0.6782376"
      ]
     },
     "metadata": {},
     "output_type": "display_data"
    }
   ],
   "source": [
    "t / (1 + t)"
   ]
  },
  {
   "cell_type": "markdown",
   "id": "retained-swift",
   "metadata": {},
   "source": [
    "# 5. Биномиальное распределение"
   ]
  },
  {
   "cell_type": "markdown",
   "id": "blond-sewing",
   "metadata": {},
   "source": [
    "$\n",
    "\\huge{a(x) = C^k_n, \\ C(\\theta) = (1 + \\theta)^n, \\\\ \\mathbb{P}(\\xi = x) = \\frac{a(x)\\theta^x}{C(\\theta)} \\Rightarrow \\theta = \\frac{p}{1 - p}}\n",
    "$\n",
    "\n",
    "$\n",
    "\\huge{G(\\theta) = log(C(\\theta)), \\\\\n",
    "\\mathbb{E}[X_t] = \\mu_x = \\frac{\\theta G'(\\theta)}{1 - \\alpha} = \\frac{n\\theta}{(1-\\alpha)(1+\\theta)}}\n",
    "$\n",
    "\n",
    "$\n",
    " \\huge{\\mathbb{D}[X_t] = \\mu_x + \\frac{\\theta^2 G''(\\theta)}{1 - \\alpha^2} = \\mathbb{E}[X_t]  - \\frac{n\\theta^2}{(1 - \\alpha^2)(1 + \\theta)^2}}\n",
    "$"
   ]
  },
  {
   "cell_type": "code",
   "execution_count": 102,
   "id": "cultural-immune",
   "metadata": {},
   "outputs": [],
   "source": [
    "bininar <- function(n, alpha, p){\n",
    "    len <- n + 1\n",
    "    x <- rep(1, times = len)\n",
    "    xi <- rbinom(len, 10, p)\n",
    "    for (i in 2 : len){\n",
    "        x[i] <- sum(rbinom(n=x[i - 1], 1, prob=alpha)) + xi[i]\n",
    "    }\n",
    "    return(stats::ts(x[2:len]))\n",
    "}"
   ]
  },
  {
   "cell_type": "code",
   "execution_count": 103,
   "id": "guided-secretary",
   "metadata": {},
   "outputs": [
    {
     "data": {
      "image/png": "[encoded data removed]",
      "text/plain": [
       "plot without title"
      ]
     },
     "metadata": {},
     "output_type": "display_data"
    }
   ],
   "source": [
    "alpha <- 0.7\n",
    "p <- 0.6\n",
    "ts5 <- bininar(n=1000, alpha = alpha, p = p)\n",
    "plot(ts5)"
   ]
  },
  {
   "cell_type": "code",
   "execution_count": 104,
   "id": "wrong-hanging",
   "metadata": {},
   "outputs": [
    {
     "data": {
      "text/html": [
       "20.184"
      ],
      "text/latex": [
       "20.184"
      ],
      "text/markdown": [
       "20.184"
      ],
      "text/plain": [
       "[1] 20.184"
      ]
     },
     "metadata": {},
     "output_type": "display_data"
    }
   ],
   "source": [
    "mean(ts5)"
   ]
  },
  {
   "cell_type": "code",
   "execution_count": 105,
   "id": "dangerous-agency",
   "metadata": {},
   "outputs": [
    {
     "data": {
      "text/html": [
       "20"
      ],
      "text/latex": [
       "20"
      ],
      "text/markdown": [
       "20"
      ],
      "text/plain": [
       "[1] 20"
      ]
     },
     "metadata": {},
     "output_type": "display_data"
    }
   ],
   "source": [
    "t <- p / (1 - p)\n",
    "E <- t / (1 - alpha) / (1 + t) * 10\n",
    "E"
   ]
  },
  {
   "cell_type": "code",
   "execution_count": 106,
   "id": "better-identity",
   "metadata": {},
   "outputs": [
    {
     "data": {
      "text/html": [
       "13.3174614614615"
      ],
      "text/latex": [
       "13.3174614614615"
      ],
      "text/markdown": [
       "13.3174614614615"
      ],
      "text/plain": [
       "[1] 13.31746"
      ]
     },
     "metadata": {},
     "output_type": "display_data"
    }
   ],
   "source": [
    "var(ts5)"
   ]
  },
  {
   "cell_type": "code",
   "execution_count": 107,
   "id": "focused-summer",
   "metadata": {},
   "outputs": [
    {
     "data": {
      "text/html": [
       "12.9411764705882"
      ],
      "text/latex": [
       "12.9411764705882"
      ],
      "text/markdown": [
       "12.9411764705882"
      ],
      "text/plain": [
       "[1] 12.94118"
      ]
     },
     "metadata": {},
     "output_type": "display_data"
    }
   ],
   "source": [
    "V <- E - 10 * t^2 / (1 - alpha^2) / (1 + t)^2\n",
    "V"
   ]
  },
  {
   "cell_type": "code",
   "execution_count": 108,
   "id": "forward-hungary",
   "metadata": {},
   "outputs": [
    {
     "data": {
      "image/png": "[encoded data removed]",
      "text/plain": [
       "plot without title"
      ]
     },
     "metadata": {},
     "output_type": "display_data"
    }
   ],
   "source": [
    "rho5 <- rho(ts5)\n",
    "plot(rho5)"
   ]
  },
  {
   "cell_type": "markdown",
   "id": "marked-indicator",
   "metadata": {},
   "source": [
    "$\n",
    "\\hat{\\alpha}:\n",
    "$"
   ]
  },
  {
   "cell_type": "code",
   "execution_count": 109,
   "id": "secure-providence",
   "metadata": {},
   "outputs": [
    {
     "data": {
      "text/html": [
       "0.690493890024042"
      ],
      "text/latex": [
       "0.690493890024042"
      ],
      "text/markdown": [
       "0.690493890024042"
      ],
      "text/plain": [
       "[1] 0.6904939"
      ]
     },
     "metadata": {},
     "output_type": "display_data"
    }
   ],
   "source": [
    "rho5[2]"
   ]
  },
  {
   "cell_type": "markdown",
   "id": "appropriate-webcam",
   "metadata": {},
   "source": [
    "$\n",
    "\\huge{\\hat{\\theta} = \\frac{\\overline{X} (1 - \\hat{\\alpha})}{n - \\overline{X}(1 - \\hat{\\alpha})} = \\frac{\\hat{p}}{1 - \\hat{p}}}\n",
    "$"
   ]
  },
  {
   "cell_type": "code",
   "execution_count": 110,
   "id": "occasional-ceiling",
   "metadata": {},
   "outputs": [
    {
     "data": {
      "text/html": [
       "1.6645856776593"
      ],
      "text/latex": [
       "1.6645856776593"
      ],
      "text/markdown": [
       "1.6645856776593"
      ],
      "text/plain": [
       "[1] 1.664586"
      ]
     },
     "metadata": {},
     "output_type": "display_data"
    }
   ],
   "source": [
    "t <- mean(ts5) * (1 - rho5[2]) / (10 - mean(ts5) * (1 - rho5[2]))\n",
    "t"
   ]
  },
  {
   "cell_type": "markdown",
   "id": "nasty-official",
   "metadata": {},
   "source": [
    "$\n",
    "\\huge{\\hat{p} = \\frac{\\hat{\\theta}}{1 + \\hat{\\theta}}}\n",
    "$"
   ]
  },
  {
   "cell_type": "code",
   "execution_count": 111,
   "id": "surrounded-rally",
   "metadata": {},
   "outputs": [
    {
     "data": {
      "text/html": [
       "0.624707132375474"
      ],
      "text/latex": [
       "0.624707132375474"
      ],
      "text/markdown": [
       "0.624707132375474"
      ],
      "text/plain": [
       "[1] 0.6247071"
      ]
     },
     "metadata": {},
     "output_type": "display_data"
    }
   ],
   "source": [
    "t / (t + 1)"
   ]
  },
  {
   "cell_type": "markdown",
   "id": "german-lexington",
   "metadata": {},
   "source": [
    "# 6. Отрицательное биномиальное распределение\n",
    "\n",
    "$\n",
    "\\huge{a(x) = \\frac{\\Gamma(r + x)}{x!\\Gamma(r)}, \\ C(\\theta) = (1 - \\theta)^{-r}, \\\\ \\mathbb{P}(\\xi = x) = \\frac{a(x)\\theta^x}{C(\\theta)} \\Rightarrow \\theta = 1 - p}\n",
    "$\n",
    "\n",
    "$\n",
    "\\huge{G(\\theta) = log(C(\\theta)), \\\\\n",
    "\\mathbb{E}[X_t] = \\mu_x = \\frac{\\theta G'(\\theta)}{1 - \\alpha} = \\frac{r\\theta}{(1-\\alpha)(1-\\theta)}}\n",
    "$\n",
    "\n",
    "$\n",
    " \\huge{\\mathbb{D}[X_t] = \\mu_x + \\frac{\\theta^2 G''(\\theta)}{1 - \\alpha^2} = \\mathbb{E}[X_t]  + \\frac{r\\theta^2}{(1 - \\alpha^2)(1 - \\theta)^2}}\n",
    "$"
   ]
  },
  {
   "cell_type": "code",
   "execution_count": 112,
   "id": "alive-marker",
   "metadata": {},
   "outputs": [],
   "source": [
    "nbininar <- function(n, alpha, p){\n",
    "    len <- n + 1\n",
    "    x <- rep(1, times = len)\n",
    "    xi <- rnbinom(len, 10, p)\n",
    "    for (i in 2 : len){\n",
    "        x[i] <- sum(rbinom(n=x[i - 1], 1, prob=alpha)) + xi[i]\n",
    "    }\n",
    "    return(stats::ts(x[2:len]))\n",
    "}"
   ]
  },
  {
   "cell_type": "code",
   "execution_count": 113,
   "id": "primary-bradford",
   "metadata": {},
   "outputs": [
    {
     "data": {
      "image/png": "[encoded data removed]",
      "text/plain": [
       "plot without title"
      ]
     },
     "metadata": {},
     "output_type": "display_data"
    }
   ],
   "source": [
    "alpha <- 0.7\n",
    "p <- 0.6\n",
    "ts6 <- nbininar(n=1000, alpha=alpha, p = p)\n",
    "plot(ts6)"
   ]
  },
  {
   "cell_type": "code",
   "execution_count": 114,
   "id": "comparable-basics",
   "metadata": {},
   "outputs": [
    {
     "data": {
      "text/html": [
       "23.046"
      ],
      "text/latex": [
       "23.046"
      ],
      "text/markdown": [
       "23.046"
      ],
      "text/plain": [
       "[1] 23.046"
      ]
     },
     "metadata": {},
     "output_type": "display_data"
    }
   ],
   "source": [
    "mean(ts6)"
   ]
  },
  {
   "cell_type": "code",
   "execution_count": 115,
   "id": "prescription-nickel",
   "metadata": {},
   "outputs": [
    {
     "data": {
      "text/html": [
       "22.2222222222222"
      ],
      "text/latex": [
       "22.2222222222222"
      ],
      "text/markdown": [
       "22.2222222222222"
      ],
      "text/plain": [
       "[1] 22.22222"
      ]
     },
     "metadata": {},
     "output_type": "display_data"
    }
   ],
   "source": [
    "t <- 1 - p\n",
    "# E <- -10 * t / (1 - alpha) / (1 + t)\n",
    "E <- t / (1 - alpha) / (1 - t) * 10\n",
    "E"
   ]
  },
  {
   "cell_type": "code",
   "execution_count": 116,
   "id": "earlier-riding",
   "metadata": {},
   "outputs": [
    {
     "data": {
      "text/html": [
       "30.3622462462462"
      ],
      "text/latex": [
       "30.3622462462462"
      ],
      "text/markdown": [
       "30.3622462462462"
      ],
      "text/plain": [
       "[1] 30.36225"
      ]
     },
     "metadata": {},
     "output_type": "display_data"
    }
   ],
   "source": [
    "var(ts6)"
   ]
  },
  {
   "cell_type": "code",
   "execution_count": 117,
   "id": "sealed-conjunction",
   "metadata": {},
   "outputs": [
    {
     "data": {
      "text/html": [
       "30.9368191721133"
      ],
      "text/latex": [
       "30.9368191721133"
      ],
      "text/markdown": [
       "30.9368191721133"
      ],
      "text/plain": [
       "[1] 30.93682"
      ]
     },
     "metadata": {},
     "output_type": "display_data"
    }
   ],
   "source": [
    "V <- E + 10 * t^2 / (1 - alpha^2) / (1 - t)^2\n",
    "V"
   ]
  },
  {
   "cell_type": "code",
   "execution_count": 118,
   "id": "following-strain",
   "metadata": {},
   "outputs": [
    {
     "data": {
      "image/png": "[encoded data removed]",
      "text/plain": [
       "plot without title"
      ]
     },
     "metadata": {},
     "output_type": "display_data"
    }
   ],
   "source": [
    "rho6 <- rho(ts6)\n",
    "plot(rho6)"
   ]
  },
  {
   "cell_type": "markdown",
   "id": "editorial-patch",
   "metadata": {},
   "source": [
    "$\n",
    "\\huge{\\hat{\\alpha}}:\n",
    "$"
   ]
  },
  {
   "cell_type": "code",
   "execution_count": 119,
   "id": "theoretical-shape",
   "metadata": {},
   "outputs": [
    {
     "data": {
      "text/html": [
       "0.67395213182274"
      ],
      "text/latex": [
       "0.67395213182274"
      ],
      "text/markdown": [
       "0.67395213182274"
      ],
      "text/plain": [
       "[1] 0.6739521"
      ]
     },
     "metadata": {},
     "output_type": "display_data"
    }
   ],
   "source": [
    "rho6[2]"
   ]
  },
  {
   "cell_type": "markdown",
   "id": "moved-links",
   "metadata": {},
   "source": [
    "$\n",
    "\\huge{\\hat{\\theta} = \\frac{\\overline{X}(1 - \\hat{\\alpha})}{r + \\overline{X}(1 - \\hat{\\alpha})} = 1 - \\hat{p}:}\n",
    "$"
   ]
  },
  {
   "cell_type": "code",
   "execution_count": 120,
   "id": "harmful-import",
   "metadata": {},
   "outputs": [
    {
     "data": {
      "text/html": [
       "0.429031439017911"
      ],
      "text/latex": [
       "0.429031439017911"
      ],
      "text/markdown": [
       "0.429031439017911"
      ],
      "text/plain": [
       "[1] 0.4290314"
      ]
     },
     "metadata": {},
     "output_type": "display_data"
    }
   ],
   "source": [
    "mean(ts6) * (1 - rho6[2]) / (10 + mean(ts6) * (1 - rho6[2]))"
   ]
  }
 ],
 "metadata": {
  "kernelspec": {
   "display_name": "R",
   "language": "R",
   "name": "ir"
  },
  "language_info": {
   "codemirror_mode": "r",
   "file_extension": ".r",
   "mimetype": "text/x-r-source",
   "name": "R",
   "pygments_lexer": "r",
   "version": "3.6.1"
  }
 },
 "nbformat": 4,
 "nbformat_minor": 5
}
