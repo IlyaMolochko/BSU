{
 "cells": [
  {
   "cell_type": "code",
   "execution_count": 2,
   "id": "popular-question",
   "metadata": {},
   "outputs": [
    {
     "name": "stderr",
     "output_type": "stream",
     "text": [
      "Warning message:\n",
      "\"package 'fpp2' was built under R version 3.6.3\"Registered S3 method overwritten by 'xts':\n",
      "  method     from\n",
      "  as.zoo.xts zoo \n",
      "Registered S3 method overwritten by 'quantmod':\n",
      "  method            from\n",
      "  as.zoo.data.frame zoo \n",
      "-- Attaching packages ---------------------------------------------- fpp2 2.4 --\n",
      "v ggplot2   3.3.3     v fma       2.4  \n",
      "v forecast  8.13      v expsmooth 2.3  \n",
      "Warning message:\n",
      "\"package 'ggplot2' was built under R version 3.6.3\"Warning message:\n",
      "\"package 'forecast' was built under R version 3.6.3\"Warning message:\n",
      "\"package 'fma' was built under R version 3.6.3\"Warning message:\n",
      "\"package 'expsmooth' was built under R version 3.6.3\"\n"
     ]
    }
   ],
   "source": [
    "library(fpp2)"
   ]
  },
  {
   "cell_type": "markdown",
   "id": "phantom-institution",
   "metadata": {},
   "source": [
    "# 1. Consider the `pigs` series— the number of pigs slaughtered in Victoria each month.\n",
    "\n",
    "> a. Use the `ses` function in R to find the optimal values of $\\alpha$ and $\\ell_0$, and generate forecasts for the next four months."
   ]
  },
  {
   "cell_type": "code",
   "execution_count": 3,
   "id": "romantic-rochester",
   "metadata": {},
   "outputs": [
    {
     "data": {
      "image/png": "[encoded data removed]",
      "text/plain": [
       "plot without title"
      ]
     },
     "metadata": {},
     "output_type": "display_data"
    }
   ],
   "source": [
    "autoplot(pigs)"
   ]
  },
  {
   "cell_type": "code",
   "execution_count": 4,
   "id": "everyday-shipping",
   "metadata": {},
   "outputs": [],
   "source": [
    "fc <- ses(pigs, h=4)"
   ]
  },
  {
   "cell_type": "code",
   "execution_count": 5,
   "id": "equivalent-uniform",
   "metadata": {},
   "outputs": [
    {
     "data": {
      "image/png": "[encoded data removed]",
      "text/plain": [
       "plot without title"
      ]
     },
     "metadata": {},
     "output_type": "display_data"
    }
   ],
   "source": [
    "autoplot(pigs) + autolayer(fc)"
   ]
  },
  {
   "cell_type": "code",
   "execution_count": 6,
   "id": "mobile-invasion",
   "metadata": {},
   "outputs": [
    {
     "data": {
      "text/plain": [
       "         Point Forecast    Lo 80    Hi 80    Lo 95    Hi 95\n",
       "Sep 1995       98816.41 85605.43 112027.4 78611.97 119020.8\n",
       "Oct 1995       98816.41 85034.52 112598.3 77738.83 119894.0\n",
       "Nov 1995       98816.41 84486.34 113146.5 76900.46 120732.4\n",
       "Dec 1995       98816.41 83958.37 113674.4 76092.99 121539.8"
      ]
     },
     "metadata": {},
     "output_type": "display_data"
    }
   ],
   "source": [
    "fc"
   ]
  },
  {
   "cell_type": "code",
   "execution_count": 7,
   "id": "insured-appreciation",
   "metadata": {},
   "outputs": [
    {
     "name": "stdout",
     "output_type": "stream",
     "text": [
      "\n",
      "Forecast method: Simple exponential smoothing\n",
      "\n",
      "Model Information:\n",
      "Simple exponential smoothing \n",
      "\n",
      "Call:\n",
      " ses(y = pigs, h = 4) \n",
      "\n",
      "  Smoothing parameters:\n",
      "    alpha = 0.2971 \n",
      "\n",
      "  Initial states:\n",
      "    l = 77260.0561 \n",
      "\n",
      "  sigma:  10308.58\n",
      "\n",
      "     AIC     AICc      BIC \n",
      "4462.955 4463.086 4472.665 \n",
      "\n",
      "Error measures:\n",
      "                   ME    RMSE      MAE       MPE     MAPE      MASE       ACF1\n",
      "Training set 385.8721 10253.6 7961.383 -0.922652 9.274016 0.7966249 0.01282239\n",
      "\n",
      "Forecasts:\n",
      "         Point Forecast    Lo 80    Hi 80    Lo 95    Hi 95\n",
      "Sep 1995       98816.41 85605.43 112027.4 78611.97 119020.8\n",
      "Oct 1995       98816.41 85034.52 112598.3 77738.83 119894.0\n",
      "Nov 1995       98816.41 84486.34 113146.5 76900.46 120732.4\n",
      "Dec 1995       98816.41 83958.37 113674.4 76092.99 121539.8\n"
     ]
    }
   ],
   "source": [
    "summary(fc)"
   ]
  },
  {
   "cell_type": "markdown",
   "id": "removable-retirement",
   "metadata": {},
   "source": [
    "$\\alpha = 0.2971 \\\\$ \n",
    "$\\ell_0 = 77260.0561$"
   ]
  },
  {
   "cell_type": "markdown",
   "id": "adult-bangladesh",
   "metadata": {},
   "source": [
    ">  b. Compute a 95\\% prediction interval for the first forecast using $\\hat{y} \\pm 1.96s$ where $s$ is the standard deviation of the residuals. Compare your interval with the interval produced by R."
   ]
  },
  {
   "cell_type": "code",
   "execution_count": 8,
   "id": "alpha-understanding",
   "metadata": {},
   "outputs": [
    {
     "data": {
      "text/html": [
       "<dl class=dl-horizontal>\n",
       "\t<dt>lb</dt>\n",
       "\t\t<dd>78679.9672534162</dd>\n",
       "\t<dt>ub</dt>\n",
       "\t\t<dd>118952.844969765</dd>\n",
       "</dl>\n"
      ],
      "text/latex": [
       "\\begin{description*}\n",
       "\\item[lb] 78679.9672534162\n",
       "\\item[ub] 118952.844969765\n",
       "\\end{description*}\n"
      ],
      "text/markdown": [
       "lb\n",
       ":   78679.9672534162ub\n",
       ":   118952.844969765\n",
       "\n"
      ],
      "text/plain": [
       "       lb        ub \n",
       " 78679.97 118952.84 "
      ]
     },
     "metadata": {},
     "output_type": "display_data"
    }
   ],
   "source": [
    "s <- sqrt(var(fc$residuals))\n",
    "m <- fc$mean[1]\n",
    "c(lb = m - 1.96 * s, ub = m + 1.96 * s)"
   ]
  },
  {
   "cell_type": "code",
   "execution_count": 9,
   "id": "marine-floating",
   "metadata": {},
   "outputs": [
    {
     "data": {
      "text/html": [
       "<dl class=dl-horizontal>\n",
       "\t<dt>lb</dt>\n",
       "\t\t<dd>78611.5971896414</dd>\n",
       "\t<dt>ub</dt>\n",
       "\t\t<dd>119021.21503354</dd>\n",
       "</dl>\n"
      ],
      "text/latex": [
       "\\begin{description*}\n",
       "\\item[lb] 78611.5971896414\n",
       "\\item[ub] 119021.21503354\n",
       "\\end{description*}\n"
      ],
      "text/markdown": [
       "lb\n",
       ":   78611.5971896414ub\n",
       ":   119021.21503354\n",
       "\n"
      ],
      "text/plain": [
       "      lb       ub \n",
       " 78611.6 119021.2 "
      ]
     },
     "metadata": {},
     "output_type": "display_data"
    }
   ],
   "source": [
    "s1 <- sqrt(sum(fc$residuals ^ 2) / (length(pigs) - 2))\n",
    "c(lb = m - 1.96 * s1, ub = m + 1.96 * s1)"
   ]
  },
  {
   "cell_type": "markdown",
   "id": "opened-desert",
   "metadata": {},
   "source": [
    "# 2. Write your own function to implement simple exponential smoothing. The function should take arguments `y` (the time series), `alpha` (the smoothing parameter $\\alpha$) and `level` (the initial level $\\ell_0$). It should return the forecast of the next observation in the series. Does it give the same forecast as `ses`?"
   ]
  },
  {
   "cell_type": "code",
   "execution_count": 10,
   "id": "chronic-swedish",
   "metadata": {},
   "outputs": [],
   "source": [
    "fses <- function(y, alpha, level){\n",
    "    n <- length(y)\n",
    "    yt <- numeric(n + 1)\n",
    "    yt[1] <- level\n",
    "    for (i in 2:(n + 1)){\n",
    "        yt[i] <- alpha * y[i - 1] + (1 - alpha) * yt[i - 1]\n",
    "    }\n",
    "    return(yt[n + 1])\n",
    "}"
   ]
  },
  {
   "cell_type": "code",
   "execution_count": 11,
   "id": "egyptian-factor",
   "metadata": {},
   "outputs": [
    {
     "data": {
      "text/html": [
       "<dl class=dl-horizontal>\n",
       "\t<dt>alpha</dt>\n",
       "\t\t<dd>0.297148833372095</dd>\n",
       "\t<dt>l</dt>\n",
       "\t\t<dd>77260.0561458528</dd>\n",
       "</dl>\n"
      ],
      "text/latex": [
       "\\begin{description*}\n",
       "\\item[alpha] 0.297148833372095\n",
       "\\item[l] 77260.0561458528\n",
       "\\end{description*}\n"
      ],
      "text/markdown": [
       "alpha\n",
       ":   0.297148833372095l\n",
       ":   77260.0561458528\n",
       "\n"
      ],
      "text/plain": [
       "       alpha            l \n",
       "2.971488e-01 7.726006e+04 "
      ]
     },
     "metadata": {},
     "output_type": "display_data"
    }
   ],
   "source": [
    "fc$model$par"
   ]
  },
  {
   "cell_type": "code",
   "execution_count": 12,
   "id": "moral-munich",
   "metadata": {},
   "outputs": [
    {
     "data": {
      "text/html": [
       "98816.4061115907"
      ],
      "text/latex": [
       "98816.4061115907"
      ],
      "text/markdown": [
       "98816.4061115907"
      ],
      "text/plain": [
       "[1] 98816.41"
      ]
     },
     "metadata": {},
     "output_type": "display_data"
    }
   ],
   "source": [
    "fc$mean[1]"
   ]
  },
  {
   "cell_type": "code",
   "execution_count": 13,
   "id": "awful-farming",
   "metadata": {},
   "outputs": [
    {
     "data": {
      "text/html": [
       "98816.4061115907"
      ],
      "text/latex": [
       "98816.4061115907"
      ],
      "text/markdown": [
       "98816.4061115907"
      ],
      "text/plain": [
       "[1] 98816.41"
      ]
     },
     "metadata": {},
     "output_type": "display_data"
    }
   ],
   "source": [
    "fses(pigs, 0.297148833372095, 77260.0561458528)"
   ]
  },
  {
   "cell_type": "markdown",
   "id": "humanitarian-whale",
   "metadata": {},
   "source": [
    "# 3. Modify your function from the previous exercise to return the sum of squared errors rather than the forecast of the next observation. Then use the `optim` function to find the optimal values of $\\alpha$ and $\\ell_0$. Do you get the same values as the `ses` function?"
   ]
  },
  {
   "cell_type": "code",
   "execution_count": 14,
   "id": "objective-chase",
   "metadata": {},
   "outputs": [],
   "source": [
    "fses_se <- function(par, y){\n",
    "    alpha <- par[1]\n",
    "    level <- par[2]\n",
    "    n <- length(y)\n",
    "    yt <- numeric(n)\n",
    "    yt[1] <- level\n",
    "    for (i in 2:n){\n",
    "        yt[i] <- alpha * y[i - 1] + (1 - alpha) * yt[i - 1]\n",
    "    }\n",
    "    return(sum((y - yt) ^2))\n",
    "}"
   ]
  },
  {
   "cell_type": "code",
   "execution_count": 15,
   "id": "meaningful-replica",
   "metadata": {},
   "outputs": [
    {
     "data": {
      "text/html": [
       "<dl class=dl-horizontal>\n",
       "\t<dt>alpha</dt>\n",
       "\t\t<dd>0.297148833372095</dd>\n",
       "\t<dt>l</dt>\n",
       "\t\t<dd>77260.0561458528</dd>\n",
       "</dl>\n"
      ],
      "text/latex": [
       "\\begin{description*}\n",
       "\\item[alpha] 0.297148833372095\n",
       "\\item[l] 77260.0561458528\n",
       "\\end{description*}\n"
      ],
      "text/markdown": [
       "alpha\n",
       ":   0.297148833372095l\n",
       ":   77260.0561458528\n",
       "\n"
      ],
      "text/plain": [
       "       alpha            l \n",
       "2.971488e-01 7.726006e+04 "
      ]
     },
     "metadata": {},
     "output_type": "display_data"
    }
   ],
   "source": [
    "fc$model$par"
   ]
  },
  {
   "cell_type": "code",
   "execution_count": 16,
   "id": "changed-spoke",
   "metadata": {},
   "outputs": [
    {
     "data": {
      "text/html": [
       "<ol class=list-inline>\n",
       "\t<li>0.297118970754748</li>\n",
       "\t<li>77265.8747808378</li>\n",
       "</ol>\n"
      ],
      "text/latex": [
       "\\begin{enumerate*}\n",
       "\\item 0.297118970754748\n",
       "\\item 77265.8747808378\n",
       "\\end{enumerate*}\n"
      ],
      "text/markdown": [
       "1. 0.297118970754748\n",
       "2. 77265.8747808378\n",
       "\n",
       "\n"
      ],
      "text/plain": [
       "[1]     0.297119 77265.874781"
      ]
     },
     "metadata": {},
     "output_type": "display_data"
    }
   ],
   "source": [
    "optim(c(0.1, pigs[1]), fses_se, y=pigs)$par"
   ]
  },
  {
   "cell_type": "code",
   "execution_count": 17,
   "id": "japanese-iceland",
   "metadata": {},
   "outputs": [
    {
     "data": {
      "text/html": [
       "98816.4356357345"
      ],
      "text/latex": [
       "98816.4356357345"
      ],
      "text/markdown": [
       "98816.4356357345"
      ],
      "text/plain": [
       "[1] 98816.44"
      ]
     },
     "metadata": {},
     "output_type": "display_data"
    }
   ],
   "source": [
    "fses(pigs, 0.297118970754748, 77265.8747808378)"
   ]
  },
  {
   "cell_type": "markdown",
   "id": "unique-harbor",
   "metadata": {},
   "source": [
    "# 4. Combine your previous two functions to produce a function which both finds the optimal values of $\\alpha$ and $\\ell_0$, and produces a forecast of the next observation in the series."
   ]
  },
  {
   "cell_type": "code",
   "execution_count": 18,
   "id": "understood-retrieval",
   "metadata": {},
   "outputs": [],
   "source": [
    "fses1 <- function(y, h=4){\n",
    "    par <- optim(c(0.1, y[1]), fses_se, y=y)$par\n",
    "    alpha <- par[1]\n",
    "    level <- par[2]\n",
    "    n <- length(y)\n",
    "    yt <- numeric(n + 1)\n",
    "    yt[1] <- level\n",
    "    for (i in 2:(n + 1)){\n",
    "        yt[i] <- alpha * y[i - 1] + (1 - alpha) * yt[i - 1]\n",
    "    }\n",
    "    return(rep(yt[n + 1], h))\n",
    "}"
   ]
  },
  {
   "cell_type": "code",
   "execution_count": 19,
   "id": "automatic-monroe",
   "metadata": {},
   "outputs": [
    {
     "data": {
      "text/html": [
       "<ol class=list-inline>\n",
       "\t<li>98816.4356357345</li>\n",
       "\t<li>98816.4356357345</li>\n",
       "\t<li>98816.4356357345</li>\n",
       "\t<li>98816.4356357345</li>\n",
       "</ol>\n"
      ],
      "text/latex": [
       "\\begin{enumerate*}\n",
       "\\item 98816.4356357345\n",
       "\\item 98816.4356357345\n",
       "\\item 98816.4356357345\n",
       "\\item 98816.4356357345\n",
       "\\end{enumerate*}\n"
      ],
      "text/markdown": [
       "1. 98816.4356357345\n",
       "2. 98816.4356357345\n",
       "3. 98816.4356357345\n",
       "4. 98816.4356357345\n",
       "\n",
       "\n"
      ],
      "text/plain": [
       "[1] 98816.44 98816.44 98816.44 98816.44"
      ]
     },
     "metadata": {},
     "output_type": "display_data"
    }
   ],
   "source": [
    "fses1(pigs, h=4)"
   ]
  },
  {
   "cell_type": "code",
   "execution_count": 20,
   "id": "adverse-pierce",
   "metadata": {},
   "outputs": [
    {
     "data": {
      "text/plain": [
       "         Point Forecast    Lo 80    Hi 80    Lo 95    Hi 95\n",
       "Sep 1995       98816.41 85605.43 112027.4 78611.97 119020.8\n",
       "Oct 1995       98816.41 85034.52 112598.3 77738.83 119894.0\n",
       "Nov 1995       98816.41 84486.34 113146.5 76900.46 120732.4\n",
       "Dec 1995       98816.41 83958.37 113674.4 76092.99 121539.8"
      ]
     },
     "metadata": {},
     "output_type": "display_data"
    }
   ],
   "source": [
    "ses(pigs, h=4)"
   ]
  },
  {
   "cell_type": "markdown",
   "id": "intensive-hospital",
   "metadata": {},
   "source": [
    "# 5. Data set `books` contains the daily sales of paperback and hardcover books at the same store. The task is to forecast the next four days’ sales for paperback and hardcover books."
   ]
  },
  {
   "cell_type": "markdown",
   "id": "raised-claim",
   "metadata": {},
   "source": [
    ">    a. Plot the series and discuss the main features of the data."
   ]
  },
  {
   "cell_type": "code",
   "execution_count": 21,
   "id": "parliamentary-destiny",
   "metadata": {},
   "outputs": [
    {
     "data": {
      "image/png": "[encoded data removed]",
      "text/plain": [
       "plot without title"
      ]
     },
     "metadata": {},
     "output_type": "display_data"
    }
   ],
   "source": [
    "autoplot(books)"
   ]
  },
  {
   "cell_type": "markdown",
   "id": "amazing-lender",
   "metadata": {},
   "source": [
    ">    b. Use the `ses()` function to forecast each series, and plot the forecasts."
   ]
  },
  {
   "cell_type": "code",
   "execution_count": 22,
   "id": "rocky-functionality",
   "metadata": {},
   "outputs": [],
   "source": [
    "fchd <- ses(books[,\"Hardcover\"], h=4)\n",
    "fcpb <- ses(books[,\"Paperback\"], h=4)"
   ]
  },
  {
   "cell_type": "code",
   "execution_count": 23,
   "id": "rural-basin",
   "metadata": {},
   "outputs": [
    {
     "data": {
      "image/png": "[encoded data removed]",
      "text/plain": [
       "plot without title"
      ]
     },
     "metadata": {},
     "output_type": "display_data"
    }
   ],
   "source": [
    "autoplot(books) + \n",
    "autolayer(fchd, series = \"Hardcover\", PI=FALSE) +\n",
    "autolayer(fcpb, series = \"Paperback\", PI=FALSE)"
   ]
  },
  {
   "cell_type": "markdown",
   "id": "economic-party",
   "metadata": {},
   "source": [
    "> c. Compute the RMSE values for the training data in each case."
   ]
  },
  {
   "cell_type": "code",
   "execution_count": 24,
   "id": "dental-component",
   "metadata": {},
   "outputs": [
    {
     "data": {
      "text/html": [
       "<table>\n",
       "<thead><tr><th></th><th scope=col>ME</th><th scope=col>RMSE</th><th scope=col>MAE</th><th scope=col>MPE</th><th scope=col>MAPE</th><th scope=col>MASE</th><th scope=col>ACF1</th></tr></thead>\n",
       "<tbody>\n",
       "\t<tr><th scope=row>Training set</th><td>9.17 </td><td>31.93</td><td>26.77</td><td>2.64 </td><td>13.39</td><td>0.8  </td><td>-0.14</td></tr>\n",
       "</tbody>\n",
       "</table>\n"
      ],
      "text/latex": [
       "\\begin{tabular}{r|lllllll}\n",
       "  & ME & RMSE & MAE & MPE & MAPE & MASE & ACF1\\\\\n",
       "\\hline\n",
       "\tTraining set & 9.17  & 31.93 & 26.77 & 2.64  & 13.39 & 0.8   & -0.14\\\\\n",
       "\\end{tabular}\n"
      ],
      "text/markdown": [
       "\n",
       "| <!--/--> | ME | RMSE | MAE | MPE | MAPE | MASE | ACF1 |\n",
       "|---|---|---|---|---|---|---|---|\n",
       "| Training set | 9.17  | 31.93 | 26.77 | 2.64  | 13.39 | 0.8   | -0.14 |\n",
       "\n"
      ],
      "text/plain": [
       "             ME   RMSE  MAE   MPE  MAPE  MASE ACF1 \n",
       "Training set 9.17 31.93 26.77 2.64 13.39 0.8  -0.14"
      ]
     },
     "metadata": {},
     "output_type": "display_data"
    },
    {
     "data": {
      "text/html": [
       "<table>\n",
       "<thead><tr><th></th><th scope=col>ME</th><th scope=col>RMSE</th><th scope=col>MAE</th><th scope=col>MPE</th><th scope=col>MAPE</th><th scope=col>MASE</th><th scope=col>ACF1</th></tr></thead>\n",
       "<tbody>\n",
       "\t<tr><th scope=row>Training set</th><td>7.18 </td><td>33.64</td><td>27.84</td><td>0.47 </td><td>15.58</td><td>0.7  </td><td>-0.21</td></tr>\n",
       "</tbody>\n",
       "</table>\n"
      ],
      "text/latex": [
       "\\begin{tabular}{r|lllllll}\n",
       "  & ME & RMSE & MAE & MPE & MAPE & MASE & ACF1\\\\\n",
       "\\hline\n",
       "\tTraining set & 7.18  & 33.64 & 27.84 & 0.47  & 15.58 & 0.7   & -0.21\\\\\n",
       "\\end{tabular}\n"
      ],
      "text/markdown": [
       "\n",
       "| <!--/--> | ME | RMSE | MAE | MPE | MAPE | MASE | ACF1 |\n",
       "|---|---|---|---|---|---|---|---|\n",
       "| Training set | 7.18  | 33.64 | 27.84 | 0.47  | 15.58 | 0.7   | -0.21 |\n",
       "\n"
      ],
      "text/plain": [
       "             ME   RMSE  MAE   MPE  MAPE  MASE ACF1 \n",
       "Training set 7.18 33.64 27.84 0.47 15.58 0.7  -0.21"
      ]
     },
     "metadata": {},
     "output_type": "display_data"
    }
   ],
   "source": [
    "round(accuracy(fchd),2)\n",
    "round(accuracy(fcpb),2)"
   ]
  },
  {
   "cell_type": "markdown",
   "id": "aging-management",
   "metadata": {},
   "source": [
    "# 6."
   ]
  },
  {
   "cell_type": "markdown",
   "id": "interior-healthcare",
   "metadata": {},
   "source": [
    "> a. Now apply Holt’s linear method to the `paperback` and `hardback` series and compute four-day forecasts in each case."
   ]
  },
  {
   "cell_type": "code",
   "execution_count": 25,
   "id": "smaller-retrieval",
   "metadata": {},
   "outputs": [],
   "source": [
    "hh <- holt(books[,\"Hardcover\"], h=4)\n",
    "hp <- holt(books[,\"Paperback\"], h=4)"
   ]
  },
  {
   "cell_type": "code",
   "execution_count": 26,
   "id": "amended-maine",
   "metadata": {},
   "outputs": [
    {
     "data": {
      "image/png": "[encoded data removed]",
      "text/plain": [
       "plot without title"
      ]
     },
     "metadata": {},
     "output_type": "display_data"
    }
   ],
   "source": [
    "autoplot(books) + \n",
    "autolayer(hh, series = \"Hardcover\", PI=FALSE) +\n",
    "autolayer(hp, series = \"Paperback\", PI=FALSE)"
   ]
  },
  {
   "cell_type": "markdown",
   "id": "suspended-smell",
   "metadata": {},
   "source": [
    ">    b. Compare the RMSE measures of Holt’s method for the two series to those of simple exponential smoothing in the previous question. (Remember that Holt’s method is using one more parameter than SES.) Discuss the merits of the two forecasting methods for these data sets."
   ]
  },
  {
   "cell_type": "code",
   "execution_count": 27,
   "id": "right-scope",
   "metadata": {},
   "outputs": [
    {
     "data": {
      "text/html": [
       "<table>\n",
       "<thead><tr><th></th><th scope=col>ME</th><th scope=col>RMSE</th><th scope=col>MAE</th><th scope=col>MPE</th><th scope=col>MAPE</th><th scope=col>MASE</th><th scope=col>ACF1</th></tr></thead>\n",
       "<tbody>\n",
       "\t<tr><th scope=row>Training set</th><td>-0.14</td><td>27.19</td><td>23.16</td><td>-2.11</td><td>12.16</td><td>0.69 </td><td>-0.03</td></tr>\n",
       "</tbody>\n",
       "</table>\n"
      ],
      "text/latex": [
       "\\begin{tabular}{r|lllllll}\n",
       "  & ME & RMSE & MAE & MPE & MAPE & MASE & ACF1\\\\\n",
       "\\hline\n",
       "\tTraining set & -0.14 & 27.19 & 23.16 & -2.11 & 12.16 & 0.69  & -0.03\\\\\n",
       "\\end{tabular}\n"
      ],
      "text/markdown": [
       "\n",
       "| <!--/--> | ME | RMSE | MAE | MPE | MAPE | MASE | ACF1 |\n",
       "|---|---|---|---|---|---|---|---|\n",
       "| Training set | -0.14 | 27.19 | 23.16 | -2.11 | 12.16 | 0.69  | -0.03 |\n",
       "\n"
      ],
      "text/plain": [
       "             ME    RMSE  MAE   MPE   MAPE  MASE ACF1 \n",
       "Training set -0.14 27.19 23.16 -2.11 12.16 0.69 -0.03"
      ]
     },
     "metadata": {},
     "output_type": "display_data"
    },
    {
     "data": {
      "text/html": [
       "<table>\n",
       "<thead><tr><th></th><th scope=col>ME</th><th scope=col>RMSE</th><th scope=col>MAE</th><th scope=col>MPE</th><th scope=col>MAPE</th><th scope=col>MASE</th><th scope=col>ACF1</th></tr></thead>\n",
       "<tbody>\n",
       "\t<tr><th scope=row>Training set</th><td>-3.72</td><td>31.14</td><td>26.18</td><td>-5.51</td><td>15.58</td><td>0.66 </td><td>-0.18</td></tr>\n",
       "</tbody>\n",
       "</table>\n"
      ],
      "text/latex": [
       "\\begin{tabular}{r|lllllll}\n",
       "  & ME & RMSE & MAE & MPE & MAPE & MASE & ACF1\\\\\n",
       "\\hline\n",
       "\tTraining set & -3.72 & 31.14 & 26.18 & -5.51 & 15.58 & 0.66  & -0.18\\\\\n",
       "\\end{tabular}\n"
      ],
      "text/markdown": [
       "\n",
       "| <!--/--> | ME | RMSE | MAE | MPE | MAPE | MASE | ACF1 |\n",
       "|---|---|---|---|---|---|---|---|\n",
       "| Training set | -3.72 | 31.14 | 26.18 | -5.51 | 15.58 | 0.66  | -0.18 |\n",
       "\n"
      ],
      "text/plain": [
       "             ME    RMSE  MAE   MPE   MAPE  MASE ACF1 \n",
       "Training set -3.72 31.14 26.18 -5.51 15.58 0.66 -0.18"
      ]
     },
     "metadata": {},
     "output_type": "display_data"
    }
   ],
   "source": [
    "round(accuracy(hh),2)\n",
    "round(accuracy(hp),2)"
   ]
  },
  {
   "cell_type": "markdown",
   "id": "internal-import",
   "metadata": {},
   "source": [
    ">    c. Compare the forecasts for the two series using both methods. Which do you think is best?\n",
    "\n",
    "Так как для обоих рядов имеет место тренд, поэтому RMSE для метода Холта меньше."
   ]
  },
  {
   "cell_type": "markdown",
   "id": "awful-minimum",
   "metadata": {},
   "source": [
    ">    d. Calculate a 95% prediction interval for the first forecast for each series, using the RMSE values and assuming normal errors. Compare your intervals with those produced using `ses` and `holt`."
   ]
  },
  {
   "cell_type": "code",
   "execution_count": 28,
   "id": "characteristic-luther",
   "metadata": {},
   "outputs": [
    {
     "data": {
      "text/html": [
       "<dl class=dl-horizontal>\n",
       "\t<dt>lb</dt>\n",
       "\t\t<dd>176.97530263223</dd>\n",
       "\t<dt>ub</dt>\n",
       "\t\t<dd>302.144881371293</dd>\n",
       "</dl>\n"
      ],
      "text/latex": [
       "\\begin{description*}\n",
       "\\item[lb] 176.97530263223\n",
       "\\item[ub] 302.144881371293\n",
       "\\end{description*}\n"
      ],
      "text/markdown": [
       "lb\n",
       ":   176.97530263223ub\n",
       ":   302.144881371293\n",
       "\n"
      ],
      "text/plain": [
       "      lb       ub \n",
       "176.9753 302.1449 "
      ]
     },
     "metadata": {},
     "output_type": "display_data"
    }
   ],
   "source": [
    "shd <- sqrt(fchd$model$mse)\n",
    "mhd <- fchd$mean[1]\n",
    "c(lb = mhd - 1.96 * shd, ub = mhd + 1.96 * shd)"
   ]
  },
  {
   "cell_type": "code",
   "execution_count": 29,
   "id": "cardiovascular-mounting",
   "metadata": {},
   "outputs": [
    {
     "data": {
      "text/html": [
       "<dl class=dl-horizontal>\n",
       "\t<dt>lb</dt>\n",
       "\t\t<dd>141.179798900711</dd>\n",
       "\t<dt>ub</dt>\n",
       "\t\t<dd>273.039531089726</dd>\n",
       "</dl>\n"
      ],
      "text/latex": [
       "\\begin{description*}\n",
       "\\item[lb] 141.179798900711\n",
       "\\item[ub] 273.039531089726\n",
       "\\end{description*}\n"
      ],
      "text/markdown": [
       "lb\n",
       ":   141.179798900711ub\n",
       ":   273.039531089726\n",
       "\n"
      ],
      "text/plain": [
       "      lb       ub \n",
       "141.1798 273.0395 "
      ]
     },
     "metadata": {},
     "output_type": "display_data"
    }
   ],
   "source": [
    "spb <- sqrt(fcpb$model$mse)\n",
    "mpb <- fcpb$mean[1]\n",
    "c(lb = mpb - 1.96 * spb, ub = mpb + 1.96 * spb)"
   ]
  },
  {
   "cell_type": "code",
   "execution_count": 30,
   "id": "spare-vancouver",
   "metadata": {},
   "outputs": [
    {
     "data": {
      "text/html": [
       "<dl class=dl-horizontal>\n",
       "\t<dt>lb</dt>\n",
       "\t\t<dd>196.874459367927</dd>\n",
       "\t<dt>ub</dt>\n",
       "\t\t<dd>303.473285056784</dd>\n",
       "</dl>\n"
      ],
      "text/latex": [
       "\\begin{description*}\n",
       "\\item[lb] 196.874459367927\n",
       "\\item[ub] 303.473285056784\n",
       "\\end{description*}\n"
      ],
      "text/markdown": [
       "lb\n",
       ":   196.874459367927ub\n",
       ":   303.473285056784\n",
       "\n"
      ],
      "text/plain": [
       "      lb       ub \n",
       "196.8745 303.4733 "
      ]
     },
     "metadata": {},
     "output_type": "display_data"
    }
   ],
   "source": [
    "shh <- sqrt(hh$model$mse)\n",
    "mhh <- hh$mean[1]\n",
    "c(lb = mhh - 1.96 * shh, ub = mhh + 1.96 * shh)"
   ]
  },
  {
   "cell_type": "code",
   "execution_count": 31,
   "id": "expensive-appeal",
   "metadata": {},
   "outputs": [
    {
     "data": {
      "text/html": [
       "<dl class=dl-horizontal>\n",
       "\t<dt>lb</dt>\n",
       "\t\t<dd>148.438396409231</dd>\n",
       "\t<dt>ub</dt>\n",
       "\t\t<dd>270.495134632871</dd>\n",
       "</dl>\n"
      ],
      "text/latex": [
       "\\begin{description*}\n",
       "\\item[lb] 148.438396409231\n",
       "\\item[ub] 270.495134632871\n",
       "\\end{description*}\n"
      ],
      "text/markdown": [
       "lb\n",
       ":   148.438396409231ub\n",
       ":   270.495134632871\n",
       "\n"
      ],
      "text/plain": [
       "      lb       ub \n",
       "148.4384 270.4951 "
      ]
     },
     "metadata": {},
     "output_type": "display_data"
    }
   ],
   "source": [
    "shp <- sqrt(hp$model$mse)\n",
    "mhp <- hp$mean[1]\n",
    "c(lb = mhp - 1.96 * shp, ub = mhp + 1.96 * shp)"
   ]
  },
  {
   "cell_type": "markdown",
   "id": "compressed-artwork",
   "metadata": {},
   "source": [
    "# 7. For this exercise, use data set `eggs`, the price of a dozen eggs in the United States from 1900–1993. Experiment with the various options in the `holt()` function to see how much the forecasts change with damped trend, or  with a Box-Cox transformation. Try to develop an intuition of what each argument is doing to the forecasts. \n",
    "## [Hint: use `h=100` when calling `holt()` so you can clearly see the differences between the various options when plotting the forecasts.] \n",
    "## Which model gives the best RMSE?"
   ]
  },
  {
   "cell_type": "code",
   "execution_count": 32,
   "id": "initial-ontario",
   "metadata": {},
   "outputs": [
    {
     "data": {
      "image/png": "[encoded data removed]",
      "text/plain": [
       "plot without title"
      ]
     },
     "metadata": {},
     "output_type": "display_data"
    }
   ],
   "source": [
    "autoplot(eggs)"
   ]
  },
  {
   "cell_type": "code",
   "execution_count": 33,
   "id": "sophisticated-universe",
   "metadata": {},
   "outputs": [],
   "source": [
    "fe1 <- holt(eggs, h=100)"
   ]
  },
  {
   "cell_type": "code",
   "execution_count": 34,
   "id": "demonstrated-mechanics",
   "metadata": {},
   "outputs": [
    {
     "data": {
      "text/html": [
       "<table>\n",
       "<thead><tr><th></th><th scope=col>ME</th><th scope=col>RMSE</th><th scope=col>MAE</th><th scope=col>MPE</th><th scope=col>MAPE</th><th scope=col>MASE</th><th scope=col>ACF1</th></tr></thead>\n",
       "<tbody>\n",
       "\t<tr><th scope=row>Training set</th><td>0.04499087</td><td>26.58219  </td><td>19.18491  </td><td>-1.142201 </td><td>9.653791  </td><td>0.9463626 </td><td>0.01348202</td></tr>\n",
       "</tbody>\n",
       "</table>\n"
      ],
      "text/latex": [
       "\\begin{tabular}{r|lllllll}\n",
       "  & ME & RMSE & MAE & MPE & MAPE & MASE & ACF1\\\\\n",
       "\\hline\n",
       "\tTraining set & 0.04499087 & 26.58219   & 19.18491   & -1.142201  & 9.653791   & 0.9463626  & 0.01348202\\\\\n",
       "\\end{tabular}\n"
      ],
      "text/markdown": [
       "\n",
       "| <!--/--> | ME | RMSE | MAE | MPE | MAPE | MASE | ACF1 |\n",
       "|---|---|---|---|---|---|---|---|\n",
       "| Training set | 0.04499087 | 26.58219   | 19.18491   | -1.142201  | 9.653791   | 0.9463626  | 0.01348202 |\n",
       "\n"
      ],
      "text/plain": [
       "             ME         RMSE     MAE      MPE       MAPE     MASE     \n",
       "Training set 0.04499087 26.58219 19.18491 -1.142201 9.653791 0.9463626\n",
       "             ACF1      \n",
       "Training set 0.01348202"
      ]
     },
     "metadata": {},
     "output_type": "display_data"
    }
   ],
   "source": [
    "accuracy(fe1)"
   ]
  },
  {
   "cell_type": "code",
   "execution_count": 35,
   "id": "welsh-singles",
   "metadata": {},
   "outputs": [],
   "source": [
    "fe2 <- holt(eggs, h=100, damped = TRUE)"
   ]
  },
  {
   "cell_type": "code",
   "execution_count": 36,
   "id": "sustained-dynamics",
   "metadata": {},
   "outputs": [
    {
     "data": {
      "text/html": [
       "<table>\n",
       "<thead><tr><th></th><th scope=col>ME</th><th scope=col>RMSE</th><th scope=col>MAE</th><th scope=col>MPE</th><th scope=col>MAPE</th><th scope=col>MASE</th><th scope=col>ACF1</th></tr></thead>\n",
       "<tbody>\n",
       "\t<tr><th scope=row>Training set</th><td>-2.891496   </td><td>26.54019    </td><td>19.2795     </td><td>-2.907633   </td><td>10.01894    </td><td>0.9510287   </td><td>-0.003195358</td></tr>\n",
       "</tbody>\n",
       "</table>\n"
      ],
      "text/latex": [
       "\\begin{tabular}{r|lllllll}\n",
       "  & ME & RMSE & MAE & MPE & MAPE & MASE & ACF1\\\\\n",
       "\\hline\n",
       "\tTraining set & -2.891496    & 26.54019     & 19.2795      & -2.907633    & 10.01894     & 0.9510287    & -0.003195358\\\\\n",
       "\\end{tabular}\n"
      ],
      "text/markdown": [
       "\n",
       "| <!--/--> | ME | RMSE | MAE | MPE | MAPE | MASE | ACF1 |\n",
       "|---|---|---|---|---|---|---|---|\n",
       "| Training set | -2.891496    | 26.54019     | 19.2795      | -2.907633    | 10.01894     | 0.9510287    | -0.003195358 |\n",
       "\n"
      ],
      "text/plain": [
       "             ME        RMSE     MAE     MPE       MAPE     MASE     \n",
       "Training set -2.891496 26.54019 19.2795 -2.907633 10.01894 0.9510287\n",
       "             ACF1        \n",
       "Training set -0.003195358"
      ]
     },
     "metadata": {},
     "output_type": "display_data"
    }
   ],
   "source": [
    "accuracy(fe2)"
   ]
  },
  {
   "cell_type": "code",
   "execution_count": 37,
   "id": "responsible-paradise",
   "metadata": {},
   "outputs": [
    {
     "data": {
      "text/html": [
       "<dl class=dl-horizontal>\n",
       "\t<dt>alpha</dt>\n",
       "\t\t<dd>0.846211920621314</dd>\n",
       "\t<dt>beta</dt>\n",
       "\t\t<dd>0.00401630172303531</dd>\n",
       "\t<dt>phi</dt>\n",
       "\t\t<dd>0.800000007622614</dd>\n",
       "\t<dt>l</dt>\n",
       "\t\t<dd>276.984167407755</dd>\n",
       "\t<dt>b</dt>\n",
       "\t\t<dd>4.99657927483563</dd>\n",
       "</dl>\n"
      ],
      "text/latex": [
       "\\begin{description*}\n",
       "\\item[alpha] 0.846211920621314\n",
       "\\item[beta] 0.00401630172303531\n",
       "\\item[phi] 0.800000007622614\n",
       "\\item[l] 276.984167407755\n",
       "\\item[b] 4.99657927483563\n",
       "\\end{description*}\n"
      ],
      "text/markdown": [
       "alpha\n",
       ":   0.846211920621314beta\n",
       ":   0.00401630172303531phi\n",
       ":   0.800000007622614l\n",
       ":   276.984167407755b\n",
       ":   4.99657927483563\n",
       "\n"
      ],
      "text/plain": [
       "       alpha         beta          phi            l            b \n",
       "8.462119e-01 4.016302e-03 8.000000e-01 2.769842e+02 4.996579e+00 "
      ]
     },
     "metadata": {},
     "output_type": "display_data"
    }
   ],
   "source": [
    "fe2$model$par"
   ]
  },
  {
   "cell_type": "code",
   "execution_count": 38,
   "id": "opened-harvest",
   "metadata": {},
   "outputs": [
    {
     "data": {
      "text/html": [
       "<table>\n",
       "<thead><tr><th></th><th scope=col>ME</th><th scope=col>RMSE</th><th scope=col>MAE</th><th scope=col>MPE</th><th scope=col>MAPE</th><th scope=col>MASE</th><th scope=col>ACF1</th></tr></thead>\n",
       "<tbody>\n",
       "\t<tr><th scope=row>Training set</th><td>-1.359818</td><td>31.06105 </td><td>23.2205  </td><td>-1.566944</td><td>11.79842 </td><td>1.145432 </td><td>0.1565599</td></tr>\n",
       "</tbody>\n",
       "</table>\n"
      ],
      "text/latex": [
       "\\begin{tabular}{r|lllllll}\n",
       "  & ME & RMSE & MAE & MPE & MAPE & MASE & ACF1\\\\\n",
       "\\hline\n",
       "\tTraining set & -1.359818 & 31.06105  & 23.2205   & -1.566944 & 11.79842  & 1.145432  & 0.1565599\\\\\n",
       "\\end{tabular}\n"
      ],
      "text/markdown": [
       "\n",
       "| <!--/--> | ME | RMSE | MAE | MPE | MAPE | MASE | ACF1 |\n",
       "|---|---|---|---|---|---|---|---|\n",
       "| Training set | -1.359818 | 31.06105  | 23.2205   | -1.566944 | 11.79842  | 1.145432  | 0.1565599 |\n",
       "\n"
      ],
      "text/plain": [
       "             ME        RMSE     MAE     MPE       MAPE     MASE     ACF1     \n",
       "Training set -1.359818 31.06105 23.2205 -1.566944 11.79842 1.145432 0.1565599"
      ]
     },
     "metadata": {},
     "output_type": "display_data"
    }
   ],
   "source": [
    "fe3 <- holt(eggs, h=100, alpha=0.5, beta=0.5, damped = TRUE)\n",
    "accuracy(fe3)"
   ]
  },
  {
   "cell_type": "code",
   "execution_count": 39,
   "id": "comparable-spelling",
   "metadata": {},
   "outputs": [
    {
     "data": {
      "text/html": [
       "<table>\n",
       "<thead><tr><th></th><th scope=col>ME</th><th scope=col>RMSE</th><th scope=col>MAE</th><th scope=col>MPE</th><th scope=col>MAPE</th><th scope=col>MASE</th><th scope=col>ACF1</th></tr></thead>\n",
       "<tbody>\n",
       "\t<tr><th scope=row>Training set</th><td>-3.015718</td><td>28.28655 </td><td>20.47675 </td><td>-3.01732 </td><td>10.63521 </td><td>1.010088 </td><td>0.2643378</td></tr>\n",
       "</tbody>\n",
       "</table>\n"
      ],
      "text/latex": [
       "\\begin{tabular}{r|lllllll}\n",
       "  & ME & RMSE & MAE & MPE & MAPE & MASE & ACF1\\\\\n",
       "\\hline\n",
       "\tTraining set & -3.015718 & 28.28655  & 20.47675  & -3.01732  & 10.63521  & 1.010088  & 0.2643378\\\\\n",
       "\\end{tabular}\n"
      ],
      "text/markdown": [
       "\n",
       "| <!--/--> | ME | RMSE | MAE | MPE | MAPE | MASE | ACF1 |\n",
       "|---|---|---|---|---|---|---|---|\n",
       "| Training set | -3.015718 | 28.28655  | 20.47675  | -3.01732  | 10.63521  | 1.010088  | 0.2643378 |\n",
       "\n"
      ],
      "text/plain": [
       "             ME        RMSE     MAE      MPE      MAPE     MASE     ACF1     \n",
       "Training set -3.015718 28.28655 20.47675 -3.01732 10.63521 1.010088 0.2643378"
      ]
     },
     "metadata": {},
     "output_type": "display_data"
    }
   ],
   "source": [
    "fe4 <- holt(eggs, h=100, alpha=0.5, beta=0.1, damped = TRUE)\n",
    "accuracy(fe4)"
   ]
  },
  {
   "cell_type": "code",
   "execution_count": 40,
   "id": "surface-psychiatry",
   "metadata": {},
   "outputs": [
    {
     "data": {
      "text/html": [
       "<table>\n",
       "<thead><tr><th></th><th scope=col>ME</th><th scope=col>RMSE</th><th scope=col>MAE</th><th scope=col>MPE</th><th scope=col>MAPE</th><th scope=col>MASE</th><th scope=col>ACF1</th></tr></thead>\n",
       "<tbody>\n",
       "\t<tr><th scope=row>Training set</th><td>-3.722539</td><td>28.03246 </td><td>20.41912 </td><td>-3.611935</td><td>10.73974 </td><td>1.007245 </td><td>0.280374 </td></tr>\n",
       "</tbody>\n",
       "</table>\n"
      ],
      "text/latex": [
       "\\begin{tabular}{r|lllllll}\n",
       "  & ME & RMSE & MAE & MPE & MAPE & MASE & ACF1\\\\\n",
       "\\hline\n",
       "\tTraining set & -3.722539 & 28.03246  & 20.41912  & -3.611935 & 10.73974  & 1.007245  & 0.280374 \\\\\n",
       "\\end{tabular}\n"
      ],
      "text/markdown": [
       "\n",
       "| <!--/--> | ME | RMSE | MAE | MPE | MAPE | MASE | ACF1 |\n",
       "|---|---|---|---|---|---|---|---|\n",
       "| Training set | -3.722539 | 28.03246  | 20.41912  | -3.611935 | 10.73974  | 1.007245  | 0.280374  |\n",
       "\n"
      ],
      "text/plain": [
       "             ME        RMSE     MAE      MPE       MAPE     MASE     ACF1    \n",
       "Training set -3.722539 28.03246 20.41912 -3.611935 10.73974 1.007245 0.280374"
      ]
     },
     "metadata": {},
     "output_type": "display_data"
    }
   ],
   "source": [
    "fe5 <- holt(eggs, h=100, alpha=0.5, beta=0.05, damped = TRUE)\n",
    "accuracy(fe5)"
   ]
  },
  {
   "cell_type": "code",
   "execution_count": 41,
   "id": "boxed-mystery",
   "metadata": {},
   "outputs": [
    {
     "data": {
      "text/html": [
       "<table>\n",
       "<thead><tr><th></th><th scope=col>ME</th><th scope=col>RMSE</th><th scope=col>MAE</th><th scope=col>MPE</th><th scope=col>MAPE</th><th scope=col>MASE</th><th scope=col>ACF1</th></tr></thead>\n",
       "<tbody>\n",
       "\t<tr><th scope=row>Training set</th><td>-3.405292  </td><td>26.52701   </td><td>19.64428   </td><td>-2.9945    </td><td>10.14573   </td><td>0.9690229  </td><td>-0.05782288</td></tr>\n",
       "</tbody>\n",
       "</table>\n"
      ],
      "text/latex": [
       "\\begin{tabular}{r|lllllll}\n",
       "  & ME & RMSE & MAE & MPE & MAPE & MASE & ACF1\\\\\n",
       "\\hline\n",
       "\tTraining set & -3.405292   & 26.52701    & 19.64428    & -2.9945     & 10.14573    & 0.9690229   & -0.05782288\\\\\n",
       "\\end{tabular}\n"
      ],
      "text/markdown": [
       "\n",
       "| <!--/--> | ME | RMSE | MAE | MPE | MAPE | MASE | ACF1 |\n",
       "|---|---|---|---|---|---|---|---|\n",
       "| Training set | -3.405292   | 26.52701    | 19.64428    | -2.9945     | 10.14573    | 0.9690229   | -0.05782288 |\n",
       "\n"
      ],
      "text/plain": [
       "             ME        RMSE     MAE      MPE     MAPE     MASE      ACF1       \n",
       "Training set -3.405292 26.52701 19.64428 -2.9945 10.14573 0.9690229 -0.05782288"
      ]
     },
     "metadata": {},
     "output_type": "display_data"
    }
   ],
   "source": [
    "fe6 <- holt(eggs, h=100, alpha=0.9, beta=0.001, damped = TRUE)\n",
    "accuracy(fe6)"
   ]
  },
  {
   "cell_type": "code",
   "execution_count": 42,
   "id": "initial-garage",
   "metadata": {},
   "outputs": [
    {
     "data": {
      "text/html": [
       "<table>\n",
       "<thead><tr><th></th><th scope=col>ME</th><th scope=col>RMSE</th><th scope=col>MAE</th><th scope=col>MPE</th><th scope=col>MAPE</th><th scope=col>MASE</th><th scope=col>ACF1</th></tr></thead>\n",
       "<tbody>\n",
       "\t<tr><th scope=row>Training set</th><td>-3.352562  </td><td>26.51669   </td><td>19.59936   </td><td>-2.981654  </td><td>10.13096   </td><td>0.9668069  </td><td>-0.05646822</td></tr>\n",
       "</tbody>\n",
       "</table>\n"
      ],
      "text/latex": [
       "\\begin{tabular}{r|lllllll}\n",
       "  & ME & RMSE & MAE & MPE & MAPE & MASE & ACF1\\\\\n",
       "\\hline\n",
       "\tTraining set & -3.352562   & 26.51669    & 19.59936    & -2.981654   & 10.13096    & 0.9668069   & -0.05646822\\\\\n",
       "\\end{tabular}\n"
      ],
      "text/markdown": [
       "\n",
       "| <!--/--> | ME | RMSE | MAE | MPE | MAPE | MASE | ACF1 |\n",
       "|---|---|---|---|---|---|---|---|\n",
       "| Training set | -3.352562   | 26.51669    | 19.59936    | -2.981654   | 10.13096    | 0.9668069   | -0.05646822 |\n",
       "\n"
      ],
      "text/plain": [
       "             ME        RMSE     MAE      MPE       MAPE     MASE     \n",
       "Training set -3.352562 26.51669 19.59936 -2.981654 10.13096 0.9668069\n",
       "             ACF1       \n",
       "Training set -0.05646822"
      ]
     },
     "metadata": {},
     "output_type": "display_data"
    }
   ],
   "source": [
    "fe7 <- holt(eggs, h=100, alpha=0.9, beta=0.0001, damped = TRUE)\n",
    "accuracy(fe7)"
   ]
  },
  {
   "cell_type": "code",
   "execution_count": 43,
   "id": "immune-panel",
   "metadata": {},
   "outputs": [
    {
     "data": {
      "text/html": [
       "<table>\n",
       "<thead><tr><th></th><th scope=col>ME</th><th scope=col>RMSE</th><th scope=col>MAE</th><th scope=col>MPE</th><th scope=col>MAPE</th><th scope=col>MASE</th><th scope=col>ACF1</th></tr></thead>\n",
       "<tbody>\n",
       "\t<tr><th scope=row>Training set</th><td>-3.208492  </td><td>26.51226   </td><td>19.52392   </td><td>-2.933841  </td><td>10.10505   </td><td>0.9630854  </td><td>-0.05510603</td></tr>\n",
       "</tbody>\n",
       "</table>\n"
      ],
      "text/latex": [
       "\\begin{tabular}{r|lllllll}\n",
       "  & ME & RMSE & MAE & MPE & MAPE & MASE & ACF1\\\\\n",
       "\\hline\n",
       "\tTraining set & -3.208492   & 26.51226    & 19.52392    & -2.933841   & 10.10505    & 0.9630854   & -0.05510603\\\\\n",
       "\\end{tabular}\n"
      ],
      "text/markdown": [
       "\n",
       "| <!--/--> | ME | RMSE | MAE | MPE | MAPE | MASE | ACF1 |\n",
       "|---|---|---|---|---|---|---|---|\n",
       "| Training set | -3.208492   | 26.51226    | 19.52392    | -2.933841   | 10.10505    | 0.9630854   | -0.05510603 |\n",
       "\n"
      ],
      "text/plain": [
       "             ME        RMSE     MAE      MPE       MAPE     MASE     \n",
       "Training set -3.208492 26.51226 19.52392 -2.933841 10.10505 0.9630854\n",
       "             ACF1       \n",
       "Training set -0.05510603"
      ]
     },
     "metadata": {},
     "output_type": "display_data"
    }
   ],
   "source": [
    "fe8 <- holt(eggs, h=100, alpha=0.9, beta=0.0001, phi=0.8, damped = TRUE)\n",
    "accuracy(fe8)"
   ]
  },
  {
   "cell_type": "code",
   "execution_count": 44,
   "id": "favorite-hometown",
   "metadata": {},
   "outputs": [
    {
     "data": {
      "text/html": [
       "<table>\n",
       "<thead><tr><th></th><th scope=col>ME</th><th scope=col>RMSE</th><th scope=col>MAE</th><th scope=col>MPE</th><th scope=col>MAPE</th><th scope=col>MASE</th><th scope=col>ACF1</th></tr></thead>\n",
       "<tbody>\n",
       "\t<tr><th scope=row>Training set</th><td>-0.006124764</td><td>26.46502    </td><td>19.3541     </td><td>-1.181171   </td><td>9.807844    </td><td>0.9547087   </td><td>-0.05226493 </td></tr>\n",
       "</tbody>\n",
       "</table>\n"
      ],
      "text/latex": [
       "\\begin{tabular}{r|lllllll}\n",
       "  & ME & RMSE & MAE & MPE & MAPE & MASE & ACF1\\\\\n",
       "\\hline\n",
       "\tTraining set & -0.006124764 & 26.46502     & 19.3541      & -1.181171    & 9.807844     & 0.9547087    & -0.05226493 \\\\\n",
       "\\end{tabular}\n"
      ],
      "text/markdown": [
       "\n",
       "| <!--/--> | ME | RMSE | MAE | MPE | MAPE | MASE | ACF1 |\n",
       "|---|---|---|---|---|---|---|---|\n",
       "| Training set | -0.006124764 | 26.46502     | 19.3541      | -1.181171    | 9.807844     | 0.9547087    | -0.05226493  |\n",
       "\n"
      ],
      "text/plain": [
       "             ME           RMSE     MAE     MPE       MAPE     MASE     \n",
       "Training set -0.006124764 26.46502 19.3541 -1.181171 9.807844 0.9547087\n",
       "             ACF1       \n",
       "Training set -0.05226493"
      ]
     },
     "metadata": {},
     "output_type": "display_data"
    }
   ],
   "source": [
    "fe9 <- holt(eggs, h=100, alpha=0.9, beta=0.0001, damped = FALSE)\n",
    "accuracy(fe9)"
   ]
  },
  {
   "cell_type": "code",
   "execution_count": 45,
   "id": "authorized-scanning",
   "metadata": {},
   "outputs": [
    {
     "data": {
      "text/html": [
       "<table>\n",
       "<thead><tr><th></th><th scope=col>ME</th><th scope=col>RMSE</th><th scope=col>MAE</th><th scope=col>MPE</th><th scope=col>MAPE</th><th scope=col>MASE</th><th scope=col>ACF1</th></tr></thead>\n",
       "<tbody>\n",
       "\t<tr><th scope=row>Training set</th><td>0.8589922  </td><td>26.39539   </td><td>19.29629   </td><td>-0.9689305 </td><td>9.789108   </td><td>0.951857   </td><td>-0.04817418</td></tr>\n",
       "</tbody>\n",
       "</table>\n"
      ],
      "text/latex": [
       "\\begin{tabular}{r|lllllll}\n",
       "  & ME & RMSE & MAE & MPE & MAPE & MASE & ACF1\\\\\n",
       "\\hline\n",
       "\tTraining set & 0.8589922   & 26.39539    & 19.29629    & -0.9689305  & 9.789108    & 0.951857    & -0.04817418\\\\\n",
       "\\end{tabular}\n"
      ],
      "text/markdown": [
       "\n",
       "| <!--/--> | ME | RMSE | MAE | MPE | MAPE | MASE | ACF1 |\n",
       "|---|---|---|---|---|---|---|---|\n",
       "| Training set | 0.8589922   | 26.39539    | 19.29629    | -0.9689305  | 9.789108    | 0.951857    | -0.04817418 |\n",
       "\n"
      ],
      "text/plain": [
       "             ME        RMSE     MAE      MPE        MAPE     MASE    \n",
       "Training set 0.8589922 26.39539 19.29629 -0.9689305 9.789108 0.951857\n",
       "             ACF1       \n",
       "Training set -0.04817418"
      ]
     },
     "metadata": {},
     "output_type": "display_data"
    }
   ],
   "source": [
    "fe10 <- holt(eggs, h=100, alpha=0.9, beta=0.0001, damped = FALSE, lambda=0.2)\n",
    "accuracy(fe10)"
   ]
  },
  {
   "cell_type": "code",
   "execution_count": 46,
   "id": "planned-webster",
   "metadata": {},
   "outputs": [
    {
     "data": {
      "text/html": [
       "<table>\n",
       "<thead><tr><th></th><th scope=col>ME</th><th scope=col>RMSE</th><th scope=col>MAE</th><th scope=col>MPE</th><th scope=col>MAPE</th><th scope=col>MASE</th><th scope=col>ACF1</th></tr></thead>\n",
       "<tbody>\n",
       "\t<tr><th scope=row>Training set</th><td>1.20373    </td><td>26.38563   </td><td>19.28933   </td><td>-0.8511079 </td><td>9.779588   </td><td>0.9515139  </td><td>-0.04609538</td></tr>\n",
       "</tbody>\n",
       "</table>\n"
      ],
      "text/latex": [
       "\\begin{tabular}{r|lllllll}\n",
       "  & ME & RMSE & MAE & MPE & MAPE & MASE & ACF1\\\\\n",
       "\\hline\n",
       "\tTraining set & 1.20373     & 26.38563    & 19.28933    & -0.8511079  & 9.779588    & 0.9515139   & -0.04609538\\\\\n",
       "\\end{tabular}\n"
      ],
      "text/markdown": [
       "\n",
       "| <!--/--> | ME | RMSE | MAE | MPE | MAPE | MASE | ACF1 |\n",
       "|---|---|---|---|---|---|---|---|\n",
       "| Training set | 1.20373     | 26.38563    | 19.28933    | -0.8511079  | 9.779588    | 0.9515139   | -0.04609538 |\n",
       "\n"
      ],
      "text/plain": [
       "             ME      RMSE     MAE      MPE        MAPE     MASE     \n",
       "Training set 1.20373 26.38563 19.28933 -0.8511079 9.779588 0.9515139\n",
       "             ACF1       \n",
       "Training set -0.04609538"
      ]
     },
     "metadata": {},
     "output_type": "display_data"
    }
   ],
   "source": [
    "fe11 <- holt(eggs, h=100, alpha=0.9, beta=0.0001, damped = FALSE, lambda=0.01)\n",
    "accuracy(fe11)"
   ]
  },
  {
   "cell_type": "code",
   "execution_count": 47,
   "id": "durable-programmer",
   "metadata": {},
   "outputs": [
    {
     "data": {
      "text/html": [
       "<table>\n",
       "<thead><tr><th></th><th scope=col>ME</th><th scope=col>RMSE</th><th scope=col>MAE</th><th scope=col>MPE</th><th scope=col>MAPE</th><th scope=col>MASE</th><th scope=col>ACF1</th></tr></thead>\n",
       "<tbody>\n",
       "\t<tr><th scope=row>Training set</th><td>-3.185132  </td><td>26.51349   </td><td>19.52612   </td><td>-2.919051  </td><td>10.10338   </td><td>0.9631941  </td><td>-0.05508185</td></tr>\n",
       "</tbody>\n",
       "</table>\n"
      ],
      "text/latex": [
       "\\begin{tabular}{r|lllllll}\n",
       "  & ME & RMSE & MAE & MPE & MAPE & MASE & ACF1\\\\\n",
       "\\hline\n",
       "\tTraining set & -3.185132   & 26.51349    & 19.52612    & -2.919051   & 10.10338    & 0.9631941   & -0.05508185\\\\\n",
       "\\end{tabular}\n"
      ],
      "text/markdown": [
       "\n",
       "| <!--/--> | ME | RMSE | MAE | MPE | MAPE | MASE | ACF1 |\n",
       "|---|---|---|---|---|---|---|---|\n",
       "| Training set | -3.185132   | 26.51349    | 19.52612    | -2.919051   | 10.10338    | 0.9631941   | -0.05508185 |\n",
       "\n"
      ],
      "text/plain": [
       "             ME        RMSE     MAE      MPE       MAPE     MASE     \n",
       "Training set -3.185132 26.51349 19.52612 -2.919051 10.10338 0.9631941\n",
       "             ACF1       \n",
       "Training set -0.05508185"
      ]
     },
     "metadata": {},
     "output_type": "display_data"
    }
   ],
   "source": [
    "fe12 <- holt(eggs, h=100, alpha=0.9, beta=0.0001, damped = TRUE, lambda=0.8)\n",
    "accuracy(fe12)"
   ]
  },
  {
   "cell_type": "code",
   "execution_count": 48,
   "id": "sixth-smell",
   "metadata": {},
   "outputs": [
    {
     "data": {
      "image/png": "[encoded data removed]",
      "text/plain": [
       "plot without title"
      ]
     },
     "metadata": {},
     "output_type": "display_data"
    }
   ],
   "source": [
    "autoplot(eggs) +\n",
    "autolayer(fe1, series = \"Holt's\", PI=FALSE) +\n",
    "autolayer(fe2, series = \"Holt's damped\", PI=FALSE) +\n",
    "autolayer(fe11, series = \"Holt's alpha=0.9, beta=0.001, lmbda=0.01\", PI=FALSE)"
   ]
  },
  {
   "cell_type": "markdown",
   "id": "helpful-slave",
   "metadata": {},
   "source": [
    "# 8. Recall your retail time series data (from Exercise 3 in Section 2.10)."
   ]
  },
  {
   "cell_type": "markdown",
   "id": "rough-address",
   "metadata": {},
   "source": [
    ">  a. Why is multiplicative seasonality necessary for this series?"
   ]
  },
  {
   "cell_type": "code",
   "execution_count": 49,
   "id": "plain-agent",
   "metadata": {},
   "outputs": [],
   "source": [
    "retaildata<-readxl::read_excel(\"retail.xlsx\", skip=1)"
   ]
  },
  {
   "cell_type": "code",
   "execution_count": 50,
   "id": "eligible-pharmacy",
   "metadata": {},
   "outputs": [],
   "source": [
    "myts <- ts(retaildata[,\"A3349873A\"],\n",
    "  frequency=12, start=c(1982,4))"
   ]
  },
  {
   "cell_type": "code",
   "execution_count": 51,
   "id": "jewish-ribbon",
   "metadata": {},
   "outputs": [
    {
     "data": {
      "image/png": "[encoded data removed]",
      "text/plain": [
       "plot without title"
      ]
     },
     "metadata": {},
     "output_type": "display_data"
    }
   ],
   "source": [
    "autoplot(myts)"
   ]
  },
  {
   "cell_type": "markdown",
   "id": "analyzed-lewis",
   "metadata": {},
   "source": [
    "Сезонные колебания увеличиваются пропорцианально уровню ряда."
   ]
  },
  {
   "cell_type": "markdown",
   "id": "animal-threat",
   "metadata": {},
   "source": [
    ">  b. Apply Holt-Winters’ multiplicative method to the data. Experiment with making the trend damped."
   ]
  },
  {
   "cell_type": "code",
   "execution_count": 52,
   "id": "insured-invention",
   "metadata": {},
   "outputs": [],
   "source": [
    "hw1 <- hw(myts, seasonal = 'multiplicative', damped=FALSE)\n",
    "hw2 <- hw(myts, seasonal = 'multiplicative', damped=TRUE)"
   ]
  },
  {
   "cell_type": "code",
   "execution_count": 53,
   "id": "neural-outdoors",
   "metadata": {},
   "outputs": [
    {
     "data": {
      "image/png": "[encoded data removed]",
      "text/plain": [
       "plot without title"
      ]
     },
     "metadata": {},
     "output_type": "display_data"
    }
   ],
   "source": [
    "autoplot(myts) +\n",
    "autolayer(hw1, series=\"HW\", PI=FALSE) +\n",
    "autolayer(hw2, series=\"HW damped\", PI=FALSE)"
   ]
  },
  {
   "cell_type": "markdown",
   "id": "introductory-connecticut",
   "metadata": {},
   "source": [
    ">  c. Compare the RMSE of the one-step forecasts from the two methods. Which do you prefer?"
   ]
  },
  {
   "cell_type": "code",
   "execution_count": 54,
   "id": "increasing-cricket",
   "metadata": {},
   "outputs": [
    {
     "data": {
      "text/html": [
       "<table>\n",
       "<thead><tr><th></th><th scope=col>ME</th><th scope=col>RMSE</th><th scope=col>MAE</th><th scope=col>MPE</th><th scope=col>MAPE</th><th scope=col>MASE</th><th scope=col>ACF1</th></tr></thead>\n",
       "<tbody>\n",
       "\t<tr><th scope=row>Training set</th><td>0.1170648 </td><td>13.29378  </td><td>8.991856  </td><td>-0.1217735</td><td>3.918351  </td><td>0.4748948 </td><td>0.08635577</td></tr>\n",
       "</tbody>\n",
       "</table>\n"
      ],
      "text/latex": [
       "\\begin{tabular}{r|lllllll}\n",
       "  & ME & RMSE & MAE & MPE & MAPE & MASE & ACF1\\\\\n",
       "\\hline\n",
       "\tTraining set & 0.1170648  & 13.29378   & 8.991856   & -0.1217735 & 3.918351   & 0.4748948  & 0.08635577\\\\\n",
       "\\end{tabular}\n"
      ],
      "text/markdown": [
       "\n",
       "| <!--/--> | ME | RMSE | MAE | MPE | MAPE | MASE | ACF1 |\n",
       "|---|---|---|---|---|---|---|---|\n",
       "| Training set | 0.1170648  | 13.29378   | 8.991856   | -0.1217735 | 3.918351   | 0.4748948  | 0.08635577 |\n",
       "\n"
      ],
      "text/plain": [
       "             ME        RMSE     MAE      MPE        MAPE     MASE     \n",
       "Training set 0.1170648 13.29378 8.991856 -0.1217735 3.918351 0.4748948\n",
       "             ACF1      \n",
       "Training set 0.08635577"
      ]
     },
     "metadata": {},
     "output_type": "display_data"
    },
    {
     "data": {
      "text/html": [
       "<table>\n",
       "<thead><tr><th></th><th scope=col>ME</th><th scope=col>RMSE</th><th scope=col>MAE</th><th scope=col>MPE</th><th scope=col>MAPE</th><th scope=col>MASE</th><th scope=col>ACF1</th></tr></thead>\n",
       "<tbody>\n",
       "\t<tr><th scope=row>Training set</th><td>1.414869  </td><td>13.30494  </td><td>9.042151  </td><td>0.6105987 </td><td>3.959617  </td><td>0.4775511 </td><td>0.04077895</td></tr>\n",
       "</tbody>\n",
       "</table>\n"
      ],
      "text/latex": [
       "\\begin{tabular}{r|lllllll}\n",
       "  & ME & RMSE & MAE & MPE & MAPE & MASE & ACF1\\\\\n",
       "\\hline\n",
       "\tTraining set & 1.414869   & 13.30494   & 9.042151   & 0.6105987  & 3.959617   & 0.4775511  & 0.04077895\\\\\n",
       "\\end{tabular}\n"
      ],
      "text/markdown": [
       "\n",
       "| <!--/--> | ME | RMSE | MAE | MPE | MAPE | MASE | ACF1 |\n",
       "|---|---|---|---|---|---|---|---|\n",
       "| Training set | 1.414869   | 13.30494   | 9.042151   | 0.6105987  | 3.959617   | 0.4775511  | 0.04077895 |\n",
       "\n"
      ],
      "text/plain": [
       "             ME       RMSE     MAE      MPE       MAPE     MASE      ACF1      \n",
       "Training set 1.414869 13.30494 9.042151 0.6105987 3.959617 0.4775511 0.04077895"
      ]
     },
     "metadata": {},
     "output_type": "display_data"
    }
   ],
   "source": [
    "accuracy(hw1)\n",
    "accuracy(hw2)"
   ]
  },
  {
   "cell_type": "markdown",
   "id": "computational-blend",
   "metadata": {},
   "source": [
    ">  d. Check that the residuals from the best method look like white noise."
   ]
  },
  {
   "cell_type": "code",
   "execution_count": 55,
   "id": "conditional-billion",
   "metadata": {},
   "outputs": [
    {
     "name": "stdout",
     "output_type": "stream",
     "text": [
      "\n",
      "\tLjung-Box test\n",
      "\n",
      "data:  Residuals from Holt-Winters' multiplicative method\n",
      "Q* = 40.405, df = 8, p-value = 2.692e-06\n",
      "\n",
      "Model df: 16.   Total lags used: 24\n",
      "\n"
     ]
    },
    {
     "data": {
      "image/png": "[encoded data removed]",
      "text/plain": [
       "plot without title"
      ]
     },
     "metadata": {},
     "output_type": "display_data"
    }
   ],
   "source": [
    "checkresiduals(hw1)"
   ]
  },
  {
   "cell_type": "markdown",
   "id": "satisfied-attribute",
   "metadata": {},
   "source": [
    ">  e. Now find the test set RMSE, while training the model to the end of 2010. Can you beat the seasonal naïve approach from Exercise 8 in Section 3.7)?"
   ]
  },
  {
   "cell_type": "code",
   "execution_count": 56,
   "id": "gothic-copyright",
   "metadata": {},
   "outputs": [],
   "source": [
    "ts_train <- window(myts, end=c(2010, 12))"
   ]
  },
  {
   "cell_type": "code",
   "execution_count": 57,
   "id": "empirical-brunswick",
   "metadata": {},
   "outputs": [],
   "source": [
    "hw3 <- hw(ts_train, h=36, seasonal = 'multiplicative', damped=FALSE)\n",
    "fcn <- snaive(ts_train, h=36)"
   ]
  },
  {
   "cell_type": "code",
   "execution_count": 58,
   "id": "infrared-journalism",
   "metadata": {},
   "outputs": [
    {
     "data": {
      "image/png": "[encoded data removed]",
      "text/plain": [
       "plot without title"
      ]
     },
     "metadata": {},
     "output_type": "display_data"
    }
   ],
   "source": [
    "autoplot(myts) +\n",
    "autolayer(hw3, series=\"HW\", PI=FALSE) +\n",
    "autolayer(fcn, series=\"naive\", PI=FALSE)"
   ]
  },
  {
   "cell_type": "code",
   "execution_count": 59,
   "id": "computational-windows",
   "metadata": {},
   "outputs": [],
   "source": [
    "test <- window(myts, start=c(2011,1))"
   ]
  },
  {
   "cell_type": "code",
   "execution_count": 60,
   "id": "verified-taylor",
   "metadata": {},
   "outputs": [
    {
     "data": {
      "text/html": [
       "78.3406836524533"
      ],
      "text/latex": [
       "78.3406836524533"
      ],
      "text/markdown": [
       "78.3406836524533"
      ],
      "text/plain": [
       "[1] 78.34068"
      ]
     },
     "metadata": {},
     "output_type": "display_data"
    },
    {
     "data": {
      "text/html": [
       "82.0666666666667"
      ],
      "text/latex": [
       "82.0666666666667"
      ],
      "text/markdown": [
       "82.0666666666667"
      ],
      "text/plain": [
       "[1] 82.06667"
      ]
     },
     "metadata": {},
     "output_type": "display_data"
    }
   ],
   "source": [
    "sum(sqrt((test - hw3$mean)^2)) / length(test)\n",
    "sum(sqrt((test - fcn$mean)^2)) / length(test)"
   ]
  },
  {
   "cell_type": "markdown",
   "id": "equal-roots",
   "metadata": {},
   "source": [
    "# 9. For the same retail data, try an STL decomposition applied to the Box-Cox transformed series, followed by ETS on the seasonally adjusted data. How does that compare with your best previous forecasts on the test set?"
   ]
  },
  {
   "cell_type": "code",
   "execution_count": 61,
   "id": "personalized-colleague",
   "metadata": {},
   "outputs": [
    {
     "data": {
      "text/html": [
       "0.197968156308491"
      ],
      "text/latex": [
       "0.197968156308491"
      ],
      "text/markdown": [
       "0.197968156308491"
      ],
      "text/plain": [
       "[1] 0.1979682"
      ]
     },
     "metadata": {},
     "output_type": "display_data"
    }
   ],
   "source": [
    "train <- ts(as.vector(myts), start=c(1982,4), end=c(2010,12), frequency = 12)\n",
    "lambda <- BoxCox.lambda(train)\n",
    "lambda"
   ]
  },
  {
   "cell_type": "code",
   "execution_count": 62,
   "id": "younger-raleigh",
   "metadata": {},
   "outputs": [
    {
     "data": {
      "image/png": "[encoded data removed]",
      "text/plain": [
       "plot without title"
      ]
     },
     "metadata": {},
     "output_type": "display_data"
    }
   ],
   "source": [
    "bc <- BoxCox(train, lambda)\n",
    "bcstl <- stl(bc, s.window='periodic', robust=TRUE)\n",
    "autoplot(bcstl)"
   ]
  },
  {
   "cell_type": "code",
   "execution_count": 63,
   "id": "sporting-classic",
   "metadata": {},
   "outputs": [
    {
     "data": {
      "image/png": "[encoded data removed]",
      "text/plain": [
       "plot without title"
      ]
     },
     "metadata": {},
     "output_type": "display_data"
    }
   ],
   "source": [
    "bcsadj <- bc - bcstl$time.series[,'seasonal']\n",
    "\n",
    "autoplot(bc, series='Unadjusted Data') +\n",
    "  autolayer(bcsadj, series='Seasonally Adjusted')"
   ]
  },
  {
   "cell_type": "code",
   "execution_count": 64,
   "id": "positive-citizen",
   "metadata": {},
   "outputs": [
    {
     "name": "stdout",
     "output_type": "stream",
     "text": [
      "ETS(M,A,N) \n",
      "\n",
      "Call:\n",
      " ets(y = bcsadj) \n",
      "\n",
      "  Smoothing parameters:\n",
      "    alpha = 0.6333 \n",
      "    beta  = 1e-04 \n",
      "\n",
      "  Initial states:\n",
      "    l = 6.567 \n",
      "    b = 0.0134 \n",
      "\n",
      "  sigma:  0.0129\n",
      "\n",
      "     AIC     AICc      BIC \n",
      "543.5141 543.6911 562.7319 \n",
      "\n",
      "Training set error measures:\n",
      "                       ME      RMSE       MAE         MPE      MAPE      MASE\n",
      "Training set -0.003878286 0.1172707 0.0899321 -0.03866332 0.9882063 0.3832231\n",
      "                   ACF1\n",
      "Training set 0.01864534\n"
     ]
    }
   ],
   "source": [
    "fets <- ets(bcsadj)\n",
    "summary(fets)"
   ]
  },
  {
   "cell_type": "code",
   "execution_count": 65,
   "id": "monetary-visit",
   "metadata": {},
   "outputs": [
    {
     "name": "stderr",
     "output_type": "stream",
     "text": [
      "ERROR while rich displaying an object: Error in repr_matrix_generic(obj, \"\\n%s%s\\n\", sprintf(\"|%%s\\n|%s|\\n\", : formal argument \"cols\" matched by multiple actual arguments\n",
      "\n",
      "Traceback:\n",
      "1. FUN(X[[i]], ...)\n",
      "2. tryCatch(withCallingHandlers({\n",
      " .     if (!mime %in% names(repr::mime2repr)) \n",
      " .         stop(\"No repr_* for mimetype \", mime, \" in repr::mime2repr\")\n",
      " .     rpr <- repr::mime2repr[[mime]](obj)\n",
      " .     if (is.null(rpr)) \n",
      " .         return(NULL)\n",
      " .     prepare_content(is.raw(rpr), rpr)\n",
      " . }, error = error_handler), error = outer_handler)\n",
      "3. tryCatchList(expr, classes, parentenv, handlers)\n",
      "4. tryCatchOne(expr, names, parentenv, handlers[[1L]])\n",
      "5. doTryCatch(return(expr), name, parentenv, handler)\n",
      "6. withCallingHandlers({\n",
      " .     if (!mime %in% names(repr::mime2repr)) \n",
      " .         stop(\"No repr_* for mimetype \", mime, \" in repr::mime2repr\")\n",
      " .     rpr <- repr::mime2repr[[mime]](obj)\n",
      " .     if (is.null(rpr)) \n",
      " .         return(NULL)\n",
      " .     prepare_content(is.raw(rpr), rpr)\n",
      " . }, error = error_handler)\n",
      "7. repr::mime2repr[[mime]](obj)\n",
      "8. repr_markdown.ts(obj)\n",
      "9. repr_ts_generic(obj, repr_markdown.matrix, ...)\n",
      "10. repr_func(m, ..., rows = nrow(m), cols = ncol(m))\n"
     ]
    },
    {
     "data": {
      "text/html": [
       "<table>\n",
       "<thead><tr><th></th><th scope=col>Jan</th><th scope=col>Feb</th><th scope=col>Mar</th><th scope=col>Apr</th><th scope=col>May</th><th scope=col>Jun</th><th scope=col>Jul</th><th scope=col>Aug</th><th scope=col>Sep</th><th scope=col>Oct</th><th scope=col>Nov</th><th scope=col>Dec</th></tr></thead>\n",
       "<tbody>\n",
       "\t<tr><th scope=row>2011</th><td>280.4265</td><td>281.6456</td><td>282.8690</td><td>284.0966</td><td>285.3286</td><td>286.5648</td><td>287.8053</td><td>289.0500</td><td>290.2992</td><td>291.5526</td><td>292.8104</td><td>294.0725</td></tr>\n",
       "\t<tr><th scope=row>2012</th><td>295.3390</td><td>296.6098</td><td>297.8850</td><td>299.1647</td><td>300.4487</td><td>301.7371</td><td>303.0300</td><td>304.3273</td><td>305.6291</td><td>306.9353</td><td>308.2460</td><td>309.5612</td></tr>\n",
       "\t<tr><th scope=row>2013</th><td>310.8809</td><td>312.2051</td><td>313.5338</td><td>314.8670</td><td>316.2048</td><td>317.5472</td><td>318.8941</td><td>320.2456</td><td>321.6016</td><td>322.9623</td><td>324.3276</td><td>325.6975</td></tr>\n",
       "</tbody>\n",
       "</table>\n"
      ],
      "text/latex": [
       "\\begin{tabular}{r|llllllllllll}\n",
       "  & Jan & Feb & Mar & Apr & May & Jun & Jul & Aug & Sep & Oct & Nov & Dec\\\\\n",
       "\\hline\n",
       "\t2011 & 280.4265 & 281.6456 & 282.8690 & 284.0966 & 285.3286 & 286.5648 & 287.8053 & 289.0500 & 290.2992 & 291.5526 & 292.8104 & 294.0725\\\\\n",
       "\t2012 & 295.3390 & 296.6098 & 297.8850 & 299.1647 & 300.4487 & 301.7371 & 303.0300 & 304.3273 & 305.6291 & 306.9353 & 308.2460 & 309.5612\\\\\n",
       "\t2013 & 310.8809 & 312.2051 & 313.5338 & 314.8670 & 316.2048 & 317.5472 & 318.8941 & 320.2456 & 321.6016 & 322.9623 & 324.3276 & 325.6975\\\\\n",
       "\\end{tabular}\n"
      ],
      "text/plain": [
       "     Jan      Feb      Mar      Apr      May      Jun      Jul      Aug     \n",
       "2011 280.4265 281.6456 282.8690 284.0966 285.3286 286.5648 287.8053 289.0500\n",
       "2012 295.3390 296.6098 297.8850 299.1647 300.4487 301.7371 303.0300 304.3273\n",
       "2013 310.8809 312.2051 313.5338 314.8670 316.2048 317.5472 318.8941 320.2456\n",
       "     Sep      Oct      Nov      Dec     \n",
       "2011 290.2992 291.5526 292.8104 294.0725\n",
       "2012 305.6291 306.9353 308.2460 309.5612\n",
       "2013 321.6016 322.9623 324.3276 325.6975"
      ]
     },
     "metadata": {},
     "output_type": "display_data"
    }
   ],
   "source": [
    "fcets <- forecast(fets, h=36)$mean\n",
    "fcets <- InvBoxCox(fcets, lambda=lambda)\n",
    "fcets"
   ]
  },
  {
   "cell_type": "code",
   "execution_count": 66,
   "id": "quiet-consequence",
   "metadata": {},
   "outputs": [
    {
     "data": {
      "image/png": "[encoded data removed]",
      "text/plain": [
       "plot without title"
      ]
     },
     "metadata": {},
     "output_type": "display_data"
    }
   ],
   "source": [
    "autoplot(test) + \n",
    "autolayer(fcets)"
   ]
  },
  {
   "cell_type": "code",
   "execution_count": 67,
   "id": "active-instrumentation",
   "metadata": {},
   "outputs": [
    {
     "data": {
      "text/html": [
       "65.8001368355712"
      ],
      "text/latex": [
       "65.8001368355712"
      ],
      "text/markdown": [
       "65.8001368355712"
      ],
      "text/plain": [
       "[1] 65.80014"
      ]
     },
     "metadata": {},
     "output_type": "display_data"
    }
   ],
   "source": [
    "sum(sqrt((test - fcets)^2)) / length(test)"
   ]
  },
  {
   "cell_type": "markdown",
   "id": "sunrise-spectrum",
   "metadata": {},
   "source": [
    "# 10. For this exercise, use the quarterly UK passenger vehicle production data from 1977Q1--2005Q1 (data set `ukcars`)."
   ]
  },
  {
   "cell_type": "markdown",
   "id": "tight-attack",
   "metadata": {},
   "source": [
    ">a. Plot the data and describe the main features of the series."
   ]
  },
  {
   "cell_type": "code",
   "execution_count": 68,
   "id": "dominican-momentum",
   "metadata": {},
   "outputs": [
    {
     "data": {
      "image/png": "[encoded data removed]",
      "text/plain": [
       "plot without title"
      ]
     },
     "metadata": {},
     "output_type": "display_data"
    }
   ],
   "source": [
    "autoplot(ukcars)"
   ]
  },
  {
   "cell_type": "markdown",
   "id": "federal-massachusetts",
   "metadata": {},
   "source": [
    ">b. Decompose the series using STL and obtain the seasonally adjusted data."
   ]
  },
  {
   "cell_type": "code",
   "execution_count": 69,
   "id": "sought-flood",
   "metadata": {},
   "outputs": [],
   "source": [
    "ukstl <- stl(ukcars, s.window = \"periodic\")"
   ]
  },
  {
   "cell_type": "code",
   "execution_count": 70,
   "id": "intended-nicaragua",
   "metadata": {},
   "outputs": [
    {
     "data": {
      "image/png": "[encoded data removed]",
      "text/plain": [
       "plot without title"
      ]
     },
     "metadata": {},
     "output_type": "display_data"
    }
   ],
   "source": [
    "autoplot(ukstl)"
   ]
  },
  {
   "cell_type": "code",
   "execution_count": 71,
   "id": "sweet-rochester",
   "metadata": {},
   "outputs": [
    {
     "data": {
      "image/png": "[encoded data removed]",
      "text/plain": [
       "plot without title"
      ]
     },
     "metadata": {},
     "output_type": "display_data"
    }
   ],
   "source": [
    "adjusted <- seasadj(ukstl)\n",
    "autoplot(adjusted)"
   ]
  },
  {
   "cell_type": "markdown",
   "id": "collect-forty",
   "metadata": {},
   "source": [
    ">c. Forecast the next two years of the series using an additive damped trend method applied to the seasonally adjusted data. (This can be done in one step using `stlf` with arguments `etsmodel=\"AAN\", damped=TRUE`.)"
   ]
  },
  {
   "cell_type": "code",
   "execution_count": 72,
   "id": "effective-cooperative",
   "metadata": {},
   "outputs": [],
   "source": [
    "fcst_damped <- stlf(ukcars, etsmodel=\"AAN\", damped=TRUE)"
   ]
  },
  {
   "cell_type": "code",
   "execution_count": 73,
   "id": "opening-reduction",
   "metadata": {},
   "outputs": [
    {
     "data": {
      "image/png": "[encoded data removed]",
      "text/plain": [
       "plot without title"
      ]
     },
     "metadata": {},
     "output_type": "display_data"
    }
   ],
   "source": [
    "autoplot(ukcars) + \n",
    "autolayer(fcst_damped)"
   ]
  },
  {
   "cell_type": "code",
   "execution_count": 74,
   "id": "jewish-inquiry",
   "metadata": {},
   "outputs": [
    {
     "data": {
      "text/plain": [
       "        Point Forecast    Lo 80    Hi 80    Lo 95    Hi 95\n",
       "2005 Q2       415.0289 384.4576 445.6001 368.2742 461.7836\n",
       "2005 Q3       364.2543 326.8700 401.6386 307.0799 421.4287\n",
       "2005 Q4       400.8059 357.6702 443.9416 334.8355 466.7762\n",
       "2006 Q1       432.5663 384.3596 480.7731 358.8404 506.2922\n",
       "2006 Q2       415.0250 362.2312 467.8189 334.2838 495.7663\n",
       "2006 Q3       364.2507 307.2369 421.2646 277.0556 451.4459\n",
       "2006 Q4       400.8026 339.8596 461.7456 307.5983 494.0069\n",
       "2007 Q1       432.5633 367.9289 497.1976 333.7136 531.4130"
      ]
     },
     "metadata": {},
     "output_type": "display_data"
    }
   ],
   "source": [
    "fcst_damped"
   ]
  },
  {
   "cell_type": "markdown",
   "id": "drawn-desperate",
   "metadata": {},
   "source": [
    ">d. Forecast the next two years of the series using Holt’s linear method applied to the seasonally adjusted data (as before but with `damped=FALSE`)."
   ]
  },
  {
   "cell_type": "code",
   "execution_count": 75,
   "id": "otherwise-gasoline",
   "metadata": {},
   "outputs": [],
   "source": [
    "fcst <- stlf(ukcars, etsmodel=\"AAN\", damped=FALSE)"
   ]
  },
  {
   "cell_type": "code",
   "execution_count": 76,
   "id": "disciplinary-parcel",
   "metadata": {},
   "outputs": [
    {
     "data": {
      "image/png": "[encoded data removed]",
      "text/plain": [
       "plot without title"
      ]
     },
     "metadata": {},
     "output_type": "display_data"
    }
   ],
   "source": [
    "autoplot(ukcars) + \n",
    "autolayer(fcst)"
   ]
  },
  {
   "cell_type": "code",
   "execution_count": 77,
   "id": "announced-choice",
   "metadata": {},
   "outputs": [
    {
     "data": {
      "text/plain": [
       "        Point Forecast    Lo 80    Hi 80    Lo 95    Hi 95\n",
       "2005 Q2       416.1915 385.7950 446.5881 369.7040 462.6791\n",
       "2005 Q3       366.3343 328.7907 403.8780 308.9163 423.7524\n",
       "2005 Q4       403.8032 360.2690 447.3375 337.2233 470.3831\n",
       "2006 Q1       436.4809 387.6847 485.2771 361.8535 511.1083\n",
       "2006 Q2       419.8568 366.3120 473.4016 337.9671 501.7465\n",
       "2006 Q3       369.9996 312.0932 427.9060 281.4394 458.5598\n",
       "2006 Q4       407.4685 345.5056 469.4313 312.7045 502.2325\n",
       "2007 Q1       440.1461 374.3755 505.9167 339.5587 540.7336"
      ]
     },
     "metadata": {},
     "output_type": "display_data"
    }
   ],
   "source": [
    "fcst"
   ]
  },
  {
   "cell_type": "markdown",
   "id": "sorted-vegetation",
   "metadata": {},
   "source": [
    ">e. Now use `ets()` to choose a seasonal model for the data."
   ]
  },
  {
   "cell_type": "code",
   "execution_count": 78,
   "id": "adjusted-western",
   "metadata": {},
   "outputs": [],
   "source": [
    "ukets <- ets(ukcars)"
   ]
  },
  {
   "cell_type": "code",
   "execution_count": 79,
   "id": "affected-steering",
   "metadata": {},
   "outputs": [
    {
     "data": {
      "text/plain": [
       "ETS(A,N,A) \n",
       "\n",
       "Call:\n",
       " ets(y = ukcars) \n",
       "\n",
       "  Smoothing parameters:\n",
       "    alpha = 0.6199 \n",
       "    gamma = 1e-04 \n",
       "\n",
       "  Initial states:\n",
       "    l = 314.2568 \n",
       "    s = -1.7579 -44.9601 21.1956 25.5223\n",
       "\n",
       "  sigma:  25.9302\n",
       "\n",
       "     AIC     AICc      BIC \n",
       "1277.752 1278.819 1296.844 "
      ]
     },
     "metadata": {},
     "output_type": "display_data"
    }
   ],
   "source": [
    "ukets"
   ]
  },
  {
   "cell_type": "markdown",
   "id": "three-malaysia",
   "metadata": {},
   "source": [
    ">f. Compare the RMSE of the ETS model with the RMSE of the models you obtained using  STL decompositions.  Which gives the better in-sample fits?"
   ]
  },
  {
   "cell_type": "code",
   "execution_count": 80,
   "id": "frozen-offering",
   "metadata": {},
   "outputs": [
    {
     "data": {
      "text/html": [
       "<table>\n",
       "<thead><tr><th></th><th scope=col>ME</th><th scope=col>RMSE</th><th scope=col>MAE</th><th scope=col>MPE</th><th scope=col>MAPE</th><th scope=col>MASE</th><th scope=col>ACF1</th></tr></thead>\n",
       "<tbody>\n",
       "\t<tr><th scope=row>Training set</th><td>1.551267  </td><td>23.32113  </td><td>18.48987  </td><td>0.04121971</td><td>6.042764  </td><td>0.602576  </td><td>0.02262668</td></tr>\n",
       "</tbody>\n",
       "</table>\n"
      ],
      "text/latex": [
       "\\begin{tabular}{r|lllllll}\n",
       "  & ME & RMSE & MAE & MPE & MAPE & MASE & ACF1\\\\\n",
       "\\hline\n",
       "\tTraining set & 1.551267   & 23.32113   & 18.48987   & 0.04121971 & 6.042764   & 0.602576   & 0.02262668\\\\\n",
       "\\end{tabular}\n"
      ],
      "text/markdown": [
       "\n",
       "| <!--/--> | ME | RMSE | MAE | MPE | MAPE | MASE | ACF1 |\n",
       "|---|---|---|---|---|---|---|---|\n",
       "| Training set | 1.551267   | 23.32113   | 18.48987   | 0.04121971 | 6.042764   | 0.602576   | 0.02262668 |\n",
       "\n"
      ],
      "text/plain": [
       "             ME       RMSE     MAE      MPE        MAPE     MASE     ACF1      \n",
       "Training set 1.551267 23.32113 18.48987 0.04121971 6.042764 0.602576 0.02262668"
      ]
     },
     "metadata": {},
     "output_type": "display_data"
    },
    {
     "data": {
      "text/html": [
       "<table>\n",
       "<thead><tr><th></th><th scope=col>ME</th><th scope=col>RMSE</th><th scope=col>MAE</th><th scope=col>MPE</th><th scope=col>MAPE</th><th scope=col>MASE</th><th scope=col>ACF1</th></tr></thead>\n",
       "<tbody>\n",
       "\t<tr><th scope=row>Training set</th><td>-0.3412727</td><td>23.295    </td><td>18.1605   </td><td>-0.5970778</td><td>5.98018   </td><td>0.5918418 </td><td>0.02103582</td></tr>\n",
       "</tbody>\n",
       "</table>\n"
      ],
      "text/latex": [
       "\\begin{tabular}{r|lllllll}\n",
       "  & ME & RMSE & MAE & MPE & MAPE & MASE & ACF1\\\\\n",
       "\\hline\n",
       "\tTraining set & -0.3412727 & 23.295     & 18.1605    & -0.5970778 & 5.98018    & 0.5918418  & 0.02103582\\\\\n",
       "\\end{tabular}\n"
      ],
      "text/markdown": [
       "\n",
       "| <!--/--> | ME | RMSE | MAE | MPE | MAPE | MASE | ACF1 |\n",
       "|---|---|---|---|---|---|---|---|\n",
       "| Training set | -0.3412727 | 23.295     | 18.1605    | -0.5970778 | 5.98018    | 0.5918418  | 0.02103582 |\n",
       "\n"
      ],
      "text/plain": [
       "             ME         RMSE   MAE     MPE        MAPE    MASE      ACF1      \n",
       "Training set -0.3412727 23.295 18.1605 -0.5970778 5.98018 0.5918418 0.02103582"
      ]
     },
     "metadata": {},
     "output_type": "display_data"
    },
    {
     "data": {
      "text/html": [
       "<table>\n",
       "<thead><tr><th></th><th scope=col>ME</th><th scope=col>RMSE</th><th scope=col>MAE</th><th scope=col>MPE</th><th scope=col>MAPE</th><th scope=col>MASE</th><th scope=col>ACF1</th></tr></thead>\n",
       "<tbody>\n",
       "\t<tr><th scope=row>Training set</th><td>1.313884  </td><td>25.23244  </td><td>20.17907  </td><td>-0.1570979</td><td>6.629003  </td><td>0.6576259 </td><td>0.02573334</td></tr>\n",
       "</tbody>\n",
       "</table>\n"
      ],
      "text/latex": [
       "\\begin{tabular}{r|lllllll}\n",
       "  & ME & RMSE & MAE & MPE & MAPE & MASE & ACF1\\\\\n",
       "\\hline\n",
       "\tTraining set & 1.313884   & 25.23244   & 20.17907   & -0.1570979 & 6.629003   & 0.6576259  & 0.02573334\\\\\n",
       "\\end{tabular}\n"
      ],
      "text/markdown": [
       "\n",
       "| <!--/--> | ME | RMSE | MAE | MPE | MAPE | MASE | ACF1 |\n",
       "|---|---|---|---|---|---|---|---|\n",
       "| Training set | 1.313884   | 25.23244   | 20.17907   | -0.1570979 | 6.629003   | 0.6576259  | 0.02573334 |\n",
       "\n"
      ],
      "text/plain": [
       "             ME       RMSE     MAE      MPE        MAPE     MASE     \n",
       "Training set 1.313884 25.23244 20.17907 -0.1570979 6.629003 0.6576259\n",
       "             ACF1      \n",
       "Training set 0.02573334"
      ]
     },
     "metadata": {},
     "output_type": "display_data"
    }
   ],
   "source": [
    "accuracy(fcst_damped)\n",
    "accuracy(fcst)\n",
    "accuracy(ukets)"
   ]
  },
  {
   "cell_type": "markdown",
   "id": "literary-layer",
   "metadata": {},
   "source": [
    ">g. Compare the forecasts from the three approaches? Which seems most reasonable?"
   ]
  },
  {
   "cell_type": "code",
   "execution_count": 81,
   "id": "powered-ecology",
   "metadata": {},
   "outputs": [
    {
     "data": {
      "image/png": "[encoded data removed]",
      "text/plain": [
       "plot without title"
      ]
     },
     "metadata": {},
     "output_type": "display_data"
    }
   ],
   "source": [
    "autoplot(ukcars) + \n",
    "autolayer(fcst, PI=FALSE, series=\"Holt's linear\") +\n",
    "autolayer(fcst_damped, PI=FALSE, series=\"Damped\") + \n",
    "autolayer(forecast(ukets), PI=FALSE, series=\"ets\")"
   ]
  },
  {
   "cell_type": "markdown",
   "id": "funded-corps",
   "metadata": {},
   "source": [
    ">h. Check the residuals of your preferred model."
   ]
  },
  {
   "cell_type": "code",
   "execution_count": 82,
   "id": "pacific-superintendent",
   "metadata": {},
   "outputs": [
    {
     "name": "stderr",
     "output_type": "stream",
     "text": [
      "Warning message in checkresiduals(fcst):\n",
      "\"The fitted degrees of freedom is based on the model used for the seasonally adjusted data.\""
     ]
    },
    {
     "name": "stdout",
     "output_type": "stream",
     "text": [
      "\n",
      "\tLjung-Box test\n",
      "\n",
      "data:  Residuals from STL +  ETS(A,A,N)\n",
      "Q* = 22.061, df = 4, p-value = 0.0001949\n",
      "\n",
      "Model df: 4.   Total lags used: 8\n",
      "\n"
     ]
    },
    {
     "data": {
      "image/png": "[encoded data removed]",
      "text/plain": [
       "plot without title"
      ]
     },
     "metadata": {},
     "output_type": "display_data"
    }
   ],
   "source": [
    "checkresiduals(fcst)"
   ]
  },
  {
   "cell_type": "code",
   "execution_count": 83,
   "id": "upset-poison",
   "metadata": {},
   "outputs": [
    {
     "name": "stderr",
     "output_type": "stream",
     "text": [
      "Warning message in checkresiduals(fcst_damped):\n",
      "\"The fitted degrees of freedom is based on the model used for the seasonally adjusted data.\""
     ]
    },
    {
     "name": "stdout",
     "output_type": "stream",
     "text": [
      "\n",
      "\tLjung-Box test\n",
      "\n",
      "data:  Residuals from STL +  ETS(A,Ad,N)\n",
      "Q* = 24.138, df = 3, p-value = 2.337e-05\n",
      "\n",
      "Model df: 5.   Total lags used: 8\n",
      "\n"
     ]
    },
    {
     "data": {
      "image/png": "[encoded data removed]",
      "text/plain": [
       "plot without title"
      ]
     },
     "metadata": {},
     "output_type": "display_data"
    }
   ],
   "source": [
    "checkresiduals(fcst_damped)"
   ]
  },
  {
   "cell_type": "code",
   "execution_count": 84,
   "id": "demanding-estimate",
   "metadata": {},
   "outputs": [
    {
     "name": "stdout",
     "output_type": "stream",
     "text": [
      "\n",
      "\tLjung-Box test\n",
      "\n",
      "data:  Residuals from ETS(A,N,A)\n",
      "Q* = 18.324, df = 3, p-value = 0.0003772\n",
      "\n",
      "Model df: 6.   Total lags used: 9\n",
      "\n"
     ]
    },
    {
     "data": {
      "image/png": "[encoded data removed]",
      "text/plain": [
       "plot without title"
      ]
     },
     "metadata": {},
     "output_type": "display_data"
    }
   ],
   "source": [
    "checkresiduals(ukets)"
   ]
  },
  {
   "cell_type": "markdown",
   "id": "accepted-bulletin",
   "metadata": {},
   "source": [
    "# 11. For this exercise use data set `visitors` , the monthly Australian short-term overseas visitors data, May 1985–April 2005."
   ]
  },
  {
   "cell_type": "markdown",
   "id": "commercial-taxation",
   "metadata": {},
   "source": [
    ">  a. Make a time plot of your data and describe the main features of the series."
   ]
  },
  {
   "cell_type": "code",
   "execution_count": 85,
   "id": "noticed-filename",
   "metadata": {},
   "outputs": [
    {
     "data": {
      "image/png": "[encoded data removed]",
      "text/plain": [
       "plot without title"
      ]
     },
     "metadata": {},
     "output_type": "display_data"
    }
   ],
   "source": [
    "autoplot(visitors)"
   ]
  },
  {
   "cell_type": "markdown",
   "id": "grave-arabic",
   "metadata": {},
   "source": [
    "> b. Split your data into a training set and a test set comprising the last two\n",
    "years of available data. Forecast the test set using Holt-Winters’\n",
    "multiplicative method."
   ]
  },
  {
   "cell_type": "code",
   "execution_count": 86,
   "id": "rural-salon",
   "metadata": {},
   "outputs": [],
   "source": [
    "vtrain <- window(visitors, end=end(visitors)-c(2,0))\n",
    "vtest <- window(visitors, start=end(visitors)-c(2,0))"
   ]
  },
  {
   "cell_type": "code",
   "execution_count": 87,
   "id": "intimate-rendering",
   "metadata": {},
   "outputs": [],
   "source": [
    "vfcst <- hw(vtrain, h=24, seasonal = \"multiplicative\")"
   ]
  },
  {
   "cell_type": "code",
   "execution_count": 88,
   "id": "taken-northwest",
   "metadata": {},
   "outputs": [
    {
     "data": {
      "image/png": "[encoded data removed]",
      "text/plain": [
       "plot without title"
      ]
     },
     "metadata": {},
     "output_type": "display_data"
    }
   ],
   "source": [
    "autoplot(visitors) +\n",
    "autolayer(vfcst, PI=FALSE)"
   ]
  },
  {
   "cell_type": "markdown",
   "id": "liberal-department",
   "metadata": {},
   "source": [
    ">c. Why is multiplicative seasonality necessary here?"
   ]
  },
  {
   "cell_type": "markdown",
   "id": "annoying-saying",
   "metadata": {},
   "source": [
    ">d. Forecast the two-year test set using each of the following methods:\n",
    "\n",
    ">     i) an ETS model;\n",
    "\n",
    ">     ii) an additive ETS model applied to a Box-Cox transformed series;\n",
    "\n",
    ">     iii) a seasonal naïve method;\n",
    "\n",
    ">     iv) an STL decomposition applied to the Box-Cox transformed data followed by an ETS model applied to the seasonally adjusted (transformed) data."
   ]
  },
  {
   "cell_type": "code",
   "execution_count": 89,
   "id": "moved-wildlife",
   "metadata": {},
   "outputs": [],
   "source": [
    "fets <- forecast(ets(vtrain), h=24)\n",
    "fetsbc <- forecast(ets(vtrain, lambda = BoxCox.lambda(vtrain)), h=24)\n",
    "fnaive <- snaive(vtrain, h=24)\n",
    "fstlets <- stlf(vtrain, lambda = BoxCox.lambda(vtrain))"
   ]
  },
  {
   "cell_type": "code",
   "execution_count": 90,
   "id": "spiritual-belarus",
   "metadata": {},
   "outputs": [
    {
     "data": {
      "image/png": "[encoded data removed]",
      "text/plain": [
       "plot without title"
      ]
     },
     "metadata": {},
     "output_type": "display_data"
    }
   ],
   "source": [
    "autoplot(vtest) + \n",
    "autolayer(fets, series=\"ets\", PI=FALSE) + \n",
    "autolayer(fetsbc, series=\"ets BC\", PI=FALSE) +\n",
    "autolayer(fnaive, series=\"naive\", PI=FALSE) + \n",
    "autolayer(fstlets, series=\"stl etc BC\", PI=FALSE)"
   ]
  },
  {
   "cell_type": "markdown",
   "id": "destroyed-dietary",
   "metadata": {},
   "source": [
    "> e. Which method gives the best forecasts? Does it pass the residual tests?"
   ]
  },
  {
   "cell_type": "code",
   "execution_count": 91,
   "id": "atomic-organic",
   "metadata": {},
   "outputs": [
    {
     "data": {
      "text/html": [
       "71.570734759382"
      ],
      "text/latex": [
       "71.570734759382"
      ],
      "text/markdown": [
       "71.570734759382"
      ],
      "text/plain": [
       "[1] 71.57073"
      ]
     },
     "metadata": {},
     "output_type": "display_data"
    },
    {
     "data": {
      "text/html": [
       "69.51925582919"
      ],
      "text/latex": [
       "69.51925582919"
      ],
      "text/markdown": [
       "69.51925582919"
      ],
      "text/plain": [
       "[1] 69.51926"
      ]
     },
     "metadata": {},
     "output_type": "display_data"
    },
    {
     "data": {
      "text/html": [
       "40.556"
      ],
      "text/latex": [
       "40.556"
      ],
      "text/markdown": [
       "40.556"
      ],
      "text/plain": [
       "[1] 40.556"
      ]
     },
     "metadata": {},
     "output_type": "display_data"
    },
    {
     "data": {
      "text/html": [
       "46.0477875850091"
      ],
      "text/latex": [
       "46.0477875850091"
      ],
      "text/markdown": [
       "46.0477875850091"
      ],
      "text/plain": [
       "[1] 46.04779"
      ]
     },
     "metadata": {},
     "output_type": "display_data"
    }
   ],
   "source": [
    "sum(sqrt((vtest - fets$mean)^2)) / length(vtest)\n",
    "sum(sqrt((vtest - fetsbc$mean)^2)) / length(vtest)\n",
    "sum(sqrt((vtest - fnaive$mean)^2)) / length(vtest)\n",
    "sum(sqrt((vtest - fstlets$mean)^2)) / length(vtest)"
   ]
  },
  {
   "cell_type": "code",
   "execution_count": 92,
   "id": "seasonal-helping",
   "metadata": {},
   "outputs": [
    {
     "name": "stdout",
     "output_type": "stream",
     "text": [
      "\n",
      "\tLjung-Box test\n",
      "\n",
      "data:  Residuals from Seasonal naive method\n",
      "Q* = 295.02, df = 24, p-value < 2.2e-16\n",
      "\n",
      "Model df: 0.   Total lags used: 24\n",
      "\n"
     ]
    },
    {
     "data": {
      "image/png": "[encoded data removed]",
      "text/plain": [
       "plot without title"
      ]
     },
     "metadata": {},
     "output_type": "display_data"
    }
   ],
   "source": [
    "checkresiduals(fnaive)"
   ]
  },
  {
   "cell_type": "markdown",
   "id": "improved-signature",
   "metadata": {},
   "source": [
    "> f. Compare the same four methods using time series cross-validation with the `tsCV` function instead of using a training and test set. Do you come to the same conclusions?"
   ]
  },
  {
   "cell_type": "code",
   "execution_count": 93,
   "id": "operating-license",
   "metadata": {},
   "outputs": [],
   "source": [
    "fun1 <- function(y, h){\n",
    "    forecast(ets(y), h=h)\n",
    "}\n",
    "fun2 <- function(y, h){\n",
    "    forecast(ets(y, lambda=BoxCox.lambda(y)), h=h)\n",
    "}"
   ]
  },
  {
   "cell_type": "code",
   "execution_count": 96,
   "id": "assumed-lafayette",
   "metadata": {},
   "outputs": [],
   "source": [
    "e1 <- tsCV(visitors, fun1)"
   ]
  },
  {
   "cell_type": "code",
   "execution_count": 97,
   "id": "figured-webmaster",
   "metadata": {},
   "outputs": [],
   "source": [
    "e2 <- tsCV(visitors, fun2)"
   ]
  },
  {
   "cell_type": "code",
   "execution_count": 98,
   "id": "advised-plumbing",
   "metadata": {},
   "outputs": [],
   "source": [
    "e3 <- tsCV(visitors, snaive)"
   ]
  },
  {
   "cell_type": "code",
   "execution_count": 99,
   "id": "leading-reserve",
   "metadata": {},
   "outputs": [],
   "source": [
    "e4 <- tsCV(visitors, stlf, lambda=BoxCox.lambda(visitors))"
   ]
  },
  {
   "cell_type": "code",
   "execution_count": 102,
   "id": "unauthorized-triangle",
   "metadata": {},
   "outputs": [],
   "source": [
    "e <- matrix(NA, ncol=4, nrow=length(visitors))"
   ]
  },
  {
   "cell_type": "code",
   "execution_count": 103,
   "id": "diverse-banana",
   "metadata": {},
   "outputs": [],
   "source": [
    "e[, 1] <- e1\n",
    "e[, 2] <- e2\n",
    "e[, 3] <- e3\n",
    "e[, 4] <- e4"
   ]
  },
  {
   "cell_type": "code",
   "execution_count": 104,
   "id": "solar-tutorial",
   "metadata": {},
   "outputs": [
    {
     "data": {
      "text/html": [
       "<ol class=list-inline>\n",
       "\t<li>343.355194360265</li>\n",
       "\t<li>355.865197478754</li>\n",
       "\t<li>1074.97066945607</li>\n",
       "\t<li>282.587317068726</li>\n",
       "</ol>\n"
      ],
      "text/latex": [
       "\\begin{enumerate*}\n",
       "\\item 343.355194360265\n",
       "\\item 355.865197478754\n",
       "\\item 1074.97066945607\n",
       "\\item 282.587317068726\n",
       "\\end{enumerate*}\n"
      ],
      "text/markdown": [
       "1. 343.355194360265\n",
       "2. 355.865197478754\n",
       "3. 1074.97066945607\n",
       "4. 282.587317068726\n",
       "\n",
       "\n"
      ],
      "text/plain": [
       "[1]  343.3552  355.8652 1074.9707  282.5873"
      ]
     },
     "metadata": {},
     "output_type": "display_data"
    }
   ],
   "source": [
    "colMeans(e^2, na.rm = T)"
   ]
  },
  {
   "cell_type": "markdown",
   "id": "tested-dealer",
   "metadata": {},
   "source": [
    "# 12.\n",
    "\n",
    "The `fets()` function below returns ETS forecasts.\n",
    "\n",
    "```{r}\n",
    "fets <- function(y, h) {\n",
    "  forecast(ets(y), h = h)\n",
    "}\n",
    "```"
   ]
  },
  {
   "cell_type": "markdown",
   "id": "intelligent-pierce",
   "metadata": {},
   "source": [
    "> a. Apply `tsCV()` for a forecast horizon of $h=4$, for both ETS and seasonal naïve methods to the `qcement` data, (Hint: use the newly created `fets()` and the existing `snaive()` functions as your forecast function arguments.)"
   ]
  },
  {
   "cell_type": "code",
   "execution_count": 105,
   "id": "crazy-parcel",
   "metadata": {},
   "outputs": [],
   "source": [
    "fets <- function(y, h) {\n",
    "  forecast(ets(y), h = h)\n",
    "}"
   ]
  },
  {
   "cell_type": "code",
   "execution_count": 106,
   "id": "textile-california",
   "metadata": {},
   "outputs": [],
   "source": [
    "e1 <- tsCV(qcement, fets, h=4)"
   ]
  },
  {
   "cell_type": "code",
   "execution_count": 107,
   "id": "funny-legislature",
   "metadata": {},
   "outputs": [],
   "source": [
    "e2 <- tsCV(qcement, snaive, h=4)"
   ]
  },
  {
   "cell_type": "code",
   "execution_count": 108,
   "id": "little-gentleman",
   "metadata": {},
   "outputs": [
    {
     "data": {
      "text/html": [
       "<dl class=dl-horizontal>\n",
       "\t<dt>h=1</dt>\n",
       "\t\t<dd>0.00695951102352166</dd>\n",
       "\t<dt>h=2</dt>\n",
       "\t\t<dd>0.0105922770179574</dd>\n",
       "\t<dt>h=3</dt>\n",
       "\t\t<dd>0.0141177205070902</dd>\n",
       "\t<dt>h=4</dt>\n",
       "\t\t<dd>0.0184510736000398</dd>\n",
       "</dl>\n"
      ],
      "text/latex": [
       "\\begin{description*}\n",
       "\\item[h=1] 0.00695951102352166\n",
       "\\item[h=2] 0.0105922770179574\n",
       "\\item[h=3] 0.0141177205070902\n",
       "\\item[h=4] 0.0184510736000398\n",
       "\\end{description*}\n"
      ],
      "text/markdown": [
       "h=1\n",
       ":   0.00695951102352166h=2\n",
       ":   0.0105922770179574h=3\n",
       ":   0.0141177205070902h=4\n",
       ":   0.0184510736000398\n",
       "\n"
      ],
      "text/plain": [
       "        h=1         h=2         h=3         h=4 \n",
       "0.006959511 0.010592277 0.014117721 0.018451074 "
      ]
     },
     "metadata": {},
     "output_type": "display_data"
    },
    {
     "data": {
      "text/html": [
       "<dl class=dl-horizontal>\n",
       "\t<dt>h=1</dt>\n",
       "\t\t<dd>0.0177924267241379</dd>\n",
       "\t<dt>h=2</dt>\n",
       "\t\t<dd>0.0178281304347826</dd>\n",
       "\t<dt>h=3</dt>\n",
       "\t\t<dd>0.0179635175438596</dd>\n",
       "\t<dt>h=4</dt>\n",
       "\t\t<dd>0.0181065</dd>\n",
       "</dl>\n"
      ],
      "text/latex": [
       "\\begin{description*}\n",
       "\\item[h=1] 0.0177924267241379\n",
       "\\item[h=2] 0.0178281304347826\n",
       "\\item[h=3] 0.0179635175438596\n",
       "\\item[h=4] 0.0181065\n",
       "\\end{description*}\n"
      ],
      "text/markdown": [
       "h=1\n",
       ":   0.0177924267241379h=2\n",
       ":   0.0178281304347826h=3\n",
       ":   0.0179635175438596h=4\n",
       ":   0.0181065\n",
       "\n"
      ],
      "text/plain": [
       "       h=1        h=2        h=3        h=4 \n",
       "0.01779243 0.01782813 0.01796352 0.01810650 "
      ]
     },
     "metadata": {},
     "output_type": "display_data"
    }
   ],
   "source": [
    "colMeans(e1^2, na.rm = T)\n",
    "colMeans(e2^2, na.rm = T)"
   ]
  },
  {
   "cell_type": "code",
   "execution_count": 109,
   "id": "capable-ontario",
   "metadata": {},
   "outputs": [
    {
     "data": {
      "image/png": "[encoded data removed]",
      "text/plain": [
       "plot without title"
      ]
     },
     "metadata": {},
     "output_type": "display_data"
    }
   ],
   "source": [
    "autoplot(qcement) + \n",
    "autolayer(fets(qcement, h=4), series=\"ets\", PI=FALSE) + \n",
    "autolayer(snaive(qcement, h=4), series=\"naive\", PI=FALSE)"
   ]
  },
  {
   "cell_type": "markdown",
   "id": "dominant-style",
   "metadata": {},
   "source": [
    "# 13. Compare `ets`, `snaive` and `stlf` on the following six time series. For `stlf`, you might need to use a Box-Cox transformation. Use a test set of three years to decide what gives the best forecasts.        `ausbeer`, `bricksq`, `dole`, `a10`, `h02`, `usmelec`."
   ]
  },
  {
   "cell_type": "code",
   "execution_count": 121,
   "id": "impressive-cutting",
   "metadata": {},
   "outputs": [],
   "source": [
    "train <- window(ausbeer, end=end(ausbeer)-c(3,1))\n",
    "test <- window(ausbeer, start=end(ausbeer)-c(3,0))\n",
    "fc1 <- forecast(ets(train), h=13)\n",
    "fc2 <- snaive(train, h=13)\n",
    "fc3 <- stlf(train, lambda=BoxCox.lambda(train), h=13)"
   ]
  },
  {
   "cell_type": "code",
   "execution_count": 122,
   "id": "dangerous-guess",
   "metadata": {},
   "outputs": [
    {
     "data": {
      "image/png": "[encoded data removed]",
      "text/plain": [
       "plot without title"
      ]
     },
     "metadata": {},
     "output_type": "display_data"
    }
   ],
   "source": [
    "autoplot(test) + \n",
    "autolayer(fc1, series=\"ets\", PI=FALSE) + \n",
    "autolayer(fc2, series=\"naive\", PI=FALSE) +\n",
    "autolayer(fc3, series=\"stlf\", PI=FALSE)"
   ]
  },
  {
   "cell_type": "code",
   "execution_count": 123,
   "id": "conceptual-bishop",
   "metadata": {},
   "outputs": [
    {
     "data": {
      "text/html": [
       "<table>\n",
       "<thead><tr><th></th><th scope=col>ME</th><th scope=col>RMSE</th><th scope=col>MAE</th><th scope=col>MPE</th><th scope=col>MAPE</th><th scope=col>MASE</th><th scope=col>ACF1</th><th scope=col>Theil's U</th></tr></thead>\n",
       "<tbody>\n",
       "\t<tr><th scope=row>Training set</th><td>-0.3277264 </td><td>15.814416  </td><td>12.011993  </td><td>-0.05972334</td><td>2.871560   </td><td>0.7556841  </td><td>-0.1953342 </td><td>       NA  </td></tr>\n",
       "\t<tr><th scope=row>Test set</th><td>-3.0004013 </td><td> 9.565905  </td><td> 8.477236  </td><td>-0.74556768</td><td>2.054088   </td><td>0.5333097  </td><td> 0.3932191 </td><td>0.1892583  </td></tr>\n",
       "</tbody>\n",
       "</table>\n"
      ],
      "text/latex": [
       "\\begin{tabular}{r|llllllll}\n",
       "  & ME & RMSE & MAE & MPE & MAPE & MASE & ACF1 & Theil's U\\\\\n",
       "\\hline\n",
       "\tTraining set & -0.3277264  & 15.814416   & 12.011993   & -0.05972334 & 2.871560    & 0.7556841   & -0.1953342  &        NA  \\\\\n",
       "\tTest set & -3.0004013  &  9.565905   &  8.477236   & -0.74556768 & 2.054088    & 0.5333097   &  0.3932191  & 0.1892583  \\\\\n",
       "\\end{tabular}\n"
      ],
      "text/markdown": [
       "\n",
       "| <!--/--> | ME | RMSE | MAE | MPE | MAPE | MASE | ACF1 | Theil's U |\n",
       "|---|---|---|---|---|---|---|---|---|\n",
       "| Training set | -0.3277264  | 15.814416   | 12.011993   | -0.05972334 | 2.871560    | 0.7556841   | -0.1953342  |        NA   |\n",
       "| Test set | -3.0004013  |  9.565905   |  8.477236   | -0.74556768 | 2.054088    | 0.5333097   |  0.3932191  | 0.1892583   |\n",
       "\n"
      ],
      "text/plain": [
       "             ME         RMSE      MAE       MPE         MAPE     MASE     \n",
       "Training set -0.3277264 15.814416 12.011993 -0.05972334 2.871560 0.7556841\n",
       "Test set     -3.0004013  9.565905  8.477236 -0.74556768 2.054088 0.5333097\n",
       "             ACF1       Theil's U\n",
       "Training set -0.1953342        NA\n",
       "Test set      0.3932191 0.1892583"
      ]
     },
     "metadata": {},
     "output_type": "display_data"
    },
    {
     "data": {
      "text/html": [
       "<table>\n",
       "<thead><tr><th></th><th scope=col>ME</th><th scope=col>RMSE</th><th scope=col>MAE</th><th scope=col>MPE</th><th scope=col>MAPE</th><th scope=col>MASE</th><th scope=col>ACF1</th><th scope=col>Theil's U</th></tr></thead>\n",
       "<tbody>\n",
       "\t<tr><th scope=row>Training set</th><td> 3.368159    </td><td>19.71778     </td><td>15.89552     </td><td> 0.9127974   </td><td>3.786236     </td><td>1.0000000    </td><td>-0.0002469795</td><td>       NA    </td></tr>\n",
       "\t<tr><th scope=row>Test set</th><td>-3.615385    </td><td>10.22441     </td><td> 9.00000     </td><td>-0.8396570   </td><td>2.162967     </td><td>0.5661972    </td><td> 0.3517322372</td><td>0.2049314    </td></tr>\n",
       "</tbody>\n",
       "</table>\n"
      ],
      "text/latex": [
       "\\begin{tabular}{r|llllllll}\n",
       "  & ME & RMSE & MAE & MPE & MAPE & MASE & ACF1 & Theil's U\\\\\n",
       "\\hline\n",
       "\tTraining set &  3.368159     & 19.71778      & 15.89552      &  0.9127974    & 3.786236      & 1.0000000     & -0.0002469795 &        NA    \\\\\n",
       "\tTest set & -3.615385     & 10.22441      &  9.00000      & -0.8396570    & 2.162967      & 0.5661972     &  0.3517322372 & 0.2049314    \\\\\n",
       "\\end{tabular}\n"
      ],
      "text/markdown": [
       "\n",
       "| <!--/--> | ME | RMSE | MAE | MPE | MAPE | MASE | ACF1 | Theil's U |\n",
       "|---|---|---|---|---|---|---|---|---|\n",
       "| Training set |  3.368159     | 19.71778      | 15.89552      |  0.9127974    | 3.786236      | 1.0000000     | -0.0002469795 |        NA     |\n",
       "| Test set | -3.615385     | 10.22441      |  9.00000      | -0.8396570    | 2.162967      | 0.5661972     |  0.3517322372 | 0.2049314     |\n",
       "\n"
      ],
      "text/plain": [
       "             ME        RMSE     MAE      MPE        MAPE     MASE     \n",
       "Training set  3.368159 19.71778 15.89552  0.9127974 3.786236 1.0000000\n",
       "Test set     -3.615385 10.22441  9.00000 -0.8396570 2.162967 0.5661972\n",
       "             ACF1          Theil's U\n",
       "Training set -0.0002469795        NA\n",
       "Test set      0.3517322372 0.2049314"
      ]
     },
     "metadata": {},
     "output_type": "display_data"
    },
    {
     "data": {
      "text/html": [
       "<table>\n",
       "<thead><tr><th></th><th scope=col>ME</th><th scope=col>RMSE</th><th scope=col>MAE</th><th scope=col>MPE</th><th scope=col>MAPE</th><th scope=col>MASE</th><th scope=col>ACF1</th><th scope=col>Theil's U</th></tr></thead>\n",
       "<tbody>\n",
       "\t<tr><th scope=row>Training set</th><td> 0.6182399</td><td>13.6352   </td><td>10.479361 </td><td> 0.1464515</td><td>2.510741  </td><td>0.6592650 </td><td>-0.1620239</td><td>       NA </td></tr>\n",
       "\t<tr><th scope=row>Test set</th><td>-6.0188687</td><td>10.6846   </td><td> 8.827108 </td><td>-1.4519045</td><td>2.140312  </td><td>0.5553204 </td><td> 0.3225159</td><td>0.2081258 </td></tr>\n",
       "</tbody>\n",
       "</table>\n"
      ],
      "text/latex": [
       "\\begin{tabular}{r|llllllll}\n",
       "  & ME & RMSE & MAE & MPE & MAPE & MASE & ACF1 & Theil's U\\\\\n",
       "\\hline\n",
       "\tTraining set &  0.6182399 & 13.6352    & 10.479361  &  0.1464515 & 2.510741   & 0.6592650  & -0.1620239 &        NA \\\\\n",
       "\tTest set & -6.0188687 & 10.6846    &  8.827108  & -1.4519045 & 2.140312   & 0.5553204  &  0.3225159 & 0.2081258 \\\\\n",
       "\\end{tabular}\n"
      ],
      "text/markdown": [
       "\n",
       "| <!--/--> | ME | RMSE | MAE | MPE | MAPE | MASE | ACF1 | Theil's U |\n",
       "|---|---|---|---|---|---|---|---|---|\n",
       "| Training set |  0.6182399 | 13.6352    | 10.479361  |  0.1464515 | 2.510741   | 0.6592650  | -0.1620239 |        NA  |\n",
       "| Test set | -6.0188687 | 10.6846    |  8.827108  | -1.4519045 | 2.140312   | 0.5553204  |  0.3225159 | 0.2081258  |\n",
       "\n"
      ],
      "text/plain": [
       "             ME         RMSE    MAE       MPE        MAPE     MASE     \n",
       "Training set  0.6182399 13.6352 10.479361  0.1464515 2.510741 0.6592650\n",
       "Test set     -6.0188687 10.6846  8.827108 -1.4519045 2.140312 0.5553204\n",
       "             ACF1       Theil's U\n",
       "Training set -0.1620239        NA\n",
       "Test set      0.3225159 0.2081258"
      ]
     },
     "metadata": {},
     "output_type": "display_data"
    }
   ],
   "source": [
    "accuracy(fc1, test)\n",
    "accuracy(fc2, test)\n",
    "accuracy(fc3, test)"
   ]
  },
  {
   "cell_type": "code",
   "execution_count": 125,
   "id": "junior-photograph",
   "metadata": {},
   "outputs": [
    {
     "name": "stderr",
     "output_type": "stream",
     "text": [
      "ERROR while rich displaying an object: Error in repr_matrix_generic(obj, \"\\n%s%s\\n\", sprintf(\"|%%s\\n|%s|\\n\", : formal argument \"cols\" matched by multiple actual arguments\n",
      "\n",
      "Traceback:\n",
      "1. FUN(X[[i]], ...)\n",
      "2. tryCatch(withCallingHandlers({\n",
      " .     if (!mime %in% names(repr::mime2repr)) \n",
      " .         stop(\"No repr_* for mimetype \", mime, \" in repr::mime2repr\")\n",
      " .     rpr <- repr::mime2repr[[mime]](obj)\n",
      " .     if (is.null(rpr)) \n",
      " .         return(NULL)\n",
      " .     prepare_content(is.raw(rpr), rpr)\n",
      " . }, error = error_handler), error = outer_handler)\n",
      "3. tryCatchList(expr, classes, parentenv, handlers)\n",
      "4. tryCatchOne(expr, names, parentenv, handlers[[1L]])\n",
      "5. doTryCatch(return(expr), name, parentenv, handler)\n",
      "6. withCallingHandlers({\n",
      " .     if (!mime %in% names(repr::mime2repr)) \n",
      " .         stop(\"No repr_* for mimetype \", mime, \" in repr::mime2repr\")\n",
      " .     rpr <- repr::mime2repr[[mime]](obj)\n",
      " .     if (is.null(rpr)) \n",
      " .         return(NULL)\n",
      " .     prepare_content(is.raw(rpr), rpr)\n",
      " . }, error = error_handler)\n",
      "7. repr::mime2repr[[mime]](obj)\n",
      "8. repr_markdown.ts(obj)\n",
      "9. repr_ts_generic(obj, repr_markdown.matrix, ...)\n",
      "10. repr_func(m, ..., rows = nrow(m), cols = ncol(m))\n"
     ]
    },
    {
     "data": {
      "text/html": [
       "<table>\n",
       "<thead><tr><th></th><th scope=col>Qtr1</th><th scope=col>Qtr2</th><th scope=col>Qtr3</th><th scope=col>Qtr4</th></tr></thead>\n",
       "<tbody>\n",
       "\t<tr><th scope=row>1956</th><td>189</td><td>204</td><td>208</td><td>197</td></tr>\n",
       "\t<tr><th scope=row>1957</th><td>187</td><td>214</td><td>227</td><td>223</td></tr>\n",
       "\t<tr><th scope=row>1958</th><td>199</td><td>229</td><td>249</td><td>234</td></tr>\n",
       "\t<tr><th scope=row>1959</th><td>208</td><td>253</td><td>267</td><td>255</td></tr>\n",
       "\t<tr><th scope=row>1960</th><td>242</td><td>268</td><td>290</td><td>277</td></tr>\n",
       "\t<tr><th scope=row>1961</th><td>241</td><td>253</td><td>265</td><td>236</td></tr>\n",
       "\t<tr><th scope=row>1962</th><td>229</td><td>265</td><td>275</td><td>258</td></tr>\n",
       "\t<tr><th scope=row>1963</th><td>231</td><td>263</td><td>308</td><td>313</td></tr>\n",
       "\t<tr><th scope=row>1964</th><td>293</td><td>328</td><td>349</td><td>340</td></tr>\n",
       "\t<tr><th scope=row>1965</th><td>309</td><td>349</td><td>366</td><td>340</td></tr>\n",
       "\t<tr><th scope=row>1966</th><td>302</td><td>350</td><td>362</td><td>337</td></tr>\n",
       "\t<tr><th scope=row>1967</th><td>326</td><td>358</td><td>359</td><td>357</td></tr>\n",
       "\t<tr><th scope=row>1968</th><td>341</td><td>380</td><td>404</td><td>409</td></tr>\n",
       "\t<tr><th scope=row>1969</th><td>383</td><td>417</td><td>454</td><td>428</td></tr>\n",
       "\t<tr><th scope=row>1970</th><td>386</td><td>428</td><td>434</td><td>417</td></tr>\n",
       "\t<tr><th scope=row>1971</th><td>385</td><td>433</td><td>453</td><td>436</td></tr>\n",
       "\t<tr><th scope=row>1972</th><td>399</td><td>461</td><td>476</td><td>477</td></tr>\n",
       "\t<tr><th scope=row>1973</th><td>452</td><td>461</td><td>534</td><td>516</td></tr>\n",
       "\t<tr><th scope=row>1974</th><td>478</td><td>526</td><td>518</td><td>417</td></tr>\n",
       "\t<tr><th scope=row>1975</th><td>340</td><td>437</td><td>459</td><td>449</td></tr>\n",
       "\t<tr><th scope=row>1976</th><td>424</td><td>501</td><td>540</td><td>533</td></tr>\n",
       "\t<tr><th scope=row>1977</th><td>457</td><td>513</td><td>522</td><td>478</td></tr>\n",
       "\t<tr><th scope=row>1978</th><td>421</td><td>487</td><td>470</td><td>482</td></tr>\n",
       "\t<tr><th scope=row>1979</th><td>458</td><td>526</td><td>573</td><td>563</td></tr>\n",
       "\t<tr><th scope=row>1980</th><td>513</td><td>551</td><td>589</td><td>564</td></tr>\n",
       "\t<tr><th scope=row>1981</th><td>519</td><td>581</td><td>581</td><td>578</td></tr>\n",
       "\t<tr><th scope=row>1982</th><td>500</td><td>560</td><td>512</td><td>412</td></tr>\n",
       "\t<tr><th scope=row>1983</th><td>303</td><td>409</td><td>420</td><td>413</td></tr>\n",
       "\t<tr><th scope=row>1984</th><td>400</td><td>469</td><td>482</td><td>484</td></tr>\n",
       "\t<tr><th scope=row>1985</th><td>447</td><td>507</td><td>533</td><td>503</td></tr>\n",
       "\t<tr><th scope=row>1986</th><td>443</td><td>503</td><td>505</td><td>443</td></tr>\n",
       "\t<tr><th scope=row>1987</th><td>415</td><td>485</td><td>495</td><td>458</td></tr>\n",
       "\t<tr><th scope=row>1988</th><td>427</td><td>519</td><td>555</td><td>539</td></tr>\n",
       "\t<tr><th scope=row>1989</th><td>511</td><td>572</td><td>570</td><td>526</td></tr>\n",
       "\t<tr><th scope=row>1990</th><td>472</td><td>524</td><td>497</td><td>460</td></tr>\n",
       "\t<tr><th scope=row>1991</th><td>373</td><td>436</td><td>424</td><td>430</td></tr>\n",
       "\t<tr><th scope=row>1992</th><td>387</td><td>413</td><td>451</td><td>420</td></tr>\n",
       "\t<tr><th scope=row>1993</th><td>394</td><td>462</td><td>476</td><td>443</td></tr>\n",
       "\t<tr><th scope=row>1994</th><td>421</td><td>472</td><td>494</td><td>   </td></tr>\n",
       "</tbody>\n",
       "</table>\n"
      ],
      "text/latex": [
       "\\begin{tabular}{r|llll}\n",
       "  & Qtr1 & Qtr2 & Qtr3 & Qtr4\\\\\n",
       "\\hline\n",
       "\t1956 & 189 & 204 & 208 & 197\\\\\n",
       "\t1957 & 187 & 214 & 227 & 223\\\\\n",
       "\t1958 & 199 & 229 & 249 & 234\\\\\n",
       "\t1959 & 208 & 253 & 267 & 255\\\\\n",
       "\t1960 & 242 & 268 & 290 & 277\\\\\n",
       "\t1961 & 241 & 253 & 265 & 236\\\\\n",
       "\t1962 & 229 & 265 & 275 & 258\\\\\n",
       "\t1963 & 231 & 263 & 308 & 313\\\\\n",
       "\t1964 & 293 & 328 & 349 & 340\\\\\n",
       "\t1965 & 309 & 349 & 366 & 340\\\\\n",
       "\t1966 & 302 & 350 & 362 & 337\\\\\n",
       "\t1967 & 326 & 358 & 359 & 357\\\\\n",
       "\t1968 & 341 & 380 & 404 & 409\\\\\n",
       "\t1969 & 383 & 417 & 454 & 428\\\\\n",
       "\t1970 & 386 & 428 & 434 & 417\\\\\n",
       "\t1971 & 385 & 433 & 453 & 436\\\\\n",
       "\t1972 & 399 & 461 & 476 & 477\\\\\n",
       "\t1973 & 452 & 461 & 534 & 516\\\\\n",
       "\t1974 & 478 & 526 & 518 & 417\\\\\n",
       "\t1975 & 340 & 437 & 459 & 449\\\\\n",
       "\t1976 & 424 & 501 & 540 & 533\\\\\n",
       "\t1977 & 457 & 513 & 522 & 478\\\\\n",
       "\t1978 & 421 & 487 & 470 & 482\\\\\n",
       "\t1979 & 458 & 526 & 573 & 563\\\\\n",
       "\t1980 & 513 & 551 & 589 & 564\\\\\n",
       "\t1981 & 519 & 581 & 581 & 578\\\\\n",
       "\t1982 & 500 & 560 & 512 & 412\\\\\n",
       "\t1983 & 303 & 409 & 420 & 413\\\\\n",
       "\t1984 & 400 & 469 & 482 & 484\\\\\n",
       "\t1985 & 447 & 507 & 533 & 503\\\\\n",
       "\t1986 & 443 & 503 & 505 & 443\\\\\n",
       "\t1987 & 415 & 485 & 495 & 458\\\\\n",
       "\t1988 & 427 & 519 & 555 & 539\\\\\n",
       "\t1989 & 511 & 572 & 570 & 526\\\\\n",
       "\t1990 & 472 & 524 & 497 & 460\\\\\n",
       "\t1991 & 373 & 436 & 424 & 430\\\\\n",
       "\t1992 & 387 & 413 & 451 & 420\\\\\n",
       "\t1993 & 394 & 462 & 476 & 443\\\\\n",
       "\t1994 & 421 & 472 & 494 &    \\\\\n",
       "\\end{tabular}\n"
      ],
      "text/plain": [
       "     Qtr1 Qtr2 Qtr3 Qtr4\n",
       "1956 189  204  208  197 \n",
       "1957 187  214  227  223 \n",
       "1958 199  229  249  234 \n",
       "1959 208  253  267  255 \n",
       "1960 242  268  290  277 \n",
       "1961 241  253  265  236 \n",
       "1962 229  265  275  258 \n",
       "1963 231  263  308  313 \n",
       "1964 293  328  349  340 \n",
       "1965 309  349  366  340 \n",
       "1966 302  350  362  337 \n",
       "1967 326  358  359  357 \n",
       "1968 341  380  404  409 \n",
       "1969 383  417  454  428 \n",
       "1970 386  428  434  417 \n",
       "1971 385  433  453  436 \n",
       "1972 399  461  476  477 \n",
       "1973 452  461  534  516 \n",
       "1974 478  526  518  417 \n",
       "1975 340  437  459  449 \n",
       "1976 424  501  540  533 \n",
       "1977 457  513  522  478 \n",
       "1978 421  487  470  482 \n",
       "1979 458  526  573  563 \n",
       "1980 513  551  589  564 \n",
       "1981 519  581  581  578 \n",
       "1982 500  560  512  412 \n",
       "1983 303  409  420  413 \n",
       "1984 400  469  482  484 \n",
       "1985 447  507  533  503 \n",
       "1986 443  503  505  443 \n",
       "1987 415  485  495  458 \n",
       "1988 427  519  555  539 \n",
       "1989 511  572  570  526 \n",
       "1990 472  524  497  460 \n",
       "1991 373  436  424  430 \n",
       "1992 387  413  451  420 \n",
       "1993 394  462  476  443 \n",
       "1994 421  472  494      "
      ]
     },
     "metadata": {},
     "output_type": "display_data"
    }
   ],
   "source": [
    "bricksq"
   ]
  },
  {
   "cell_type": "code",
   "execution_count": 126,
   "id": "sufficient-intention",
   "metadata": {},
   "outputs": [],
   "source": [
    "train <- window(bricksq, end=end(bricksq)-c(3,1))\n",
    "test <- window(bricksq, start=end(bricksq)-c(3,0))\n",
    "fc1 <- forecast(ets(train), h=13)\n",
    "fc2 <- snaive(train, h=13)\n",
    "fc3 <- stlf(train, lambda=BoxCox.lambda(train), h=13)"
   ]
  },
  {
   "cell_type": "code",
   "execution_count": 127,
   "id": "improving-universe",
   "metadata": {},
   "outputs": [
    {
     "data": {
      "image/png": "[encoded data removed]",
      "text/plain": [
       "plot without title"
      ]
     },
     "metadata": {},
     "output_type": "display_data"
    }
   ],
   "source": [
    "autoplot(test) + \n",
    "autolayer(fc1, series=\"ets\", PI=FALSE) + \n",
    "autolayer(fc2, series=\"naive\", PI=FALSE) +\n",
    "autolayer(fc3, series=\"stlf\", PI=FALSE)"
   ]
  },
  {
   "cell_type": "code",
   "execution_count": 128,
   "id": "moved-night",
   "metadata": {},
   "outputs": [
    {
     "data": {
      "text/html": [
       "<table>\n",
       "<thead><tr><th></th><th scope=col>ME</th><th scope=col>RMSE</th><th scope=col>MAE</th><th scope=col>MPE</th><th scope=col>MAPE</th><th scope=col>MASE</th><th scope=col>ACF1</th><th scope=col>Theil's U</th></tr></thead>\n",
       "<tbody>\n",
       "\t<tr><th scope=row>Training set</th><td>-0.3488635</td><td>21.78068  </td><td>15.44195  </td><td>-0.1147142</td><td>3.800434  </td><td>0.4228153 </td><td>0.1788342 </td><td>       NA </td></tr>\n",
       "\t<tr><th scope=row>Test set</th><td>-2.0223864</td><td>15.37817  </td><td>12.23429  </td><td>-0.5894459</td><td>2.803553  </td><td>0.3349866 </td><td>0.3270557 </td><td>0.3889101 </td></tr>\n",
       "</tbody>\n",
       "</table>\n"
      ],
      "text/latex": [
       "\\begin{tabular}{r|llllllll}\n",
       "  & ME & RMSE & MAE & MPE & MAPE & MASE & ACF1 & Theil's U\\\\\n",
       "\\hline\n",
       "\tTraining set & -0.3488635 & 21.78068   & 15.44195   & -0.1147142 & 3.800434   & 0.4228153  & 0.1788342  &        NA \\\\\n",
       "\tTest set & -2.0223864 & 15.37817   & 12.23429   & -0.5894459 & 2.803553   & 0.3349866  & 0.3270557  & 0.3889101 \\\\\n",
       "\\end{tabular}\n"
      ],
      "text/markdown": [
       "\n",
       "| <!--/--> | ME | RMSE | MAE | MPE | MAPE | MASE | ACF1 | Theil's U |\n",
       "|---|---|---|---|---|---|---|---|---|\n",
       "| Training set | -0.3488635 | 21.78068   | 15.44195   | -0.1147142 | 3.800434   | 0.4228153  | 0.1788342  |        NA  |\n",
       "| Test set | -2.0223864 | 15.37817   | 12.23429   | -0.5894459 | 2.803553   | 0.3349866  | 0.3270557  | 0.3889101  |\n",
       "\n"
      ],
      "text/plain": [
       "             ME         RMSE     MAE      MPE        MAPE     MASE     \n",
       "Training set -0.3488635 21.78068 15.44195 -0.1147142 3.800434 0.4228153\n",
       "Test set     -2.0223864 15.37817 12.23429 -0.5894459 2.803553 0.3349866\n",
       "             ACF1      Theil's U\n",
       "Training set 0.1788342        NA\n",
       "Test set     0.3270557 0.3889101"
      ]
     },
     "metadata": {},
     "output_type": "display_data"
    },
    {
     "data": {
      "text/html": [
       "<table>\n",
       "<thead><tr><th></th><th scope=col>ME</th><th scope=col>RMSE</th><th scope=col>MAE</th><th scope=col>MPE</th><th scope=col>MAPE</th><th scope=col>MASE</th><th scope=col>ACF1</th><th scope=col>Theil's U</th></tr></thead>\n",
       "<tbody>\n",
       "\t<tr><th scope=row>Training set</th><td> 7.014493</td><td>50.05229 </td><td>36.52174 </td><td> 1.565362</td><td>8.940406 </td><td>1.0000000</td><td>0.8044755</td><td>       NA</td></tr>\n",
       "\t<tr><th scope=row>Test set</th><td>-8.307692</td><td>35.22019 </td><td>30.61538 </td><td>-1.902989</td><td>7.072799 </td><td>0.8382784</td><td>0.2844705</td><td>0.8266998</td></tr>\n",
       "</tbody>\n",
       "</table>\n"
      ],
      "text/latex": [
       "\\begin{tabular}{r|llllllll}\n",
       "  & ME & RMSE & MAE & MPE & MAPE & MASE & ACF1 & Theil's U\\\\\n",
       "\\hline\n",
       "\tTraining set &  7.014493 & 50.05229  & 36.52174  &  1.565362 & 8.940406  & 1.0000000 & 0.8044755 &        NA\\\\\n",
       "\tTest set & -8.307692 & 35.22019  & 30.61538  & -1.902989 & 7.072799  & 0.8382784 & 0.2844705 & 0.8266998\\\\\n",
       "\\end{tabular}\n"
      ],
      "text/markdown": [
       "\n",
       "| <!--/--> | ME | RMSE | MAE | MPE | MAPE | MASE | ACF1 | Theil's U |\n",
       "|---|---|---|---|---|---|---|---|---|\n",
       "| Training set |  7.014493 | 50.05229  | 36.52174  |  1.565362 | 8.940406  | 1.0000000 | 0.8044755 |        NA |\n",
       "| Test set | -8.307692 | 35.22019  | 30.61538  | -1.902989 | 7.072799  | 0.8382784 | 0.2844705 | 0.8266998 |\n",
       "\n"
      ],
      "text/plain": [
       "             ME        RMSE     MAE      MPE       MAPE     MASE      ACF1     \n",
       "Training set  7.014493 50.05229 36.52174  1.565362 8.940406 1.0000000 0.8044755\n",
       "Test set     -8.307692 35.22019 30.61538 -1.902989 7.072799 0.8382784 0.2844705\n",
       "             Theil's U\n",
       "Training set        NA\n",
       "Test set     0.8266998"
      ]
     },
     "metadata": {},
     "output_type": "display_data"
    },
    {
     "data": {
      "text/html": [
       "<table>\n",
       "<thead><tr><th></th><th scope=col>ME</th><th scope=col>RMSE</th><th scope=col>MAE</th><th scope=col>MPE</th><th scope=col>MAPE</th><th scope=col>MASE</th><th scope=col>ACF1</th><th scope=col>Theil's U</th></tr></thead>\n",
       "<tbody>\n",
       "\t<tr><th scope=row>Training set</th><td> 1.400714</td><td>21.41328 </td><td>15.39837 </td><td>0.3616624</td><td>3.731307 </td><td>0.4216221</td><td>0.1883923</td><td>       NA</td></tr>\n",
       "\t<tr><th scope=row>Test set</th><td>18.732439</td><td>28.44946 </td><td>24.97868 </td><td>4.1172636</td><td>5.612660 </td><td>0.6839399</td><td>0.4221968</td><td>0.7767417</td></tr>\n",
       "</tbody>\n",
       "</table>\n"
      ],
      "text/latex": [
       "\\begin{tabular}{r|llllllll}\n",
       "  & ME & RMSE & MAE & MPE & MAPE & MASE & ACF1 & Theil's U\\\\\n",
       "\\hline\n",
       "\tTraining set &  1.400714 & 21.41328  & 15.39837  & 0.3616624 & 3.731307  & 0.4216221 & 0.1883923 &        NA\\\\\n",
       "\tTest set & 18.732439 & 28.44946  & 24.97868  & 4.1172636 & 5.612660  & 0.6839399 & 0.4221968 & 0.7767417\\\\\n",
       "\\end{tabular}\n"
      ],
      "text/markdown": [
       "\n",
       "| <!--/--> | ME | RMSE | MAE | MPE | MAPE | MASE | ACF1 | Theil's U |\n",
       "|---|---|---|---|---|---|---|---|---|\n",
       "| Training set |  1.400714 | 21.41328  | 15.39837  | 0.3616624 | 3.731307  | 0.4216221 | 0.1883923 |        NA |\n",
       "| Test set | 18.732439 | 28.44946  | 24.97868  | 4.1172636 | 5.612660  | 0.6839399 | 0.4221968 | 0.7767417 |\n",
       "\n"
      ],
      "text/plain": [
       "             ME        RMSE     MAE      MPE       MAPE     MASE      ACF1     \n",
       "Training set  1.400714 21.41328 15.39837 0.3616624 3.731307 0.4216221 0.1883923\n",
       "Test set     18.732439 28.44946 24.97868 4.1172636 5.612660 0.6839399 0.4221968\n",
       "             Theil's U\n",
       "Training set        NA\n",
       "Test set     0.7767417"
      ]
     },
     "metadata": {},
     "output_type": "display_data"
    }
   ],
   "source": [
    "accuracy(fc1, test)\n",
    "accuracy(fc2, test)\n",
    "accuracy(fc3, test)"
   ]
  },
  {
   "cell_type": "code",
   "execution_count": 129,
   "id": "optional-payment",
   "metadata": {},
   "outputs": [
    {
     "name": "stderr",
     "output_type": "stream",
     "text": [
      "ERROR while rich displaying an object: Error in repr_matrix_generic(obj, \"\\n%s%s\\n\", sprintf(\"|%%s\\n|%s|\\n\", : formal argument \"cols\" matched by multiple actual arguments\n",
      "\n",
      "Traceback:\n",
      "1. FUN(X[[i]], ...)\n",
      "2. tryCatch(withCallingHandlers({\n",
      " .     if (!mime %in% names(repr::mime2repr)) \n",
      " .         stop(\"No repr_* for mimetype \", mime, \" in repr::mime2repr\")\n",
      " .     rpr <- repr::mime2repr[[mime]](obj)\n",
      " .     if (is.null(rpr)) \n",
      " .         return(NULL)\n",
      " .     prepare_content(is.raw(rpr), rpr)\n",
      " . }, error = error_handler), error = outer_handler)\n",
      "3. tryCatchList(expr, classes, parentenv, handlers)\n",
      "4. tryCatchOne(expr, names, parentenv, handlers[[1L]])\n",
      "5. doTryCatch(return(expr), name, parentenv, handler)\n",
      "6. withCallingHandlers({\n",
      " .     if (!mime %in% names(repr::mime2repr)) \n",
      " .         stop(\"No repr_* for mimetype \", mime, \" in repr::mime2repr\")\n",
      " .     rpr <- repr::mime2repr[[mime]](obj)\n",
      " .     if (is.null(rpr)) \n",
      " .         return(NULL)\n",
      " .     prepare_content(is.raw(rpr), rpr)\n",
      " . }, error = error_handler)\n",
      "7. repr::mime2repr[[mime]](obj)\n",
      "8. repr_markdown.ts(obj)\n",
      "9. repr_ts_generic(obj, repr_markdown.matrix, ...)\n",
      "10. repr_func(m, ..., rows = nrow(m), cols = ncol(m))\n"
     ]
    },
    {
     "data": {
      "text/html": [
       "<table>\n",
       "<thead><tr><th></th><th scope=col>Jan</th><th scope=col>Feb</th><th scope=col>Mar</th><th scope=col>Apr</th><th scope=col>May</th><th scope=col>Jun</th><th scope=col>Jul</th><th scope=col>Aug</th><th scope=col>Sep</th><th scope=col>Oct</th><th scope=col>Nov</th><th scope=col>Dec</th></tr></thead>\n",
       "<tbody>\n",
       "\t<tr><th scope=row>1956</th><td>  4742</td><td>  6128</td><td>  6494</td><td>  5379</td><td>  6011</td><td>  7003</td><td>  9164</td><td> 10333</td><td>  9614</td><td>  9545</td><td> 10096</td><td> 13277</td></tr>\n",
       "\t<tr><th scope=row>1957</th><td> 15711</td><td> 13135</td><td> 13077</td><td> 15453</td><td> 15995</td><td> 18071</td><td> 20291</td><td> 20175</td><td> 18975</td><td> 17928</td><td> 19782</td><td> 26055</td></tr>\n",
       "\t<tr><th scope=row>1958</th><td> 29856</td><td> 26879</td><td> 24485</td><td> 27745</td><td> 27282</td><td> 29418</td><td> 29908</td><td> 29278</td><td> 26002</td><td> 23826</td><td> 22302</td><td> 27565</td></tr>\n",
       "\t<tr><th scope=row>1959</th><td> 31486</td><td> 28207</td><td> 27669</td><td> 27559</td><td> 27924</td><td> 27528</td><td> 27410</td><td> 24887</td><td> 21904</td><td> 19598</td><td> 19037</td><td> 22469</td></tr>\n",
       "\t<tr><th scope=row>1960</th><td> 23781</td><td> 20020</td><td> 18177</td><td> 17732</td><td> 16765</td><td> 16310</td><td> 14897</td><td> 12940</td><td> 11465</td><td> 10364</td><td> 11738</td><td> 17633</td></tr>\n",
       "\t<tr><th scope=row>1961</th><td> 19257</td><td> 20941</td><td> 29718</td><td> 35025</td><td> 45110</td><td> 57154</td><td> 61499</td><td> 62090</td><td> 59561</td><td> 48531</td><td> 47541</td><td> 56756</td></tr>\n",
       "\t<tr><th scope=row>1962</th><td> 56755</td><td> 49740</td><td> 45870</td><td> 49136</td><td> 47256</td><td> 46324</td><td> 45453</td><td> 42333</td><td> 36851</td><td> 33952</td><td> 33392</td><td> 43153</td></tr>\n",
       "\t<tr><th scope=row>1963</th><td> 46178</td><td> 40482</td><td> 36394</td><td> 37142</td><td> 36424</td><td> 38188</td><td> 37174</td><td> 31869</td><td> 26575</td><td> 21758</td><td> 20978</td><td> 29555</td></tr>\n",
       "\t<tr><th scope=row>1964</th><td> 28649</td><td> 24226</td><td> 21955</td><td> 19937</td><td> 18287</td><td> 18129</td><td> 17072</td><td> 14924</td><td> 12491</td><td> 11160</td><td> 10658</td><td> 15451</td></tr>\n",
       "\t<tr><th scope=row>1965</th><td> 15831</td><td> 13698</td><td> 12111</td><td> 12690</td><td> 12585</td><td> 12855</td><td> 12137</td><td> 10977</td><td>  9993</td><td>  9614</td><td> 10459</td><td> 20509</td></tr>\n",
       "\t<tr><th scope=row>1966</th><td> 19490</td><td> 17611</td><td> 16206</td><td> 17560</td><td> 18082</td><td> 19482</td><td> 19200</td><td> 18918</td><td> 17375</td><td> 16122</td><td> 17269</td><td> 26261</td></tr>\n",
       "\t<tr><th scope=row>1967</th><td> 24911</td><td> 21969</td><td> 21956</td><td> 20944</td><td> 22200</td><td> 24002</td><td> 22951</td><td> 20143</td><td> 17187</td><td> 15287</td><td> 17394</td><td> 26321</td></tr>\n",
       "\t<tr><th scope=row>1968</th><td> 26943</td><td> 23735</td><td> 20744</td><td> 21090</td><td> 21502</td><td> 21275</td><td> 19426</td><td> 16798</td><td> 14209</td><td> 13357</td><td> 14766</td><td> 25092</td></tr>\n",
       "\t<tr><th scope=row>1969</th><td> 23460</td><td> 19551</td><td> 15898</td><td> 16012</td><td> 16054</td><td> 15910</td><td> 13873</td><td> 11854</td><td> 10138</td><td>  9942</td><td> 11262</td><td> 19601</td></tr>\n",
       "\t<tr><th scope=row>1970</th><td> 17778</td><td> 13854</td><td> 12681</td><td> 11328</td><td> 11946</td><td> 13043</td><td> 12785</td><td> 11937</td><td> 11383</td><td> 10282</td><td> 11316</td><td> 19652</td></tr>\n",
       "\t<tr><th scope=row>1971</th><td> 18337</td><td> 16779</td><td> 15504</td><td> 17258</td><td> 18264</td><td> 19184</td><td> 19453</td><td> 18741</td><td> 19087</td><td> 18171</td><td> 20825</td><td> 36441</td></tr>\n",
       "\t<tr><th scope=row>1972</th><td> 37486</td><td> 37303</td><td> 37639</td><td> 36536</td><td> 35850</td><td> 41581</td><td> 42979</td><td> 42490</td><td> 37992</td><td> 32454</td><td> 34049</td><td> 47598</td></tr>\n",
       "\t<tr><th scope=row>1973</th><td> 48622</td><td> 39868</td><td> 34511</td><td> 37234</td><td> 36675</td><td> 37945</td><td> 36593</td><td> 31669</td><td> 28682</td><td> 25944</td><td> 28443</td><td> 40232</td></tr>\n",
       "\t<tr><th scope=row>1974</th><td> 46847</td><td> 38315</td><td> 32600</td><td> 33349</td><td> 30598</td><td> 32009</td><td> 37599</td><td> 45999</td><td> 54945</td><td> 68394</td><td> 85735</td><td>140772</td></tr>\n",
       "\t<tr><th scope=row>1975</th><td>182260</td><td>184177</td><td>157547</td><td>168471</td><td>159020</td><td>160748</td><td>169631</td><td>170927</td><td>179898</td><td>176471</td><td>184528</td><td>231311</td></tr>\n",
       "\t<tr><th scope=row>1976</th><td>248619</td><td>215342</td><td>192024</td><td>178765</td><td>182397</td><td>188423</td><td>197159</td><td>198648</td><td>195864</td><td>194125</td><td>192866</td><td>215655</td></tr>\n",
       "\t<tr><th scope=row>1977</th><td>229415</td><td>245395</td><td>236383</td><td>226807</td><td>239984</td><td>250309</td><td>253809</td><td>254863</td><td>249551</td><td>254085</td><td>238332</td><td>256223</td></tr>\n",
       "\t<tr><th scope=row>1978</th><td>269896</td><td>298455</td><td>290356</td><td>283308</td><td>272384</td><td>286091</td><td>290718</td><td>285424</td><td>284642</td><td>279874</td><td>278829</td><td>311279</td></tr>\n",
       "\t<tr><th scope=row>1979</th><td>341877</td><td>357463</td><td>334400</td><td>332572</td><td>318905</td><td>311232</td><td>310000</td><td>303800</td><td>299566</td><td>286241</td><td>282902</td><td>297782</td></tr>\n",
       "\t<tr><th scope=row>1980</th><td>334495</td><td>334265</td><td>316776</td><td>309300</td><td>308989</td><td>311232</td><td>313943</td><td>303555</td><td>290386</td><td>283822</td><td>284842</td><td>299500</td></tr>\n",
       "\t<tr><th scope=row>1981</th><td>339700</td><td>347400</td><td>325500</td><td>315200</td><td>314900</td><td>314500</td><td>313700</td><td>318500</td><td>306000</td><td>299500</td><td>289800</td><td>304700</td></tr>\n",
       "\t<tr><th scope=row>1982</th><td>351425</td><td>372288</td><td>358536</td><td>356004</td><td>375626</td><td>390664</td><td>404840</td><td>421856</td><td>446341</td><td>465959</td><td>493446</td><td>562592</td></tr>\n",
       "\t<tr><th scope=row>1983</th><td>601931</td><td>632837</td><td>622819</td><td>622162</td><td>633272</td><td>635002</td><td>634020</td><td>622103</td><td>610379</td><td>599100</td><td>591442</td><td>629214</td></tr>\n",
       "\t<tr><th scope=row>1984</th><td>674424</td><td>667059</td><td>626653</td><td>602100</td><td>600344</td><td>584506</td><td>580347</td><td>570553</td><td>565348</td><td>555279</td><td>552893</td><td>576900</td></tr>\n",
       "\t<tr><th scope=row>1985</th><td>636841</td><td>636342</td><td>599092</td><td>580700</td><td>568574</td><td>561400</td><td>553644</td><td>541022</td><td>534700</td><td>522587</td><td>520756</td><td>552300</td></tr>\n",
       "\t<tr><th scope=row>1986</th><td>609987</td><td>603156</td><td>578700</td><td>568400</td><td>569966</td><td>569761</td><td>573989</td><td>573735</td><td>566245</td><td>556055</td><td>540527</td><td>560166</td></tr>\n",
       "\t<tr><th scope=row>1987</th><td>623079</td><td>619978</td><td>592892</td><td>582102</td><td>561698</td><td>550850</td><td>536522</td><td>525650</td><td>515893</td><td>492248</td><td>481236</td><td>495772</td></tr>\n",
       "\t<tr><th scope=row>1988</th><td>517127</td><td>511023</td><td>493993</td><td>483400</td><td>481469</td><td>475070</td><td>472806</td><td>458767</td><td>441201</td><td>428578</td><td>419052</td><td>420900</td></tr>\n",
       "\t<tr><th scope=row>1989</th><td>448572</td><td>441100</td><td>409708</td><td>393323</td><td>391918</td><td>390001</td><td>383839</td><td>377968</td><td>368060</td><td>360246</td><td>357443</td><td>374530</td></tr>\n",
       "\t<tr><th scope=row>1990</th><td>385727</td><td>398961</td><td>390149</td><td>391108</td><td>411171</td><td>427931</td><td>441335</td><td>450824</td><td>452304</td><td>457658</td><td>480083</td><td>523798</td></tr>\n",
       "\t<tr><th scope=row>1991</th><td>567249</td><td>580777</td><td>596890</td><td>616326</td><td>647415</td><td>676706</td><td>701677</td><td>709801</td><td>718748</td><td>720754</td><td>730105</td><td>751348</td></tr>\n",
       "\t<tr><th scope=row>1992</th><td>779868</td><td>816124</td><td>818102</td><td>826297</td><td>838390</td><td>851831</td><td>856505</td><td>      </td><td>      </td><td>      </td><td>      </td><td>      </td></tr>\n",
       "</tbody>\n",
       "</table>\n"
      ],
      "text/latex": [
       "\\begin{tabular}{r|llllllllllll}\n",
       "  & Jan & Feb & Mar & Apr & May & Jun & Jul & Aug & Sep & Oct & Nov & Dec\\\\\n",
       "\\hline\n",
       "\t1956 &   4742 &   6128 &   6494 &   5379 &   6011 &   7003 &   9164 &  10333 &   9614 &   9545 &  10096 &  13277\\\\\n",
       "\t1957 &  15711 &  13135 &  13077 &  15453 &  15995 &  18071 &  20291 &  20175 &  18975 &  17928 &  19782 &  26055\\\\\n",
       "\t1958 &  29856 &  26879 &  24485 &  27745 &  27282 &  29418 &  29908 &  29278 &  26002 &  23826 &  22302 &  27565\\\\\n",
       "\t1959 &  31486 &  28207 &  27669 &  27559 &  27924 &  27528 &  27410 &  24887 &  21904 &  19598 &  19037 &  22469\\\\\n",
       "\t1960 &  23781 &  20020 &  18177 &  17732 &  16765 &  16310 &  14897 &  12940 &  11465 &  10364 &  11738 &  17633\\\\\n",
       "\t1961 &  19257 &  20941 &  29718 &  35025 &  45110 &  57154 &  61499 &  62090 &  59561 &  48531 &  47541 &  56756\\\\\n",
       "\t1962 &  56755 &  49740 &  45870 &  49136 &  47256 &  46324 &  45453 &  42333 &  36851 &  33952 &  33392 &  43153\\\\\n",
       "\t1963 &  46178 &  40482 &  36394 &  37142 &  36424 &  38188 &  37174 &  31869 &  26575 &  21758 &  20978 &  29555\\\\\n",
       "\t1964 &  28649 &  24226 &  21955 &  19937 &  18287 &  18129 &  17072 &  14924 &  12491 &  11160 &  10658 &  15451\\\\\n",
       "\t1965 &  15831 &  13698 &  12111 &  12690 &  12585 &  12855 &  12137 &  10977 &   9993 &   9614 &  10459 &  20509\\\\\n",
       "\t1966 &  19490 &  17611 &  16206 &  17560 &  18082 &  19482 &  19200 &  18918 &  17375 &  16122 &  17269 &  26261\\\\\n",
       "\t1967 &  24911 &  21969 &  21956 &  20944 &  22200 &  24002 &  22951 &  20143 &  17187 &  15287 &  17394 &  26321\\\\\n",
       "\t1968 &  26943 &  23735 &  20744 &  21090 &  21502 &  21275 &  19426 &  16798 &  14209 &  13357 &  14766 &  25092\\\\\n",
       "\t1969 &  23460 &  19551 &  15898 &  16012 &  16054 &  15910 &  13873 &  11854 &  10138 &   9942 &  11262 &  19601\\\\\n",
       "\t1970 &  17778 &  13854 &  12681 &  11328 &  11946 &  13043 &  12785 &  11937 &  11383 &  10282 &  11316 &  19652\\\\\n",
       "\t1971 &  18337 &  16779 &  15504 &  17258 &  18264 &  19184 &  19453 &  18741 &  19087 &  18171 &  20825 &  36441\\\\\n",
       "\t1972 &  37486 &  37303 &  37639 &  36536 &  35850 &  41581 &  42979 &  42490 &  37992 &  32454 &  34049 &  47598\\\\\n",
       "\t1973 &  48622 &  39868 &  34511 &  37234 &  36675 &  37945 &  36593 &  31669 &  28682 &  25944 &  28443 &  40232\\\\\n",
       "\t1974 &  46847 &  38315 &  32600 &  33349 &  30598 &  32009 &  37599 &  45999 &  54945 &  68394 &  85735 & 140772\\\\\n",
       "\t1975 & 182260 & 184177 & 157547 & 168471 & 159020 & 160748 & 169631 & 170927 & 179898 & 176471 & 184528 & 231311\\\\\n",
       "\t1976 & 248619 & 215342 & 192024 & 178765 & 182397 & 188423 & 197159 & 198648 & 195864 & 194125 & 192866 & 215655\\\\\n",
       "\t1977 & 229415 & 245395 & 236383 & 226807 & 239984 & 250309 & 253809 & 254863 & 249551 & 254085 & 238332 & 256223\\\\\n",
       "\t1978 & 269896 & 298455 & 290356 & 283308 & 272384 & 286091 & 290718 & 285424 & 284642 & 279874 & 278829 & 311279\\\\\n",
       "\t1979 & 341877 & 357463 & 334400 & 332572 & 318905 & 311232 & 310000 & 303800 & 299566 & 286241 & 282902 & 297782\\\\\n",
       "\t1980 & 334495 & 334265 & 316776 & 309300 & 308989 & 311232 & 313943 & 303555 & 290386 & 283822 & 284842 & 299500\\\\\n",
       "\t1981 & 339700 & 347400 & 325500 & 315200 & 314900 & 314500 & 313700 & 318500 & 306000 & 299500 & 289800 & 304700\\\\\n",
       "\t1982 & 351425 & 372288 & 358536 & 356004 & 375626 & 390664 & 404840 & 421856 & 446341 & 465959 & 493446 & 562592\\\\\n",
       "\t1983 & 601931 & 632837 & 622819 & 622162 & 633272 & 635002 & 634020 & 622103 & 610379 & 599100 & 591442 & 629214\\\\\n",
       "\t1984 & 674424 & 667059 & 626653 & 602100 & 600344 & 584506 & 580347 & 570553 & 565348 & 555279 & 552893 & 576900\\\\\n",
       "\t1985 & 636841 & 636342 & 599092 & 580700 & 568574 & 561400 & 553644 & 541022 & 534700 & 522587 & 520756 & 552300\\\\\n",
       "\t1986 & 609987 & 603156 & 578700 & 568400 & 569966 & 569761 & 573989 & 573735 & 566245 & 556055 & 540527 & 560166\\\\\n",
       "\t1987 & 623079 & 619978 & 592892 & 582102 & 561698 & 550850 & 536522 & 525650 & 515893 & 492248 & 481236 & 495772\\\\\n",
       "\t1988 & 517127 & 511023 & 493993 & 483400 & 481469 & 475070 & 472806 & 458767 & 441201 & 428578 & 419052 & 420900\\\\\n",
       "\t1989 & 448572 & 441100 & 409708 & 393323 & 391918 & 390001 & 383839 & 377968 & 368060 & 360246 & 357443 & 374530\\\\\n",
       "\t1990 & 385727 & 398961 & 390149 & 391108 & 411171 & 427931 & 441335 & 450824 & 452304 & 457658 & 480083 & 523798\\\\\n",
       "\t1991 & 567249 & 580777 & 596890 & 616326 & 647415 & 676706 & 701677 & 709801 & 718748 & 720754 & 730105 & 751348\\\\\n",
       "\t1992 & 779868 & 816124 & 818102 & 826297 & 838390 & 851831 & 856505 &        &        &        &        &       \\\\\n",
       "\\end{tabular}\n"
      ],
      "text/plain": [
       "     Jan    Feb    Mar    Apr    May    Jun    Jul    Aug    Sep    Oct   \n",
       "1956   4742   6128   6494   5379   6011   7003   9164  10333   9614   9545\n",
       "1957  15711  13135  13077  15453  15995  18071  20291  20175  18975  17928\n",
       "1958  29856  26879  24485  27745  27282  29418  29908  29278  26002  23826\n",
       "1959  31486  28207  27669  27559  27924  27528  27410  24887  21904  19598\n",
       "1960  23781  20020  18177  17732  16765  16310  14897  12940  11465  10364\n",
       "1961  19257  20941  29718  35025  45110  57154  61499  62090  59561  48531\n",
       "1962  56755  49740  45870  49136  47256  46324  45453  42333  36851  33952\n",
       "1963  46178  40482  36394  37142  36424  38188  37174  31869  26575  21758\n",
       "1964  28649  24226  21955  19937  18287  18129  17072  14924  12491  11160\n",
       "1965  15831  13698  12111  12690  12585  12855  12137  10977   9993   9614\n",
       "1966  19490  17611  16206  17560  18082  19482  19200  18918  17375  16122\n",
       "1967  24911  21969  21956  20944  22200  24002  22951  20143  17187  15287\n",
       "1968  26943  23735  20744  21090  21502  21275  19426  16798  14209  13357\n",
       "1969  23460  19551  15898  16012  16054  15910  13873  11854  10138   9942\n",
       "1970  17778  13854  12681  11328  11946  13043  12785  11937  11383  10282\n",
       "1971  18337  16779  15504  17258  18264  19184  19453  18741  19087  18171\n",
       "1972  37486  37303  37639  36536  35850  41581  42979  42490  37992  32454\n",
       "1973  48622  39868  34511  37234  36675  37945  36593  31669  28682  25944\n",
       "1974  46847  38315  32600  33349  30598  32009  37599  45999  54945  68394\n",
       "1975 182260 184177 157547 168471 159020 160748 169631 170927 179898 176471\n",
       "1976 248619 215342 192024 178765 182397 188423 197159 198648 195864 194125\n",
       "1977 229415 245395 236383 226807 239984 250309 253809 254863 249551 254085\n",
       "1978 269896 298455 290356 283308 272384 286091 290718 285424 284642 279874\n",
       "1979 341877 357463 334400 332572 318905 311232 310000 303800 299566 286241\n",
       "1980 334495 334265 316776 309300 308989 311232 313943 303555 290386 283822\n",
       "1981 339700 347400 325500 315200 314900 314500 313700 318500 306000 299500\n",
       "1982 351425 372288 358536 356004 375626 390664 404840 421856 446341 465959\n",
       "1983 601931 632837 622819 622162 633272 635002 634020 622103 610379 599100\n",
       "1984 674424 667059 626653 602100 600344 584506 580347 570553 565348 555279\n",
       "1985 636841 636342 599092 580700 568574 561400 553644 541022 534700 522587\n",
       "1986 609987 603156 578700 568400 569966 569761 573989 573735 566245 556055\n",
       "1987 623079 619978 592892 582102 561698 550850 536522 525650 515893 492248\n",
       "1988 517127 511023 493993 483400 481469 475070 472806 458767 441201 428578\n",
       "1989 448572 441100 409708 393323 391918 390001 383839 377968 368060 360246\n",
       "1990 385727 398961 390149 391108 411171 427931 441335 450824 452304 457658\n",
       "1991 567249 580777 596890 616326 647415 676706 701677 709801 718748 720754\n",
       "1992 779868 816124 818102 826297 838390 851831 856505                     \n",
       "     Nov    Dec   \n",
       "1956  10096  13277\n",
       "1957  19782  26055\n",
       "1958  22302  27565\n",
       "1959  19037  22469\n",
       "1960  11738  17633\n",
       "1961  47541  56756\n",
       "1962  33392  43153\n",
       "1963  20978  29555\n",
       "1964  10658  15451\n",
       "1965  10459  20509\n",
       "1966  17269  26261\n",
       "1967  17394  26321\n",
       "1968  14766  25092\n",
       "1969  11262  19601\n",
       "1970  11316  19652\n",
       "1971  20825  36441\n",
       "1972  34049  47598\n",
       "1973  28443  40232\n",
       "1974  85735 140772\n",
       "1975 184528 231311\n",
       "1976 192866 215655\n",
       "1977 238332 256223\n",
       "1978 278829 311279\n",
       "1979 282902 297782\n",
       "1980 284842 299500\n",
       "1981 289800 304700\n",
       "1982 493446 562592\n",
       "1983 591442 629214\n",
       "1984 552893 576900\n",
       "1985 520756 552300\n",
       "1986 540527 560166\n",
       "1987 481236 495772\n",
       "1988 419052 420900\n",
       "1989 357443 374530\n",
       "1990 480083 523798\n",
       "1991 730105 751348\n",
       "1992              "
      ]
     },
     "metadata": {},
     "output_type": "display_data"
    }
   ],
   "source": [
    "dole"
   ]
  },
  {
   "cell_type": "code",
   "execution_count": 137,
   "id": "useful-finger",
   "metadata": {},
   "outputs": [],
   "source": [
    "train <- window(dole, end=end(dole)-c(3,1))\n",
    "test <- window(dole, start=end(dole)-c(3,0))\n",
    "fc1 <- forecast(ets(train), h=36)\n",
    "fc2 <- snaive(train, h=36)\n",
    "fc3 <- stlf(train, lambda=BoxCox.lambda(train), h=36)"
   ]
  },
  {
   "cell_type": "code",
   "execution_count": 138,
   "id": "average-documentation",
   "metadata": {},
   "outputs": [
    {
     "data": {
      "image/png": "[encoded data removed]",
      "text/plain": [
       "plot without title"
      ]
     },
     "metadata": {},
     "output_type": "display_data"
    }
   ],
   "source": [
    "autoplot(test) + \n",
    "autolayer(fc1, series=\"ets\", PI=FALSE) + \n",
    "autolayer(fc2, series=\"naive\", PI=FALSE) +\n",
    "autolayer(fc3, series=\"stlf\", PI=FALSE)"
   ]
  },
  {
   "cell_type": "code",
   "execution_count": 139,
   "id": "serious-linux",
   "metadata": {},
   "outputs": [
    {
     "data": {
      "text/html": [
       "<table>\n",
       "<thead><tr><th></th><th scope=col>ME</th><th scope=col>RMSE</th><th scope=col>MAE</th><th scope=col>MPE</th><th scope=col>MAPE</th><th scope=col>MASE</th><th scope=col>ACF1</th><th scope=col>Theil's U</th></tr></thead>\n",
       "<tbody>\n",
       "\t<tr><th scope=row>Training set</th><td>   -43.97203</td><td> 16514.08   </td><td>  9559.249  </td><td> 0.5003715  </td><td> 6.235696   </td><td>0.3051564   </td><td>0.5075433   </td><td>      NA    </td></tr>\n",
       "\t<tr><th scope=row>Test set</th><td>245990.37348</td><td>302478.73   </td><td>245990.373  </td><td>37.7926695  </td><td>37.792670   </td><td>7.8526600   </td><td>0.9366090   </td><td>12.61801    </td></tr>\n",
       "</tbody>\n",
       "</table>\n"
      ],
      "text/latex": [
       "\\begin{tabular}{r|llllllll}\n",
       "  & ME & RMSE & MAE & MPE & MAPE & MASE & ACF1 & Theil's U\\\\\n",
       "\\hline\n",
       "\tTraining set &    -43.97203 &  16514.08    &   9559.249   &  0.5003715   &  6.235696    & 0.3051564    & 0.5075433    &       NA    \\\\\n",
       "\tTest set & 245990.37348 & 302478.73    & 245990.373   & 37.7926695   & 37.792670    & 7.8526600    & 0.9366090    & 12.61801    \\\\\n",
       "\\end{tabular}\n"
      ],
      "text/markdown": [
       "\n",
       "| <!--/--> | ME | RMSE | MAE | MPE | MAPE | MASE | ACF1 | Theil's U |\n",
       "|---|---|---|---|---|---|---|---|---|\n",
       "| Training set |    -43.97203 |  16514.08    |   9559.249   |  0.5003715   |  6.235696    | 0.3051564    | 0.5075433    |       NA     |\n",
       "| Test set | 245990.37348 | 302478.73    | 245990.373   | 37.7926695   | 37.792670    | 7.8526600    | 0.9366090    | 12.61801     |\n",
       "\n"
      ],
      "text/plain": [
       "             ME           RMSE      MAE        MPE        MAPE      MASE     \n",
       "Training set    -43.97203  16514.08   9559.249  0.5003715  6.235696 0.3051564\n",
       "Test set     245990.37348 302478.73 245990.373 37.7926695 37.792670 7.8526600\n",
       "             ACF1      Theil's U\n",
       "Training set 0.5075433       NA \n",
       "Test set     0.9366090 12.61801 "
      ]
     },
     "metadata": {},
     "output_type": "display_data"
    },
    {
     "data": {
      "text/html": [
       "<table>\n",
       "<thead><tr><th></th><th scope=col>ME</th><th scope=col>RMSE</th><th scope=col>MAE</th><th scope=col>MPE</th><th scope=col>MAPE</th><th scope=col>MASE</th><th scope=col>ACF1</th><th scope=col>Theil's U</th></tr></thead>\n",
       "<tbody>\n",
       "\t<tr><th scope=row>Training set</th><td> 12867.03</td><td> 56276.27</td><td> 31325.74</td><td> 3.418356</td><td>27.74820 </td><td>1.000000 </td><td>0.9782284</td><td>      NA </td></tr>\n",
       "\t<tr><th scope=row>Test set</th><td>139826.81</td><td>224940.16</td><td>172348.47</td><td>17.407268</td><td>25.98169 </td><td>5.501817 </td><td>0.9179536</td><td>8.981789 </td></tr>\n",
       "</tbody>\n",
       "</table>\n"
      ],
      "text/latex": [
       "\\begin{tabular}{r|llllllll}\n",
       "  & ME & RMSE & MAE & MPE & MAPE & MASE & ACF1 & Theil's U\\\\\n",
       "\\hline\n",
       "\tTraining set &  12867.03 &  56276.27 &  31325.74 &  3.418356 & 27.74820  & 1.000000  & 0.9782284 &       NA \\\\\n",
       "\tTest set & 139826.81 & 224940.16 & 172348.47 & 17.407268 & 25.98169  & 5.501817  & 0.9179536 & 8.981789 \\\\\n",
       "\\end{tabular}\n"
      ],
      "text/markdown": [
       "\n",
       "| <!--/--> | ME | RMSE | MAE | MPE | MAPE | MASE | ACF1 | Theil's U |\n",
       "|---|---|---|---|---|---|---|---|---|\n",
       "| Training set |  12867.03 |  56276.27 |  31325.74 |  3.418356 | 27.74820  | 1.000000  | 0.9782284 |       NA  |\n",
       "| Test set | 139826.81 | 224940.16 | 172348.47 | 17.407268 | 25.98169  | 5.501817  | 0.9179536 | 8.981789  |\n",
       "\n"
      ],
      "text/plain": [
       "             ME        RMSE      MAE       MPE       MAPE     MASE    \n",
       "Training set  12867.03  56276.27  31325.74  3.418356 27.74820 1.000000\n",
       "Test set     139826.81 224940.16 172348.47 17.407268 25.98169 5.501817\n",
       "             ACF1      Theil's U\n",
       "Training set 0.9782284       NA \n",
       "Test set     0.9179536 8.981789 "
      ]
     },
     "metadata": {},
     "output_type": "display_data"
    },
    {
     "data": {
      "text/html": [
       "<table>\n",
       "<thead><tr><th></th><th scope=col>ME</th><th scope=col>RMSE</th><th scope=col>MAE</th><th scope=col>MPE</th><th scope=col>MAPE</th><th scope=col>MASE</th><th scope=col>ACF1</th><th scope=col>Theil's U</th></tr></thead>\n",
       "<tbody>\n",
       "\t<tr><th scope=row>Training set</th><td>   164.504 </td><td>  6161.745 </td><td>  3538.65  </td><td> 0.1792235 </td><td> 3.731988  </td><td>0.112963   </td><td>-0.07099662</td><td>      NA   </td></tr>\n",
       "\t<tr><th scope=row>Test set</th><td>177799.662 </td><td>243916.217 </td><td>183456.09  </td><td>25.1736039 </td><td>26.651081  </td><td>5.856401   </td><td> 0.93667203</td><td>9.765639   </td></tr>\n",
       "</tbody>\n",
       "</table>\n"
      ],
      "text/latex": [
       "\\begin{tabular}{r|llllllll}\n",
       "  & ME & RMSE & MAE & MPE & MAPE & MASE & ACF1 & Theil's U\\\\\n",
       "\\hline\n",
       "\tTraining set &    164.504  &   6161.745  &   3538.65   &  0.1792235  &  3.731988   & 0.112963    & -0.07099662 &       NA   \\\\\n",
       "\tTest set & 177799.662  & 243916.217  & 183456.09   & 25.1736039  & 26.651081   & 5.856401    &  0.93667203 & 9.765639   \\\\\n",
       "\\end{tabular}\n"
      ],
      "text/markdown": [
       "\n",
       "| <!--/--> | ME | RMSE | MAE | MPE | MAPE | MASE | ACF1 | Theil's U |\n",
       "|---|---|---|---|---|---|---|---|---|\n",
       "| Training set |    164.504  |   6161.745  |   3538.65   |  0.1792235  |  3.731988   | 0.112963    | -0.07099662 |       NA    |\n",
       "| Test set | 177799.662  | 243916.217  | 183456.09   | 25.1736039  | 26.651081   | 5.856401    |  0.93667203 | 9.765639    |\n",
       "\n"
      ],
      "text/plain": [
       "             ME         RMSE       MAE       MPE        MAPE      MASE    \n",
       "Training set    164.504   6161.745   3538.65  0.1792235  3.731988 0.112963\n",
       "Test set     177799.662 243916.217 183456.09 25.1736039 26.651081 5.856401\n",
       "             ACF1        Theil's U\n",
       "Training set -0.07099662       NA \n",
       "Test set      0.93667203 9.765639 "
      ]
     },
     "metadata": {},
     "output_type": "display_data"
    }
   ],
   "source": [
    "accuracy(fc1, test)\n",
    "accuracy(fc2, test)\n",
    "accuracy(fc3, test)"
   ]
  },
  {
   "cell_type": "code",
   "execution_count": 140,
   "id": "competitive-kruger",
   "metadata": {},
   "outputs": [
    {
     "name": "stderr",
     "output_type": "stream",
     "text": [
      "ERROR while rich displaying an object: Error in repr_matrix_generic(obj, \"\\n%s%s\\n\", sprintf(\"|%%s\\n|%s|\\n\", : formal argument \"cols\" matched by multiple actual arguments\n",
      "\n",
      "Traceback:\n",
      "1. FUN(X[[i]], ...)\n",
      "2. tryCatch(withCallingHandlers({\n",
      " .     if (!mime %in% names(repr::mime2repr)) \n",
      " .         stop(\"No repr_* for mimetype \", mime, \" in repr::mime2repr\")\n",
      " .     rpr <- repr::mime2repr[[mime]](obj)\n",
      " .     if (is.null(rpr)) \n",
      " .         return(NULL)\n",
      " .     prepare_content(is.raw(rpr), rpr)\n",
      " . }, error = error_handler), error = outer_handler)\n",
      "3. tryCatchList(expr, classes, parentenv, handlers)\n",
      "4. tryCatchOne(expr, names, parentenv, handlers[[1L]])\n",
      "5. doTryCatch(return(expr), name, parentenv, handler)\n",
      "6. withCallingHandlers({\n",
      " .     if (!mime %in% names(repr::mime2repr)) \n",
      " .         stop(\"No repr_* for mimetype \", mime, \" in repr::mime2repr\")\n",
      " .     rpr <- repr::mime2repr[[mime]](obj)\n",
      " .     if (is.null(rpr)) \n",
      " .         return(NULL)\n",
      " .     prepare_content(is.raw(rpr), rpr)\n",
      " . }, error = error_handler)\n",
      "7. repr::mime2repr[[mime]](obj)\n",
      "8. repr_markdown.ts(obj)\n",
      "9. repr_ts_generic(obj, repr_markdown.matrix, ...)\n",
      "10. repr_func(m, ..., rows = nrow(m), cols = ncol(m))\n"
     ]
    },
    {
     "data": {
      "text/html": [
       "<table>\n",
       "<thead><tr><th></th><th scope=col>Jan</th><th scope=col>Feb</th><th scope=col>Mar</th><th scope=col>Apr</th><th scope=col>May</th><th scope=col>Jun</th><th scope=col>Jul</th><th scope=col>Aug</th><th scope=col>Sep</th><th scope=col>Oct</th><th scope=col>Nov</th><th scope=col>Dec</th></tr></thead>\n",
       "<tbody>\n",
       "\t<tr><th scope=row>1991</th><td>         </td><td>         </td><td>         </td><td>         </td><td>         </td><td>         </td><td> 3.526591</td><td> 3.180891</td><td> 3.252221</td><td> 3.611003</td><td> 3.565869</td><td> 4.306371</td></tr>\n",
       "\t<tr><th scope=row>1992</th><td> 5.088335</td><td> 2.814520</td><td> 2.985811</td><td> 3.204780</td><td> 3.127578</td><td> 3.270523</td><td> 3.737851</td><td> 3.558776</td><td> 3.777202</td><td> 3.924490</td><td> 4.386531</td><td> 5.810549</td></tr>\n",
       "\t<tr><th scope=row>1993</th><td> 6.192068</td><td> 3.450857</td><td> 3.772307</td><td> 3.734303</td><td> 3.905399</td><td> 4.049687</td><td> 4.315566</td><td> 4.562185</td><td> 4.608662</td><td> 4.667851</td><td> 5.093841</td><td> 7.179962</td></tr>\n",
       "\t<tr><th scope=row>1994</th><td> 6.731473</td><td> 3.841278</td><td> 4.394076</td><td> 4.075341</td><td> 4.540645</td><td> 4.645615</td><td> 4.752607</td><td> 5.350605</td><td> 5.204455</td><td> 5.301651</td><td> 5.773742</td><td> 6.204593</td></tr>\n",
       "\t<tr><th scope=row>1995</th><td> 6.749484</td><td> 4.216067</td><td> 4.949349</td><td> 4.823045</td><td> 5.194754</td><td> 5.170787</td><td> 5.256742</td><td> 5.855277</td><td> 5.490729</td><td> 6.115293</td><td> 6.088473</td><td> 7.416598</td></tr>\n",
       "\t<tr><th scope=row>1996</th><td> 8.329452</td><td> 5.069796</td><td> 5.262557</td><td> 5.597126</td><td> 6.110296</td><td> 5.689161</td><td> 6.486849</td><td> 6.300569</td><td> 6.467476</td><td> 6.828629</td><td> 6.649078</td><td> 8.606937</td></tr>\n",
       "\t<tr><th scope=row>1997</th><td> 8.524471</td><td> 5.277918</td><td> 5.714303</td><td> 6.214529</td><td> 6.411929</td><td> 6.667716</td><td> 7.050831</td><td> 6.704919</td><td> 7.250988</td><td> 7.819733</td><td> 7.398101</td><td>10.096233</td></tr>\n",
       "\t<tr><th scope=row>1998</th><td> 8.798513</td><td> 5.918261</td><td> 6.534493</td><td> 6.675736</td><td> 7.064201</td><td> 7.383381</td><td> 7.813496</td><td> 7.431892</td><td> 8.275117</td><td> 8.260441</td><td> 8.596156</td><td>10.558939</td></tr>\n",
       "\t<tr><th scope=row>1999</th><td>10.391416</td><td> 6.421535</td><td> 8.062619</td><td> 7.297739</td><td> 7.936916</td><td> 8.165323</td><td> 8.717420</td><td> 9.070964</td><td> 9.177113</td><td> 9.251887</td><td> 9.933136</td><td>11.532974</td></tr>\n",
       "\t<tr><th scope=row>2000</th><td>12.511462</td><td> 7.457199</td><td> 8.591191</td><td> 8.474000</td><td> 9.386803</td><td> 9.560399</td><td>10.834295</td><td>10.643751</td><td> 9.908162</td><td>11.710041</td><td>11.340151</td><td>12.079132</td></tr>\n",
       "\t<tr><th scope=row>2001</th><td>14.497581</td><td> 8.049275</td><td>10.312891</td><td> 9.753358</td><td>10.850382</td><td> 9.961719</td><td>11.443601</td><td>11.659239</td><td>10.647060</td><td>12.652134</td><td>13.674466</td><td>12.965735</td></tr>\n",
       "\t<tr><th scope=row>2002</th><td>16.300269</td><td> 9.053485</td><td>10.002449</td><td>10.788750</td><td>12.106705</td><td>10.954101</td><td>12.844566</td><td>12.196500</td><td>12.854748</td><td>13.542004</td><td>13.287640</td><td>15.134918</td></tr>\n",
       "\t<tr><th scope=row>2003</th><td>16.828350</td><td> 9.800215</td><td>10.816994</td><td>10.654223</td><td>12.512323</td><td>12.161210</td><td>12.998046</td><td>12.517276</td><td>13.268658</td><td>14.733622</td><td>13.669382</td><td>16.503966</td></tr>\n",
       "\t<tr><th scope=row>2004</th><td>18.003768</td><td>11.938030</td><td>12.997900</td><td>12.882645</td><td>13.943447</td><td>13.989472</td><td>15.339097</td><td>15.370764</td><td>16.142005</td><td>16.685754</td><td>17.636728</td><td>18.869325</td></tr>\n",
       "\t<tr><th scope=row>2005</th><td>20.778723</td><td>12.154552</td><td>13.402392</td><td>14.459239</td><td>14.795102</td><td>15.705248</td><td>15.829550</td><td>17.554701</td><td>18.100864</td><td>17.496668</td><td>19.347265</td><td>20.031291</td></tr>\n",
       "\t<tr><th scope=row>2006</th><td>23.486694</td><td>12.536987</td><td>15.467018</td><td>14.233539</td><td>17.783058</td><td>16.291602</td><td>16.980282</td><td>18.612189</td><td>16.623343</td><td>21.430241</td><td>23.575517</td><td>23.334206</td></tr>\n",
       "\t<tr><th scope=row>2007</th><td>28.038383</td><td>16.763869</td><td>19.792754</td><td>16.427305</td><td>21.000742</td><td>20.681002</td><td>21.834890</td><td>23.930204</td><td>22.930357</td><td>23.263340</td><td>25.250030</td><td>25.806090</td></tr>\n",
       "\t<tr><th scope=row>2008</th><td>29.665356</td><td>21.654285</td><td>18.264945</td><td>23.107677</td><td>22.912510</td><td>19.431740</td><td>         </td><td>         </td><td>         </td><td>         </td><td>         </td><td>         </td></tr>\n",
       "</tbody>\n",
       "</table>\n"
      ],
      "text/latex": [
       "\\begin{tabular}{r|llllllllllll}\n",
       "  & Jan & Feb & Mar & Apr & May & Jun & Jul & Aug & Sep & Oct & Nov & Dec\\\\\n",
       "\\hline\n",
       "\t1991 &           &           &           &           &           &           &  3.526591 &  3.180891 &  3.252221 &  3.611003 &  3.565869 &  4.306371\\\\\n",
       "\t1992 &  5.088335 &  2.814520 &  2.985811 &  3.204780 &  3.127578 &  3.270523 &  3.737851 &  3.558776 &  3.777202 &  3.924490 &  4.386531 &  5.810549\\\\\n",
       "\t1993 &  6.192068 &  3.450857 &  3.772307 &  3.734303 &  3.905399 &  4.049687 &  4.315566 &  4.562185 &  4.608662 &  4.667851 &  5.093841 &  7.179962\\\\\n",
       "\t1994 &  6.731473 &  3.841278 &  4.394076 &  4.075341 &  4.540645 &  4.645615 &  4.752607 &  5.350605 &  5.204455 &  5.301651 &  5.773742 &  6.204593\\\\\n",
       "\t1995 &  6.749484 &  4.216067 &  4.949349 &  4.823045 &  5.194754 &  5.170787 &  5.256742 &  5.855277 &  5.490729 &  6.115293 &  6.088473 &  7.416598\\\\\n",
       "\t1996 &  8.329452 &  5.069796 &  5.262557 &  5.597126 &  6.110296 &  5.689161 &  6.486849 &  6.300569 &  6.467476 &  6.828629 &  6.649078 &  8.606937\\\\\n",
       "\t1997 &  8.524471 &  5.277918 &  5.714303 &  6.214529 &  6.411929 &  6.667716 &  7.050831 &  6.704919 &  7.250988 &  7.819733 &  7.398101 & 10.096233\\\\\n",
       "\t1998 &  8.798513 &  5.918261 &  6.534493 &  6.675736 &  7.064201 &  7.383381 &  7.813496 &  7.431892 &  8.275117 &  8.260441 &  8.596156 & 10.558939\\\\\n",
       "\t1999 & 10.391416 &  6.421535 &  8.062619 &  7.297739 &  7.936916 &  8.165323 &  8.717420 &  9.070964 &  9.177113 &  9.251887 &  9.933136 & 11.532974\\\\\n",
       "\t2000 & 12.511462 &  7.457199 &  8.591191 &  8.474000 &  9.386803 &  9.560399 & 10.834295 & 10.643751 &  9.908162 & 11.710041 & 11.340151 & 12.079132\\\\\n",
       "\t2001 & 14.497581 &  8.049275 & 10.312891 &  9.753358 & 10.850382 &  9.961719 & 11.443601 & 11.659239 & 10.647060 & 12.652134 & 13.674466 & 12.965735\\\\\n",
       "\t2002 & 16.300269 &  9.053485 & 10.002449 & 10.788750 & 12.106705 & 10.954101 & 12.844566 & 12.196500 & 12.854748 & 13.542004 & 13.287640 & 15.134918\\\\\n",
       "\t2003 & 16.828350 &  9.800215 & 10.816994 & 10.654223 & 12.512323 & 12.161210 & 12.998046 & 12.517276 & 13.268658 & 14.733622 & 13.669382 & 16.503966\\\\\n",
       "\t2004 & 18.003768 & 11.938030 & 12.997900 & 12.882645 & 13.943447 & 13.989472 & 15.339097 & 15.370764 & 16.142005 & 16.685754 & 17.636728 & 18.869325\\\\\n",
       "\t2005 & 20.778723 & 12.154552 & 13.402392 & 14.459239 & 14.795102 & 15.705248 & 15.829550 & 17.554701 & 18.100864 & 17.496668 & 19.347265 & 20.031291\\\\\n",
       "\t2006 & 23.486694 & 12.536987 & 15.467018 & 14.233539 & 17.783058 & 16.291602 & 16.980282 & 18.612189 & 16.623343 & 21.430241 & 23.575517 & 23.334206\\\\\n",
       "\t2007 & 28.038383 & 16.763869 & 19.792754 & 16.427305 & 21.000742 & 20.681002 & 21.834890 & 23.930204 & 22.930357 & 23.263340 & 25.250030 & 25.806090\\\\\n",
       "\t2008 & 29.665356 & 21.654285 & 18.264945 & 23.107677 & 22.912510 & 19.431740 &           &           &           &           &           &          \\\\\n",
       "\\end{tabular}\n"
      ],
      "text/plain": [
       "     Jan       Feb       Mar       Apr       May       Jun       Jul      \n",
       "1991                                                              3.526591\n",
       "1992  5.088335  2.814520  2.985811  3.204780  3.127578  3.270523  3.737851\n",
       "1993  6.192068  3.450857  3.772307  3.734303  3.905399  4.049687  4.315566\n",
       "1994  6.731473  3.841278  4.394076  4.075341  4.540645  4.645615  4.752607\n",
       "1995  6.749484  4.216067  4.949349  4.823045  5.194754  5.170787  5.256742\n",
       "1996  8.329452  5.069796  5.262557  5.597126  6.110296  5.689161  6.486849\n",
       "1997  8.524471  5.277918  5.714303  6.214529  6.411929  6.667716  7.050831\n",
       "1998  8.798513  5.918261  6.534493  6.675736  7.064201  7.383381  7.813496\n",
       "1999 10.391416  6.421535  8.062619  7.297739  7.936916  8.165323  8.717420\n",
       "2000 12.511462  7.457199  8.591191  8.474000  9.386803  9.560399 10.834295\n",
       "2001 14.497581  8.049275 10.312891  9.753358 10.850382  9.961719 11.443601\n",
       "2002 16.300269  9.053485 10.002449 10.788750 12.106705 10.954101 12.844566\n",
       "2003 16.828350  9.800215 10.816994 10.654223 12.512323 12.161210 12.998046\n",
       "2004 18.003768 11.938030 12.997900 12.882645 13.943447 13.989472 15.339097\n",
       "2005 20.778723 12.154552 13.402392 14.459239 14.795102 15.705248 15.829550\n",
       "2006 23.486694 12.536987 15.467018 14.233539 17.783058 16.291602 16.980282\n",
       "2007 28.038383 16.763869 19.792754 16.427305 21.000742 20.681002 21.834890\n",
       "2008 29.665356 21.654285 18.264945 23.107677 22.912510 19.431740          \n",
       "     Aug       Sep       Oct       Nov       Dec      \n",
       "1991  3.180891  3.252221  3.611003  3.565869  4.306371\n",
       "1992  3.558776  3.777202  3.924490  4.386531  5.810549\n",
       "1993  4.562185  4.608662  4.667851  5.093841  7.179962\n",
       "1994  5.350605  5.204455  5.301651  5.773742  6.204593\n",
       "1995  5.855277  5.490729  6.115293  6.088473  7.416598\n",
       "1996  6.300569  6.467476  6.828629  6.649078  8.606937\n",
       "1997  6.704919  7.250988  7.819733  7.398101 10.096233\n",
       "1998  7.431892  8.275117  8.260441  8.596156 10.558939\n",
       "1999  9.070964  9.177113  9.251887  9.933136 11.532974\n",
       "2000 10.643751  9.908162 11.710041 11.340151 12.079132\n",
       "2001 11.659239 10.647060 12.652134 13.674466 12.965735\n",
       "2002 12.196500 12.854748 13.542004 13.287640 15.134918\n",
       "2003 12.517276 13.268658 14.733622 13.669382 16.503966\n",
       "2004 15.370764 16.142005 16.685754 17.636728 18.869325\n",
       "2005 17.554701 18.100864 17.496668 19.347265 20.031291\n",
       "2006 18.612189 16.623343 21.430241 23.575517 23.334206\n",
       "2007 23.930204 22.930357 23.263340 25.250030 25.806090\n",
       "2008                                                  "
      ]
     },
     "metadata": {},
     "output_type": "display_data"
    }
   ],
   "source": [
    "a10"
   ]
  },
  {
   "cell_type": "code",
   "execution_count": 142,
   "id": "optical-weapon",
   "metadata": {},
   "outputs": [
    {
     "data": {
      "text/html": [
       "<table>\n",
       "<thead><tr><th></th><th scope=col>ME</th><th scope=col>RMSE</th><th scope=col>MAE</th><th scope=col>MPE</th><th scope=col>MAPE</th><th scope=col>MASE</th><th scope=col>ACF1</th><th scope=col>Theil's U</th></tr></thead>\n",
       "<tbody>\n",
       "\t<tr><th scope=row>Training set</th><td>0.04453347 </td><td>0.4871696  </td><td>0.3514114  </td><td>0.2302407  </td><td> 3.978799  </td><td>0.359998   </td><td>-0.07201835</td><td>       NA  </td></tr>\n",
       "\t<tr><th scope=row>Test set</th><td>1.94820204 </td><td>2.8252641  </td><td>2.2379827  </td><td>8.5915374  </td><td>10.409452  </td><td>2.292667   </td><td> 0.30367534</td><td>0.7715502  </td></tr>\n",
       "</tbody>\n",
       "</table>\n"
      ],
      "text/latex": [
       "\\begin{tabular}{r|llllllll}\n",
       "  & ME & RMSE & MAE & MPE & MAPE & MASE & ACF1 & Theil's U\\\\\n",
       "\\hline\n",
       "\tTraining set & 0.04453347  & 0.4871696   & 0.3514114   & 0.2302407   &  3.978799   & 0.359998    & -0.07201835 &        NA  \\\\\n",
       "\tTest set & 1.94820204  & 2.8252641   & 2.2379827   & 8.5915374   & 10.409452   & 2.292667    &  0.30367534 & 0.7715502  \\\\\n",
       "\\end{tabular}\n"
      ],
      "text/markdown": [
       "\n",
       "| <!--/--> | ME | RMSE | MAE | MPE | MAPE | MASE | ACF1 | Theil's U |\n",
       "|---|---|---|---|---|---|---|---|---|\n",
       "| Training set | 0.04453347  | 0.4871696   | 0.3514114   | 0.2302407   |  3.978799   | 0.359998    | -0.07201835 |        NA   |\n",
       "| Test set | 1.94820204  | 2.8252641   | 2.2379827   | 8.5915374   | 10.409452   | 2.292667    |  0.30367534 | 0.7715502   |\n",
       "\n"
      ],
      "text/plain": [
       "             ME         RMSE      MAE       MPE       MAPE      MASE    \n",
       "Training set 0.04453347 0.4871696 0.3514114 0.2302407  3.978799 0.359998\n",
       "Test set     1.94820204 2.8252641 2.2379827 8.5915374 10.409452 2.292667\n",
       "             ACF1        Theil's U\n",
       "Training set -0.07201835        NA\n",
       "Test set      0.30367534 0.7715502"
      ]
     },
     "metadata": {},
     "output_type": "display_data"
    },
    {
     "data": {
      "text/html": [
       "<table>\n",
       "<thead><tr><th></th><th scope=col>ME</th><th scope=col>RMSE</th><th scope=col>MAE</th><th scope=col>MPE</th><th scope=col>MAPE</th><th scope=col>MASE</th><th scope=col>ACF1</th><th scope=col>Theil's U</th></tr></thead>\n",
       "<tbody>\n",
       "\t<tr><th scope=row>Training set</th><td>0.9528301</td><td>1.173254 </td><td>0.9761483</td><td>10.86243 </td><td>11.15917 </td><td>1.000000 </td><td>0.3820970</td><td>      NA </td></tr>\n",
       "\t<tr><th scope=row>Test set</th><td>4.3576261</td><td>5.218219 </td><td>4.3701650</td><td>20.09919 </td><td>20.18728 </td><td>4.476948 </td><td>0.6762667</td><td>1.410315 </td></tr>\n",
       "</tbody>\n",
       "</table>\n"
      ],
      "text/latex": [
       "\\begin{tabular}{r|llllllll}\n",
       "  & ME & RMSE & MAE & MPE & MAPE & MASE & ACF1 & Theil's U\\\\\n",
       "\\hline\n",
       "\tTraining set & 0.9528301 & 1.173254  & 0.9761483 & 10.86243  & 11.15917  & 1.000000  & 0.3820970 &       NA \\\\\n",
       "\tTest set & 4.3576261 & 5.218219  & 4.3701650 & 20.09919  & 20.18728  & 4.476948  & 0.6762667 & 1.410315 \\\\\n",
       "\\end{tabular}\n"
      ],
      "text/markdown": [
       "\n",
       "| <!--/--> | ME | RMSE | MAE | MPE | MAPE | MASE | ACF1 | Theil's U |\n",
       "|---|---|---|---|---|---|---|---|---|\n",
       "| Training set | 0.9528301 | 1.173254  | 0.9761483 | 10.86243  | 11.15917  | 1.000000  | 0.3820970 |       NA  |\n",
       "| Test set | 4.3576261 | 5.218219  | 4.3701650 | 20.09919  | 20.18728  | 4.476948  | 0.6762667 | 1.410315  |\n",
       "\n"
      ],
      "text/plain": [
       "             ME        RMSE     MAE       MPE      MAPE     MASE     ACF1     \n",
       "Training set 0.9528301 1.173254 0.9761483 10.86243 11.15917 1.000000 0.3820970\n",
       "Test set     4.3576261 5.218219 4.3701650 20.09919 20.18728 4.476948 0.6762667\n",
       "             Theil's U\n",
       "Training set       NA \n",
       "Test set     1.410315 "
      ]
     },
     "metadata": {},
     "output_type": "display_data"
    },
    {
     "data": {
      "text/html": [
       "<table>\n",
       "<thead><tr><th></th><th scope=col>ME</th><th scope=col>RMSE</th><th scope=col>MAE</th><th scope=col>MPE</th><th scope=col>MAPE</th><th scope=col>MASE</th><th scope=col>ACF1</th><th scope=col>Theil's U</th></tr></thead>\n",
       "<tbody>\n",
       "\t<tr><th scope=row>Training set</th><td>0.005501358</td><td>0.4156385  </td><td>0.3076362  </td><td>-0.1384512 </td><td>3.601905   </td><td>0.3151531  </td><td>-0.1345679 </td><td>       NA  </td></tr>\n",
       "\t<tr><th scope=row>Test set</th><td>1.383049872</td><td>2.2597694  </td><td>1.8653501  </td><td> 5.6620330 </td><td>8.769762   </td><td>1.9109290  </td><td> 0.2170432 </td><td>0.6122448  </td></tr>\n",
       "</tbody>\n",
       "</table>\n"
      ],
      "text/latex": [
       "\\begin{tabular}{r|llllllll}\n",
       "  & ME & RMSE & MAE & MPE & MAPE & MASE & ACF1 & Theil's U\\\\\n",
       "\\hline\n",
       "\tTraining set & 0.005501358 & 0.4156385   & 0.3076362   & -0.1384512  & 3.601905    & 0.3151531   & -0.1345679  &        NA  \\\\\n",
       "\tTest set & 1.383049872 & 2.2597694   & 1.8653501   &  5.6620330  & 8.769762    & 1.9109290   &  0.2170432  & 0.6122448  \\\\\n",
       "\\end{tabular}\n"
      ],
      "text/markdown": [
       "\n",
       "| <!--/--> | ME | RMSE | MAE | MPE | MAPE | MASE | ACF1 | Theil's U |\n",
       "|---|---|---|---|---|---|---|---|---|\n",
       "| Training set | 0.005501358 | 0.4156385   | 0.3076362   | -0.1384512  | 3.601905    | 0.3151531   | -0.1345679  |        NA   |\n",
       "| Test set | 1.383049872 | 2.2597694   | 1.8653501   |  5.6620330  | 8.769762    | 1.9109290   |  0.2170432  | 0.6122448   |\n",
       "\n"
      ],
      "text/plain": [
       "             ME          RMSE      MAE       MPE        MAPE     MASE     \n",
       "Training set 0.005501358 0.4156385 0.3076362 -0.1384512 3.601905 0.3151531\n",
       "Test set     1.383049872 2.2597694 1.8653501  5.6620330 8.769762 1.9109290\n",
       "             ACF1       Theil's U\n",
       "Training set -0.1345679        NA\n",
       "Test set      0.2170432 0.6122448"
      ]
     },
     "metadata": {},
     "output_type": "display_data"
    },
    {
     "data": {
      "image/png": "[encoded data removed]",
      "text/plain": [
       "plot without title"
      ]
     },
     "metadata": {},
     "output_type": "display_data"
    }
   ],
   "source": [
    "train <- window(a10, end=end(a10)-c(3,1))\n",
    "test <- window(a10, start=end(a10)-c(3,0))\n",
    "fc1 <- forecast(ets(train), h=36)\n",
    "fc2 <- snaive(train, h=36)\n",
    "fc3 <- stlf(train, lambda=BoxCox.lambda(train), h=36)\n",
    "autoplot(test) + \n",
    "autolayer(fc1, series=\"ets\", PI=FALSE) + \n",
    "autolayer(fc2, series=\"naive\", PI=FALSE) +\n",
    "autolayer(fc3, series=\"stlf\", PI=FALSE)\n",
    "accuracy(fc1, test)\n",
    "accuracy(fc2, test)\n",
    "accuracy(fc3, test)"
   ]
  },
  {
   "cell_type": "code",
   "execution_count": 144,
   "id": "still-parallel",
   "metadata": {},
   "outputs": [
    {
     "name": "stderr",
     "output_type": "stream",
     "text": [
      "ERROR while rich displaying an object: Error in repr_matrix_generic(obj, \"\\n%s%s\\n\", sprintf(\"|%%s\\n|%s|\\n\", : formal argument \"cols\" matched by multiple actual arguments\n",
      "\n",
      "Traceback:\n",
      "1. FUN(X[[i]], ...)\n",
      "2. tryCatch(withCallingHandlers({\n",
      " .     if (!mime %in% names(repr::mime2repr)) \n",
      " .         stop(\"No repr_* for mimetype \", mime, \" in repr::mime2repr\")\n",
      " .     rpr <- repr::mime2repr[[mime]](obj)\n",
      " .     if (is.null(rpr)) \n",
      " .         return(NULL)\n",
      " .     prepare_content(is.raw(rpr), rpr)\n",
      " . }, error = error_handler), error = outer_handler)\n",
      "3. tryCatchList(expr, classes, parentenv, handlers)\n",
      "4. tryCatchOne(expr, names, parentenv, handlers[[1L]])\n",
      "5. doTryCatch(return(expr), name, parentenv, handler)\n",
      "6. withCallingHandlers({\n",
      " .     if (!mime %in% names(repr::mime2repr)) \n",
      " .         stop(\"No repr_* for mimetype \", mime, \" in repr::mime2repr\")\n",
      " .     rpr <- repr::mime2repr[[mime]](obj)\n",
      " .     if (is.null(rpr)) \n",
      " .         return(NULL)\n",
      " .     prepare_content(is.raw(rpr), rpr)\n",
      " . }, error = error_handler)\n",
      "7. repr::mime2repr[[mime]](obj)\n",
      "8. repr_markdown.ts(obj)\n",
      "9. repr_ts_generic(obj, repr_markdown.matrix, ...)\n",
      "10. repr_func(m, ..., rows = nrow(m), cols = ncol(m))\n"
     ]
    },
    {
     "data": {
      "text/html": [
       "<table>\n",
       "<thead><tr><th></th><th scope=col>Jan</th><th scope=col>Feb</th><th scope=col>Mar</th><th scope=col>Apr</th><th scope=col>May</th><th scope=col>Jun</th><th scope=col>Jul</th><th scope=col>Aug</th><th scope=col>Sep</th><th scope=col>Oct</th><th scope=col>Nov</th><th scope=col>Dec</th></tr></thead>\n",
       "<tbody>\n",
       "\t<tr><th scope=row>1991</th><td>         </td><td>         </td><td>         </td><td>         </td><td>         </td><td>         </td><td>0.4297950</td><td>0.4009060</td><td>0.4321590</td><td>0.4925430</td><td>0.5023690</td><td>0.6026520</td></tr>\n",
       "\t<tr><th scope=row>1992</th><td>0.6601190</td><td>0.3362200</td><td>0.3513480</td><td>0.3798080</td><td>0.3618010</td><td>0.4105340</td><td>0.4833887</td><td>0.4754634</td><td>0.5347610</td><td>0.5686061</td><td>0.5952233</td><td>0.7712578</td></tr>\n",
       "\t<tr><th scope=row>1993</th><td>0.7515028</td><td>0.3875543</td><td>0.4272832</td><td>0.4138902</td><td>0.4288588</td><td>0.4701264</td><td>0.5092097</td><td>0.5584430</td><td>0.6015141</td><td>0.6329471</td><td>0.6996054</td><td>0.9630805</td></tr>\n",
       "\t<tr><th scope=row>1994</th><td>0.8193253</td><td>0.4376698</td><td>0.5061213</td><td>0.4704912</td><td>0.5106963</td><td>0.5405138</td><td>0.5581189</td><td>0.6728521</td><td>0.6858974</td><td>0.6896920</td><td>0.7413036</td><td>0.8133076</td></tr>\n",
       "\t<tr><th scope=row>1995</th><td>0.8031126</td><td>0.4752582</td><td>0.5525723</td><td>0.5271078</td><td>0.5612498</td><td>0.5889776</td><td>0.6231336</td><td>0.7408372</td><td>0.7253718</td><td>0.8158030</td><td>0.8140095</td><td>0.9266531</td></tr>\n",
       "\t<tr><th scope=row>1996</th><td>0.9372759</td><td>0.5287616</td><td>0.5593399</td><td>0.5778717</td><td>0.6149274</td><td>0.5941888</td><td>0.7077584</td><td>0.7195020</td><td>0.7443237</td><td>0.8048551</td><td>0.7885423</td><td>0.9710894</td></tr>\n",
       "\t<tr><th scope=row>1997</th><td>0.8468335</td><td>0.4638225</td><td>0.4852732</td><td>0.5280586</td><td>0.5623365</td><td>0.5885704</td><td>0.6694804</td><td>0.6779937</td><td>0.7629955</td><td>0.7997237</td><td>0.7705219</td><td>0.9943893</td></tr>\n",
       "\t<tr><th scope=row>1998</th><td>0.8005444</td><td>0.4905572</td><td>0.5244080</td><td>0.5366495</td><td>0.5520905</td><td>0.6033656</td><td>0.6812454</td><td>0.6780753</td><td>0.7948926</td><td>0.7846239</td><td>0.8130087</td><td>0.9777323</td></tr>\n",
       "\t<tr><th scope=row>1999</th><td>0.8930815</td><td>0.5126960</td><td>0.6529959</td><td>0.5739764</td><td>0.6392384</td><td>0.7038719</td><td>0.7706482</td><td>0.8461859</td><td>0.8927289</td><td>0.8978999</td><td>0.9472807</td><td>1.0507073</td></tr>\n",
       "\t<tr><th scope=row>2000</th><td>0.9696557</td><td>0.5732915</td><td>0.6185068</td><td>0.6189957</td><td>0.6652092</td><td>0.7265201</td><td>0.8558649</td><td>0.8659843</td><td>0.8252488</td><td>0.9554210</td><td>0.9385960</td><td>1.0130244</td></tr>\n",
       "\t<tr><th scope=row>2001</th><td>1.0438053</td><td>0.5106472</td><td>0.6725690</td><td>0.6484701</td><td>0.7041147</td><td>0.6994307</td><td>0.8519259</td><td>0.9077052</td><td>0.8674445</td><td>1.0242928</td><td>1.1095902</td><td>1.0123132</td></tr>\n",
       "\t<tr><th scope=row>2002</th><td>1.1458676</td><td>0.5755844</td><td>0.6411646</td><td>0.6798621</td><td>0.7679384</td><td>0.7520959</td><td>0.9180636</td><td>0.9243675</td><td>1.0131977</td><td>1.0269761</td><td>1.0067960</td><td>1.1027757</td></tr>\n",
       "\t<tr><th scope=row>2003</th><td>1.0781449</td><td>0.5782962</td><td>0.6433333</td><td>0.6633674</td><td>0.7505160</td><td>0.8007456</td><td>0.9163610</td><td>0.9168868</td><td>1.0846589</td><td>1.1506482</td><td>1.0508382</td><td>1.2232345</td></tr>\n",
       "\t<tr><th scope=row>2004</th><td>1.1301252</td><td>0.6679887</td><td>0.7490143</td><td>0.7399860</td><td>0.7951286</td><td>0.8568028</td><td>1.0015932</td><td>0.9948643</td><td>1.1344320</td><td>1.1810110</td><td>1.2160370</td><td>1.2572380</td></tr>\n",
       "\t<tr><th scope=row>2005</th><td>1.1706900</td><td>0.5976390</td><td>0.6525900</td><td>0.6705050</td><td>0.6952480</td><td>0.8422630</td><td>0.8743360</td><td>1.0064970</td><td>1.0947360</td><td>1.0270430</td><td>1.1492320</td><td>1.1607120</td></tr>\n",
       "\t<tr><th scope=row>2006</th><td>1.2306910</td><td>0.5871350</td><td>0.7069590</td><td>0.6396410</td><td>0.8074050</td><td>0.7979700</td><td>0.8843120</td><td>1.0496480</td><td>0.9957090</td><td>1.1682530</td><td>1.1080380</td><td>1.1200530</td></tr>\n",
       "\t<tr><th scope=row>2007</th><td>1.2233190</td><td>0.5977530</td><td>0.7043980</td><td>0.5617600</td><td>0.7452580</td><td>0.8379340</td><td>0.9541440</td><td>1.0782195</td><td>1.1109816</td><td>1.1099791</td><td>1.1635343</td><td>1.1765890</td></tr>\n",
       "\t<tr><th scope=row>2008</th><td>1.2199410</td><td>0.7618220</td><td>0.6494350</td><td>0.8278870</td><td>0.8162550</td><td>0.7621370</td><td>         </td><td>         </td><td>         </td><td>         </td><td>         </td><td>         </td></tr>\n",
       "</tbody>\n",
       "</table>\n"
      ],
      "text/latex": [
       "\\begin{tabular}{r|llllllllllll}\n",
       "  & Jan & Feb & Mar & Apr & May & Jun & Jul & Aug & Sep & Oct & Nov & Dec\\\\\n",
       "\\hline\n",
       "\t1991 &           &           &           &           &           &           & 0.4297950 & 0.4009060 & 0.4321590 & 0.4925430 & 0.5023690 & 0.6026520\\\\\n",
       "\t1992 & 0.6601190 & 0.3362200 & 0.3513480 & 0.3798080 & 0.3618010 & 0.4105340 & 0.4833887 & 0.4754634 & 0.5347610 & 0.5686061 & 0.5952233 & 0.7712578\\\\\n",
       "\t1993 & 0.7515028 & 0.3875543 & 0.4272832 & 0.4138902 & 0.4288588 & 0.4701264 & 0.5092097 & 0.5584430 & 0.6015141 & 0.6329471 & 0.6996054 & 0.9630805\\\\\n",
       "\t1994 & 0.8193253 & 0.4376698 & 0.5061213 & 0.4704912 & 0.5106963 & 0.5405138 & 0.5581189 & 0.6728521 & 0.6858974 & 0.6896920 & 0.7413036 & 0.8133076\\\\\n",
       "\t1995 & 0.8031126 & 0.4752582 & 0.5525723 & 0.5271078 & 0.5612498 & 0.5889776 & 0.6231336 & 0.7408372 & 0.7253718 & 0.8158030 & 0.8140095 & 0.9266531\\\\\n",
       "\t1996 & 0.9372759 & 0.5287616 & 0.5593399 & 0.5778717 & 0.6149274 & 0.5941888 & 0.7077584 & 0.7195020 & 0.7443237 & 0.8048551 & 0.7885423 & 0.9710894\\\\\n",
       "\t1997 & 0.8468335 & 0.4638225 & 0.4852732 & 0.5280586 & 0.5623365 & 0.5885704 & 0.6694804 & 0.6779937 & 0.7629955 & 0.7997237 & 0.7705219 & 0.9943893\\\\\n",
       "\t1998 & 0.8005444 & 0.4905572 & 0.5244080 & 0.5366495 & 0.5520905 & 0.6033656 & 0.6812454 & 0.6780753 & 0.7948926 & 0.7846239 & 0.8130087 & 0.9777323\\\\\n",
       "\t1999 & 0.8930815 & 0.5126960 & 0.6529959 & 0.5739764 & 0.6392384 & 0.7038719 & 0.7706482 & 0.8461859 & 0.8927289 & 0.8978999 & 0.9472807 & 1.0507073\\\\\n",
       "\t2000 & 0.9696557 & 0.5732915 & 0.6185068 & 0.6189957 & 0.6652092 & 0.7265201 & 0.8558649 & 0.8659843 & 0.8252488 & 0.9554210 & 0.9385960 & 1.0130244\\\\\n",
       "\t2001 & 1.0438053 & 0.5106472 & 0.6725690 & 0.6484701 & 0.7041147 & 0.6994307 & 0.8519259 & 0.9077052 & 0.8674445 & 1.0242928 & 1.1095902 & 1.0123132\\\\\n",
       "\t2002 & 1.1458676 & 0.5755844 & 0.6411646 & 0.6798621 & 0.7679384 & 0.7520959 & 0.9180636 & 0.9243675 & 1.0131977 & 1.0269761 & 1.0067960 & 1.1027757\\\\\n",
       "\t2003 & 1.0781449 & 0.5782962 & 0.6433333 & 0.6633674 & 0.7505160 & 0.8007456 & 0.9163610 & 0.9168868 & 1.0846589 & 1.1506482 & 1.0508382 & 1.2232345\\\\\n",
       "\t2004 & 1.1301252 & 0.6679887 & 0.7490143 & 0.7399860 & 0.7951286 & 0.8568028 & 1.0015932 & 0.9948643 & 1.1344320 & 1.1810110 & 1.2160370 & 1.2572380\\\\\n",
       "\t2005 & 1.1706900 & 0.5976390 & 0.6525900 & 0.6705050 & 0.6952480 & 0.8422630 & 0.8743360 & 1.0064970 & 1.0947360 & 1.0270430 & 1.1492320 & 1.1607120\\\\\n",
       "\t2006 & 1.2306910 & 0.5871350 & 0.7069590 & 0.6396410 & 0.8074050 & 0.7979700 & 0.8843120 & 1.0496480 & 0.9957090 & 1.1682530 & 1.1080380 & 1.1200530\\\\\n",
       "\t2007 & 1.2233190 & 0.5977530 & 0.7043980 & 0.5617600 & 0.7452580 & 0.8379340 & 0.9541440 & 1.0782195 & 1.1109816 & 1.1099791 & 1.1635343 & 1.1765890\\\\\n",
       "\t2008 & 1.2199410 & 0.7618220 & 0.6494350 & 0.8278870 & 0.8162550 & 0.7621370 &           &           &           &           &           &          \\\\\n",
       "\\end{tabular}\n"
      ],
      "text/plain": [
       "     Jan       Feb       Mar       Apr       May       Jun       Jul      \n",
       "1991                                                             0.4297950\n",
       "1992 0.6601190 0.3362200 0.3513480 0.3798080 0.3618010 0.4105340 0.4833887\n",
       "1993 0.7515028 0.3875543 0.4272832 0.4138902 0.4288588 0.4701264 0.5092097\n",
       "1994 0.8193253 0.4376698 0.5061213 0.4704912 0.5106963 0.5405138 0.5581189\n",
       "1995 0.8031126 0.4752582 0.5525723 0.5271078 0.5612498 0.5889776 0.6231336\n",
       "1996 0.9372759 0.5287616 0.5593399 0.5778717 0.6149274 0.5941888 0.7077584\n",
       "1997 0.8468335 0.4638225 0.4852732 0.5280586 0.5623365 0.5885704 0.6694804\n",
       "1998 0.8005444 0.4905572 0.5244080 0.5366495 0.5520905 0.6033656 0.6812454\n",
       "1999 0.8930815 0.5126960 0.6529959 0.5739764 0.6392384 0.7038719 0.7706482\n",
       "2000 0.9696557 0.5732915 0.6185068 0.6189957 0.6652092 0.7265201 0.8558649\n",
       "2001 1.0438053 0.5106472 0.6725690 0.6484701 0.7041147 0.6994307 0.8519259\n",
       "2002 1.1458676 0.5755844 0.6411646 0.6798621 0.7679384 0.7520959 0.9180636\n",
       "2003 1.0781449 0.5782962 0.6433333 0.6633674 0.7505160 0.8007456 0.9163610\n",
       "2004 1.1301252 0.6679887 0.7490143 0.7399860 0.7951286 0.8568028 1.0015932\n",
       "2005 1.1706900 0.5976390 0.6525900 0.6705050 0.6952480 0.8422630 0.8743360\n",
       "2006 1.2306910 0.5871350 0.7069590 0.6396410 0.8074050 0.7979700 0.8843120\n",
       "2007 1.2233190 0.5977530 0.7043980 0.5617600 0.7452580 0.8379340 0.9541440\n",
       "2008 1.2199410 0.7618220 0.6494350 0.8278870 0.8162550 0.7621370          \n",
       "     Aug       Sep       Oct       Nov       Dec      \n",
       "1991 0.4009060 0.4321590 0.4925430 0.5023690 0.6026520\n",
       "1992 0.4754634 0.5347610 0.5686061 0.5952233 0.7712578\n",
       "1993 0.5584430 0.6015141 0.6329471 0.6996054 0.9630805\n",
       "1994 0.6728521 0.6858974 0.6896920 0.7413036 0.8133076\n",
       "1995 0.7408372 0.7253718 0.8158030 0.8140095 0.9266531\n",
       "1996 0.7195020 0.7443237 0.8048551 0.7885423 0.9710894\n",
       "1997 0.6779937 0.7629955 0.7997237 0.7705219 0.9943893\n",
       "1998 0.6780753 0.7948926 0.7846239 0.8130087 0.9777323\n",
       "1999 0.8461859 0.8927289 0.8978999 0.9472807 1.0507073\n",
       "2000 0.8659843 0.8252488 0.9554210 0.9385960 1.0130244\n",
       "2001 0.9077052 0.8674445 1.0242928 1.1095902 1.0123132\n",
       "2002 0.9243675 1.0131977 1.0269761 1.0067960 1.1027757\n",
       "2003 0.9168868 1.0846589 1.1506482 1.0508382 1.2232345\n",
       "2004 0.9948643 1.1344320 1.1810110 1.2160370 1.2572380\n",
       "2005 1.0064970 1.0947360 1.0270430 1.1492320 1.1607120\n",
       "2006 1.0496480 0.9957090 1.1682530 1.1080380 1.1200530\n",
       "2007 1.0782195 1.1109816 1.1099791 1.1635343 1.1765890\n",
       "2008                                                  "
      ]
     },
     "metadata": {},
     "output_type": "display_data"
    }
   ],
   "source": [
    "h02"
   ]
  },
  {
   "cell_type": "code",
   "execution_count": 145,
   "id": "located-spell",
   "metadata": {},
   "outputs": [
    {
     "data": {
      "text/html": [
       "<table>\n",
       "<thead><tr><th></th><th scope=col>ME</th><th scope=col>RMSE</th><th scope=col>MAE</th><th scope=col>MPE</th><th scope=col>MAPE</th><th scope=col>MASE</th><th scope=col>ACF1</th><th scope=col>Theil's U</th></tr></thead>\n",
       "<tbody>\n",
       "\t<tr><th scope=row>Training set</th><td>-0.005839258</td><td>0.04721347  </td><td>0.03485033  </td><td>-0.9933135  </td><td>4.659098    </td><td>0.5858134   </td><td> 0.1342509  </td><td>       NA   </td></tr>\n",
       "\t<tr><th scope=row>Test set</th><td> 0.018880781</td><td>0.07293169  </td><td>0.06130399  </td><td> 1.1734152  </td><td>6.834075    </td><td>1.0304839   </td><td>-0.1304120  </td><td>0.4297391   </td></tr>\n",
       "</tbody>\n",
       "</table>\n"
      ],
      "text/latex": [
       "\\begin{tabular}{r|llllllll}\n",
       "  & ME & RMSE & MAE & MPE & MAPE & MASE & ACF1 & Theil's U\\\\\n",
       "\\hline\n",
       "\tTraining set & -0.005839258 & 0.04721347   & 0.03485033   & -0.9933135   & 4.659098     & 0.5858134    &  0.1342509   &        NA   \\\\\n",
       "\tTest set &  0.018880781 & 0.07293169   & 0.06130399   &  1.1734152   & 6.834075     & 1.0304839    & -0.1304120   & 0.4297391   \\\\\n",
       "\\end{tabular}\n"
      ],
      "text/markdown": [
       "\n",
       "| <!--/--> | ME | RMSE | MAE | MPE | MAPE | MASE | ACF1 | Theil's U |\n",
       "|---|---|---|---|---|---|---|---|---|\n",
       "| Training set | -0.005839258 | 0.04721347   | 0.03485033   | -0.9933135   | 4.659098     | 0.5858134    |  0.1342509   |        NA    |\n",
       "| Test set |  0.018880781 | 0.07293169   | 0.06130399   |  1.1734152   | 6.834075     | 1.0304839    | -0.1304120   | 0.4297391    |\n",
       "\n"
      ],
      "text/plain": [
       "             ME           RMSE       MAE        MPE        MAPE     MASE     \n",
       "Training set -0.005839258 0.04721347 0.03485033 -0.9933135 4.659098 0.5858134\n",
       "Test set      0.018880781 0.07293169 0.06130399  1.1734152 6.834075 1.0304839\n",
       "             ACF1       Theil's U\n",
       "Training set  0.1342509        NA\n",
       "Test set     -0.1304120 0.4297391"
      ]
     },
     "metadata": {},
     "output_type": "display_data"
    },
    {
     "data": {
      "text/html": [
       "<table>\n",
       "<thead><tr><th></th><th scope=col>ME</th><th scope=col>RMSE</th><th scope=col>MAE</th><th scope=col>MPE</th><th scope=col>MAPE</th><th scope=col>MASE</th><th scope=col>ACF1</th><th scope=col>Theil's U</th></tr></thead>\n",
       "<tbody>\n",
       "\t<tr><th scope=row>Training set</th><td> 0.03915094</td><td>0.07144133 </td><td>0.05949049 </td><td> 5.265019  </td><td>8.197994   </td><td>1.000000   </td><td>0.39326999 </td><td>       NA  </td></tr>\n",
       "\t<tr><th scope=row>Test set</th><td>-0.01378079</td><td>0.08480448 </td><td>0.07059648 </td><td>-1.163027  </td><td>7.739285   </td><td>1.186685   </td><td>0.05515531 </td><td>0.5139977  </td></tr>\n",
       "</tbody>\n",
       "</table>\n"
      ],
      "text/latex": [
       "\\begin{tabular}{r|llllllll}\n",
       "  & ME & RMSE & MAE & MPE & MAPE & MASE & ACF1 & Theil's U\\\\\n",
       "\\hline\n",
       "\tTraining set &  0.03915094 & 0.07144133  & 0.05949049  &  5.265019   & 8.197994    & 1.000000    & 0.39326999  &        NA  \\\\\n",
       "\tTest set & -0.01378079 & 0.08480448  & 0.07059648  & -1.163027   & 7.739285    & 1.186685    & 0.05515531  & 0.5139977  \\\\\n",
       "\\end{tabular}\n"
      ],
      "text/markdown": [
       "\n",
       "| <!--/--> | ME | RMSE | MAE | MPE | MAPE | MASE | ACF1 | Theil's U |\n",
       "|---|---|---|---|---|---|---|---|---|\n",
       "| Training set |  0.03915094 | 0.07144133  | 0.05949049  |  5.265019   | 8.197994    | 1.000000    | 0.39326999  |        NA   |\n",
       "| Test set | -0.01378079 | 0.08480448  | 0.07059648  | -1.163027   | 7.739285    | 1.186685    | 0.05515531  | 0.5139977   |\n",
       "\n"
      ],
      "text/plain": [
       "             ME          RMSE       MAE        MPE       MAPE     MASE    \n",
       "Training set  0.03915094 0.07144133 0.05949049  5.265019 8.197994 1.000000\n",
       "Test set     -0.01378079 0.08480448 0.07059648 -1.163027 7.739285 1.186685\n",
       "             ACF1       Theil's U\n",
       "Training set 0.39326999        NA\n",
       "Test set     0.05515531 0.5139977"
      ]
     },
     "metadata": {},
     "output_type": "display_data"
    },
    {
     "data": {
      "text/html": [
       "<table>\n",
       "<thead><tr><th></th><th scope=col>ME</th><th scope=col>RMSE</th><th scope=col>MAE</th><th scope=col>MPE</th><th scope=col>MAPE</th><th scope=col>MASE</th><th scope=col>ACF1</th><th scope=col>Theil's U</th></tr></thead>\n",
       "<tbody>\n",
       "\t<tr><th scope=row>Training set</th><td>0.001484422</td><td>0.03917380 </td><td>0.02950828 </td><td>-0.09917989</td><td>4.006421   </td><td>0.4960167  </td><td>-0.1400721 </td><td>       NA  </td></tr>\n",
       "\t<tr><th scope=row>Test set</th><td>0.060479825</td><td>0.08988643 </td><td>0.07333716 </td><td> 5.67983815</td><td>7.692105   </td><td>1.2327543  </td><td>-0.1474802 </td><td>0.5108123  </td></tr>\n",
       "</tbody>\n",
       "</table>\n"
      ],
      "text/latex": [
       "\\begin{tabular}{r|llllllll}\n",
       "  & ME & RMSE & MAE & MPE & MAPE & MASE & ACF1 & Theil's U\\\\\n",
       "\\hline\n",
       "\tTraining set & 0.001484422 & 0.03917380  & 0.02950828  & -0.09917989 & 4.006421    & 0.4960167   & -0.1400721  &        NA  \\\\\n",
       "\tTest set & 0.060479825 & 0.08988643  & 0.07333716  &  5.67983815 & 7.692105    & 1.2327543   & -0.1474802  & 0.5108123  \\\\\n",
       "\\end{tabular}\n"
      ],
      "text/markdown": [
       "\n",
       "| <!--/--> | ME | RMSE | MAE | MPE | MAPE | MASE | ACF1 | Theil's U |\n",
       "|---|---|---|---|---|---|---|---|---|\n",
       "| Training set | 0.001484422 | 0.03917380  | 0.02950828  | -0.09917989 | 4.006421    | 0.4960167   | -0.1400721  |        NA   |\n",
       "| Test set | 0.060479825 | 0.08988643  | 0.07333716  |  5.67983815 | 7.692105    | 1.2327543   | -0.1474802  | 0.5108123   |\n",
       "\n"
      ],
      "text/plain": [
       "             ME          RMSE       MAE        MPE         MAPE     MASE     \n",
       "Training set 0.001484422 0.03917380 0.02950828 -0.09917989 4.006421 0.4960167\n",
       "Test set     0.060479825 0.08988643 0.07333716  5.67983815 7.692105 1.2327543\n",
       "             ACF1       Theil's U\n",
       "Training set -0.1400721        NA\n",
       "Test set     -0.1474802 0.5108123"
      ]
     },
     "metadata": {},
     "output_type": "display_data"
    },
    {
     "data": {
      "image/png": "[encoded data removed]",
      "text/plain": [
       "plot without title"
      ]
     },
     "metadata": {},
     "output_type": "display_data"
    }
   ],
   "source": [
    "train <- window(h02, end=end(h02)-c(3,1))\n",
    "test <- window(h02, start=end(h02)-c(3,0))\n",
    "fc1 <- forecast(ets(train), h=36)\n",
    "fc2 <- snaive(train, h=36)\n",
    "fc3 <- stlf(train, lambda=BoxCox.lambda(train), h=36)\n",
    "autoplot(test) + \n",
    "autolayer(fc1, series=\"ets\", PI=FALSE) + \n",
    "autolayer(fc2, series=\"naive\", PI=FALSE) +\n",
    "autolayer(fc3, series=\"stlf\", PI=FALSE)\n",
    "accuracy(fc1, test)\n",
    "accuracy(fc2, test)\n",
    "accuracy(fc3, test)"
   ]
  },
  {
   "cell_type": "code",
   "execution_count": 148,
   "id": "sharp-convenience",
   "metadata": {},
   "outputs": [
    {
     "name": "stderr",
     "output_type": "stream",
     "text": [
      "ERROR while rich displaying an object: Error in repr_matrix_generic(obj, \"\\n%s%s\\n\", sprintf(\"|%%s\\n|%s|\\n\", : formal argument \"cols\" matched by multiple actual arguments\n",
      "\n",
      "Traceback:\n",
      "1. FUN(X[[i]], ...)\n",
      "2. tryCatch(withCallingHandlers({\n",
      " .     if (!mime %in% names(repr::mime2repr)) \n",
      " .         stop(\"No repr_* for mimetype \", mime, \" in repr::mime2repr\")\n",
      " .     rpr <- repr::mime2repr[[mime]](obj)\n",
      " .     if (is.null(rpr)) \n",
      " .         return(NULL)\n",
      " .     prepare_content(is.raw(rpr), rpr)\n",
      " . }, error = error_handler), error = outer_handler)\n",
      "3. tryCatchList(expr, classes, parentenv, handlers)\n",
      "4. tryCatchOne(expr, names, parentenv, handlers[[1L]])\n",
      "5. doTryCatch(return(expr), name, parentenv, handler)\n",
      "6. withCallingHandlers({\n",
      " .     if (!mime %in% names(repr::mime2repr)) \n",
      " .         stop(\"No repr_* for mimetype \", mime, \" in repr::mime2repr\")\n",
      " .     rpr <- repr::mime2repr[[mime]](obj)\n",
      " .     if (is.null(rpr)) \n",
      " .         return(NULL)\n",
      " .     prepare_content(is.raw(rpr), rpr)\n",
      " . }, error = error_handler)\n",
      "7. repr::mime2repr[[mime]](obj)\n",
      "8. repr_markdown.ts(obj)\n",
      "9. repr_ts_generic(obj, repr_markdown.matrix, ...)\n",
      "10. repr_func(m, ..., rows = nrow(m), cols = ncol(m))\n"
     ]
    },
    {
     "data": {
      "text/html": [
       "<table>\n",
       "<thead><tr><th></th><th scope=col>Jan</th><th scope=col>Feb</th><th scope=col>Mar</th><th scope=col>Apr</th><th scope=col>May</th><th scope=col>Jun</th><th scope=col>Jul</th><th scope=col>Aug</th><th scope=col>Sep</th><th scope=col>Oct</th><th scope=col>Nov</th><th scope=col>Dec</th></tr></thead>\n",
       "<tbody>\n",
       "\t<tr><th scope=row>1973</th><td>160.218</td><td>143.539</td><td>148.158</td><td>139.589</td><td>147.395</td><td>161.244</td><td>173.733</td><td>177.365</td><td>156.875</td><td>154.197</td><td>148.138</td><td>153.605</td></tr>\n",
       "\t<tr><th scope=row>1974</th><td>157.555</td><td>142.748</td><td>150.342</td><td>142.312</td><td>153.813</td><td>156.440</td><td>178.247</td><td>174.119</td><td>152.467</td><td>152.196</td><td>150.071</td><td>160.009</td></tr>\n",
       "\t<tr><th scope=row>1975</th><td>164.623</td><td>147.349</td><td>155.760</td><td>146.495</td><td>153.531</td><td>162.717</td><td>177.057</td><td>179.931</td><td>155.441</td><td>155.188</td><td>153.035</td><td>169.628</td></tr>\n",
       "\t<tr><th scope=row>1976</th><td>178.609</td><td>156.966</td><td>164.467</td><td>153.467</td><td>157.664</td><td>173.674</td><td>186.691</td><td>186.639</td><td>165.237</td><td>164.009</td><td>169.346</td><td>184.144</td></tr>\n",
       "\t<tr><th scope=row>1977</th><td>196.665</td><td>162.949</td><td>169.437</td><td>157.117</td><td>169.596</td><td>181.031</td><td>199.168</td><td>196.363</td><td>176.498</td><td>166.645</td><td>167.388</td><td>184.589</td></tr>\n",
       "\t<tr><th scope=row>1978</th><td>198.108</td><td>173.746</td><td>173.461</td><td>160.013</td><td>175.549</td><td>188.585</td><td>202.947</td><td>206.659</td><td>185.802</td><td>176.013</td><td>176.389</td><td>192.105</td></tr>\n",
       "\t<tr><th scope=row>1979</th><td>209.987</td><td>186.587</td><td>183.154</td><td>170.260</td><td>178.409</td><td>186.976</td><td>202.522</td><td>205.101</td><td>180.975</td><td>179.953</td><td>177.770</td><td>188.970</td></tr>\n",
       "\t<tr><th scope=row>1980</th><td>200.296</td><td>188.961</td><td>187.745</td><td>169.017</td><td>176.066</td><td>189.748</td><td>217.058</td><td>215.629</td><td>191.698</td><td>178.761</td><td>178.771</td><td>195.849</td></tr>\n",
       "\t<tr><th scope=row>1981</th><td>206.758</td><td>179.860</td><td>185.834</td><td>172.841</td><td>178.139</td><td>203.021</td><td>220.655</td><td>210.639</td><td>187.051</td><td>181.558</td><td>175.792</td><td>195.826</td></tr>\n",
       "\t<tr><th scope=row>1982</th><td>209.694</td><td>180.546</td><td>187.968</td><td>172.877</td><td>177.480</td><td>186.447</td><td>210.865</td><td>205.892</td><td>180.875</td><td>173.172</td><td>173.599</td><td>184.958</td></tr>\n",
       "\t<tr><th scope=row>1983</th><td>195.871</td><td>172.725</td><td>182.769</td><td>170.669</td><td>174.725</td><td>191.367</td><td>220.447</td><td>230.193</td><td>195.817</td><td>183.137</td><td>183.171</td><td>212.555</td></tr>\n",
       "\t<tr><th scope=row>1984</th><td>216.924</td><td>189.810</td><td>200.387</td><td>181.381</td><td>192.550</td><td>209.967</td><td>221.526</td><td>229.532</td><td>195.411</td><td>191.142</td><td>190.602</td><td>200.232</td></tr>\n",
       "\t<tr><th scope=row>1985</th><td>228.148</td><td>198.488</td><td>195.250</td><td>185.173</td><td>197.123</td><td>205.682</td><td>227.004</td><td>226.286</td><td>202.712</td><td>194.995</td><td>192.649</td><td>219.490</td></tr>\n",
       "\t<tr><th scope=row>1986</th><td>217.761</td><td>192.582</td><td>197.115</td><td>186.370</td><td>197.647</td><td>215.334</td><td>242.954</td><td>225.402</td><td>206.905</td><td>197.960</td><td>196.654</td><td>213.787</td></tr>\n",
       "\t<tr><th scope=row>1987</th><td>223.041</td><td>194.281</td><td>202.130</td><td>189.792</td><td>206.407</td><td>225.908</td><td>248.196</td><td>247.881</td><td>213.221</td><td>203.215</td><td>200.479</td><td>220.736</td></tr>\n",
       "\t<tr><th scope=row>1988</th><td>238.188</td><td>217.183</td><td>214.294</td><td>196.297</td><td>208.704</td><td>233.066</td><td>257.742</td><td>267.929</td><td>220.392</td><td>210.814</td><td>209.815</td><td>232.988</td></tr>\n",
       "\t<tr><th scope=row>1989</th><td>246.766</td><td>233.783</td><td>241.946</td><td>222.869</td><td>234.825</td><td>250.919</td><td>273.458</td><td>275.420</td><td>242.794</td><td>235.669</td><td>234.250</td><td>274.448</td></tr>\n",
       "\t<tr><th scope=row>1990</th><td>255.187</td><td>229.499</td><td>244.761</td><td>229.770</td><td>241.774</td><td>268.992</td><td>287.448</td><td>290.655</td><td>258.357</td><td>244.372</td><td>231.242</td><td>255.770</td></tr>\n",
       "\t<tr><th scope=row>1991</th><td>269.214</td><td>228.290</td><td>240.561</td><td>227.799</td><td>254.873</td><td>269.099</td><td>294.648</td><td>292.159</td><td>256.027</td><td>245.378</td><td>241.661</td><td>254.089</td></tr>\n",
       "\t<tr><th scope=row>1992</th><td>267.773</td><td>239.514</td><td>247.733</td><td>233.406</td><td>242.412</td><td>261.077</td><td>293.617</td><td>281.927</td><td>259.925</td><td>244.994</td><td>244.162</td><td>267.343</td></tr>\n",
       "\t<tr><th scope=row>1993</th><td>271.021</td><td>248.015</td><td>261.248</td><td>234.695</td><td>244.326</td><td>275.360</td><td>312.225</td><td>311.450</td><td>264.032</td><td>250.553</td><td>252.102</td><td>272.165</td></tr>\n",
       "\t<tr><th scope=row>1994</th><td>289.768</td><td>249.172</td><td>257.998</td><td>240.637</td><td>252.745</td><td>294.162</td><td>311.257</td><td>307.605</td><td>266.262</td><td>256.528</td><td>251.868</td><td>269.520</td></tr>\n",
       "\t<tr><th scope=row>1995</th><td>279.773</td><td>252.307</td><td>261.343</td><td>244.736</td><td>264.288</td><td>286.258</td><td>330.416</td><td>345.780</td><td>277.575</td><td>263.978</td><td>261.478</td><td>285.554</td></tr>\n",
       "\t<tr><th scope=row>1996</th><td>296.923</td><td>270.685</td><td>275.019</td><td>251.613</td><td>282.266</td><td>302.717</td><td>327.708</td><td>329.286</td><td>283.151</td><td>271.446</td><td>269.122</td><td>284.250</td></tr>\n",
       "\t<tr><th scope=row>1997</th><td>300.574</td><td>258.131</td><td>272.258</td><td>258.284</td><td>272.914</td><td>299.092</td><td>344.516</td><td>332.899</td><td>301.057</td><td>284.971</td><td>271.121</td><td>296.356</td></tr>\n",
       "\t<tr><th scope=row>1998</th><td>295.260</td><td>260.590</td><td>286.878</td><td>261.230</td><td>299.640</td><td>328.903</td><td>361.936</td><td>357.366</td><td>318.924</td><td>284.446</td><td>267.136</td><td>297.986</td></tr>\n",
       "\t<tr><th scope=row>1999</th><td>315.814</td><td>274.820</td><td>298.145</td><td>280.719</td><td>300.098</td><td>328.924</td><td>376.538</td><td>364.031</td><td>305.516</td><td>283.935</td><td>271.096</td><td>295.174</td></tr>\n",
       "\t<tr><th scope=row>2000</th><td>327.994</td><td>294.169</td><td>301.580</td><td>285.578</td><td>322.954</td><td>339.054</td><td>356.528</td><td>368.669</td><td>312.447</td><td>289.452</td><td>284.670</td><td>319.011</td></tr>\n",
       "\t<tr><th scope=row>2001</th><td>332.493</td><td>282.940</td><td>300.707</td><td>278.079</td><td>300.492</td><td>327.694</td><td>357.614</td><td>370.533</td><td>306.929</td><td>294.734</td><td>278.934</td><td>305.496</td></tr>\n",
       "\t<tr><th scope=row>2002</th><td>319.941</td><td>281.826</td><td>302.549</td><td>289.848</td><td>307.675</td><td>341.023</td><td>381.542</td><td>374.586</td><td>331.279</td><td>307.059</td><td>296.290</td><td>324.834</td></tr>\n",
       "\t<tr><th scope=row>2003</th><td>341.989</td><td>299.249</td><td>304.317</td><td>285.756</td><td>307.545</td><td>328.694</td><td>374.396</td><td>381.816</td><td>323.136</td><td>306.741</td><td>297.867</td><td>331.680</td></tr>\n",
       "\t<tr><th scope=row>2004</th><td>346.546</td><td>314.280</td><td>308.812</td><td>290.560</td><td>327.380</td><td>345.085</td><td>377.332</td><td>368.439</td><td>335.622</td><td>312.450</td><td>302.101</td><td>341.948</td></tr>\n",
       "\t<tr><th scope=row>2005</th><td>343.121</td><td>298.500</td><td>317.458</td><td>289.562</td><td>315.062</td><td>363.672</td><td>402.274</td><td>404.941</td><td>350.218</td><td>316.398</td><td>306.115</td><td>348.101</td></tr>\n",
       "\t<tr><th scope=row>2006</th><td>328.658</td><td>307.333</td><td>318.730</td><td>297.858</td><td>330.616</td><td>364.260</td><td>410.421</td><td>407.763</td><td>332.055</td><td>321.567</td><td>309.159</td><td>336.283</td></tr>\n",
       "\t<tr><th scope=row>2007</th><td>353.531</td><td>323.230</td><td>320.471</td><td>303.129</td><td>330.203</td><td>362.755</td><td>393.226</td><td>421.797</td><td>355.394</td><td>332.615</td><td>314.103</td><td>346.290</td></tr>\n",
       "\t<tr><th scope=row>2008</th><td>362.998</td><td>325.106</td><td>324.630</td><td>305.865</td><td>325.245</td><td>373.109</td><td>402.900</td><td>388.987</td><td>338.056</td><td>318.547</td><td>310.046</td><td>343.898</td></tr>\n",
       "\t<tr><th scope=row>2009</th><td>354.993</td><td>300.887</td><td>310.603</td><td>289.537</td><td>311.306</td><td>347.658</td><td>372.542</td><td>381.221</td><td>327.401</td><td>307.040</td><td>296.635</td><td>350.507</td></tr>\n",
       "\t<tr><th scope=row>2010</th><td>360.957</td><td>319.735</td><td>312.168</td><td>287.800</td><td>327.936</td><td>375.759</td><td>409.725</td><td>408.884</td><td>346.045</td><td>307.921</td><td>306.010</td><td>362.119</td></tr>\n",
       "\t<tr><th scope=row>2011</th><td>363.105</td><td>313.293</td><td>318.710</td><td>302.400</td><td>323.627</td><td>367.727</td><td>418.693</td><td>406.541</td><td>337.961</td><td>308.727</td><td>304.119</td><td>335.753</td></tr>\n",
       "\t<tr><th scope=row>2012</th><td>340.919</td><td>310.151</td><td>309.040</td><td>295.940</td><td>337.530</td><td>361.506</td><td>416.515</td><td>396.108</td><td>334.735</td><td>312.157</td><td>305.548</td><td>334.335</td></tr>\n",
       "\t<tr><th scope=row>2013</th><td>348.642</td><td>309.601</td><td>325.372</td><td>298.261</td><td>322.118</td><td>356.400</td><td>       </td><td>       </td><td>       </td><td>       </td><td>       </td><td>       </td></tr>\n",
       "</tbody>\n",
       "</table>\n"
      ],
      "text/latex": [
       "\\begin{tabular}{r|llllllllllll}\n",
       "  & Jan & Feb & Mar & Apr & May & Jun & Jul & Aug & Sep & Oct & Nov & Dec\\\\\n",
       "\\hline\n",
       "\t1973 & 160.218 & 143.539 & 148.158 & 139.589 & 147.395 & 161.244 & 173.733 & 177.365 & 156.875 & 154.197 & 148.138 & 153.605\\\\\n",
       "\t1974 & 157.555 & 142.748 & 150.342 & 142.312 & 153.813 & 156.440 & 178.247 & 174.119 & 152.467 & 152.196 & 150.071 & 160.009\\\\\n",
       "\t1975 & 164.623 & 147.349 & 155.760 & 146.495 & 153.531 & 162.717 & 177.057 & 179.931 & 155.441 & 155.188 & 153.035 & 169.628\\\\\n",
       "\t1976 & 178.609 & 156.966 & 164.467 & 153.467 & 157.664 & 173.674 & 186.691 & 186.639 & 165.237 & 164.009 & 169.346 & 184.144\\\\\n",
       "\t1977 & 196.665 & 162.949 & 169.437 & 157.117 & 169.596 & 181.031 & 199.168 & 196.363 & 176.498 & 166.645 & 167.388 & 184.589\\\\\n",
       "\t1978 & 198.108 & 173.746 & 173.461 & 160.013 & 175.549 & 188.585 & 202.947 & 206.659 & 185.802 & 176.013 & 176.389 & 192.105\\\\\n",
       "\t1979 & 209.987 & 186.587 & 183.154 & 170.260 & 178.409 & 186.976 & 202.522 & 205.101 & 180.975 & 179.953 & 177.770 & 188.970\\\\\n",
       "\t1980 & 200.296 & 188.961 & 187.745 & 169.017 & 176.066 & 189.748 & 217.058 & 215.629 & 191.698 & 178.761 & 178.771 & 195.849\\\\\n",
       "\t1981 & 206.758 & 179.860 & 185.834 & 172.841 & 178.139 & 203.021 & 220.655 & 210.639 & 187.051 & 181.558 & 175.792 & 195.826\\\\\n",
       "\t1982 & 209.694 & 180.546 & 187.968 & 172.877 & 177.480 & 186.447 & 210.865 & 205.892 & 180.875 & 173.172 & 173.599 & 184.958\\\\\n",
       "\t1983 & 195.871 & 172.725 & 182.769 & 170.669 & 174.725 & 191.367 & 220.447 & 230.193 & 195.817 & 183.137 & 183.171 & 212.555\\\\\n",
       "\t1984 & 216.924 & 189.810 & 200.387 & 181.381 & 192.550 & 209.967 & 221.526 & 229.532 & 195.411 & 191.142 & 190.602 & 200.232\\\\\n",
       "\t1985 & 228.148 & 198.488 & 195.250 & 185.173 & 197.123 & 205.682 & 227.004 & 226.286 & 202.712 & 194.995 & 192.649 & 219.490\\\\\n",
       "\t1986 & 217.761 & 192.582 & 197.115 & 186.370 & 197.647 & 215.334 & 242.954 & 225.402 & 206.905 & 197.960 & 196.654 & 213.787\\\\\n",
       "\t1987 & 223.041 & 194.281 & 202.130 & 189.792 & 206.407 & 225.908 & 248.196 & 247.881 & 213.221 & 203.215 & 200.479 & 220.736\\\\\n",
       "\t1988 & 238.188 & 217.183 & 214.294 & 196.297 & 208.704 & 233.066 & 257.742 & 267.929 & 220.392 & 210.814 & 209.815 & 232.988\\\\\n",
       "\t1989 & 246.766 & 233.783 & 241.946 & 222.869 & 234.825 & 250.919 & 273.458 & 275.420 & 242.794 & 235.669 & 234.250 & 274.448\\\\\n",
       "\t1990 & 255.187 & 229.499 & 244.761 & 229.770 & 241.774 & 268.992 & 287.448 & 290.655 & 258.357 & 244.372 & 231.242 & 255.770\\\\\n",
       "\t1991 & 269.214 & 228.290 & 240.561 & 227.799 & 254.873 & 269.099 & 294.648 & 292.159 & 256.027 & 245.378 & 241.661 & 254.089\\\\\n",
       "\t1992 & 267.773 & 239.514 & 247.733 & 233.406 & 242.412 & 261.077 & 293.617 & 281.927 & 259.925 & 244.994 & 244.162 & 267.343\\\\\n",
       "\t1993 & 271.021 & 248.015 & 261.248 & 234.695 & 244.326 & 275.360 & 312.225 & 311.450 & 264.032 & 250.553 & 252.102 & 272.165\\\\\n",
       "\t1994 & 289.768 & 249.172 & 257.998 & 240.637 & 252.745 & 294.162 & 311.257 & 307.605 & 266.262 & 256.528 & 251.868 & 269.520\\\\\n",
       "\t1995 & 279.773 & 252.307 & 261.343 & 244.736 & 264.288 & 286.258 & 330.416 & 345.780 & 277.575 & 263.978 & 261.478 & 285.554\\\\\n",
       "\t1996 & 296.923 & 270.685 & 275.019 & 251.613 & 282.266 & 302.717 & 327.708 & 329.286 & 283.151 & 271.446 & 269.122 & 284.250\\\\\n",
       "\t1997 & 300.574 & 258.131 & 272.258 & 258.284 & 272.914 & 299.092 & 344.516 & 332.899 & 301.057 & 284.971 & 271.121 & 296.356\\\\\n",
       "\t1998 & 295.260 & 260.590 & 286.878 & 261.230 & 299.640 & 328.903 & 361.936 & 357.366 & 318.924 & 284.446 & 267.136 & 297.986\\\\\n",
       "\t1999 & 315.814 & 274.820 & 298.145 & 280.719 & 300.098 & 328.924 & 376.538 & 364.031 & 305.516 & 283.935 & 271.096 & 295.174\\\\\n",
       "\t2000 & 327.994 & 294.169 & 301.580 & 285.578 & 322.954 & 339.054 & 356.528 & 368.669 & 312.447 & 289.452 & 284.670 & 319.011\\\\\n",
       "\t2001 & 332.493 & 282.940 & 300.707 & 278.079 & 300.492 & 327.694 & 357.614 & 370.533 & 306.929 & 294.734 & 278.934 & 305.496\\\\\n",
       "\t2002 & 319.941 & 281.826 & 302.549 & 289.848 & 307.675 & 341.023 & 381.542 & 374.586 & 331.279 & 307.059 & 296.290 & 324.834\\\\\n",
       "\t2003 & 341.989 & 299.249 & 304.317 & 285.756 & 307.545 & 328.694 & 374.396 & 381.816 & 323.136 & 306.741 & 297.867 & 331.680\\\\\n",
       "\t2004 & 346.546 & 314.280 & 308.812 & 290.560 & 327.380 & 345.085 & 377.332 & 368.439 & 335.622 & 312.450 & 302.101 & 341.948\\\\\n",
       "\t2005 & 343.121 & 298.500 & 317.458 & 289.562 & 315.062 & 363.672 & 402.274 & 404.941 & 350.218 & 316.398 & 306.115 & 348.101\\\\\n",
       "\t2006 & 328.658 & 307.333 & 318.730 & 297.858 & 330.616 & 364.260 & 410.421 & 407.763 & 332.055 & 321.567 & 309.159 & 336.283\\\\\n",
       "\t2007 & 353.531 & 323.230 & 320.471 & 303.129 & 330.203 & 362.755 & 393.226 & 421.797 & 355.394 & 332.615 & 314.103 & 346.290\\\\\n",
       "\t2008 & 362.998 & 325.106 & 324.630 & 305.865 & 325.245 & 373.109 & 402.900 & 388.987 & 338.056 & 318.547 & 310.046 & 343.898\\\\\n",
       "\t2009 & 354.993 & 300.887 & 310.603 & 289.537 & 311.306 & 347.658 & 372.542 & 381.221 & 327.401 & 307.040 & 296.635 & 350.507\\\\\n",
       "\t2010 & 360.957 & 319.735 & 312.168 & 287.800 & 327.936 & 375.759 & 409.725 & 408.884 & 346.045 & 307.921 & 306.010 & 362.119\\\\\n",
       "\t2011 & 363.105 & 313.293 & 318.710 & 302.400 & 323.627 & 367.727 & 418.693 & 406.541 & 337.961 & 308.727 & 304.119 & 335.753\\\\\n",
       "\t2012 & 340.919 & 310.151 & 309.040 & 295.940 & 337.530 & 361.506 & 416.515 & 396.108 & 334.735 & 312.157 & 305.548 & 334.335\\\\\n",
       "\t2013 & 348.642 & 309.601 & 325.372 & 298.261 & 322.118 & 356.400 &         &         &         &         &         &        \\\\\n",
       "\\end{tabular}\n"
      ],
      "text/plain": [
       "     Jan     Feb     Mar     Apr     May     Jun     Jul     Aug     Sep    \n",
       "1973 160.218 143.539 148.158 139.589 147.395 161.244 173.733 177.365 156.875\n",
       "1974 157.555 142.748 150.342 142.312 153.813 156.440 178.247 174.119 152.467\n",
       "1975 164.623 147.349 155.760 146.495 153.531 162.717 177.057 179.931 155.441\n",
       "1976 178.609 156.966 164.467 153.467 157.664 173.674 186.691 186.639 165.237\n",
       "1977 196.665 162.949 169.437 157.117 169.596 181.031 199.168 196.363 176.498\n",
       "1978 198.108 173.746 173.461 160.013 175.549 188.585 202.947 206.659 185.802\n",
       "1979 209.987 186.587 183.154 170.260 178.409 186.976 202.522 205.101 180.975\n",
       "1980 200.296 188.961 187.745 169.017 176.066 189.748 217.058 215.629 191.698\n",
       "1981 206.758 179.860 185.834 172.841 178.139 203.021 220.655 210.639 187.051\n",
       "1982 209.694 180.546 187.968 172.877 177.480 186.447 210.865 205.892 180.875\n",
       "1983 195.871 172.725 182.769 170.669 174.725 191.367 220.447 230.193 195.817\n",
       "1984 216.924 189.810 200.387 181.381 192.550 209.967 221.526 229.532 195.411\n",
       "1985 228.148 198.488 195.250 185.173 197.123 205.682 227.004 226.286 202.712\n",
       "1986 217.761 192.582 197.115 186.370 197.647 215.334 242.954 225.402 206.905\n",
       "1987 223.041 194.281 202.130 189.792 206.407 225.908 248.196 247.881 213.221\n",
       "1988 238.188 217.183 214.294 196.297 208.704 233.066 257.742 267.929 220.392\n",
       "1989 246.766 233.783 241.946 222.869 234.825 250.919 273.458 275.420 242.794\n",
       "1990 255.187 229.499 244.761 229.770 241.774 268.992 287.448 290.655 258.357\n",
       "1991 269.214 228.290 240.561 227.799 254.873 269.099 294.648 292.159 256.027\n",
       "1992 267.773 239.514 247.733 233.406 242.412 261.077 293.617 281.927 259.925\n",
       "1993 271.021 248.015 261.248 234.695 244.326 275.360 312.225 311.450 264.032\n",
       "1994 289.768 249.172 257.998 240.637 252.745 294.162 311.257 307.605 266.262\n",
       "1995 279.773 252.307 261.343 244.736 264.288 286.258 330.416 345.780 277.575\n",
       "1996 296.923 270.685 275.019 251.613 282.266 302.717 327.708 329.286 283.151\n",
       "1997 300.574 258.131 272.258 258.284 272.914 299.092 344.516 332.899 301.057\n",
       "1998 295.260 260.590 286.878 261.230 299.640 328.903 361.936 357.366 318.924\n",
       "1999 315.814 274.820 298.145 280.719 300.098 328.924 376.538 364.031 305.516\n",
       "2000 327.994 294.169 301.580 285.578 322.954 339.054 356.528 368.669 312.447\n",
       "2001 332.493 282.940 300.707 278.079 300.492 327.694 357.614 370.533 306.929\n",
       "2002 319.941 281.826 302.549 289.848 307.675 341.023 381.542 374.586 331.279\n",
       "2003 341.989 299.249 304.317 285.756 307.545 328.694 374.396 381.816 323.136\n",
       "2004 346.546 314.280 308.812 290.560 327.380 345.085 377.332 368.439 335.622\n",
       "2005 343.121 298.500 317.458 289.562 315.062 363.672 402.274 404.941 350.218\n",
       "2006 328.658 307.333 318.730 297.858 330.616 364.260 410.421 407.763 332.055\n",
       "2007 353.531 323.230 320.471 303.129 330.203 362.755 393.226 421.797 355.394\n",
       "2008 362.998 325.106 324.630 305.865 325.245 373.109 402.900 388.987 338.056\n",
       "2009 354.993 300.887 310.603 289.537 311.306 347.658 372.542 381.221 327.401\n",
       "2010 360.957 319.735 312.168 287.800 327.936 375.759 409.725 408.884 346.045\n",
       "2011 363.105 313.293 318.710 302.400 323.627 367.727 418.693 406.541 337.961\n",
       "2012 340.919 310.151 309.040 295.940 337.530 361.506 416.515 396.108 334.735\n",
       "2013 348.642 309.601 325.372 298.261 322.118 356.400                        \n",
       "     Oct     Nov     Dec    \n",
       "1973 154.197 148.138 153.605\n",
       "1974 152.196 150.071 160.009\n",
       "1975 155.188 153.035 169.628\n",
       "1976 164.009 169.346 184.144\n",
       "1977 166.645 167.388 184.589\n",
       "1978 176.013 176.389 192.105\n",
       "1979 179.953 177.770 188.970\n",
       "1980 178.761 178.771 195.849\n",
       "1981 181.558 175.792 195.826\n",
       "1982 173.172 173.599 184.958\n",
       "1983 183.137 183.171 212.555\n",
       "1984 191.142 190.602 200.232\n",
       "1985 194.995 192.649 219.490\n",
       "1986 197.960 196.654 213.787\n",
       "1987 203.215 200.479 220.736\n",
       "1988 210.814 209.815 232.988\n",
       "1989 235.669 234.250 274.448\n",
       "1990 244.372 231.242 255.770\n",
       "1991 245.378 241.661 254.089\n",
       "1992 244.994 244.162 267.343\n",
       "1993 250.553 252.102 272.165\n",
       "1994 256.528 251.868 269.520\n",
       "1995 263.978 261.478 285.554\n",
       "1996 271.446 269.122 284.250\n",
       "1997 284.971 271.121 296.356\n",
       "1998 284.446 267.136 297.986\n",
       "1999 283.935 271.096 295.174\n",
       "2000 289.452 284.670 319.011\n",
       "2001 294.734 278.934 305.496\n",
       "2002 307.059 296.290 324.834\n",
       "2003 306.741 297.867 331.680\n",
       "2004 312.450 302.101 341.948\n",
       "2005 316.398 306.115 348.101\n",
       "2006 321.567 309.159 336.283\n",
       "2007 332.615 314.103 346.290\n",
       "2008 318.547 310.046 343.898\n",
       "2009 307.040 296.635 350.507\n",
       "2010 307.921 306.010 362.119\n",
       "2011 308.727 304.119 335.753\n",
       "2012 312.157 305.548 334.335\n",
       "2013                        "
      ]
     },
     "metadata": {},
     "output_type": "display_data"
    }
   ],
   "source": [
    "usmelec"
   ]
  },
  {
   "cell_type": "code",
   "execution_count": 149,
   "id": "quantitative-comfort",
   "metadata": {},
   "outputs": [
    {
     "data": {
      "text/html": [
       "<table>\n",
       "<thead><tr><th></th><th scope=col>ME</th><th scope=col>RMSE</th><th scope=col>MAE</th><th scope=col>MPE</th><th scope=col>MAPE</th><th scope=col>MASE</th><th scope=col>ACF1</th><th scope=col>Theil's U</th></tr></thead>\n",
       "<tbody>\n",
       "\t<tr><th scope=row>Training set</th><td>0.4949346 </td><td> 7.298956 </td><td> 5.450133 </td><td>0.1444447 </td><td>2.133156  </td><td>0.6086471 </td><td>0.04427954</td><td>       NA </td></tr>\n",
       "\t<tr><th scope=row>Test set</th><td>4.1089753 </td><td>13.617773 </td><td>10.387622 </td><td>0.8909161 </td><td>2.870954  </td><td>1.1600444 </td><td>0.58075337</td><td>0.3882407 </td></tr>\n",
       "</tbody>\n",
       "</table>\n"
      ],
      "text/latex": [
       "\\begin{tabular}{r|llllllll}\n",
       "  & ME & RMSE & MAE & MPE & MAPE & MASE & ACF1 & Theil's U\\\\\n",
       "\\hline\n",
       "\tTraining set & 0.4949346  &  7.298956  &  5.450133  & 0.1444447  & 2.133156   & 0.6086471  & 0.04427954 &        NA \\\\\n",
       "\tTest set & 4.1089753  & 13.617773  & 10.387622  & 0.8909161  & 2.870954   & 1.1600444  & 0.58075337 & 0.3882407 \\\\\n",
       "\\end{tabular}\n"
      ],
      "text/markdown": [
       "\n",
       "| <!--/--> | ME | RMSE | MAE | MPE | MAPE | MASE | ACF1 | Theil's U |\n",
       "|---|---|---|---|---|---|---|---|---|\n",
       "| Training set | 0.4949346  |  7.298956  |  5.450133  | 0.1444447  | 2.133156   | 0.6086471  | 0.04427954 |        NA  |\n",
       "| Test set | 4.1089753  | 13.617773  | 10.387622  | 0.8909161  | 2.870954   | 1.1600444  | 0.58075337 | 0.3882407  |\n",
       "\n"
      ],
      "text/plain": [
       "             ME        RMSE      MAE       MPE       MAPE     MASE     \n",
       "Training set 0.4949346  7.298956  5.450133 0.1444447 2.133156 0.6086471\n",
       "Test set     4.1089753 13.617773 10.387622 0.8909161 2.870954 1.1600444\n",
       "             ACF1       Theil's U\n",
       "Training set 0.04427954        NA\n",
       "Test set     0.58075337 0.3882407"
      ]
     },
     "metadata": {},
     "output_type": "display_data"
    },
    {
     "data": {
      "text/html": [
       "<table>\n",
       "<thead><tr><th></th><th scope=col>ME</th><th scope=col>RMSE</th><th scope=col>MAE</th><th scope=col>MPE</th><th scope=col>MAPE</th><th scope=col>MASE</th><th scope=col>ACF1</th><th scope=col>Theil's U</th></tr></thead>\n",
       "<tbody>\n",
       "\t<tr><th scope=row>Training set</th><td>4.868522 </td><td>11.52062 </td><td> 8.954503</td><td>1.988132 </td><td>3.502571 </td><td>1.000000 </td><td>0.4839319</td><td>       NA</td></tr>\n",
       "\t<tr><th scope=row>Test set</th><td>8.355472 </td><td>17.78925 </td><td>14.060694</td><td>2.178254 </td><td>3.912180 </td><td>1.570237 </td><td>0.5411975</td><td>0.5084651</td></tr>\n",
       "</tbody>\n",
       "</table>\n"
      ],
      "text/latex": [
       "\\begin{tabular}{r|llllllll}\n",
       "  & ME & RMSE & MAE & MPE & MAPE & MASE & ACF1 & Theil's U\\\\\n",
       "\\hline\n",
       "\tTraining set & 4.868522  & 11.52062  &  8.954503 & 1.988132  & 3.502571  & 1.000000  & 0.4839319 &        NA\\\\\n",
       "\tTest set & 8.355472  & 17.78925  & 14.060694 & 2.178254  & 3.912180  & 1.570237  & 0.5411975 & 0.5084651\\\\\n",
       "\\end{tabular}\n"
      ],
      "text/markdown": [
       "\n",
       "| <!--/--> | ME | RMSE | MAE | MPE | MAPE | MASE | ACF1 | Theil's U |\n",
       "|---|---|---|---|---|---|---|---|---|\n",
       "| Training set | 4.868522  | 11.52062  |  8.954503 | 1.988132  | 3.502571  | 1.000000  | 0.4839319 |        NA |\n",
       "| Test set | 8.355472  | 17.78925  | 14.060694 | 2.178254  | 3.912180  | 1.570237  | 0.5411975 | 0.5084651 |\n",
       "\n"
      ],
      "text/plain": [
       "             ME       RMSE     MAE       MPE      MAPE     MASE     ACF1     \n",
       "Training set 4.868522 11.52062  8.954503 1.988132 3.502571 1.000000 0.4839319\n",
       "Test set     8.355472 17.78925 14.060694 2.178254 3.912180 1.570237 0.5411975\n",
       "             Theil's U\n",
       "Training set        NA\n",
       "Test set     0.5084651"
      ]
     },
     "metadata": {},
     "output_type": "display_data"
    },
    {
     "data": {
      "text/html": [
       "<table>\n",
       "<thead><tr><th></th><th scope=col>ME</th><th scope=col>RMSE</th><th scope=col>MAE</th><th scope=col>MPE</th><th scope=col>MAPE</th><th scope=col>MASE</th><th scope=col>ACF1</th><th scope=col>Theil's U</th></tr></thead>\n",
       "<tbody>\n",
       "\t<tr><th scope=row>Training set</th><td> -0.1444685</td><td> 6.298561  </td><td> 4.733474  </td><td>-0.05361971</td><td>1.838786   </td><td>0.5286137  </td><td>0.08417934 </td><td>       NA  </td></tr>\n",
       "\t<tr><th scope=row>Test set</th><td>-11.7022560</td><td>18.308198  </td><td>15.717834  </td><td>-3.67771229</td><td>4.716249   </td><td>1.7552994  </td><td>0.67082880 </td><td>0.5795498  </td></tr>\n",
       "</tbody>\n",
       "</table>\n"
      ],
      "text/latex": [
       "\\begin{tabular}{r|llllllll}\n",
       "  & ME & RMSE & MAE & MPE & MAPE & MASE & ACF1 & Theil's U\\\\\n",
       "\\hline\n",
       "\tTraining set &  -0.1444685 &  6.298561   &  4.733474   & -0.05361971 & 1.838786    & 0.5286137   & 0.08417934  &        NA  \\\\\n",
       "\tTest set & -11.7022560 & 18.308198   & 15.717834   & -3.67771229 & 4.716249    & 1.7552994   & 0.67082880  & 0.5795498  \\\\\n",
       "\\end{tabular}\n"
      ],
      "text/markdown": [
       "\n",
       "| <!--/--> | ME | RMSE | MAE | MPE | MAPE | MASE | ACF1 | Theil's U |\n",
       "|---|---|---|---|---|---|---|---|---|\n",
       "| Training set |  -0.1444685 |  6.298561   |  4.733474   | -0.05361971 | 1.838786    | 0.5286137   | 0.08417934  |        NA   |\n",
       "| Test set | -11.7022560 | 18.308198   | 15.717834   | -3.67771229 | 4.716249    | 1.7552994   | 0.67082880  | 0.5795498   |\n",
       "\n"
      ],
      "text/plain": [
       "             ME          RMSE      MAE       MPE         MAPE     MASE     \n",
       "Training set  -0.1444685  6.298561  4.733474 -0.05361971 1.838786 0.5286137\n",
       "Test set     -11.7022560 18.308198 15.717834 -3.67771229 4.716249 1.7552994\n",
       "             ACF1       Theil's U\n",
       "Training set 0.08417934        NA\n",
       "Test set     0.67082880 0.5795498"
      ]
     },
     "metadata": {},
     "output_type": "display_data"
    },
    {
     "data": {
      "image/png": "[encoded data removed]",
      "text/plain": [
       "plot without title"
      ]
     },
     "metadata": {},
     "output_type": "display_data"
    }
   ],
   "source": [
    "train <- window(usmelec, end=end(usmelec)-c(3,1))\n",
    "test <- window(usmelec, start=end(usmelec)-c(3,0))\n",
    "fc1 <- forecast(ets(train), h=36)\n",
    "fc2 <- snaive(train, h=36)\n",
    "fc3 <- stlf(train, lambda=BoxCox.lambda(train), h=36)\n",
    "autoplot(test) + \n",
    "autolayer(fc1, series=\"ets\", PI=FALSE) + \n",
    "autolayer(fc2, series=\"naive\", PI=FALSE) +\n",
    "autolayer(fc3, series=\"stlf\", PI=FALSE)\n",
    "accuracy(fc1, test)\n",
    "accuracy(fc2, test)\n",
    "accuracy(fc3, test)"
   ]
  },
  {
   "cell_type": "markdown",
   "id": "stretch-highland",
   "metadata": {},
   "source": [
    "# 15. Show that the point forecasts from an ETS(M,A,M) model are the same as those obtained using multiplicative Holt-Winters' method.\n",
    "\n",
    "\n",
    "$$\n",
    "  \\hat{y}_{t+h|t} = (\\ell_t + hb_t)s_{t-m+h_m^+}\n",
    "$$\n",
    "\n",
    "\\begin{align*}\n",
    "  y_t    & = (\\ell_{t-1}+b_{t-1})s_{t-m}(1+\\varepsilon_t) \\\\\n",
    "  \\ell_t & = (\\ell_{t-1}+b_{t-1})(1+\\alpha\\varepsilon_t) \\\\\n",
    "  b_t    & = b_{t-1} + \\beta(\\ell_{t-1}+b_{t-1})\\varepsilon_t \\\\\n",
    "  s_t    & = s_{t-m} (1+\\gamma\\varepsilon_t)\n",
    "\\end{align*}\n",
    "\n",
    "$$\n",
    "  y_{T+h} = (\\ell_{T+h-1}+b_{T+h-1})s_{T+h-m}(1+\\varepsilon_{T+h-m})\n",
    "$$\n",
    "\n",
    "\n",
    "$$\n",
    "  \\hat{y}_{T+h} = (\\ell_{T+h-2}+2b_{T+h-2})s_{T+h-m}\n",
    "$$\n",
    "\n",
    "\n",
    "$$\n",
    "  \\hat{y}_{T+h} = (\\ell_{T}+hb_{T})s_{T+h-m}\n",
    "$$\n",
    "\n",
    "\n",
    "$$\n",
    "  \\hat{y}_{T+h|T} = (\\ell_{T}+hb_{T})s_{T+h_m^+-m}\n",
    "$$\n"
   ]
  },
  {
   "cell_type": "markdown",
   "id": "residential-second",
   "metadata": {},
   "source": [
    "# 16.\n",
    ">Show that the forecast variance for an ETS(A,N,N) model is given by\n",
    "$$\n",
    "\\sigma^2\\left[1+\\alpha^2(h-1)\\right].\n",
    "$$\n",
    "\n",
    "\n",
    "  \\begin{align*}\n",
    "    y_t      & = \\ell_{t-1} + \\varepsilon_{t} \\\\\n",
    "    \\ell_{t} & = \\ell_{t-1} + \\alpha\\varepsilon_{t},\n",
    "  \\end{align*}\n",
    " $\\varepsilon_t \\sim \\text{N}(0,\\sigma^2)$, \n",
    "$$\n",
    " \\hat{y}_{T+h|T} = \\ell_T.\n",
    "$$\n",
    "\n",
    "  \\begin{align*}\n",
    "     y_{T+h} & = \\ell_{T+h-1} + \\varepsilon_{T+h} \\\\\n",
    "             & = \\ell_{T+h-2} + \\alpha \\varepsilon_{T+h-1} +  \\varepsilon_{T+h} \\\\\n",
    "             & = \\ell_{T+h-3} + \\alpha \\varepsilon_{T+h-2}  + \\alpha \\varepsilon_{T+h-1} +  \\varepsilon_{T+h} \\\\\n",
    "             & \\dots \\\\\n",
    "             & = \\ell_{T} + \\alpha \\sum_{j=1}^{h-1} \\varepsilon_{T+h-j} +  \\varepsilon_{T+h}.\n",
    "  \\end{align*}\n",
    "\n",
    "\n",
    "  \\begin{align*}\n",
    "    \\text{Var}(y_{T+h} | y_1,\\dots,y_T) & = \\alpha^2 \\sum_{j=1}^{h-1} \\sigma^2 +  \\sigma^2 \\\\\n",
    "                                        & =  \\sigma^2\\left[ 1 + \\alpha^2 (h-1)\\right ].\n",
    "  \\end{align*}"
   ]
  },
  {
   "cell_type": "markdown",
   "id": "aquatic-kentucky",
   "metadata": {},
   "source": [
    "# 17.Write down the 95\\% prediction intervals for an ETS(A,N,N) model as a function of $\\ell_T$, $\\alpha$, $h$ and $\\sigma$, assuming Gaussian errors.\n",
    "\n",
    "\n",
    "$$\n",
    " \\ell_T \\pm 1.96 \\sigma \\sqrt{ 1 + \\alpha^2 (h-1)}\n",
    "$$\n"
   ]
  }
 ],
 "metadata": {
  "kernelspec": {
   "display_name": "R",
   "language": "R",
   "name": "ir"
  }
 },
 "nbformat": 4,
 "nbformat_minor": 5
}
