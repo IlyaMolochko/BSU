{
 "cells": [
  {
   "cell_type": "markdown",
   "id": "surrounded-victorian",
   "metadata": {},
   "source": [
    "# Задание 1. Управление данными в R\n",
    "\n",
    "Скопировать файл \"QC#.txt\" (# - номер варианта) из папки \"DATA\" в рабочую директорию (узнать путь к рабочей директории можно вызовом getwd() в консоли).   \n",
    "Ввести данные из текстового файла согласно варианту (функция \"read.table\"). Сохранить в переменную qc (таблица данных).\n"
   ]
  },
  {
   "cell_type": "code",
   "execution_count": 1,
   "id": "common-brain",
   "metadata": {},
   "outputs": [],
   "source": [
    "qc = read.table(\"QC14.TXT\")"
   ]
  },
  {
   "cell_type": "markdown",
   "id": "amateur-window",
   "metadata": {},
   "source": [
    "Вывести размерность таблицы данных(dim)."
   ]
  },
  {
   "cell_type": "code",
   "execution_count": 2,
   "id": "personalized-worthy",
   "metadata": {},
   "outputs": [
    {
     "data": {
      "text/html": [
       "<ol class=list-inline>\n",
       "\t<li>100</li>\n",
       "\t<li>9</li>\n",
       "</ol>\n"
      ],
      "text/latex": [
       "\\begin{enumerate*}\n",
       "\\item 100\n",
       "\\item 9\n",
       "\\end{enumerate*}\n"
      ],
      "text/markdown": [
       "1. 100\n",
       "2. 9\n",
       "\n",
       "\n"
      ],
      "text/plain": [
       "[1] 100   9"
      ]
     },
     "metadata": {},
     "output_type": "display_data"
    }
   ],
   "source": [
    "dim(qc)"
   ]
  },
  {
   "cell_type": "markdown",
   "id": "ruled-questionnaire",
   "metadata": {},
   "source": [
    "Вывести первые 3 записи таблицы (head)."
   ]
  },
  {
   "cell_type": "code",
   "execution_count": 3,
   "id": "ancient-halifax",
   "metadata": {},
   "outputs": [
    {
     "data": {
      "text/html": [
       "<table>\n",
       "<thead><tr><th scope=col>V1</th><th scope=col>V2</th><th scope=col>V3</th><th scope=col>V4</th><th scope=col>V5</th><th scope=col>V6</th><th scope=col>V7</th><th scope=col>V8</th><th scope=col>V9</th></tr></thead>\n",
       "<tbody>\n",
       "\t<tr><td>56.08 </td><td>10.58 </td><td>4     </td><td>2     </td><td>1     </td><td>4     </td><td>18.417</td><td>47.685</td><td>2     </td></tr>\n",
       "\t<tr><td>57.00 </td><td> 9.00 </td><td>1     </td><td>3     </td><td>1     </td><td>2     </td><td>19.140</td><td>46.800</td><td>4     </td></tr>\n",
       "\t<tr><td>56.93 </td><td>10.57 </td><td>5     </td><td>1     </td><td>2     </td><td>4     </td><td>18.477</td><td>51.330</td><td>3     </td></tr>\n",
       "</tbody>\n",
       "</table>\n"
      ],
      "text/latex": [
       "\\begin{tabular}{r|lllllllll}\n",
       " V1 & V2 & V3 & V4 & V5 & V6 & V7 & V8 & V9\\\\\n",
       "\\hline\n",
       "\t 56.08  & 10.58  & 4      & 2      & 1      & 4      & 18.417 & 47.685 & 2     \\\\\n",
       "\t 57.00  &  9.00  & 1      & 3      & 1      & 2      & 19.140 & 46.800 & 4     \\\\\n",
       "\t 56.93  & 10.57  & 5      & 1      & 2      & 4      & 18.477 & 51.330 & 3     \\\\\n",
       "\\end{tabular}\n"
      ],
      "text/markdown": [
       "\n",
       "| V1 | V2 | V3 | V4 | V5 | V6 | V7 | V8 | V9 |\n",
       "|---|---|---|---|---|---|---|---|---|\n",
       "| 56.08  | 10.58  | 4      | 2      | 1      | 4      | 18.417 | 47.685 | 2      |\n",
       "| 57.00  |  9.00  | 1      | 3      | 1      | 2      | 19.140 | 46.800 | 4      |\n",
       "| 56.93  | 10.57  | 5      | 1      | 2      | 4      | 18.477 | 51.330 | 3      |\n",
       "\n"
      ],
      "text/plain": [
       "  V1    V2    V3 V4 V5 V6 V7     V8     V9\n",
       "1 56.08 10.58 4  2  1  4  18.417 47.685 2 \n",
       "2 57.00  9.00 1  3  1  2  19.140 46.800 4 \n",
       "3 56.93 10.57 5  1  2  4  18.477 51.330 3 "
      ]
     },
     "metadata": {},
     "output_type": "display_data"
    }
   ],
   "source": [
    "head(qc, 3)"
   ]
  },
  {
   "cell_type": "markdown",
   "id": "reflected-disney",
   "metadata": {},
   "source": [
    "Изменить имена переменных в таблице (names) согласно:\n",
    "\"б\"-\"kit\", \"п\"-\"nbug\",\"№изг\"-\"maker\",\"№пост\"-\"vendor\",\"№вд\"-\"bug\"\n",
    "\"н\" - последовательно проименовать как \"с1\", \"c2\",\"c3\",\"c4\" (порядок переменных - согласно варианту).   \n",
    "Вывести часть таблицы функцией head."
   ]
  },
  {
   "cell_type": "code",
   "execution_count": 4,
   "id": "eight-people",
   "metadata": {},
   "outputs": [
    {
     "data": {
      "text/html": [
       "<table>\n",
       "<thead><tr><th scope=col>c1</th><th scope=col>c2</th><th scope=col>kit</th><th scope=col>nbug</th><th scope=col>maker</th><th scope=col>vendor</th><th scope=col>c3</th><th scope=col>c4</th><th scope=col>bug</th></tr></thead>\n",
       "<tbody>\n",
       "\t<tr><td>56.08 </td><td>10.58 </td><td>4     </td><td>2     </td><td>1     </td><td>4     </td><td>18.417</td><td>47.685</td><td>2     </td></tr>\n",
       "\t<tr><td>57.00 </td><td> 9.00 </td><td>1     </td><td>3     </td><td>1     </td><td>2     </td><td>19.140</td><td>46.800</td><td>4     </td></tr>\n",
       "\t<tr><td>56.93 </td><td>10.57 </td><td>5     </td><td>1     </td><td>2     </td><td>4     </td><td>18.477</td><td>51.330</td><td>3     </td></tr>\n",
       "</tbody>\n",
       "</table>\n"
      ],
      "text/latex": [
       "\\begin{tabular}{r|lllllllll}\n",
       " c1 & c2 & kit & nbug & maker & vendor & c3 & c4 & bug\\\\\n",
       "\\hline\n",
       "\t 56.08  & 10.58  & 4      & 2      & 1      & 4      & 18.417 & 47.685 & 2     \\\\\n",
       "\t 57.00  &  9.00  & 1      & 3      & 1      & 2      & 19.140 & 46.800 & 4     \\\\\n",
       "\t 56.93  & 10.57  & 5      & 1      & 2      & 4      & 18.477 & 51.330 & 3     \\\\\n",
       "\\end{tabular}\n"
      ],
      "text/markdown": [
       "\n",
       "| c1 | c2 | kit | nbug | maker | vendor | c3 | c4 | bug |\n",
       "|---|---|---|---|---|---|---|---|---|\n",
       "| 56.08  | 10.58  | 4      | 2      | 1      | 4      | 18.417 | 47.685 | 2      |\n",
       "| 57.00  |  9.00  | 1      | 3      | 1      | 2      | 19.140 | 46.800 | 4      |\n",
       "| 56.93  | 10.57  | 5      | 1      | 2      | 4      | 18.477 | 51.330 | 3      |\n",
       "\n"
      ],
      "text/plain": [
       "  c1    c2    kit nbug maker vendor c3     c4     bug\n",
       "1 56.08 10.58 4   2    1     4      18.417 47.685 2  \n",
       "2 57.00  9.00 1   3    1     2      19.140 46.800 4  \n",
       "3 56.93 10.57 5   1    2     4      18.477 51.330 3  "
      ]
     },
     "metadata": {},
     "output_type": "display_data"
    }
   ],
   "source": [
    "names(qc) = c(\"c1\", \"c2\", \"kit\", \"nbug\", \"maker\", \"vendor\", \"c3\", \"c4\", \"bug\")\n",
    "head(qc,3)"
   ]
  },
  {
   "cell_type": "markdown",
   "id": "atmospheric-growth",
   "metadata": {},
   "source": [
    "Вывести общую статистику по переменной vendor (summary из Раздела 2).  Обращаться к переменной через \"$\".   "
   ]
  },
  {
   "cell_type": "code",
   "execution_count": 5,
   "id": "promising-heating",
   "metadata": {},
   "outputs": [
    {
     "data": {
      "text/plain": [
       "   Min. 1st Qu.  Median    Mean 3rd Qu.    Max. \n",
       "   1.00    1.75    2.00    2.49    4.00    4.00 "
      ]
     },
     "metadata": {},
     "output_type": "display_data"
    }
   ],
   "source": [
    "summary(qc$vendor)"
   ]
  },
  {
   "cell_type": "markdown",
   "id": "confidential-anime",
   "metadata": {},
   "source": [
    "Преобразовать vendor в переменную-фактор (c помощью as.factor, для доступа к переменной обратиться к столбцу с помощью оператора []).   \n",
    "Вывести общую статистику для преобразованной переменной vendor (summary).   "
   ]
  },
  {
   "cell_type": "code",
   "execution_count": 6,
   "id": "combined-amsterdam",
   "metadata": {},
   "outputs": [
    {
     "data": {
      "text/html": [
       "<dl class=dl-horizontal>\n",
       "\t<dt>1</dt>\n",
       "\t\t<dd>25</dd>\n",
       "\t<dt>2</dt>\n",
       "\t\t<dd>28</dd>\n",
       "\t<dt>3</dt>\n",
       "\t\t<dd>20</dd>\n",
       "\t<dt>4</dt>\n",
       "\t\t<dd>27</dd>\n",
       "</dl>\n"
      ],
      "text/latex": [
       "\\begin{description*}\n",
       "\\item[1] 25\n",
       "\\item[2] 28\n",
       "\\item[3] 20\n",
       "\\item[4] 27\n",
       "\\end{description*}\n"
      ],
      "text/markdown": [
       "1\n",
       ":   252\n",
       ":   283\n",
       ":   204\n",
       ":   27\n",
       "\n"
      ],
      "text/plain": [
       " 1  2  3  4 \n",
       "25 28 20 27 "
      ]
     },
     "metadata": {},
     "output_type": "display_data"
    }
   ],
   "source": [
    "qc[[\"vendor\"]] = as.factor(qc[[\"vendor\"]])\n",
    "summary(qc[[\"vendor\"]])"
   ]
  },
  {
   "cell_type": "markdown",
   "id": "thrown-bowling",
   "metadata": {},
   "source": [
    "Подсчитать количество изделий, у которых число дефектов больше 3 (функция sum и оператор условия)."
   ]
  },
  {
   "cell_type": "code",
   "execution_count": 7,
   "id": "roman-thanks",
   "metadata": {},
   "outputs": [
    {
     "data": {
      "text/html": [
       "11"
      ],
      "text/latex": [
       "11"
      ],
      "text/markdown": [
       "11"
      ],
      "text/plain": [
       "[1] 11"
      ]
     },
     "metadata": {},
     "output_type": "display_data"
    }
   ],
   "source": [
    "sum(qc$nbug > 3)"
   ]
  },
  {
   "cell_type": "markdown",
   "id": "received-edmonton",
   "metadata": {},
   "source": [
    "Вывести наблюдение, для которого количество некретических дефектов равно максимальному (оператор [] к переменной qc, функция max)."
   ]
  },
  {
   "cell_type": "code",
   "execution_count": 8,
   "id": "southwest-astrology",
   "metadata": {},
   "outputs": [
    {
     "data": {
      "text/html": [
       "<ol class=list-inline>\n",
       "\t<li>'53.93'</li>\n",
       "\t<li>'57.19'</li>\n",
       "\t<li>'10.16'</li>\n",
       "\t<li>' 9.85'</li>\n",
       "\t<li>'3'</li>\n",
       "\t<li>'7'</li>\n",
       "\t<li>'6'</li>\n",
       "\t<li>'6'</li>\n",
       "\t<li>'2'</li>\n",
       "\t<li>'1'</li>\n",
       "\t<li>'1'</li>\n",
       "\t<li>'1'</li>\n",
       "\t<li>'18.006'</li>\n",
       "\t<li>'18.930'</li>\n",
       "\t<li>'47.535'</li>\n",
       "\t<li>'45.405'</li>\n",
       "\t<li>'3'</li>\n",
       "\t<li>'3'</li>\n",
       "</ol>\n"
      ],
      "text/latex": [
       "\\begin{enumerate*}\n",
       "\\item '53.93'\n",
       "\\item '57.19'\n",
       "\\item '10.16'\n",
       "\\item ' 9.85'\n",
       "\\item '3'\n",
       "\\item '7'\n",
       "\\item '6'\n",
       "\\item '6'\n",
       "\\item '2'\n",
       "\\item '1'\n",
       "\\item '1'\n",
       "\\item '1'\n",
       "\\item '18.006'\n",
       "\\item '18.930'\n",
       "\\item '47.535'\n",
       "\\item '45.405'\n",
       "\\item '3'\n",
       "\\item '3'\n",
       "\\end{enumerate*}\n"
      ],
      "text/markdown": [
       "1. '53.93'\n",
       "2. '57.19'\n",
       "3. '10.16'\n",
       "4. ' 9.85'\n",
       "5. '3'\n",
       "6. '7'\n",
       "7. '6'\n",
       "8. '6'\n",
       "9. '2'\n",
       "10. '1'\n",
       "11. '1'\n",
       "12. '1'\n",
       "13. '18.006'\n",
       "14. '18.930'\n",
       "15. '47.535'\n",
       "16. '45.405'\n",
       "17. '3'\n",
       "18. '3'\n",
       "\n",
       "\n"
      ],
      "text/plain": [
       " [1] \"53.93\"  \"57.19\"  \"10.16\"  \" 9.85\"  \"3\"      \"7\"      \"6\"      \"6\"     \n",
       " [9] \"2\"      \"1\"      \"1\"      \"1\"      \"18.006\" \"18.930\" \"47.535\" \"45.405\"\n",
       "[17] \"3\"      \"3\"     "
      ]
     },
     "metadata": {},
     "output_type": "display_data"
    }
   ],
   "source": [
    "qc[qc[\"nbug\"] == max(qc[\"nbug\"])]"
   ]
  },
  {
   "cell_type": "markdown",
   "id": "instant-qualification",
   "metadata": {},
   "source": [
    "# Задание 2. Описательная статистика и графический анализ"
   ]
  },
  {
   "cell_type": "markdown",
   "id": "bibliographic-emerald",
   "metadata": {},
   "source": [
    "Присоединить таблицу данных qc к списку текущих переменных (attach). Далее обращаться к именам переменных напрямую.   \n",
    "Загрузить дополнительную библиотеку (для вычисления коэффициентов асимметрии и эксцесса)."
   ]
  },
  {
   "cell_type": "code",
   "execution_count": 9,
   "id": "outstanding-customer",
   "metadata": {},
   "outputs": [
    {
     "name": "stderr",
     "output_type": "stream",
     "text": [
      "Warning message:\n",
      "\"unable to access index for repository https://cran.r-project.org/src/contrib:\n",
      "  cannot open URL 'https://cran.r-project.org/src/contrib/PACKAGES'\"Warning message:\n",
      "\"package 'e1071' is not available (for R version 3.6.1)\"Warning message:\n",
      "\"unable to access index for repository https://cran.r-project.org/bin/windows/contrib/3.6:\n",
      "  cannot open URL 'https://cran.r-project.org/bin/windows/contrib/3.6/PACKAGES'\""
     ]
    }
   ],
   "source": [
    "install.packages('e1071', dependencies=TRUE)"
   ]
  },
  {
   "cell_type": "code",
   "execution_count": 10,
   "id": "protecting-intersection",
   "metadata": {},
   "outputs": [
    {
     "name": "stderr",
     "output_type": "stream",
     "text": [
      "Warning message:\n",
      "\"package 'e1071' was built under R version 3.6.3\""
     ]
    }
   ],
   "source": [
    "attach(qc)\n",
    "library(\"e1071\")"
   ]
  },
  {
   "cell_type": "markdown",
   "id": "addressed-sugar",
   "metadata": {},
   "source": [
    "Вычислить среднее (mean) и медиану (median)."
   ]
  },
  {
   "cell_type": "code",
   "execution_count": 11,
   "id": "nominated-rhythm",
   "metadata": {},
   "outputs": [
    {
     "data": {
      "text/html": [
       "55.0549"
      ],
      "text/latex": [
       "55.0549"
      ],
      "text/markdown": [
       "55.0549"
      ],
      "text/plain": [
       "[1] 55.0549"
      ]
     },
     "metadata": {},
     "output_type": "display_data"
    }
   ],
   "source": [
    "mean(c1)"
   ]
  },
  {
   "cell_type": "code",
   "execution_count": 12,
   "id": "adopted-filling",
   "metadata": {},
   "outputs": [
    {
     "data": {
      "text/html": [
       "54.855"
      ],
      "text/latex": [
       "54.855"
      ],
      "text/markdown": [
       "54.855"
      ],
      "text/plain": [
       "[1] 54.855"
      ]
     },
     "metadata": {},
     "output_type": "display_data"
    }
   ],
   "source": [
    "median(c1)"
   ]
  },
  {
   "cell_type": "markdown",
   "id": "capital-sequence",
   "metadata": {},
   "source": [
    "Вычислить выборочные квартили Q1,Q2,Q3 (quantile), а также интерквартильный размах с помощью указанной функции."
   ]
  },
  {
   "cell_type": "code",
   "execution_count": 13,
   "id": "tested-projection",
   "metadata": {},
   "outputs": [
    {
     "data": {
      "text/html": [
       "<dl class=dl-horizontal>\n",
       "\t<dt>25%</dt>\n",
       "\t\t<dd>53.6525</dd>\n",
       "\t<dt>50%</dt>\n",
       "\t\t<dd>54.855</dd>\n",
       "\t<dt>75%</dt>\n",
       "\t\t<dd>56.525</dd>\n",
       "</dl>\n"
      ],
      "text/latex": [
       "\\begin{description*}\n",
       "\\item[25\\textbackslash{}\\%] 53.6525\n",
       "\\item[50\\textbackslash{}\\%] 54.855\n",
       "\\item[75\\textbackslash{}\\%] 56.525\n",
       "\\end{description*}\n"
      ],
      "text/markdown": [
       "25%\n",
       ":   53.652550%\n",
       ":   54.85575%\n",
       ":   56.525\n",
       "\n"
      ],
      "text/plain": [
       "    25%     50%     75% \n",
       "53.6525 54.8550 56.5250 "
      ]
     },
     "metadata": {},
     "output_type": "display_data"
    }
   ],
   "source": [
    "quantile(c1, probs=c(0.25,0.5,0.75))"
   ]
  },
  {
   "cell_type": "code",
   "execution_count": 14,
   "id": "realistic-procurement",
   "metadata": {},
   "outputs": [
    {
     "data": {
      "text/html": [
       "<strong>75%:</strong> 2.8725"
      ],
      "text/latex": [
       "\\textbf{75\\textbackslash{}\\%:} 2.8725"
      ],
      "text/markdown": [
       "**75%:** 2.8725"
      ],
      "text/plain": [
       "   75% \n",
       "2.8725 "
      ]
     },
     "metadata": {},
     "output_type": "display_data"
    }
   ],
   "source": [
    "quantile(c1, probs=0.75) - quantile(c1, probs=0.25)"
   ]
  },
  {
   "cell_type": "markdown",
   "id": "confused-collar",
   "metadata": {},
   "source": [
    "Вывести комплексную статистику по переменной (summary).  "
   ]
  },
  {
   "cell_type": "code",
   "execution_count": 15,
   "id": "cutting-papua",
   "metadata": {},
   "outputs": [
    {
     "data": {
      "text/plain": [
       "   Min. 1st Qu.  Median    Mean 3rd Qu.    Max. \n",
       "  49.68   53.65   54.85   55.05   56.52   59.94 "
      ]
     },
     "metadata": {},
     "output_type": "display_data"
    }
   ],
   "source": [
    "summary(c1)"
   ]
  },
  {
   "cell_type": "markdown",
   "id": "opposed-thesaurus",
   "metadata": {},
   "source": [
    "Вычислить дисперсию (var) для переменных с1 и  c1*2+100 в указанном порядке и сравнить результаты."
   ]
  },
  {
   "cell_type": "code",
   "execution_count": 16,
   "id": "leading-wound",
   "metadata": {},
   "outputs": [
    {
     "data": {
      "text/html": [
       "4.62820706060606"
      ],
      "text/latex": [
       "4.62820706060606"
      ],
      "text/markdown": [
       "4.62820706060606"
      ],
      "text/plain": [
       "[1] 4.628207"
      ]
     },
     "metadata": {},
     "output_type": "display_data"
    }
   ],
   "source": [
    "var(c1)"
   ]
  },
  {
   "cell_type": "code",
   "execution_count": 17,
   "id": "wrong-crisis",
   "metadata": {},
   "outputs": [
    {
     "data": {
      "text/html": [
       "18.5128282424242"
      ],
      "text/latex": [
       "18.5128282424242"
      ],
      "text/markdown": [
       "18.5128282424242"
      ],
      "text/plain": [
       "[1] 18.51283"
      ]
     },
     "metadata": {},
     "output_type": "display_data"
    }
   ],
   "source": [
    "var(c1 * 2 + 100)"
   ]
  },
  {
   "cell_type": "markdown",
   "id": "outer-aquarium",
   "metadata": {},
   "source": [
    "Вторая дисперсия больше в 4 раза"
   ]
  },
  {
   "cell_type": "markdown",
   "id": "white-theorem",
   "metadata": {},
   "source": [
    "Построить гистограмму (hist).   "
   ]
  },
  {
   "cell_type": "code",
   "execution_count": 18,
   "id": "prescription-kingston",
   "metadata": {},
   "outputs": [
    {
     "data": {
      "image/png": "[encoded data removed]",
      "text/plain": [
       "Plot with title \"Histogram of c1\""
      ]
     },
     "metadata": {},
     "output_type": "display_data"
    }
   ],
   "source": [
    "hist(c1, main=\"Histogram of c1\")"
   ]
  },
  {
   "cell_type": "markdown",
   "id": "sapphire-overview",
   "metadata": {},
   "source": [
    "Вывести асимметрию(skewness) и эксцесс (kurtosis) в указанном порядке."
   ]
  },
  {
   "cell_type": "code",
   "execution_count": 19,
   "id": "atomic-entity",
   "metadata": {},
   "outputs": [
    {
     "data": {
      "text/html": [
       "0.0331725515292005"
      ],
      "text/latex": [
       "0.0331725515292005"
      ],
      "text/markdown": [
       "0.0331725515292005"
      ],
      "text/plain": [
       "[1] 0.03317255"
      ]
     },
     "metadata": {},
     "output_type": "display_data"
    }
   ],
   "source": [
    "skewness(c1)"
   ]
  },
  {
   "cell_type": "code",
   "execution_count": 20,
   "id": "piano-tours",
   "metadata": {},
   "outputs": [
    {
     "data": {
      "text/html": [
       "-0.472792603442217"
      ],
      "text/latex": [
       "-0.472792603442217"
      ],
      "text/markdown": [
       "-0.472792603442217"
      ],
      "text/plain": [
       "[1] -0.4727926"
      ]
     },
     "metadata": {},
     "output_type": "display_data"
    }
   ],
   "source": [
    "kurtosis(c1)"
   ]
  },
  {
   "cell_type": "markdown",
   "id": "aquatic-rachel",
   "metadata": {},
   "source": [
    "функция плотности распределения асимметрична с положительной асимметрией\n",
    "\n",
    "кривая распределения плосковершинна и имеет более тяжелые хвосты(Эксцесс отрицателен) по сравнению с нормальным распределением"
   ]
  },
  {
   "cell_type": "markdown",
   "id": "general-paris",
   "metadata": {},
   "source": [
    "Проверить нормальность остатков с помощью статистического теста Лиллиефорса (lillie.test - Раздел 2)."
   ]
  },
  {
   "cell_type": "code",
   "execution_count": 21,
   "id": "herbal-purse",
   "metadata": {},
   "outputs": [
    {
     "name": "stderr",
     "output_type": "stream",
     "text": [
      "Warning message:\n",
      "\"unable to access index for repository https://cran.r-project.org/src/contrib:\n",
      "  cannot open URL 'https://cran.r-project.org/src/contrib/PACKAGES'\"Warning message:\n",
      "\"package 'nortest' is not available (for R version 3.6.1)\"Warning message:\n",
      "\"unable to access index for repository https://cran.r-project.org/bin/windows/contrib/3.6:\n",
      "  cannot open URL 'https://cran.r-project.org/bin/windows/contrib/3.6/PACKAGES'\""
     ]
    }
   ],
   "source": [
    "install.packages('nortest', dependencies=TRUE)"
   ]
  },
  {
   "cell_type": "code",
   "execution_count": 22,
   "id": "unavailable-contamination",
   "metadata": {},
   "outputs": [
    {
     "data": {
      "text/plain": [
       "\n",
       "\tLilliefors (Kolmogorov-Smirnov) normality test\n",
       "\n",
       "data:  c1\n",
       "D = 0.0772, p-value = 0.151\n"
      ]
     },
     "metadata": {},
     "output_type": "display_data"
    }
   ],
   "source": [
    "library('nortest')\n",
    "lillie.test(c1)"
   ]
  },
  {
   "cell_type": "markdown",
   "id": "metric-parent",
   "metadata": {},
   "source": [
    "Гипотеза о нормальном распределении не отклоняется на уровне значимости 0.05. Вероятно, наблюдаемые значения асимметрии и эксцесса связаны с недостаточно большим объемом выборки"
   ]
  },
  {
   "cell_type": "markdown",
   "id": "atomic-barbados",
   "metadata": {},
   "source": [
    "# Задание 3. Анализ статистических зависимостей"
   ]
  },
  {
   "cell_type": "markdown",
   "id": "floppy-capability",
   "metadata": {},
   "source": [
    "Перекодировать переменную kit так, чтобы она принимала только два значения: 1 и 2 (1 при kit<3, 2 - иначе)."
   ]
  },
  {
   "cell_type": "code",
   "execution_count": 23,
   "id": "industrial-certificate",
   "metadata": {},
   "outputs": [],
   "source": [
    "kit = ifelse(kit<3, 1, 2)"
   ]
  },
  {
   "cell_type": "code",
   "execution_count": 24,
   "id": "instrumental-fifth",
   "metadata": {},
   "outputs": [
    {
     "data": {
      "text/html": [
       "<ol class=list-inline>\n",
       "\t<li>2</li>\n",
       "\t<li>1</li>\n",
       "\t<li>2</li>\n",
       "\t<li>2</li>\n",
       "\t<li>2</li>\n",
       "\t<li>1</li>\n",
       "\t<li>2</li>\n",
       "\t<li>1</li>\n",
       "\t<li>1</li>\n",
       "\t<li>2</li>\n",
       "\t<li>2</li>\n",
       "\t<li>2</li>\n",
       "\t<li>2</li>\n",
       "\t<li>2</li>\n",
       "\t<li>2</li>\n",
       "\t<li>2</li>\n",
       "\t<li>2</li>\n",
       "\t<li>1</li>\n",
       "\t<li>2</li>\n",
       "\t<li>2</li>\n",
       "\t<li>2</li>\n",
       "\t<li>2</li>\n",
       "\t<li>2</li>\n",
       "\t<li>1</li>\n",
       "\t<li>1</li>\n",
       "\t<li>1</li>\n",
       "\t<li>1</li>\n",
       "\t<li>2</li>\n",
       "\t<li>1</li>\n",
       "\t<li>2</li>\n",
       "\t<li>2</li>\n",
       "\t<li>1</li>\n",
       "\t<li>1</li>\n",
       "\t<li>1</li>\n",
       "\t<li>2</li>\n",
       "\t<li>2</li>\n",
       "\t<li>1</li>\n",
       "\t<li>2</li>\n",
       "\t<li>1</li>\n",
       "\t<li>2</li>\n",
       "\t<li>1</li>\n",
       "\t<li>1</li>\n",
       "\t<li>2</li>\n",
       "\t<li>1</li>\n",
       "\t<li>2</li>\n",
       "\t<li>2</li>\n",
       "\t<li>1</li>\n",
       "\t<li>1</li>\n",
       "\t<li>2</li>\n",
       "\t<li>1</li>\n",
       "\t<li>1</li>\n",
       "\t<li>2</li>\n",
       "\t<li>2</li>\n",
       "\t<li>2</li>\n",
       "\t<li>1</li>\n",
       "\t<li>2</li>\n",
       "\t<li>1</li>\n",
       "\t<li>2</li>\n",
       "\t<li>1</li>\n",
       "\t<li>2</li>\n",
       "\t<li>2</li>\n",
       "\t<li>2</li>\n",
       "\t<li>1</li>\n",
       "\t<li>1</li>\n",
       "\t<li>1</li>\n",
       "\t<li>2</li>\n",
       "\t<li>2</li>\n",
       "\t<li>2</li>\n",
       "\t<li>1</li>\n",
       "\t<li>1</li>\n",
       "\t<li>2</li>\n",
       "\t<li>2</li>\n",
       "\t<li>1</li>\n",
       "\t<li>2</li>\n",
       "\t<li>2</li>\n",
       "\t<li>1</li>\n",
       "\t<li>1</li>\n",
       "\t<li>2</li>\n",
       "\t<li>1</li>\n",
       "\t<li>2</li>\n",
       "\t<li>2</li>\n",
       "\t<li>1</li>\n",
       "\t<li>1</li>\n",
       "\t<li>1</li>\n",
       "\t<li>1</li>\n",
       "\t<li>1</li>\n",
       "\t<li>1</li>\n",
       "\t<li>1</li>\n",
       "\t<li>1</li>\n",
       "\t<li>2</li>\n",
       "\t<li>1</li>\n",
       "\t<li>2</li>\n",
       "\t<li>1</li>\n",
       "\t<li>1</li>\n",
       "\t<li>2</li>\n",
       "\t<li>2</li>\n",
       "\t<li>1</li>\n",
       "\t<li>1</li>\n",
       "\t<li>2</li>\n",
       "\t<li>1</li>\n",
       "</ol>\n"
      ],
      "text/latex": [
       "\\begin{enumerate*}\n",
       "\\item 2\n",
       "\\item 1\n",
       "\\item 2\n",
       "\\item 2\n",
       "\\item 2\n",
       "\\item 1\n",
       "\\item 2\n",
       "\\item 1\n",
       "\\item 1\n",
       "\\item 2\n",
       "\\item 2\n",
       "\\item 2\n",
       "\\item 2\n",
       "\\item 2\n",
       "\\item 2\n",
       "\\item 2\n",
       "\\item 2\n",
       "\\item 1\n",
       "\\item 2\n",
       "\\item 2\n",
       "\\item 2\n",
       "\\item 2\n",
       "\\item 2\n",
       "\\item 1\n",
       "\\item 1\n",
       "\\item 1\n",
       "\\item 1\n",
       "\\item 2\n",
       "\\item 1\n",
       "\\item 2\n",
       "\\item 2\n",
       "\\item 1\n",
       "\\item 1\n",
       "\\item 1\n",
       "\\item 2\n",
       "\\item 2\n",
       "\\item 1\n",
       "\\item 2\n",
       "\\item 1\n",
       "\\item 2\n",
       "\\item 1\n",
       "\\item 1\n",
       "\\item 2\n",
       "\\item 1\n",
       "\\item 2\n",
       "\\item 2\n",
       "\\item 1\n",
       "\\item 1\n",
       "\\item 2\n",
       "\\item 1\n",
       "\\item 1\n",
       "\\item 2\n",
       "\\item 2\n",
       "\\item 2\n",
       "\\item 1\n",
       "\\item 2\n",
       "\\item 1\n",
       "\\item 2\n",
       "\\item 1\n",
       "\\item 2\n",
       "\\item 2\n",
       "\\item 2\n",
       "\\item 1\n",
       "\\item 1\n",
       "\\item 1\n",
       "\\item 2\n",
       "\\item 2\n",
       "\\item 2\n",
       "\\item 1\n",
       "\\item 1\n",
       "\\item 2\n",
       "\\item 2\n",
       "\\item 1\n",
       "\\item 2\n",
       "\\item 2\n",
       "\\item 1\n",
       "\\item 1\n",
       "\\item 2\n",
       "\\item 1\n",
       "\\item 2\n",
       "\\item 2\n",
       "\\item 1\n",
       "\\item 1\n",
       "\\item 1\n",
       "\\item 1\n",
       "\\item 1\n",
       "\\item 1\n",
       "\\item 1\n",
       "\\item 1\n",
       "\\item 2\n",
       "\\item 1\n",
       "\\item 2\n",
       "\\item 1\n",
       "\\item 1\n",
       "\\item 2\n",
       "\\item 2\n",
       "\\item 1\n",
       "\\item 1\n",
       "\\item 2\n",
       "\\item 1\n",
       "\\end{enumerate*}\n"
      ],
      "text/markdown": [
       "1. 2\n",
       "2. 1\n",
       "3. 2\n",
       "4. 2\n",
       "5. 2\n",
       "6. 1\n",
       "7. 2\n",
       "8. 1\n",
       "9. 1\n",
       "10. 2\n",
       "11. 2\n",
       "12. 2\n",
       "13. 2\n",
       "14. 2\n",
       "15. 2\n",
       "16. 2\n",
       "17. 2\n",
       "18. 1\n",
       "19. 2\n",
       "20. 2\n",
       "21. 2\n",
       "22. 2\n",
       "23. 2\n",
       "24. 1\n",
       "25. 1\n",
       "26. 1\n",
       "27. 1\n",
       "28. 2\n",
       "29. 1\n",
       "30. 2\n",
       "31. 2\n",
       "32. 1\n",
       "33. 1\n",
       "34. 1\n",
       "35. 2\n",
       "36. 2\n",
       "37. 1\n",
       "38. 2\n",
       "39. 1\n",
       "40. 2\n",
       "41. 1\n",
       "42. 1\n",
       "43. 2\n",
       "44. 1\n",
       "45. 2\n",
       "46. 2\n",
       "47. 1\n",
       "48. 1\n",
       "49. 2\n",
       "50. 1\n",
       "51. 1\n",
       "52. 2\n",
       "53. 2\n",
       "54. 2\n",
       "55. 1\n",
       "56. 2\n",
       "57. 1\n",
       "58. 2\n",
       "59. 1\n",
       "60. 2\n",
       "61. 2\n",
       "62. 2\n",
       "63. 1\n",
       "64. 1\n",
       "65. 1\n",
       "66. 2\n",
       "67. 2\n",
       "68. 2\n",
       "69. 1\n",
       "70. 1\n",
       "71. 2\n",
       "72. 2\n",
       "73. 1\n",
       "74. 2\n",
       "75. 2\n",
       "76. 1\n",
       "77. 1\n",
       "78. 2\n",
       "79. 1\n",
       "80. 2\n",
       "81. 2\n",
       "82. 1\n",
       "83. 1\n",
       "84. 1\n",
       "85. 1\n",
       "86. 1\n",
       "87. 1\n",
       "88. 1\n",
       "89. 1\n",
       "90. 2\n",
       "91. 1\n",
       "92. 2\n",
       "93. 1\n",
       "94. 1\n",
       "95. 2\n",
       "96. 2\n",
       "97. 1\n",
       "98. 1\n",
       "99. 2\n",
       "100. 1\n",
       "\n",
       "\n"
      ],
      "text/plain": [
       "  [1] 2 1 2 2 2 1 2 1 1 2 2 2 2 2 2 2 2 1 2 2 2 2 2 1 1 1 1 2 1 2 2 1 1 1 2 2 1\n",
       " [38] 2 1 2 1 1 2 1 2 2 1 1 2 1 1 2 2 2 1 2 1 2 1 2 2 2 1 1 1 2 2 2 1 1 2 2 1 2\n",
       " [75] 2 1 1 2 1 2 2 1 1 1 1 1 1 1 1 2 1 2 1 1 2 2 1 1 2 1"
      ]
     },
     "metadata": {},
     "output_type": "display_data"
    }
   ],
   "source": [
    "kit"
   ]
  },
  {
   "cell_type": "markdown",
   "id": "overall-devices",
   "metadata": {},
   "source": [
    "Вычислить ранговый коэффициент корреляции Спирмена (cor,method=\"spearman\") для переменных kit и maker."
   ]
  },
  {
   "cell_type": "code",
   "execution_count": 25,
   "id": "directed-eligibility",
   "metadata": {},
   "outputs": [
    {
     "data": {
      "text/html": [
       "0.0817307692307692"
      ],
      "text/latex": [
       "0.0817307692307692"
      ],
      "text/markdown": [
       "0.0817307692307692"
      ],
      "text/plain": [
       "[1] 0.08173077"
      ]
     },
     "metadata": {},
     "output_type": "display_data"
    }
   ],
   "source": [
    "cor(kit, maker, method = \"spearman\")"
   ]
  },
  {
   "cell_type": "markdown",
   "id": "crazy-concern",
   "metadata": {},
   "source": [
    "Вывести таблицу сопряженности (table) по переменным kit и maker.  "
   ]
  },
  {
   "cell_type": "code",
   "execution_count": 26,
   "id": "antique-nickname",
   "metadata": {},
   "outputs": [
    {
     "data": {
      "text/plain": [
       "   maker\n",
       "kit  1  2\n",
       "  1 27 21\n",
       "  2 25 27"
      ]
     },
     "metadata": {},
     "output_type": "display_data"
    }
   ],
   "source": [
    "table(kit, maker)"
   ]
  },
  {
   "cell_type": "markdown",
   "id": "certain-howard",
   "metadata": {},
   "source": [
    "#### Согласно ранговому коэффициенту корреляции и таблице сопряженности согласованность между переменными практически отсутствует."
   ]
  },
  {
   "cell_type": "markdown",
   "id": "offshore-motor",
   "metadata": {},
   "source": [
    "Для переменных с1,с3 вычислить коэффициент корреляции с проверкой статистической значимости (cor.test). "
   ]
  },
  {
   "cell_type": "code",
   "execution_count": 27,
   "id": "million-portland",
   "metadata": {},
   "outputs": [
    {
     "data": {
      "text/plain": [
       "\n",
       "\tPearson's product-moment correlation\n",
       "\n",
       "data:  c1 and c3\n",
       "t = 21.001, df = 98, p-value < 2.2e-16\n",
       "alternative hypothesis: true correlation is not equal to 0\n",
       "95 percent confidence interval:\n",
       " 0.8611169 0.9348641\n",
       "sample estimates:\n",
       "      cor \n",
       "0.9045418 \n"
      ]
     },
     "metadata": {},
     "output_type": "display_data"
    }
   ],
   "source": [
    "cor.test(c1, c3)"
   ]
  },
  {
   "cell_type": "markdown",
   "id": "located-conditioning",
   "metadata": {},
   "source": [
    "Вывести корреляционную матрицу по всем числовым характеристикам с1-c4 (cor). Для выбора нужных столбцов таблицы воспользоваться оператором \"[]\" (выбирается сразу несколько столбцов, последовательность индексов задается с помощью функции c - Раздел 1, таблицы данных).     \n",
    "Между какими переменными есть значимая корреляция?  "
   ]
  },
  {
   "cell_type": "code",
   "execution_count": 28,
   "id": "organizational-collectible",
   "metadata": {},
   "outputs": [
    {
     "data": {
      "text/html": [
       "<table>\n",
       "<thead><tr><th></th><th scope=col>c1</th><th scope=col>c2</th><th scope=col>c3</th><th scope=col>c4</th></tr></thead>\n",
       "<tbody>\n",
       "\t<tr><th scope=row>c1</th><td> 1.0000000 </td><td> 0.38674144</td><td> 0.9045418 </td><td>-0.20389934</td></tr>\n",
       "\t<tr><th scope=row>c2</th><td> 0.3867414 </td><td> 1.00000000</td><td> 0.5060409 </td><td>-0.09152175</td></tr>\n",
       "\t<tr><th scope=row>c3</th><td> 0.9045418 </td><td> 0.50604092</td><td> 1.0000000 </td><td>-0.19607400</td></tr>\n",
       "\t<tr><th scope=row>c4</th><td>-0.2038993 </td><td>-0.09152175</td><td>-0.1960740 </td><td> 1.00000000</td></tr>\n",
       "</tbody>\n",
       "</table>\n"
      ],
      "text/latex": [
       "\\begin{tabular}{r|llll}\n",
       "  & c1 & c2 & c3 & c4\\\\\n",
       "\\hline\n",
       "\tc1 &  1.0000000  &  0.38674144 &  0.9045418  & -0.20389934\\\\\n",
       "\tc2 &  0.3867414  &  1.00000000 &  0.5060409  & -0.09152175\\\\\n",
       "\tc3 &  0.9045418  &  0.50604092 &  1.0000000  & -0.19607400\\\\\n",
       "\tc4 & -0.2038993  & -0.09152175 & -0.1960740  &  1.00000000\\\\\n",
       "\\end{tabular}\n"
      ],
      "text/markdown": [
       "\n",
       "| <!--/--> | c1 | c2 | c3 | c4 |\n",
       "|---|---|---|---|---|\n",
       "| c1 |  1.0000000  |  0.38674144 |  0.9045418  | -0.20389934 |\n",
       "| c2 |  0.3867414  |  1.00000000 |  0.5060409  | -0.09152175 |\n",
       "| c3 |  0.9045418  |  0.50604092 |  1.0000000  | -0.19607400 |\n",
       "| c4 | -0.2038993  | -0.09152175 | -0.1960740  |  1.00000000 |\n",
       "\n"
      ],
      "text/plain": [
       "   c1         c2          c3         c4         \n",
       "c1  1.0000000  0.38674144  0.9045418 -0.20389934\n",
       "c2  0.3867414  1.00000000  0.5060409 -0.09152175\n",
       "c3  0.9045418  0.50604092  1.0000000 -0.19607400\n",
       "c4 -0.2038993 -0.09152175 -0.1960740  1.00000000"
      ]
     },
     "metadata": {},
     "output_type": "display_data"
    }
   ],
   "source": [
    "cor(qc[c(\"c1\", \"c2\", \"c3\", \"c4\")])"
   ]
  },
  {
   "cell_type": "markdown",
   "id": "verified-globe",
   "metadata": {},
   "source": [
    "#### Значимая корреляция наблюдается между с1 и с3 "
   ]
  },
  {
   "cell_type": "markdown",
   "id": "outer-salmon",
   "metadata": {},
   "source": [
    "Представить матрицу корреляции в более удобном виде(symnum, в качестве аргумента данной функции использовать результат функции cor).  "
   ]
  },
  {
   "cell_type": "code",
   "execution_count": 29,
   "id": "abroad-filling",
   "metadata": {},
   "outputs": [
    {
     "data": {
      "text/plain": [
       "   c1 c2 c3 c4\n",
       "c1 1          \n",
       "c2 .  1       \n",
       "c3 *  .  1    \n",
       "c4          1 \n",
       "attr(,\"legend\")\n",
       "[1] 0 ' ' 0.3 '.' 0.6 ',' 0.8 '+' 0.9 '*' 0.95 'B' 1"
      ]
     },
     "metadata": {},
     "output_type": "display_data"
    }
   ],
   "source": [
    "symnum(cor(qc[c(\"c1\", \"c2\", \"c3\", \"c4\")]))"
   ]
  },
  {
   "cell_type": "markdown",
   "id": "honey-playback",
   "metadata": {},
   "source": [
    "Построить модель линейной регрессии для пары переменных, для которых коэффициент корреляции имеет наибольшее значение. Использовать функцию lm, зависимая переменная - с меньшим номером. Полученную модель сохранить в переменную linmod.   \n",
    "Вывести общую статистику по модели (summary)."
   ]
  },
  {
   "cell_type": "code",
   "execution_count": 30,
   "id": "comprehensive-medication",
   "metadata": {},
   "outputs": [
    {
     "data": {
      "text/plain": [
       "\n",
       "Call:\n",
       "lm(formula = c1 ~ c3)\n",
       "\n",
       "Residuals:\n",
       "     Min       1Q   Median       3Q      Max \n",
       "-2.36553 -0.60136 -0.01133  0.58398  2.86565 \n",
       "\n",
       "Coefficients:\n",
       "            Estimate Std. Error t value Pr(>|t|)    \n",
       "(Intercept)   6.1747     2.3293   2.651  0.00936 ** \n",
       "c3            2.6748     0.1274  21.001  < 2e-16 ***\n",
       "---\n",
       "Signif. codes:  0 '***' 0.001 '**' 0.01 '*' 0.05 '.' 0.1 ' ' 1\n",
       "\n",
       "Residual standard error: 0.922 on 98 degrees of freedom\n",
       "Multiple R-squared:  0.8182,\tAdjusted R-squared:  0.8163 \n",
       "F-statistic:   441 on 1 and 98 DF,  p-value: < 2.2e-16\n"
      ]
     },
     "metadata": {},
     "output_type": "display_data"
    }
   ],
   "source": [
    "linmod = lm(c1~c3)\n",
    "summary(linmod)"
   ]
  },
  {
   "cell_type": "markdown",
   "id": "european-hebrew",
   "metadata": {},
   "source": [
    "#### Значимы (на уровне 0.05) коэффициенты при переменной c3 и константе"
   ]
  },
  {
   "cell_type": "markdown",
   "id": "activated-hormone",
   "metadata": {},
   "source": [
    "Построить диаграмму рассеяния (plot) с линией регрессии (abline) для переменных, которые участвуют в оцененной модели."
   ]
  },
  {
   "cell_type": "code",
   "execution_count": 31,
   "id": "corrected-strand",
   "metadata": {},
   "outputs": [
    {
     "data": {
      "image/png": "[encoded data removed]",
      "text/plain": [
       "plot without title"
      ]
     },
     "metadata": {},
     "output_type": "display_data"
    }
   ],
   "source": [
    "plot(c3, c1)\n",
    "abline(linmod)"
   ]
  },
  {
   "cell_type": "markdown",
   "id": "preliminary-graph",
   "metadata": {},
   "source": [
    "Вывести отдельно коэффициенты модели (coefficients). "
   ]
  },
  {
   "cell_type": "code",
   "execution_count": 32,
   "id": "asian-naples",
   "metadata": {},
   "outputs": [
    {
     "data": {
      "text/html": [
       "<dl class=dl-horizontal>\n",
       "\t<dt>(Intercept)</dt>\n",
       "\t\t<dd>6.17472336878592</dd>\n",
       "\t<dt>c3</dt>\n",
       "\t\t<dd>2.67484530668206</dd>\n",
       "</dl>\n"
      ],
      "text/latex": [
       "\\begin{description*}\n",
       "\\item[(Intercept)] 6.17472336878592\n",
       "\\item[c3] 2.67484530668206\n",
       "\\end{description*}\n"
      ],
      "text/markdown": [
       "(Intercept)\n",
       ":   6.17472336878592c3\n",
       ":   2.67484530668206\n",
       "\n"
      ],
      "text/plain": [
       "(Intercept)          c3 \n",
       "   6.174723    2.674845 "
      ]
     },
     "metadata": {},
     "output_type": "display_data"
    }
   ],
   "source": [
    "coefficients(linmod)"
   ]
  },
  {
   "cell_type": "markdown",
   "id": "overall-above",
   "metadata": {},
   "source": [
    "Сохранить значения остатков (residuals) модели linmod в переменную res. Построить график \"Квантиль-квантиль\" (qqnorm) для остатков."
   ]
  },
  {
   "cell_type": "code",
   "execution_count": 33,
   "id": "duplicate-queen",
   "metadata": {},
   "outputs": [
    {
     "data": {
      "image/png": "[encoded data removed]",
      "text/plain": [
       "Plot with title \"Normal Q-Q Plot\""
      ]
     },
     "metadata": {},
     "output_type": "display_data"
    }
   ],
   "source": [
    "res = residuals(linmod)\n",
    "qqnorm(res)"
   ]
  },
  {
   "cell_type": "markdown",
   "id": "apparent-porter",
   "metadata": {},
   "source": [
    "Проверить нормальность остатков с помощью статистического теста Колмогорова-Смирнова (ks.test - Раздел 2). "
   ]
  },
  {
   "cell_type": "code",
   "execution_count": 34,
   "id": "introductory-concern",
   "metadata": {},
   "outputs": [
    {
     "data": {
      "text/plain": [
       "\n",
       "\tOne-sample Kolmogorov-Smirnov test\n",
       "\n",
       "data:  res\n",
       "D = 0.061976, p-value = 0.8371\n",
       "alternative hypothesis: two-sided\n"
      ]
     },
     "metadata": {},
     "output_type": "display_data"
    }
   ],
   "source": [
    "ks.test(res, pnorm, mean=mean(res), sd=sd(res))"
   ]
  },
  {
   "cell_type": "markdown",
   "id": "experimental-cross",
   "metadata": {},
   "source": [
    "### Критерий не отклоняет гипотезу о нормальном распределении на уровне значимости 0.05."
   ]
  },
  {
   "cell_type": "markdown",
   "id": "internal-scotland",
   "metadata": {},
   "source": [
    "# Задание 4. Анализ неоднородных данных"
   ]
  },
  {
   "cell_type": "markdown",
   "id": "minimal-completion",
   "metadata": {},
   "source": [
    "Подсчитать частоты значений для переменной maker (table).  "
   ]
  },
  {
   "cell_type": "code",
   "execution_count": 35,
   "id": "adolescent-struggle",
   "metadata": {},
   "outputs": [
    {
     "data": {
      "text/plain": [
       "maker\n",
       " 1  2 \n",
       "52 48 "
      ]
     },
     "metadata": {},
     "output_type": "display_data"
    }
   ],
   "source": [
    "table(maker)"
   ]
  },
  {
   "cell_type": "markdown",
   "id": "loved-graphic",
   "metadata": {},
   "source": [
    "Последовательно применить двухвыборочный t-критерий (t.test) к переменным c1,c2,c3,с4. Ввборки значений каждой переменной разделяются на две подвыборки  по значениям переменной maker (1 или 2).   \n",
    "Вывести результаты (статистику по тесту) для той переменной (одной из c1,c2,c3,с4), для которой наблюдается значимое (на уровне 0.05) различие средних в двух подвыборках (значение p-value близко к нулю).     \n",
    "Далее анализировать только выбранную переменную."
   ]
  },
  {
   "cell_type": "code",
   "execution_count": 36,
   "id": "worst-beast",
   "metadata": {},
   "outputs": [
    {
     "data": {
      "text/plain": [
       "\n",
       "\tWelch Two Sample t-test\n",
       "\n",
       "data:  c1 by maker\n",
       "t = 2.1257, df = 95.385, p-value = 0.03611\n",
       "alternative hypothesis: true difference in means is not equal to 0\n",
       "95 percent confidence interval:\n",
       " 0.05966117 1.74524268\n",
       "sample estimates:\n",
       "mean in group 1 mean in group 2 \n",
       "       55.48808        54.58563 \n"
      ]
     },
     "metadata": {},
     "output_type": "display_data"
    }
   ],
   "source": [
    "t.test(c1~maker)"
   ]
  },
  {
   "cell_type": "code",
   "execution_count": 37,
   "id": "heavy-mixture",
   "metadata": {},
   "outputs": [
    {
     "data": {
      "text/plain": [
       "\n",
       "\tWelch Two Sample t-test\n",
       "\n",
       "data:  c2 by maker\n",
       "t = 1.8562, df = 97.066, p-value = 0.06646\n",
       "alternative hypothesis: true difference in means is not equal to 0\n",
       "95 percent confidence interval:\n",
       " -0.02409981  0.72044596\n",
       "sample estimates:\n",
       "mean in group 1 mean in group 2 \n",
       "       10.08442         9.73625 \n"
      ]
     },
     "metadata": {},
     "output_type": "display_data"
    }
   ],
   "source": [
    "t.test(c2~maker)"
   ]
  },
  {
   "cell_type": "code",
   "execution_count": 38,
   "id": "danish-spectrum",
   "metadata": {},
   "outputs": [
    {
     "data": {
      "text/plain": [
       "\n",
       "\tWelch Two Sample t-test\n",
       "\n",
       "data:  c3 by maker\n",
       "t = 2.1595, df = 95.771, p-value = 0.03331\n",
       "alternative hypothesis: true difference in means is not equal to 0\n",
       "95 percent confidence interval:\n",
       " 0.02501143 0.59429626\n",
       "sample estimates:\n",
       "mean in group 1 mean in group 2 \n",
       "       18.42265        18.11300 \n"
      ]
     },
     "metadata": {},
     "output_type": "display_data"
    }
   ],
   "source": [
    "t.test(c3~maker)"
   ]
  },
  {
   "cell_type": "code",
   "execution_count": 39,
   "id": "seasonal-premium",
   "metadata": {},
   "outputs": [
    {
     "data": {
      "text/plain": [
       "\n",
       "\tWelch Two Sample t-test\n",
       "\n",
       "data:  c4 by maker\n",
       "t = -5.036, df = 95.109, p-value = 2.253e-06\n",
       "alternative hypothesis: true difference in means is not equal to 0\n",
       "95 percent confidence interval:\n",
       " -2.913325 -1.265857\n",
       "sample estimates:\n",
       "mean in group 1 mean in group 2 \n",
       "       48.03635        50.12594 \n"
      ]
     },
     "metadata": {},
     "output_type": "display_data"
    }
   ],
   "source": [
    "t.test(c4~maker)"
   ]
  },
  {
   "cell_type": "markdown",
   "id": "experienced-mother",
   "metadata": {},
   "source": [
    "#### Гипотеза о равенстве средних в двух подвыборках отклоняется на уровне значимости 0.05 для переменной c4(средние значения характеристики c4 у двух производителей статистически различимы)"
   ]
  },
  {
   "cell_type": "markdown",
   "id": "disciplinary-poverty",
   "metadata": {},
   "source": [
    "Построить \"ящики с усами\" для анализируемой переменной в разрезе по номеру производителя (maker)."
   ]
  },
  {
   "cell_type": "code",
   "execution_count": 40,
   "id": "fiscal-programmer",
   "metadata": {},
   "outputs": [
    {
     "data": {
      "image/png": "[encoded data removed]",
      "text/plain": [
       "plot without title"
      ]
     },
     "metadata": {},
     "output_type": "display_data"
    }
   ],
   "source": [
    "boxplot(c4~maker, xlab=maker)"
   ]
  },
  {
   "cell_type": "markdown",
   "id": "august-spice",
   "metadata": {},
   "source": [
    "Построить график ядерной оценки плотности распределения (density) для анализируемой переменной.  "
   ]
  },
  {
   "cell_type": "code",
   "execution_count": 41,
   "id": "blond-satellite",
   "metadata": {},
   "outputs": [
    {
     "data": {
      "image/png": "[encoded data removed]",
      "text/plain": [
       "Plot with title \"density.default(x = c4)\""
      ]
     },
     "metadata": {},
     "output_type": "display_data"
    }
   ],
   "source": [
    "plot(density(c4), ylab = \"Density\")"
   ]
  },
  {
   "cell_type": "markdown",
   "id": "related-expression",
   "metadata": {},
   "source": [
    "# Задание 5. Классификация неоднородных данных"
   ]
  },
  {
   "cell_type": "markdown",
   "id": "unlike-washington",
   "metadata": {},
   "source": [
    "Построить диаграмму рассеяния (plot) для двух переменных, которые имеют наименьшую корреляцию (см. матрицу корреляции)."
   ]
  },
  {
   "cell_type": "code",
   "execution_count": 42,
   "id": "starting-lotus",
   "metadata": {},
   "outputs": [
    {
     "data": {
      "image/png": "[encoded data removed]",
      "text/plain": [
       "plot without title"
      ]
     },
     "metadata": {},
     "output_type": "display_data"
    }
   ],
   "source": [
    "plot(c2~c4)"
   ]
  },
  {
   "cell_type": "markdown",
   "id": "vertical-tackle",
   "metadata": {},
   "source": [
    "Объединить выбранные переменные в одну матрицу (cbind) и сохранить ее в новую переменную. Вывести первые три строки полученной матрицы (head). "
   ]
  },
  {
   "cell_type": "code",
   "execution_count": 43,
   "id": "musical-dollar",
   "metadata": {},
   "outputs": [
    {
     "data": {
      "text/html": [
       "<table>\n",
       "<thead><tr><th scope=col>c2</th><th scope=col>c4</th></tr></thead>\n",
       "<tbody>\n",
       "\t<tr><td>10.58 </td><td>47.685</td></tr>\n",
       "\t<tr><td> 9.00 </td><td>46.800</td></tr>\n",
       "\t<tr><td>10.57 </td><td>51.330</td></tr>\n",
       "</tbody>\n",
       "</table>\n"
      ],
      "text/latex": [
       "\\begin{tabular}{ll}\n",
       " c2 & c4\\\\\n",
       "\\hline\n",
       "\t 10.58  & 47.685\\\\\n",
       "\t  9.00  & 46.800\\\\\n",
       "\t 10.57  & 51.330\\\\\n",
       "\\end{tabular}\n"
      ],
      "text/markdown": [
       "\n",
       "| c2 | c4 |\n",
       "|---|---|\n",
       "| 10.58  | 47.685 |\n",
       "|  9.00  | 46.800 |\n",
       "| 10.57  | 51.330 |\n",
       "\n"
      ],
      "text/plain": [
       "     c2    c4    \n",
       "[1,] 10.58 47.685\n",
       "[2,]  9.00 46.800\n",
       "[3,] 10.57 51.330"
      ]
     },
     "metadata": {},
     "output_type": "display_data"
    }
   ],
   "source": [
    "cdata = cbind(c2, c4)\n",
    "head(cdata, 3)"
   ]
  },
  {
   "cell_type": "markdown",
   "id": "studied-validity",
   "metadata": {},
   "source": [
    "Выполнить кластерный анализ (kmeans) с разбиением на два класса в пространстве выбранных переменных (kmeans). В качестве первого аргумента функции kmeans необходимо передавать матрицу, а второго - количество классов (2), на которое производится разбиение.   \n",
    "Сохранить результаты в переменную kmres и вывести частоты наблюдений в каждом оцененном классе (table)."
   ]
  },
  {
   "cell_type": "code",
   "execution_count": 44,
   "id": "honey-evans",
   "metadata": {},
   "outputs": [
    {
     "data": {
      "text/plain": [
       "\n",
       " 1  2 \n",
       "44 56 "
      ]
     },
     "metadata": {},
     "output_type": "display_data"
    }
   ],
   "source": [
    "kmres = kmeans(cdata, 2)\n",
    "table(kmres$cluster)"
   ]
  },
  {
   "cell_type": "markdown",
   "id": "civil-march",
   "metadata": {},
   "source": [
    "Вывести график (plot) с легендой (legend), на котором должна быть обозначена классовая принадлежность каждого наблюдения различными символами (параметр pch)."
   ]
  },
  {
   "cell_type": "code",
   "execution_count": 45,
   "id": "square-receiver",
   "metadata": {},
   "outputs": [
    {
     "data": {
      "image/png": "[encoded data removed]",
      "text/plain": [
       "plot without title"
      ]
     },
     "metadata": {},
     "output_type": "display_data"
    }
   ],
   "source": [
    "plot(cdata, pch=ifelse(kmres$cluster == 1, 1, 2))\n",
    "legend(\"topleft\", legend = c(\"1\", \"2\"), pch = c(1, 2))"
   ]
  },
  {
   "cell_type": "markdown",
   "id": "muslim-thumbnail",
   "metadata": {},
   "source": [
    "Отсоединить таблицу данных qc от списка текущих переменных (работа с данными закончена)."
   ]
  },
  {
   "cell_type": "code",
   "execution_count": 46,
   "id": "substantial-legislation",
   "metadata": {},
   "outputs": [],
   "source": [
    "detach(qc)"
   ]
  }
 ],
 "metadata": {
  "kernelspec": {
   "display_name": "R",
   "language": "R",
   "name": "ir"
  },
  "language_info": {
   "codemirror_mode": "r",
   "file_extension": ".r",
   "mimetype": "text/x-r-source",
   "name": "R",
   "pygments_lexer": "r",
   "version": "3.6.1"
  }
 },
 "nbformat": 4,
 "nbformat_minor": 5
}
