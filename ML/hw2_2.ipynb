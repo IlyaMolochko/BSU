{
 "cells": [
  {
   "cell_type": "code",
   "execution_count": 1,
   "metadata": {
    "colab": {},
    "colab_type": "code",
    "id": "APC1yYEqeynH"
   },
   "outputs": [],
   "source": [
    "import numpy as np\n",
    "from sklearn.datasets import load_boston"
   ]
  },
  {
   "cell_type": "code",
   "execution_count": 2,
   "metadata": {
    "colab": {},
    "colab_type": "code",
    "id": "s1YqRv8MfY3O"
   },
   "outputs": [],
   "source": [
    "dataset = load_boston()"
   ]
  },
  {
   "cell_type": "code",
   "execution_count": 3,
   "metadata": {
    "colab": {},
    "colab_type": "code",
    "id": "go8O9WcCfd64"
   },
   "outputs": [],
   "source": [
    "x = dataset.data\n",
    "y = dataset.target"
   ]
  },
  {
   "cell_type": "markdown",
   "metadata": {
    "colab_type": "text",
    "id": "fRin0e-RK4uq"
   },
   "source": [
    "Подсчет коэффициента корреляции Пирсона:\n"
   ]
  },
  {
   "cell_type": "code",
   "execution_count": 4,
   "metadata": {
    "colab": {},
    "colab_type": "code",
    "id": "VxitXzbofrlL"
   },
   "outputs": [],
   "source": [
    "Y = y - y.mean()\n",
    "X = x - x.mean(axis=0)\n",
    "corr = Y.dot(X) / np.sqrt(sum(Y ** 2) * sum(X ** 2))"
   ]
  },
  {
   "cell_type": "code",
   "execution_count": 5,
   "metadata": {
    "colab": {},
    "colab_type": "code",
    "id": "PqJ0Sh2kfmCE"
   },
   "outputs": [],
   "source": [
    "arr = list(zip(dataset.feature_names, corr))"
   ]
  },
  {
   "cell_type": "markdown",
   "metadata": {
    "colab_type": "text",
    "id": "bok1opT1qN01"
   },
   "source": [
    "5 лучших признаков:\n"
   ]
  },
  {
   "cell_type": "code",
   "execution_count": 6,
   "metadata": {
    "colab": {
     "base_uri": "https://localhost:8080/",
     "height": 101
    },
    "colab_type": "code",
    "id": "f8iQA4tIiKuD",
    "outputId": "d5bb1c87-f988-4fbe-d65d-dfb4d936cdc1"
   },
   "outputs": [
    {
     "data": {
      "text/plain": [
       "[('LSTAT', -0.7376627261740146),\n",
       " ('RM', 0.6953599470715388),\n",
       " ('PTRATIO', -0.5077866855375608),\n",
       " ('INDUS', -0.48372516002837274),\n",
       " ('TAX', -0.46853593356776624)]"
      ]
     },
     "execution_count": 6,
     "metadata": {},
     "output_type": "execute_result"
    }
   ],
   "source": [
    "arr.sort(key=lambda x: -abs(x[1]))\n",
    "arr[:5]"
   ]
  },
  {
   "cell_type": "code",
   "execution_count": 7,
   "metadata": {
    "colab": {},
    "colab_type": "code",
    "id": "dFd4bp_Ga-_0"
   },
   "outputs": [],
   "source": [
    "import pandas as pd\n",
    "from sklearn.linear_model import LinearRegression\n",
    "from sklearn.metrics import mean_squared_error\n",
    "from sklearn.model_selection import train_test_split\n",
    "from sklearn.preprocessing import StandardScaler"
   ]
  },
  {
   "cell_type": "markdown",
   "metadata": {
    "colab_type": "text",
    "id": "aSWfHCsUMPoh"
   },
   "source": [
    "Разделим выборку на тренировочную и тестовую и отмасштабируем признаки:"
   ]
  },
  {
   "cell_type": "code",
   "execution_count": 8,
   "metadata": {
    "colab": {},
    "colab_type": "code",
    "id": "xdFFBIoRa_29"
   },
   "outputs": [],
   "source": [
    "X_train, X_test, y_train, y_test = train_test_split(x, y, test_size=0.33, random_state=42)"
   ]
  },
  {
   "cell_type": "code",
   "execution_count": 9,
   "metadata": {
    "colab": {},
    "colab_type": "code",
    "id": "iW0aufg_a-bB"
   },
   "outputs": [],
   "source": [
    "scaler = StandardScaler()"
   ]
  },
  {
   "cell_type": "code",
   "execution_count": 10,
   "metadata": {
    "colab": {
     "base_uri": "https://localhost:8080/",
     "height": 34
    },
    "colab_type": "code",
    "id": "FJzD3LGabDLN",
    "outputId": "51e0c3cb-0949-410d-ab9b-7745e511b0ab"
   },
   "outputs": [
    {
     "data": {
      "text/plain": [
       "StandardScaler(copy=True, with_mean=True, with_std=True)"
      ]
     },
     "execution_count": 10,
     "metadata": {},
     "output_type": "execute_result"
    }
   ],
   "source": [
    "scaler.fit(X_train)"
   ]
  },
  {
   "cell_type": "code",
   "execution_count": 11,
   "metadata": {
    "colab": {},
    "colab_type": "code",
    "id": "as4l_6kdbHl1"
   },
   "outputs": [],
   "source": [
    "X_train_scaled = scaler.transform(X_train)\n",
    "X_test_scaled = scaler.transform(X_test)"
   ]
  },
  {
   "cell_type": "code",
   "execution_count": 12,
   "metadata": {
    "colab": {},
    "colab_type": "code",
    "id": "CUO-2NZqbQ8_"
   },
   "outputs": [],
   "source": [
    "x_train_df = pd.DataFrame(X_train_scaled, columns=dataset.feature_names)\n",
    "x_test_df = pd.DataFrame(X_test_scaled, columns=dataset.feature_names)"
   ]
  },
  {
   "cell_type": "markdown",
   "metadata": {
    "colab_type": "text",
    "id": "Ua9hWqwNNyE6"
   },
   "source": [
    "Forward selection:"
   ]
  },
  {
   "cell_type": "code",
   "execution_count": 13,
   "metadata": {
    "colab": {
     "base_uri": "https://localhost:8080/",
     "height": 50
    },
    "colab_type": "code",
    "id": "tVoKMtxYcvCK",
    "outputId": "fc864ba3-a9de-41a0-885a-d20c5d90b88a"
   },
   "outputs": [
    {
     "name": "stdout",
     "output_type": "stream",
     "text": [
      "Лучшие признаки:  LSTAT, RM, PTRATIO, DIS, NOX\n",
      "Ошибка:  21.94172105977485\n"
     ]
    }
   ],
   "source": [
    "error = 10e5\n",
    "min_error = 10e5\n",
    "features = list(dataset.feature_names)\n",
    "cur_features = []\n",
    "best_features = []\n",
    "best_feature = 'LSTAT'\n",
    "for i in range(5):\n",
    "    min_error = 10e5\n",
    "    for feature in features:\n",
    "        lr = LinearRegression(n_jobs=-1).fit(x_train_df[cur_features + [feature]], y_train)\n",
    "        error = mean_squared_error(y_test, lr.predict(x_test_df[cur_features + [feature]]))\n",
    "        if error < min_error:\n",
    "            min_error = error\n",
    "            best_feature = feature\n",
    "    cur_features.append(best_feature)\n",
    "    features.remove(best_feature)\n",
    "print('Лучшие признаки: ', ', '.join(cur_features))\n",
    "print('Ошибка: ', min_error)"
   ]
  },
  {
   "cell_type": "markdown",
   "metadata": {
    "colab_type": "text",
    "id": "_wL7srYROFaJ"
   },
   "source": [
    "Backward selection:"
   ]
  },
  {
   "cell_type": "code",
   "execution_count": 14,
   "metadata": {
    "colab": {
     "base_uri": "https://localhost:8080/",
     "height": 50
    },
    "colab_type": "code",
    "id": "tOZ-Zyc0l8Uf",
    "outputId": "ccc07c1a-42fa-411f-a71f-066202718935"
   },
   "outputs": [
    {
     "name": "stdout",
     "output_type": "stream",
     "text": [
      "Лучшие признаки:  NOX, RM, DIS, PTRATIO, LSTAT\n",
      "Ошибка:  21.94172105977485\n"
     ]
    }
   ],
   "source": [
    "error = 10e5\n",
    "min_error = 10e5\n",
    "features = list(dataset.feature_names)\n",
    "cur_features = list(dataset.feature_names)\n",
    "best_features = []\n",
    "best_feature = 'LSTAT'\n",
    "for i in range(8):\n",
    "    min_error = 10e5\n",
    "    for feature in features:\n",
    "        cur_features = features.copy()\n",
    "        cur_features.remove(feature)\n",
    "        lr = LinearRegression(n_jobs=-1).fit(x_train_df[cur_features], y_train)\n",
    "        error = mean_squared_error(y_test, lr.predict(x_test_df[cur_features]))\n",
    "        if error < min_error:\n",
    "            min_error = error\n",
    "            best_feature = feature\n",
    "    features.remove(best_feature)\n",
    "print('Лучшие признаки: ', ', '.join(features))\n",
    "print('Ошибка: ', min_error)"
   ]
  },
  {
   "cell_type": "markdown",
   "metadata": {
    "colab_type": "text",
    "id": "PMgrZzFSsCRM"
   },
   "source": [
    "# Lasso\n",
    "\n",
    "Будем перебирать параметр $\\lambda$ от 0.00001 до 1 до тех пор пока, число ненулевых признаков будет больше 5. \n"
   ]
  },
  {
   "cell_type": "code",
   "execution_count": 15,
   "metadata": {
    "colab": {},
    "colab_type": "code",
    "id": "HDXZXDLatj3l"
   },
   "outputs": [],
   "source": [
    "from sklearn.linear_model import Lasso"
   ]
  },
  {
   "cell_type": "code",
   "execution_count": 16,
   "metadata": {
    "colab": {
     "base_uri": "https://localhost:8080/",
     "height": 67
    },
    "colab_type": "code",
    "id": "P773Pxdgp2nC",
    "outputId": "6abf68eb-26fb-43b1-fee0-2644b669f02f"
   },
   "outputs": [
    {
     "name": "stdout",
     "output_type": "stream",
     "text": [
      "lambda 0.7362762646264627\n",
      "Лучшие признаки:  CHAS, RM, PTRATIO, B, LSTAT\n",
      "Ошибка:  25.417610745527323\n"
     ]
    }
   ],
   "source": [
    "error = 10e5\n",
    "for alpha in np.linspace(0.00001, 1, 10000):\n",
    "    l = Lasso(alpha, max_iter=1000000).fit(x_train_df, y_train)\n",
    "    error = mean_squared_error(y_test, l.predict(x_test_df))\n",
    "    if np.sum(l.coef_ != 0) == 5:        \n",
    "        print('lambda', alpha)\n",
    "        print('Лучшие признаки: ', ', '.join(dataset.feature_names[l.coef_ != 0]))\n",
    "        print('Ошибка: ', error)\n",
    "        break"
   ]
  }
 ],
 "metadata": {
  "accelerator": "GPU",
  "colab": {
   "collapsed_sections": [],
   "name": "Untitled18.ipynb",
   "provenance": []
  },
  "kernelspec": {
   "display_name": "Python 3",
   "language": "python",
   "name": "python3"
  },
  "language_info": {
   "codemirror_mode": {
    "name": "ipython",
    "version": 3
   },
   "file_extension": ".py",
   "mimetype": "text/x-python",
   "name": "python",
   "nbconvert_exporter": "python",
   "pygments_lexer": "ipython3",
   "version": "3.7.4"
  }
 },
 "nbformat": 4,
 "nbformat_minor": 1
}
